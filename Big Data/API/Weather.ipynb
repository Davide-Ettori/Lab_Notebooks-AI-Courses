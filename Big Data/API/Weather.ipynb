{
 "cells": [
  {
   "cell_type": "code",
   "execution_count": 6,
   "metadata": {
    "tags": [],
    "ExecuteTime": {
     "end_time": "2023-11-13T11:02:59.687389Z",
     "start_time": "2023-11-13T11:02:59.676803Z"
    }
   },
   "outputs": [],
   "source": [
    "import json\n",
    "from pyowm import OWM\n",
    "import yaml"
   ]
  },
  {
   "cell_type": "markdown",
   "metadata": {},
   "source": [
    "## Weather API Example"
   ]
  },
  {
   "cell_type": "markdown",
   "metadata": {},
   "source": [
    "Load your API Key to initialize the Python Wrapper"
   ]
  },
  {
   "cell_type": "markdown",
   "metadata": {},
   "source": [
    "Interaction with [Open Waeather Map API](https://openweathermap.org/api). The main endpoints return the current weather, the forecasting for next days and historical weather. As for Twitter, it is necessary to generate an API key to obtain access to the endpoints.\n",
    "\n",
    "Go to https://openweathermap.org/appid and follow the instructions."
   ]
  },
  {
   "cell_type": "code",
   "execution_count": 8,
   "metadata": {
    "tags": [],
    "ExecuteTime": {
     "end_time": "2023-11-13T11:03:07.662624Z",
     "start_time": "2023-11-13T11:03:07.650560Z"
    }
   },
   "outputs": [],
   "source": [
    "# Personal API Key\n",
    "with open(r'./weather_API.yaml') as file:\n",
    "    api_key = yaml.full_load(file)[\"weather_API\"]"
   ]
  },
  {
   "cell_type": "code",
   "execution_count": 9,
   "metadata": {
    "tags": [],
    "ExecuteTime": {
     "end_time": "2023-11-13T11:03:08.080048Z",
     "start_time": "2023-11-13T11:03:08.062616Z"
    }
   },
   "outputs": [],
   "source": [
    "# Initialize Weather Manager\n",
    "owm = OWM(api_key)\n",
    "mgr = owm.weather_manager()"
   ]
  },
  {
   "cell_type": "markdown",
   "metadata": {},
   "source": [
    "Get weather given a place name"
   ]
  },
  {
   "cell_type": "code",
   "execution_count": 10,
   "metadata": {
    "tags": [],
    "ExecuteTime": {
     "end_time": "2023-11-13T11:03:09.345184Z",
     "start_time": "2023-11-13T11:03:09.124058Z"
    }
   },
   "outputs": [
    {
     "name": "stdout",
     "output_type": "stream",
     "text": [
      "The weather in London, GB is broken clouds\n"
     ]
    }
   ],
   "source": [
    "# Collect Weather at given Location\n",
    "location = 'London, GB'\n",
    "obs1 = mgr.weather_at_place(location)\n",
    "w1 = obs1.weather\n",
    "print(\"The weather in\",location,\"is\", w1.detailed_status)"
   ]
  },
  {
   "cell_type": "markdown",
   "metadata": {},
   "source": [
    "Get weather given a location"
   ]
  },
  {
   "cell_type": "code",
   "execution_count": 11,
   "metadata": {
    "tags": [],
    "ExecuteTime": {
     "end_time": "2023-11-13T11:03:13.896155Z",
     "start_time": "2023-11-13T11:03:13.623522Z"
    }
   },
   "outputs": [
    {
     "name": "stdout",
     "output_type": "stream",
     "text": [
      "The weather in London, GB is clear sky\n"
     ]
    }
   ],
   "source": [
    "# Collect Weather at given Coordinates\n",
    "lat = 45.5209927\n",
    "long = 9.2102195\n",
    "obs2 = mgr.weather_at_coords(lat,long)\n",
    "w2 = obs2.weather\n",
    "print(\"The weather in\",location,\"is\", w2.detailed_status)"
   ]
  },
  {
   "cell_type": "code",
   "execution_count": 12,
   "metadata": {
    "ExecuteTime": {
     "end_time": "2023-11-13T11:03:14.981255Z",
     "start_time": "2023-11-13T11:03:14.714826Z"
    }
   },
   "outputs": [
    {
     "name": "stdout",
     "output_type": "stream",
     "text": [
      "1 - The weather in around the specified coordinates is clear sky\n",
      "2 - The weather in around the specified coordinates is clear sky\n",
      "3 - The weather in around the specified coordinates is clear sky\n",
      "4 - The weather in around the specified coordinates is clear sky\n",
      "5 - The weather in around the specified coordinates is clear sky\n",
      "6 - The weather in around the specified coordinates is clear sky\n",
      "7 - The weather in around the specified coordinates is clear sky\n",
      "8 - The weather in around the specified coordinates is clear sky\n"
     ]
    }
   ],
   "source": [
    "# Collect the weather around a specific location\n",
    "i = 0\n",
    "obs_list = mgr.weather_around_coords(lat, long, limit=8)\n",
    "\n",
    "for el in obs_list:\n",
    "    i = i + 1\n",
    "    print(i,\"- The weather in around the specified coordinates is\", el.weather.detailed_status)"
   ]
  },
  {
   "cell_type": "markdown",
   "metadata": {},
   "source": [
    "It is possible to access the fields also using getter methdos."
   ]
  },
  {
   "cell_type": "code",
   "execution_count": 13,
   "metadata": {
    "ExecuteTime": {
     "end_time": "2023-11-13T11:03:15.991319Z",
     "start_time": "2023-11-13T11:03:15.976485Z"
    }
   },
   "outputs": [
    {
     "name": "stdout",
     "output_type": "stream",
     "text": [
      "Kelvin) Max temp: 288.12 - Min temp: 282.92\n",
      "Kelvin) Max temp: 14.97 - Min temp: 9.77\n"
     ]
    }
   ],
   "source": [
    "kelvin_temp = w2.temperature()\n",
    "celsius_temp = w2.temperature('celsius')\n",
    "print(\"Kelvin) Max temp:\",kelvin_temp['temp_max'],\"- Min temp:\",kelvin_temp['temp_min'])\n",
    "print(\"Kelvin) Max temp:\",celsius_temp['temp_max'],\"- Min temp:\",celsius_temp['temp_min'])"
   ]
  },
  {
   "cell_type": "code",
   "execution_count": 14,
   "metadata": {
    "ExecuteTime": {
     "end_time": "2023-11-13T11:03:16.677313Z",
     "start_time": "2023-11-13T11:03:16.466278Z"
    }
   },
   "outputs": [
    {
     "name": "stdout",
     "output_type": "stream",
     "text": [
      "The speed of the wind in Tokyo,JP is 7.2 m/s\n"
     ]
    }
   ],
   "source": [
    "location2 = 'Tokyo,JP'\n",
    "obs3 = mgr.weather_at_place(location2)\n",
    "wind = obs3.weather.wind()\n",
    "print(\"The speed of the wind in\",location2,\"is\",wind['speed'],\"m/s\")"
   ]
  },
  {
   "cell_type": "markdown",
   "metadata": {},
   "source": [
    "Get next week forecast for a specific location"
   ]
  },
  {
   "cell_type": "code",
   "execution_count": 15,
   "metadata": {
    "ExecuteTime": {
     "end_time": "2023-11-13T11:03:20.427977Z",
     "start_time": "2023-11-13T11:03:20.191997Z"
    }
   },
   "outputs": [
    {
     "name": "stdout",
     "output_type": "stream",
     "text": [
      "The sun rose at 1699856329 and will set at 1699890977\n",
      "The sun rose at 2023-11-13 06:18:49+00:00 and will set at 2023-11-13 15:56:17+00:00\n"
     ]
    }
   ],
   "source": [
    "# ISO sunset and sunrise\n",
    "location2 = 'Milan,IT'\n",
    "obs4 = mgr.weather_at_place(location2)\n",
    "weatherIT = obs4.weather\n",
    "sunrise_unix = weatherIT.sunrise_time()\n",
    "sunset_unix = weatherIT.sunset_time()\n",
    "print(\"The sun rose at\",sunrise_unix,\"and will set at\",sunset_unix)\n",
    "\n",
    "# Human-readable times\n",
    "sunrise_date = weatherIT.sunrise_time(timeformat='date')\n",
    "sunset_date = weatherIT.sunset_time(timeformat='date')\n",
    "print(\"The sun rose at\",sunrise_date,\"and will set at\",sunset_date)"
   ]
  },
  {
   "cell_type": "markdown",
   "metadata": {},
   "source": [
    "You can also look for the weather in places whose name are either exactly the one you picked or similar to it."
   ]
  },
  {
   "cell_type": "code",
   "execution_count": 16,
   "metadata": {
    "ExecuteTime": {
     "end_time": "2023-11-13T11:03:21.028093Z",
     "start_time": "2023-11-13T11:03:20.563346Z"
    }
   },
   "outputs": [
    {
     "name": "stdout",
     "output_type": "stream",
     "text": [
      "Accurate Weather\n",
      "The weather in Milan is clear sky\n",
      "The weather in Milan is overcast clouds\n",
      "The weather in Milan is clear sky\n",
      "The weather in Milan is clear sky\n",
      "The weather in Milan is clear sky\n",
      "Similar Weather\n",
      "The weather in Milan is clear sky\n",
      "The weather in Milan is overcast clouds\n",
      "The weather in Milan is clear sky\n",
      "The weather in Milan is clear sky\n",
      "The weather in Milan is clear sky\n",
      "The weather in Milán is scattered clouds\n",
      "The weather in Milan is clear sky\n",
      "The weather in Milan is few clouds\n",
      "The weather in Milan is overcast clouds\n"
     ]
    }
   ],
   "source": [
    "# Find the weather in Milan\n",
    "obs_list_acc = mgr.weather_at_places('Milan', 'accurate')\n",
    "\n",
    "print(\"Accurate Weather\")\n",
    "for el in obs_list_acc:\n",
    "    print(\"The weather in\",el.location.name,\"is\", el.weather.detailed_status)\n",
    "\n",
    "# Find weather for all the places whose name contains the word \"Milan\"\n",
    "obs_list_like = mgr.weather_at_places('Milan', 'like', limit=10)\n",
    "\n",
    "print(\"Similar Weather\")\n",
    "for el in obs_list_like:\n",
    "    print(\"The weather in\",el.location.name,\"is\", el.weather.detailed_status)"
   ]
  },
  {
   "cell_type": "code",
   "execution_count": 17,
   "metadata": {
    "tags": [],
    "ExecuteTime": {
     "end_time": "2023-11-13T11:03:21.330882Z",
     "start_time": "2023-11-13T11:03:21.025071Z"
    }
   },
   "outputs": [
    {
     "name": "stdout",
     "output_type": "stream",
     "text": [
      "These are the forecast from 2023-11-13 12:00:00+00:00 to 2023-11-18 09:00:00+00:00 \n",
      "\n",
      "The forecast at 2023-11-13 12:00:00+00:00 in Milan is Clear\n",
      "The forecast at 2023-11-13 15:00:00+00:00 in Milan is Clouds\n",
      "The forecast at 2023-11-13 18:00:00+00:00 in Milan is Clouds\n",
      "The forecast at 2023-11-13 21:00:00+00:00 in Milan is Clouds\n",
      "The forecast at 2023-11-14 00:00:00+00:00 in Milan is Clouds\n",
      "The forecast at 2023-11-14 03:00:00+00:00 in Milan is Clouds\n",
      "The forecast at 2023-11-14 06:00:00+00:00 in Milan is Clouds\n",
      "The forecast at 2023-11-14 09:00:00+00:00 in Milan is Clouds\n",
      "The forecast at 2023-11-14 12:00:00+00:00 in Milan is Clouds\n",
      "The forecast at 2023-11-14 15:00:00+00:00 in Milan is Clouds\n",
      "The forecast at 2023-11-14 18:00:00+00:00 in Milan is Clouds\n",
      "The forecast at 2023-11-14 21:00:00+00:00 in Milan is Clouds\n",
      "The forecast at 2023-11-15 00:00:00+00:00 in Milan is Clouds\n",
      "The forecast at 2023-11-15 03:00:00+00:00 in Milan is Clouds\n",
      "The forecast at 2023-11-15 06:00:00+00:00 in Milan is Clouds\n",
      "The forecast at 2023-11-15 09:00:00+00:00 in Milan is Clouds\n",
      "The forecast at 2023-11-15 12:00:00+00:00 in Milan is Clouds\n",
      "The forecast at 2023-11-15 15:00:00+00:00 in Milan is Clear\n",
      "The forecast at 2023-11-15 18:00:00+00:00 in Milan is Clear\n",
      "The forecast at 2023-11-15 21:00:00+00:00 in Milan is Clear\n",
      "The forecast at 2023-11-16 00:00:00+00:00 in Milan is Clouds\n",
      "The forecast at 2023-11-16 03:00:00+00:00 in Milan is Clear\n",
      "The forecast at 2023-11-16 06:00:00+00:00 in Milan is Clear\n",
      "The forecast at 2023-11-16 09:00:00+00:00 in Milan is Clear\n",
      "The forecast at 2023-11-16 12:00:00+00:00 in Milan is Clear\n",
      "The forecast at 2023-11-16 15:00:00+00:00 in Milan is Clouds\n",
      "The forecast at 2023-11-16 18:00:00+00:00 in Milan is Clouds\n",
      "The forecast at 2023-11-16 21:00:00+00:00 in Milan is Clouds\n",
      "The forecast at 2023-11-17 00:00:00+00:00 in Milan is Clouds\n",
      "The forecast at 2023-11-17 03:00:00+00:00 in Milan is Clouds\n",
      "The forecast at 2023-11-17 06:00:00+00:00 in Milan is Clouds\n",
      "The forecast at 2023-11-17 09:00:00+00:00 in Milan is Clouds\n",
      "The forecast at 2023-11-17 12:00:00+00:00 in Milan is Clouds\n",
      "The forecast at 2023-11-17 15:00:00+00:00 in Milan is Clouds\n",
      "The forecast at 2023-11-17 18:00:00+00:00 in Milan is Clouds\n",
      "The forecast at 2023-11-17 21:00:00+00:00 in Milan is Clouds\n",
      "The forecast at 2023-11-18 00:00:00+00:00 in Milan is Clouds\n",
      "The forecast at 2023-11-18 03:00:00+00:00 in Milan is Clouds\n",
      "The forecast at 2023-11-18 06:00:00+00:00 in Milan is Clouds\n",
      "The forecast at 2023-11-18 09:00:00+00:00 in Milan is Clouds\n"
     ]
    }
   ],
   "source": [
    "# Find three hour forecast for 5 days\n",
    "owm = OWM(api_key)\n",
    "mgr = owm.weather_manager()\n",
    "thf = mgr.forecast_at_place('Milan,IT', '3h').forecast\n",
    "\n",
    "print(\"These are the forecast from\",thf.weathers[0].reference_time('iso'),\"to\",thf.weathers[len(thf) - 1].reference_time('iso'),\"\\n\")\n",
    "for weather in thf.weathers:\n",
    "    print(\"The forecast at\",weather.reference_time('iso'),\"in Milan is\", weather.status)"
   ]
  },
  {
   "cell_type": "code",
   "execution_count": 18,
   "metadata": {
    "ExecuteTime": {
     "end_time": "2023-11-13T11:03:21.629032Z",
     "start_time": "2023-11-13T11:03:21.330196Z"
    }
   },
   "outputs": [
    {
     "name": "stdout",
     "output_type": "stream",
     "text": [
      "The weather in Milan at 2023-11-14 18:00:00+00:00 is broken clouds\n"
     ]
    }
   ],
   "source": [
    "# Finds forecast for tomorrow at 17 (The outcome is the object with the reference_time closer to the time we are looking for)\n",
    "from pyowm.utils import timestamps\n",
    "\n",
    "thf2 = mgr.forecast_at_place('Milan,IT', '3h')\n",
    "forecast_at_5 = timestamps.tomorrow(17, 0)\n",
    "weather = thf2.get_weather_at(forecast_at_5)\n",
    "\n",
    "print(\"The weather in Milan at\",weather.reference_time('iso'),\"is\", weather.detailed_status)"
   ]
  },
  {
   "cell_type": "code",
   "execution_count": 19,
   "metadata": {
    "ExecuteTime": {
     "end_time": "2023-11-13T11:03:21.634394Z",
     "start_time": "2023-11-13T11:03:21.627597Z"
    }
   },
   "outputs": [
    {
     "name": "stdout",
     "output_type": "stream",
     "text": [
      "Tomorrow will rain\n"
     ]
    }
   ],
   "source": [
    "# Check whether tomorrow will rain\n",
    "tomorrow = timestamps.tomorrow()\n",
    "will_it_rain = thf2.will_be_rainy_at(tomorrow)\n",
    "print(\"Tomorrow will not rain\" if will_it_rain else \"Tomorrow will rain\")"
   ]
  },
  {
   "cell_type": "code",
   "execution_count": 20,
   "metadata": {
    "ExecuteTime": {
     "end_time": "2023-11-13T11:03:21.676348Z",
     "start_time": "2023-11-13T11:03:21.636910Z"
    }
   },
   "outputs": [
    {
     "name": "stdout",
     "output_type": "stream",
     "text": [
      "The weather will be clear at\n",
      "2023-11-13 12:00:00+00:00\n",
      "2023-11-15 15:00:00+00:00\n",
      "2023-11-15 18:00:00+00:00\n",
      "2023-11-15 21:00:00+00:00\n",
      "2023-11-16 03:00:00+00:00\n",
      "2023-11-16 06:00:00+00:00\n",
      "2023-11-16 09:00:00+00:00\n",
      "2023-11-16 12:00:00+00:00\n",
      "The weather won't be rainy in the next 5 days\n"
     ]
    }
   ],
   "source": [
    "# Check when there will be clear and rainy wheather in the following days\n",
    "when_clear_weather = thf2.when_clear()\n",
    "when_rain_weather = thf2.when_rain()\n",
    "\n",
    "if(len(when_clear_weather) > 0):\n",
    "    print(\"The weather will be clear at\")\n",
    "    for wcw in when_clear_weather:\n",
    "        print(wcw.reference_time('iso'))\n",
    "else:\n",
    "    print(\"The weather won't be clear in the next 5 days\")\n",
    "\n",
    "if(len(when_rain_weather) > 0):\n",
    "    print(\"The weather will be rainy at\")\n",
    "    for wrw in when_rain_weather:\n",
    "        print(wrw.reference_time('iso'))\n",
    "else:\n",
    "    print(\"The weather won't be rainy in the next 5 days\")"
   ]
  },
  {
   "cell_type": "code",
   "execution_count": 21,
   "metadata": {
    "ExecuteTime": {
     "end_time": "2023-11-13T11:03:21.677044Z",
     "start_time": "2023-11-13T11:03:21.644004Z"
    }
   },
   "outputs": [
    {
     "name": "stdout",
     "output_type": "stream",
     "text": [
      "The coldest weather in Milan will be at 2023-11-18 06:00:00+00:00 and the weather will be broken clouds\n"
     ]
    }
   ],
   "source": [
    "# Check which one of the following days will be the coldest\n",
    "coldest_weather = thf2.most_cold()\n",
    "print(\"The coldest weather in Milan will be at\",coldest_weather.reference_time('iso'),\"and the weather will be\", coldest_weather.detailed_status)"
   ]
  }
 ],
 "metadata": {
  "kernelspec": {
   "display_name": "Python 3 (ipykernel)",
   "language": "python",
   "name": "python3"
  },
  "language_info": {
   "codemirror_mode": {
    "name": "ipython",
    "version": 3
   },
   "file_extension": ".py",
   "mimetype": "text/x-python",
   "name": "python",
   "nbconvert_exporter": "python",
   "pygments_lexer": "ipython3",
   "version": "3.10.5"
  }
 },
 "nbformat": 4,
 "nbformat_minor": 4
}
