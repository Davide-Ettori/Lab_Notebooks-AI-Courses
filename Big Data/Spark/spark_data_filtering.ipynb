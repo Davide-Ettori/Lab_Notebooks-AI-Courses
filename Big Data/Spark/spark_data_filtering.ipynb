{
 "cells": [
  {
   "cell_type": "markdown",
   "id": "1ec99204-2e83-400b-8f1e-3eba18bca76b",
   "metadata": {},
   "source": [
    "<h4>Operations</h4>\n",
    "<p>Spark supports two different types of operations</p>\n",
    "<ul>\n",
    "    <li><b>Transformations</b> on RDDs return another RDD as a result (e.g., filter()), this is why they are called lazy operations.</li>\n",
    "    <li><b>Actions</b> return values from RDDs</li>\n",
    "</ul>"
   ]
  },
  {
   "cell_type": "code",
   "execution_count": 5,
   "id": "28e21cac-e56d-4edb-8825-0907b7831b80",
   "metadata": {
    "ExecuteTime": {
     "end_time": "2023-12-08T15:15:07.260358Z",
     "start_time": "2023-12-08T15:15:07.253126Z"
    }
   },
   "outputs": [],
   "source": [
    "import os\n",
    "import sys\n",
    "\n",
    "os.environ['PYSPARK_PYTHON'], os.environ['PYSPARK_DRIVER_PYTHON'] = sys.executable, sys.executable\n",
    "\n",
    "### ATTENZIONE --> devi settare le variabili OS qui sopra prima di creare la spark session, altrimenti non funziona niente\n",
    "\n",
    "# Import the basic spark library\n",
    "from pyspark.sql import SparkSession\n",
    "\n",
    "# Create an entry point to the PySpark Application\n",
    "spark = SparkSession.builder.master(\"local\").appName(\"spark_tutorial\").getOrCreate()"
   ]
  },
  {
   "cell_type": "code",
   "execution_count": 6,
   "id": "5b10fba0-1852-4990-8464-05b327d7f908",
   "metadata": {
    "ExecuteTime": {
     "end_time": "2023-12-08T15:15:08.186568Z",
     "start_time": "2023-12-08T15:15:08.061474Z"
    }
   },
   "outputs": [
    {
     "name": "stdout",
     "output_type": "stream",
     "text": [
      "root\n",
      " |-- Pizza Name: string (nullable = true)\n",
      " |-- Price: float (nullable = true)\n",
      " |-- Ingredients: array (nullable = true)\n",
      " |    |-- element: string (containsNull = true)\n",
      "\n",
      "+---------------+-----+--------------------+\n",
      "|     Pizza Name|Price|         Ingredients|\n",
      "+---------------+-----+--------------------+\n",
      "|     Margherita| 5.95|[Tomato Sauce, Mo...|\n",
      "|        Calzone| 7.95|[Tomato Sauce, Mo...|\n",
      "|        Diavola| 5.95|[Tomato Sauce, Mo...|\n",
      "|     Prosciutto| 7.95|[Tomato Sauce, Mo...|\n",
      "|   Speck & Brie| 7.95|[Tomato Sauce, Mo...|\n",
      "|Tonno & Cipolle| 7.95|[Tomato Sauce, Mo...|\n",
      "|          Fries| 3.95|          [Potatoes]|\n",
      "+---------------+-----+--------------------+\n",
      "\n"
     ]
    }
   ],
   "source": [
    "from pyspark.sql.types import StructType, StructField, StringType, FloatType, ArrayType\n",
    "from pyspark.sql.functions import col\n",
    "\n",
    "#Createe the schema using StructField(Name, Type, Nullable)\n",
    "schema = StructType([\n",
    "    StructField(\"Pizza Name\", StringType(), True),\n",
    "    StructField(\"Price\", FloatType(), True),\n",
    "    StructField(\"Ingredients\", ArrayType(StringType()), True)\n",
    "])\n",
    "\n",
    "df_data = [(\"Margherita\", 5.95, [\"Tomato Sauce\", \"Mozzarella Cheese\", \"Basil\"]),\n",
    "        (\"Calzone\", 7.95, [\"Tomato Sauce\", \"Mozzarella Cheese\", \"Prosciutto Cotto\"]),\n",
    "        (\"Diavola\", 5.95, [\"Tomato Sauce\", \"Mozzarella Cheese\", \"Spicy Salame\"]),\n",
    "        (\"Prosciutto\", 7.95, [\"Tomato Sauce\", \"Mozzarella Cheese\", \"Prosciutto Cotto\"]),\n",
    "        (\"Speck & Brie\", 7.95, [\"Tomato Sauce\", \"Mozzarella Cheese\", \"Speck\", \"Brie\"]),\n",
    "        (\"Tonno & Cipolle\", 7.95, [\"Tomato Sauce\", \"Mozzarella Cheese\", \"Tuna\", \"Onions\"]),\n",
    "        (\"Fries\", 3.95, [\"Potatoes\"])]\n",
    "\n",
    "df = spark.createDataFrame(data = df_data, schema = schema)\n",
    "df.printSchema()\n",
    "df.show()"
   ]
  },
  {
   "cell_type": "markdown",
   "id": "e621d1c6-a58e-411c-b447-62361f70edaf",
   "metadata": {},
   "source": [
    "<h4>Filtering operations (i.e., WHERE conditions)</h4>"
   ]
  },
  {
   "cell_type": "code",
   "execution_count": 8,
   "id": "097aa80f-0f7e-410a-b7ca-c11911676c42",
   "metadata": {
    "ExecuteTime": {
     "end_time": "2023-12-08T15:15:41.952178Z",
     "start_time": "2023-12-08T15:15:41.866957Z"
    }
   },
   "outputs": [
    {
     "name": "stdout",
     "output_type": "stream",
     "text": [
      "+---------------+-----+---------------------------------------------------+\n",
      "|Pizza Name     |Price|Ingredients                                        |\n",
      "+---------------+-----+---------------------------------------------------+\n",
      "|Calzone        |7.95 |[Tomato Sauce, Mozzarella Cheese, Prosciutto Cotto]|\n",
      "|Prosciutto     |7.95 |[Tomato Sauce, Mozzarella Cheese, Prosciutto Cotto]|\n",
      "|Speck & Brie   |7.95 |[Tomato Sauce, Mozzarella Cheese, Speck, Brie]     |\n",
      "|Tonno & Cipolle|7.95 |[Tomato Sauce, Mozzarella Cheese, Tuna, Onions]    |\n",
      "+---------------+-----+---------------------------------------------------+\n",
      "\n"
     ]
    }
   ],
   "source": [
    "# Filtering using equal condition\n",
    "df.filter(col(\"Price\") == \"7.95\").show(truncate = False) # col(\"Name\") è il miglior modo per indicare una colonna"
   ]
  },
  {
   "cell_type": "code",
   "execution_count": 4,
   "id": "3890f4c0-b576-4d7c-bb03-271efdabad32",
   "metadata": {},
   "outputs": [
    {
     "name": "stdout",
     "output_type": "stream",
     "text": [
      "+----------+-----+-----------------------------------------------+\n",
      "|Pizza Name|Price|Ingredients                                    |\n",
      "+----------+-----+-----------------------------------------------+\n",
      "|Margherita|5.95 |[Tomato Sauce, Mozzarella Cheese, Basil]       |\n",
      "|Diavola   |5.95 |[Tomato Sauce, Mozzarella Cheese, Spicy Salame]|\n",
      "|Fries     |3.95 |[Potatoes]                                     |\n",
      "+----------+-----+-----------------------------------------------+\n",
      "\n"
     ]
    }
   ],
   "source": [
    "# Filtering using not equal condition\n",
    "df.filter(df.Price != \"7.95\").show(truncate = False)"
   ]
  },
  {
   "cell_type": "code",
   "execution_count": 5,
   "id": "f4c6b57a-f2fb-4a31-ba21-de3fdd02091d",
   "metadata": {},
   "outputs": [
    {
     "name": "stdout",
     "output_type": "stream",
     "text": [
      "+---------------+-----+---------------------------------------------------+\n",
      "|Pizza Name     |Price|Ingredients                                        |\n",
      "+---------------+-----+---------------------------------------------------+\n",
      "|Calzone        |7.95 |[Tomato Sauce, Mozzarella Cheese, Prosciutto Cotto]|\n",
      "|Prosciutto     |7.95 |[Tomato Sauce, Mozzarella Cheese, Prosciutto Cotto]|\n",
      "|Speck & Brie   |7.95 |[Tomato Sauce, Mozzarella Cheese, Speck, Brie]     |\n",
      "|Tonno & Cipolle|7.95 |[Tomato Sauce, Mozzarella Cheese, Tuna, Onions]    |\n",
      "+---------------+-----+---------------------------------------------------+\n",
      "\n"
     ]
    }
   ],
   "source": [
    "# Filtering using the col() function\n",
    "#from pyspark.sql.functions import col\n",
    "\n",
    "df.filter(col(\"Price\") == \"7.95\").show(truncate = False)"
   ]
  },
  {
   "cell_type": "code",
   "execution_count": 6,
   "id": "4f3e798c-e904-4e1a-9cee-f104c2fa1735",
   "metadata": {},
   "outputs": [
    {
     "name": "stdout",
     "output_type": "stream",
     "text": [
      "+---------------+-----+---------------------------------------------------+\n",
      "|Pizza Name     |Price|Ingredients                                        |\n",
      "+---------------+-----+---------------------------------------------------+\n",
      "|Calzone        |7.95 |[Tomato Sauce, Mozzarella Cheese, Prosciutto Cotto]|\n",
      "|Prosciutto     |7.95 |[Tomato Sauce, Mozzarella Cheese, Prosciutto Cotto]|\n",
      "|Speck & Brie   |7.95 |[Tomato Sauce, Mozzarella Cheese, Speck, Brie]     |\n",
      "|Tonno & Cipolle|7.95 |[Tomato Sauce, Mozzarella Cheese, Tuna, Onions]    |\n",
      "+---------------+-----+---------------------------------------------------+\n",
      "\n"
     ]
    }
   ],
   "source": [
    "# Filtering using SQL Expression\n",
    "df.filter(\"Price == '7.95'\").show(truncate = False)"
   ]
  },
  {
   "cell_type": "code",
   "execution_count": 11,
   "id": "ccadd971-637f-4fc0-979e-11e194776d83",
   "metadata": {},
   "outputs": [
    {
     "name": "stdout",
     "output_type": "stream",
     "text": [
      "+---------------+-----+---------------------------------------------------+\n",
      "|Pizza Name     |Price|Ingredients                                        |\n",
      "+---------------+-----+---------------------------------------------------+\n",
      "|Margherita     |5.95 |[Tomato Sauce, Mozzarella Cheese, Basil]           |\n",
      "|Calzone        |7.95 |[Tomato Sauce, Mozzarella Cheese, Prosciutto Cotto]|\n",
      "|Prosciutto     |7.95 |[Tomato Sauce, Mozzarella Cheese, Prosciutto Cotto]|\n",
      "|Speck & Brie   |7.95 |[Tomato Sauce, Mozzarella Cheese, Speck, Brie]     |\n",
      "|Tonno & Cipolle|7.95 |[Tomato Sauce, Mozzarella Cheese, Tuna, Onions]    |\n",
      "+---------------+-----+---------------------------------------------------+\n",
      "\n"
     ]
    }
   ],
   "source": [
    "# Filtering with multiple conditions\n",
    "df.filter((df.Price == \"7.95\") | (col(\"Pizza Name\") == \"Margherita\")).show(truncate = False)\n",
    "\n",
    "# N.B. Parenthesis are essential!"
   ]
  },
  {
   "cell_type": "code",
   "execution_count": 18,
   "id": "82083d1d-4134-4b42-a310-b896153e970d",
   "metadata": {},
   "outputs": [
    {
     "name": "stdout",
     "output_type": "stream",
     "text": [
      "+---------------+-----+-----------------------------------------------+\n",
      "|Pizza Name     |Price|Ingredients                                    |\n",
      "+---------------+-----+-----------------------------------------------+\n",
      "|Speck & Brie   |7.95 |[Tomato Sauce, Mozzarella Cheese, Speck, Brie] |\n",
      "|Tonno & Cipolle|7.95 |[Tomato Sauce, Mozzarella Cheese, Tuna, Onions]|\n",
      "+---------------+-----+-----------------------------------------------+\n",
      "\n",
      "+----------+-----+---------------------------------------------------+\n",
      "|Pizza Name|Price|Ingredients                                        |\n",
      "+----------+-----+---------------------------------------------------+\n",
      "|Margherita|5.95 |[Tomato Sauce, Mozzarella Cheese, Basil]           |\n",
      "|Calzone   |7.95 |[Tomato Sauce, Mozzarella Cheese, Prosciutto Cotto]|\n",
      "|Diavola   |5.95 |[Tomato Sauce, Mozzarella Cheese, Spicy Salame]    |\n",
      "|Prosciutto|7.95 |[Tomato Sauce, Mozzarella Cheese, Prosciutto Cotto]|\n",
      "|Fries     |3.95 |[Potatoes]                                         |\n",
      "+----------+-----+---------------------------------------------------+\n",
      "\n"
     ]
    }
   ],
   "source": [
    "# Filtering w.r.t. a list of elements\n",
    "favourite_pizzas = [\"Speck & Brie\", \"Tonno & Cipolle\"]\n",
    "\n",
    "# \"is in\" Filtering\n",
    "df.filter(col(\"Pizza Name\").isin(favourite_pizzas)).show(truncate = False)\n",
    "\n",
    "# \"is not in\" Filtering\n",
    "df.filter(col(\"Pizza Name\").isin(favourite_pizzas) == False).show(truncate = False)"
   ]
  },
  {
   "cell_type": "code",
   "execution_count": 19,
   "id": "a6a50bfc-356f-435f-bed7-48c084b5e91e",
   "metadata": {},
   "outputs": [
    {
     "name": "stdout",
     "output_type": "stream",
     "text": [
      "[Row(Pizza Name='Calzone'), Row(Pizza Name='Prosciutto'), Row(Pizza Name='Speck & Brie'), Row(Pizza Name='Tonno & Cipolle')]\n",
      "['Calzone', 'Prosciutto', 'Speck & Brie', 'Tonno & Cipolle']\n",
      "+---------------+-----+---------------------------------------------------+\n",
      "|Pizza Name     |Price|Ingredients                                        |\n",
      "+---------------+-----+---------------------------------------------------+\n",
      "|Calzone        |7.95 |[Tomato Sauce, Mozzarella Cheese, Prosciutto Cotto]|\n",
      "|Prosciutto     |7.95 |[Tomato Sauce, Mozzarella Cheese, Prosciutto Cotto]|\n",
      "|Speck & Brie   |7.95 |[Tomato Sauce, Mozzarella Cheese, Speck, Brie]     |\n",
      "|Tonno & Cipolle|7.95 |[Tomato Sauce, Mozzarella Cheese, Tuna, Onions]    |\n",
      "+---------------+-----+---------------------------------------------------+\n",
      "\n",
      "+----------+-----+-----------------------------------------------+\n",
      "|Pizza Name|Price|Ingredients                                    |\n",
      "+----------+-----+-----------------------------------------------+\n",
      "|Margherita|5.95 |[Tomato Sauce, Mozzarella Cheese, Basil]       |\n",
      "|Diavola   |5.95 |[Tomato Sauce, Mozzarella Cheese, Spicy Salame]|\n",
      "|Fries     |3.95 |[Potatoes]                                     |\n",
      "+----------+-----+-----------------------------------------------+\n",
      "\n"
     ]
    }
   ],
   "source": [
    "# Filtering w.r.t. a list of elements\n",
    "\n",
    "# collect() -> Extract the list of rows from the resulting RDD\n",
    "expensive_pizzas = df.filter(col(\"Price\") == \"7.95\").select(\"Pizza Name\").collect()\n",
    "\n",
    "print(expensive_pizzas)\n",
    "\n",
    "# Extract the value of the chosen field\n",
    "expensive_pizzas = [ep[\"Pizza Name\"] for ep in expensive_pizzas]\n",
    "\n",
    "print(expensive_pizzas)\n",
    "\n",
    "# \"is in\" Filtering\n",
    "df.filter(col(\"Pizza Name\").isin(expensive_pizzas)).show(truncate = False)\n",
    "\n",
    "# \"is not in\" Filtering\n",
    "df.filter(col(\"Pizza Name\").isin(expensive_pizzas) == False).show(truncate = False)"
   ]
  },
  {
   "cell_type": "code",
   "execution_count": 20,
   "id": "ab71dac8-a60d-4d87-932e-4618fd459659",
   "metadata": {},
   "outputs": [
    {
     "name": "stdout",
     "output_type": "stream",
     "text": [
      "+---------------+-----+-----------------------------------------------+\n",
      "|Pizza Name     |Price|Ingredients                                    |\n",
      "+---------------+-----+-----------------------------------------------+\n",
      "|Tonno & Cipolle|7.95 |[Tomato Sauce, Mozzarella Cheese, Tuna, Onions]|\n",
      "+---------------+-----+-----------------------------------------------+\n",
      "\n",
      "+----------+-----+---------------------------------------------------+\n",
      "|Pizza Name|Price|Ingredients                                        |\n",
      "+----------+-----+---------------------------------------------------+\n",
      "|Calzone   |7.95 |[Tomato Sauce, Mozzarella Cheese, Prosciutto Cotto]|\n",
      "+----------+-----+---------------------------------------------------+\n",
      "\n",
      "+---------------+-----+-----------------------------------------------+\n",
      "|Pizza Name     |Price|Ingredients                                    |\n",
      "+---------------+-----+-----------------------------------------------+\n",
      "|Speck & Brie   |7.95 |[Tomato Sauce, Mozzarella Cheese, Speck, Brie] |\n",
      "|Tonno & Cipolle|7.95 |[Tomato Sauce, Mozzarella Cheese, Tuna, Onions]|\n",
      "+---------------+-----+-----------------------------------------------+\n",
      "\n"
     ]
    }
   ],
   "source": [
    "# Filtering based on the content of the column\n",
    "\n",
    "# Filtering based on the initial letter(s)\n",
    "df.filter(col(\"Pizza Name\").startswith(\"To\")).show(truncate = False)\n",
    "\n",
    "# Filtering based on the ending letter(s)\n",
    "df.filter(col(\"Pizza Name\").endswith(\"one\")).show(truncate = False)\n",
    "\n",
    "# Filtering based on whether a word is contained in the word\n",
    "df.filter(col(\"Pizza Name\").contains(\"&\")).show(truncate = False)"
   ]
  },
  {
   "cell_type": "code",
   "execution_count": 21,
   "id": "542f134c-e9c5-4618-a888-3e7e183097f1",
   "metadata": {},
   "outputs": [
    {
     "name": "stdout",
     "output_type": "stream",
     "text": [
      "+---------------+-----+---------------------------------------------------+\n",
      "|Pizza Name     |Price|Ingredients                                        |\n",
      "+---------------+-----+---------------------------------------------------+\n",
      "|Calzone        |7.95 |[Tomato Sauce, Mozzarella Cheese, Prosciutto Cotto]|\n",
      "|Tonno & Cipolle|7.95 |[Tomato Sauce, Mozzarella Cheese, Tuna, Onions]    |\n",
      "+---------------+-----+---------------------------------------------------+\n",
      "\n",
      "+---------------+-----+-----------------------------------------------+\n",
      "|Pizza Name     |Price|Ingredients                                    |\n",
      "+---------------+-----+-----------------------------------------------+\n",
      "|Speck & Brie   |7.95 |[Tomato Sauce, Mozzarella Cheese, Speck, Brie] |\n",
      "|Tonno & Cipolle|7.95 |[Tomato Sauce, Mozzarella Cheese, Tuna, Onions]|\n",
      "+---------------+-----+-----------------------------------------------+\n",
      "\n"
     ]
    }
   ],
   "source": [
    "# Filtering using like (i.e., SQL LIKE) ALLOWED\n",
    "df.filter(col(\"Pizza Name\").like(\"%on%\")).show(truncate = False)\n",
    "\n",
    "# Filtering using rlike (i.e., REGEX LIKE)\n",
    "df.filter(col(\"Pizza Name\").rlike(\"[A-z]*&[A-z]*\")).show(truncate = False)"
   ]
  },
  {
   "cell_type": "code",
   "execution_count": 23,
   "id": "846f3281-c30c-46b2-a5ec-875a426e2eca",
   "metadata": {},
   "outputs": [
    {
     "name": "stdout",
     "output_type": "stream",
     "text": [
      "+---------------+-----+---------------------------------------------------+\n",
      "|Pizza Name     |Price|Ingredients                                        |\n",
      "+---------------+-----+---------------------------------------------------+\n",
      "|Margherita     |5.95 |[Tomato Sauce, Mozzarella Cheese, Basil]           |\n",
      "|Calzone        |7.95 |[Tomato Sauce, Mozzarella Cheese, Prosciutto Cotto]|\n",
      "|Diavola        |5.95 |[Tomato Sauce, Mozzarella Cheese, Spicy Salame]    |\n",
      "|Prosciutto     |7.95 |[Tomato Sauce, Mozzarella Cheese, Prosciutto Cotto]|\n",
      "|Speck & Brie   |7.95 |[Tomato Sauce, Mozzarella Cheese, Speck, Brie]     |\n",
      "|Tonno & Cipolle|7.95 |[Tomato Sauce, Mozzarella Cheese, Tuna, Onions]    |\n",
      "+---------------+-----+---------------------------------------------------+\n",
      "\n",
      "+----------+-----+----------------------------------------+\n",
      "|Pizza Name|Price|Ingredients                             |\n",
      "+----------+-----+----------------------------------------+\n",
      "|Margherita|5.95 |[Tomato Sauce, Mozzarella Cheese, Basil]|\n",
      "+----------+-----+----------------------------------------+\n",
      "\n"
     ]
    }
   ],
   "source": [
    "# Filtering on array columns\n",
    "from pyspark.sql.functions import array_contains\n",
    "\n",
    "# Filtering on a single value\n",
    "df.filter(array_contains(df.Ingredients, \"Tomato Sauce\")).show(truncate = False)\n",
    "\n",
    "# Filtering on multiple values\n",
    "df.filter(array_contains(df.Ingredients, \"Tomato Sauce\") & array_contains(df.Ingredients, \"Basil\")).show(truncate = False)"
   ]
  },
  {
   "cell_type": "code",
   "execution_count": 24,
   "id": "e8f1abfa-f7e0-4329-9603-bedec4ca8416",
   "metadata": {},
   "outputs": [
    {
     "name": "stdout",
     "output_type": "stream",
     "text": [
      "+------------+-----+---------------------------------------------------+\n",
      "|Pizza Name  |Price|Ingredients                                        |\n",
      "+------------+-----+---------------------------------------------------+\n",
      "|Margherita  |5.95 |[Tomato Sauce, Mozzarella Cheese, Basil]           |\n",
      "|Calzone     |7.95 |[Tomato Sauce, Mozzarella Cheese, Prosciutto Cotto]|\n",
      "|Diavola     |5.95 |[Tomato Sauce, Mozzarella Cheese, Spicy Salame]    |\n",
      "|Prosciutto  |7.95 |[Tomato Sauce, Mozzarella Cheese, Prosciutto Cotto]|\n",
      "|Speck & Brie|7.95 |[Tomato Sauce, Mozzarella Cheese, Speck, Brie]     |\n",
      "+------------+-----+---------------------------------------------------+\n",
      "\n"
     ]
    }
   ],
   "source": [
    "# Limit the results to the first 5 elements\n",
    "df.limit(5).show(truncate = False)"
   ]
  }
 ],
 "metadata": {
  "kernelspec": {
   "display_name": "Python 3 (ipykernel)",
   "language": "python",
   "name": "python3"
  },
  "language_info": {
   "codemirror_mode": {
    "name": "ipython",
    "version": 3
   },
   "file_extension": ".py",
   "mimetype": "text/x-python",
   "name": "python",
   "nbconvert_exporter": "python",
   "pygments_lexer": "ipython3",
   "version": "3.10.5"
  }
 },
 "nbformat": 4,
 "nbformat_minor": 5
}
