{
 "cells": [
  {
   "cell_type": "code",
   "execution_count": 1,
   "id": "72909aec-742a-452b-a118-6c500790b96a",
   "metadata": {
    "ExecuteTime": {
     "end_time": "2023-12-08T15:16:46.123247Z",
     "start_time": "2023-12-08T15:16:43.521250Z"
    }
   },
   "outputs": [
    {
     "name": "stderr",
     "output_type": "stream",
     "text": [
      "Setting default log level to \"WARN\".\n",
      "To adjust logging level use sc.setLogLevel(newLevel). For SparkR, use setLogLevel(newLevel).\n",
      "23/12/08 16:16:45 WARN NativeCodeLoader: Unable to load native-hadoop library for your platform... using builtin-java classes where applicable\n",
      "23/12/08 16:16:45 WARN Utils: Service 'SparkUI' could not bind on port 4040. Attempting port 4041.\n"
     ]
    }
   ],
   "source": [
    "import os\n",
    "import sys\n",
    "\n",
    "os.environ['PYSPARK_PYTHON'], os.environ['PYSPARK_DRIVER_PYTHON'] = sys.executable, sys.executable\n",
    "\n",
    "# Import the basic spark library\n",
    "from pyspark.sql import SparkSession\n",
    "\n",
    "# Create an entry point to the PySpark Application\n",
    "spark = SparkSession.builder.master(\"local\").appName(\"spark_tutorial\").getOrCreate()\n",
    "# master contains the URL of your remote spark instance or 'local'"
   ]
  },
  {
   "cell_type": "markdown",
   "id": "08722a3e-89c6-42ed-95b0-3d97e0ff0eb7",
   "metadata": {},
   "source": [
    "<h4>Resilient Distributed Dataset (RDD)</h4>\n",
    "<ul>\n",
    "    <li>Fault tolerant</li>\n",
    "    <li>Resilient</li>\n",
    "    <li>Immutable</li>\n",
    "    <li>Partitioned</li>\n",
    "</ul>"
   ]
  },
  {
   "cell_type": "markdown",
   "id": "906fc50f-a3e1-4e13-b4e3-60a12abaabfc",
   "metadata": {},
   "source": [
    "<h4>Data Upload --> Cloud Data</h4>"
   ]
  },
  {
   "cell_type": "code",
   "execution_count": 17,
   "id": "0f617ed1-5bce-4e2f-9e7b-5a89161792d9",
   "metadata": {
    "ExecuteTime": {
     "end_time": "2023-12-08T15:33:30.710280Z",
     "start_time": "2023-12-08T15:33:30.701169Z"
    }
   },
   "outputs": [],
   "source": [
    "# Upload data from a list  \n",
    "data = [(\"Margherita\", 5.95, [\"Tomato Sauce\", \"Mozzarella Cheese\", \"Basil\"]),\n",
    "        (\"Calzone\", 7.95, [\"Tomato Sauce\", \"Mozzarella Cheese\", \"Prosciutto Cotto\"])]\n",
    "\n",
    "# Create an RDD\n",
    "rdd = spark.sparkContext.parallelize(data)"
   ]
  },
  {
   "cell_type": "code",
   "execution_count": 18,
   "id": "a4df7f8d-b127-4671-9f20-d8d6e2d2dcfd",
   "metadata": {
    "ExecuteTime": {
     "end_time": "2023-12-08T15:33:30.960461Z",
     "start_time": "2023-12-08T15:33:30.929897Z"
    }
   },
   "outputs": [],
   "source": [
    "# Upload list from a file\n",
    "rdd_file = spark.sparkContext.textFile(\"menu.txt\")"
   ]
  },
  {
   "cell_type": "markdown",
   "id": "97f80f26-6a96-4da0-b1a8-787156ef7306",
   "metadata": {},
   "source": [
    "<h4>Dataframe Creation --> Local Data</h4>"
   ]
  },
  {
   "cell_type": "code",
   "execution_count": 19,
   "id": "01ebb85c-13d4-4ab7-8f3f-f5e5534c6763",
   "metadata": {
    "ExecuteTime": {
     "end_time": "2023-12-08T15:34:27.785583Z",
     "start_time": "2023-12-08T15:34:27.691335Z"
    }
   },
   "outputs": [
    {
     "name": "stdout",
     "output_type": "stream",
     "text": [
      "+---------------+-----+---------------------------------------------------+\n",
      "|Pizza Name     |Price|Ingredients                                        |\n",
      "+---------------+-----+---------------------------------------------------+\n",
      "|Margherita     |5.95 |[Tomato Sauce, Mozzarella Cheese, Basil]           |\n",
      "|Calzone        |7.95 |[Tomato Sauce, Mozzarella Cheese, Prosciutto Cotto]|\n",
      "|Diavola        |5.95 |[Tomato Sauce, Mozzarella Cheese, Spicy Salame]    |\n",
      "|Prosciutto     |7.95 |[Tomato Sauce, Mozzarella Cheese, Prosciutto Cotto]|\n",
      "|Speck & Brie   |7.95 |[Tomato Sauce, Mozzarella Cheese, Speck, Brie]     |\n",
      "|Tonno & Cipolle|7.95 |[Tomato Sauce, Mozzarella Cheese, Tuna, Onions]    |\n",
      "|Fries          |3.95 |[Potatoes]                                         |\n",
      "+---------------+-----+---------------------------------------------------+\n",
      "\n"
     ]
    }
   ],
   "source": [
    "# Create a Dataframe\n",
    "df_data = [(\"Margherita\", 5.95, [\"Tomato Sauce\", \"Mozzarella Cheese\", \"Basil\"]),\n",
    "        (\"Calzone\", 7.95, [\"Tomato Sauce\", \"Mozzarella Cheese\", \"Prosciutto Cotto\"]),\n",
    "        (\"Diavola\", 5.95, [\"Tomato Sauce\", \"Mozzarella Cheese\", \"Spicy Salame\"]),\n",
    "        (\"Prosciutto\", 7.95, [\"Tomato Sauce\", \"Mozzarella Cheese\", \"Prosciutto Cotto\"]),\n",
    "        (\"Speck & Brie\", 7.95, [\"Tomato Sauce\", \"Mozzarella Cheese\", \"Speck\", \"Brie\"]),\n",
    "        (\"Tonno & Cipolle\", 7.95, [\"Tomato Sauce\", \"Mozzarella Cheese\", \"Tuna\", \"Onions\"]),\n",
    "        (\"Fries\", 3.95, [\"Potatoes\"])]\n",
    "        \n",
    "columns = [\"Pizza Name\", \"Price\", \"Ingredients\"]\n",
    "df = spark.createDataFrame(data = df_data, schema = columns)\n",
    "# Show the first 20 elements of a dataframe\n",
    "df.show(truncate = False)"
   ]
  },
  {
   "cell_type": "code",
   "execution_count": 20,
   "id": "c3db8f5c-fd71-4a78-9b94-09c2a2d3617f",
   "metadata": {
    "ExecuteTime": {
     "end_time": "2023-12-08T15:34:28.073659Z",
     "start_time": "2023-12-08T15:34:27.933418Z"
    }
   },
   "outputs": [
    {
     "name": "stdout",
     "output_type": "stream",
     "text": [
      "root\n",
      " |-- Pizza Name: string (nullable = true)\n",
      " |-- Price: float (nullable = true)\n",
      " |-- Ingredients: string (nullable = true)\n",
      "\n",
      "+---------------+-----+----------------------------------------------------------+\n",
      "|Pizza Name     |Price|Ingredients                                               |\n",
      "+---------------+-----+----------------------------------------------------------+\n",
      "|Margherita     |5.95 | [\"Tomato Sauce\", \"Mozzarella Cheese\", \"Basil\"]           |\n",
      "|Calzone        |7.95 | [\"Tomato Sauce\", \"Mozzarella Cheese\", \"Prosciutto Cotto\"]|\n",
      "|Diavola        |5.95 | [\"Tomato Sauce\", \"Mozzarella Cheese\", \"Spicy Salame\"]    |\n",
      "|Prosciutto     |7.95 | [\"Tomato Sauce\", \"Mozzarella Cheese\", \"Prosciutto Cotto\"]|\n",
      "|Speck & Brie   |7.95 | [\"Tomato Sauce\", \"Mozzarella Cheese\", \"Speck\", \"Brie\"]   |\n",
      "|Tonno & Cipolle|7.95 | [\"Tomato Sauce\", \"Mozzarella Cheese\", \"Tuna\", \"Onions\"]  |\n",
      "+---------------+-----+----------------------------------------------------------+\n",
      "\n"
     ]
    },
    {
     "name": "stderr",
     "output_type": "stream",
     "text": [
      "23/12/08 16:34:28 WARN CSVHeaderChecker: CSV header does not conform to the schema.\n",
      " Header: Pizza Name,  Price,  Ingredients\n",
      " Schema: Pizza Name, Price, Ingredients\n",
      "Expected: Price but found:  Price\n",
      "CSV file: file:///Users/davide/Desktop/Università/Magistrale%20-%20PoliMi/Anno%201%20-%202023:2024/Semestre%201/Big%20Data/Big%20Data%20Analysis/Spark/menu_csv.txt\n"
     ]
    }
   ],
   "source": [
    "from pyspark.sql.types import StructType, StructField, StringType, FloatType, ArrayType\n",
    "\n",
    "schema = StructType([\n",
    "    StructField(\"Pizza Name\", StringType(), True), # l'ultimo booleano rappresenta la nullable option\n",
    "    StructField(\"Price\", FloatType(), True),\n",
    "    StructField(\"Ingredients\", StringType(), True) # sarebbe un array, ma i CSV non supportano gli array come datatype\n",
    "])\n",
    "\n",
    "# Load a DataFrame\n",
    "df = spark.read.option(\"header\", True).option(\"delimiter\", \";\").csv(\"menu_csv.txt\", schema=schema)\n",
    "\n",
    "# Print detected \n",
    "df.printSchema()\n",
    "\n",
    "df.show(truncate = False)"
   ]
  },
  {
   "cell_type": "markdown",
   "source": [
    "# That was how to create a Spark DF from data or file"
   ],
   "metadata": {
    "collapsed": false
   }
  },
  {
   "cell_type": "markdown",
   "id": "40df7837-91d6-4220-a23c-cfc04a71d790",
   "metadata": {},
   "source": [
    "<h4>Dataframes from RDDs</h4>"
   ]
  },
  {
   "cell_type": "code",
   "execution_count": 10,
   "id": "b361785f-81cd-4039-91a0-1471891e816d",
   "metadata": {},
   "outputs": [
    {
     "name": "stdout",
     "output_type": "stream",
     "text": [
      "root\n",
      " |-- _1: string (nullable = true)\n",
      " |-- _2: double (nullable = true)\n",
      " |-- _3: array (nullable = true)\n",
      " |    |-- element: string (containsNull = true)\n",
      "\n"
     ]
    }
   ],
   "source": [
    "# Transform the RDD into a Dataframe\n",
    "df_from_rdd = rdd.toDF()\n",
    "\n",
    "# Print the schema of the Dataframe\n",
    "df_from_rdd.printSchema()"
   ]
  },
  {
   "cell_type": "code",
   "execution_count": 11,
   "id": "0755516e-a93f-40d7-8167-13c622ce6e83",
   "metadata": {},
   "outputs": [
    {
     "name": "stdout",
     "output_type": "stream",
     "text": [
      "root\n",
      " |-- Pizza Name: string (nullable = true)\n",
      " |-- Price: double (nullable = true)\n",
      " |-- Ingredients: array (nullable = true)\n",
      " |    |-- element: string (containsNull = true)\n",
      "\n"
     ]
    }
   ],
   "source": [
    "#Transform the RDD into a Dataframe, specifying the columns\n",
    "columns = [\"Pizza Name\", \"Price\", \"Ingredients\"]\n",
    "df_from_rdd = rdd.toDF(columns)\n",
    "df_from_rdd.printSchema()"
   ]
  },
  {
   "cell_type": "code",
   "execution_count": 12,
   "id": "0faf942b-8160-4d82-8f4b-70321b01fe62",
   "metadata": {},
   "outputs": [
    {
     "name": "stdout",
     "output_type": "stream",
     "text": [
      "root\n",
      " |-- Pizza Name: string (nullable = true)\n",
      " |-- Price: double (nullable = true)\n",
      " |-- Ingredients: array (nullable = true)\n",
      " |    |-- element: string (containsNull = true)\n",
      "\n"
     ]
    }
   ],
   "source": [
    "df_2_from_rdd = spark.createDataFrame(rdd).toDF(*columns)\n",
    "df_from_rdd.printSchema()"
   ]
  },
  {
   "cell_type": "markdown",
   "id": "418c4704-59d3-4f0f-9582-e2d9134ff1bf",
   "metadata": {},
   "source": [
    "<h4>Custom Dataframe</h4>"
   ]
  },
  {
   "cell_type": "code",
   "execution_count": 13,
   "id": "0ebfda87-f209-4aa2-b989-6cfd5aed57d0",
   "metadata": {},
   "outputs": [
    {
     "name": "stdout",
     "output_type": "stream",
     "text": [
      "root\n",
      " |-- Pizza Name: string (nullable = true)\n",
      " |-- Price: float (nullable = true)\n",
      " |-- Ingredients: array (nullable = true)\n",
      " |    |-- element: string (containsNull = true)\n",
      "\n",
      "+---------------+-----+---------------------------------------------------+\n",
      "|Pizza Name     |Price|Ingredients                                        |\n",
      "+---------------+-----+---------------------------------------------------+\n",
      "|Margherita     |5.95 |[Tomato Sauce, Mozzarella Cheese, Basil]           |\n",
      "|Calzone        |7.95 |[Tomato Sauce, Mozzarella Cheese, Prosciutto Cotto]|\n",
      "|Diavola        |5.95 |[Tomato Sauce, Mozzarella Cheese, Spicy Salame]    |\n",
      "|Prosciutto     |7.95 |[Tomato Sauce, Mozzarella Cheese, Prosciutto Cotto]|\n",
      "|Speck & Brie   |7.95 |[Tomato Sauce, Mozzarella Cheese, Speck, Brie]     |\n",
      "|Tonno & Cipolle|7.95 |[Tomato Sauce, Mozzarella Cheese, Tuna, Onions]    |\n",
      "|Fries          |3.95 |[Potatoes]                                         |\n",
      "+---------------+-----+---------------------------------------------------+\n",
      "\n"
     ]
    }
   ],
   "source": [
    "from pyspark.sql.types import StructType, StructField, StringType, FloatType, ArrayType\n",
    "\n",
    "#Createe the schema using StructField(Name, Type, Nullable)\n",
    "schema = StructType([\n",
    "    StructField(\"Pizza Name\", StringType(), True),\n",
    "    StructField(\"Price\", FloatType(), True),\n",
    "    StructField(\"Ingredients\", ArrayType(StringType()), True)\n",
    "])\n",
    " \n",
    "df = spark.createDataFrame(data = df_data, schema = schema)\n",
    "df.printSchema()\n",
    "df.show(truncate=False)"
   ]
  },
  {
   "cell_type": "markdown",
   "id": "6991a58a-c4d8-48a7-9b74-f20267254efb",
   "metadata": {
    "tags": []
   },
   "source": [
    "<h4>Organizing Data</h4>"
   ]
  },
  {
   "cell_type": "code",
   "execution_count": 46,
   "id": "741212ed-9671-4b45-abd1-dfd99021632f",
   "metadata": {},
   "outputs": [
    {
     "name": "stdout",
     "output_type": "stream",
     "text": [
      "+---------------+-----+---------------------------------------------------+\n",
      "|Pizza Name     |Price|Ingredients                                        |\n",
      "+---------------+-----+---------------------------------------------------+\n",
      "|Fries          |3.95 |[Potatoes]                                         |\n",
      "|Margherita     |5.95 |[Tomato Sauce, Mozzarella Cheese, Basil]           |\n",
      "|Diavola        |5.95 |[Tomato Sauce, Mozzarella Cheese, Spicy Salame]    |\n",
      "|Calzone        |7.95 |[Tomato Sauce, Mozzarella Cheese, Prosciutto Cotto]|\n",
      "|Prosciutto     |7.95 |[Tomato Sauce, Mozzarella Cheese, Prosciutto Cotto]|\n",
      "|Speck & Brie   |7.95 |[Tomato Sauce, Mozzarella Cheese, Speck, Brie]     |\n",
      "|Tonno & Cipolle|7.95 |[Tomato Sauce, Mozzarella Cheese, Tuna, Onions]    |\n",
      "+---------------+-----+---------------------------------------------------+\n",
      "\n"
     ]
    }
   ],
   "source": [
    "# Sorting depending on the fields (default = ascending order)\n",
    "df.sort(\"Price\").show(truncate = False)"
   ]
  },
  {
   "cell_type": "code",
   "execution_count": 14,
   "id": "ec0f8118-a616-43e4-b501-2d7e0cce34a5",
   "metadata": {},
   "outputs": [
    {
     "name": "stdout",
     "output_type": "stream",
     "text": [
      "+---------------+-----+---------------------------------------------------+\n",
      "|Pizza Name     |Price|Ingredients                                        |\n",
      "+---------------+-----+---------------------------------------------------+\n",
      "|Fries          |3.95 |[Potatoes]                                         |\n",
      "|Diavola        |5.95 |[Tomato Sauce, Mozzarella Cheese, Spicy Salame]    |\n",
      "|Margherita     |5.95 |[Tomato Sauce, Mozzarella Cheese, Basil]           |\n",
      "|Calzone        |7.95 |[Tomato Sauce, Mozzarella Cheese, Prosciutto Cotto]|\n",
      "|Prosciutto     |7.95 |[Tomato Sauce, Mozzarella Cheese, Prosciutto Cotto]|\n",
      "|Speck & Brie   |7.95 |[Tomato Sauce, Mozzarella Cheese, Speck, Brie]     |\n",
      "|Tonno & Cipolle|7.95 |[Tomato Sauce, Mozzarella Cheese, Tuna, Onions]    |\n",
      "+---------------+-----+---------------------------------------------------+\n",
      "\n"
     ]
    }
   ],
   "source": [
    "from pyspark.sql.functions import col\n",
    "\n",
    "# Sorting depending on the fields\n",
    "df.sort(col(\"Price\"), col(\"Pizza Name\")).show(truncate = False)"
   ]
  },
  {
   "cell_type": "code",
   "execution_count": 15,
   "id": "1857f478-be58-4acb-8235-99ffc5230879",
   "metadata": {},
   "outputs": [
    {
     "name": "stdout",
     "output_type": "stream",
     "text": [
      "+---------------+-----+---------------------------------------------------+\n",
      "|Pizza Name     |Price|Ingredients                                        |\n",
      "+---------------+-----+---------------------------------------------------+\n",
      "|Fries          |3.95 |[Potatoes]                                         |\n",
      "|Diavola        |5.95 |[Tomato Sauce, Mozzarella Cheese, Spicy Salame]    |\n",
      "|Margherita     |5.95 |[Tomato Sauce, Mozzarella Cheese, Basil]           |\n",
      "|Calzone        |7.95 |[Tomato Sauce, Mozzarella Cheese, Prosciutto Cotto]|\n",
      "|Prosciutto     |7.95 |[Tomato Sauce, Mozzarella Cheese, Prosciutto Cotto]|\n",
      "|Speck & Brie   |7.95 |[Tomato Sauce, Mozzarella Cheese, Speck, Brie]     |\n",
      "|Tonno & Cipolle|7.95 |[Tomato Sauce, Mozzarella Cheese, Tuna, Onions]    |\n",
      "+---------------+-----+---------------------------------------------------+\n",
      "\n"
     ]
    }
   ],
   "source": [
    "# Sorting using orderBy\n",
    "df.orderBy(col(\"Price\"), col(\"Pizza Name\")).show(truncate = False)"
   ]
  },
  {
   "cell_type": "code",
   "execution_count": 16,
   "id": "821c2b65-e3ab-4fd9-8538-07d0bb081ca5",
   "metadata": {},
   "outputs": [
    {
     "name": "stdout",
     "output_type": "stream",
     "text": [
      "+---------------+-----+---------------------------------------------------+\n",
      "|Pizza Name     |Price|Ingredients                                        |\n",
      "+---------------+-----+---------------------------------------------------+\n",
      "|Fries          |3.95 |[Potatoes]                                         |\n",
      "|Margherita     |5.95 |[Tomato Sauce, Mozzarella Cheese, Basil]           |\n",
      "|Diavola        |5.95 |[Tomato Sauce, Mozzarella Cheese, Spicy Salame]    |\n",
      "|Tonno & Cipolle|7.95 |[Tomato Sauce, Mozzarella Cheese, Tuna, Onions]    |\n",
      "|Speck & Brie   |7.95 |[Tomato Sauce, Mozzarella Cheese, Speck, Brie]     |\n",
      "|Prosciutto     |7.95 |[Tomato Sauce, Mozzarella Cheese, Prosciutto Cotto]|\n",
      "|Calzone        |7.95 |[Tomato Sauce, Mozzarella Cheese, Prosciutto Cotto]|\n",
      "+---------------+-----+---------------------------------------------------+\n",
      "\n"
     ]
    }
   ],
   "source": [
    "# Expliciting the sorting (work the same with orderBy)\n",
    "df.sort(col(\"Price\").asc(), col(\"Pizza Name\").desc()).show(truncate = False)"
   ]
  },
  {
   "cell_type": "markdown",
   "id": "cc888070-3830-424b-be01-29dc552df799",
   "metadata": {},
   "source": [
    "<h4>Explode Arrays in Individual Rows</h4>"
   ]
  },
  {
   "cell_type": "code",
   "execution_count": 17,
   "id": "4f11d458-11b0-4dd9-b0bf-9707c599fdd2",
   "metadata": {},
   "outputs": [
    {
     "name": "stdout",
     "output_type": "stream",
     "text": [
      "root\n",
      " |-- Pizza Name: string (nullable = true)\n",
      " |-- Price: float (nullable = true)\n",
      " |-- col: string (nullable = true)\n",
      "\n",
      "+---------------+-----+-----------------+\n",
      "|Pizza Name     |Price|col              |\n",
      "+---------------+-----+-----------------+\n",
      "|Margherita     |5.95 |Tomato Sauce     |\n",
      "|Margherita     |5.95 |Mozzarella Cheese|\n",
      "|Margherita     |5.95 |Basil            |\n",
      "|Calzone        |7.95 |Tomato Sauce     |\n",
      "|Calzone        |7.95 |Mozzarella Cheese|\n",
      "|Calzone        |7.95 |Prosciutto Cotto |\n",
      "|Diavola        |5.95 |Tomato Sauce     |\n",
      "|Diavola        |5.95 |Mozzarella Cheese|\n",
      "|Diavola        |5.95 |Spicy Salame     |\n",
      "|Prosciutto     |7.95 |Tomato Sauce     |\n",
      "|Prosciutto     |7.95 |Mozzarella Cheese|\n",
      "|Prosciutto     |7.95 |Prosciutto Cotto |\n",
      "|Speck & Brie   |7.95 |Tomato Sauce     |\n",
      "|Speck & Brie   |7.95 |Mozzarella Cheese|\n",
      "|Speck & Brie   |7.95 |Speck            |\n",
      "|Speck & Brie   |7.95 |Brie             |\n",
      "|Tonno & Cipolle|7.95 |Tomato Sauce     |\n",
      "|Tonno & Cipolle|7.95 |Mozzarella Cheese|\n",
      "|Tonno & Cipolle|7.95 |Tuna             |\n",
      "|Tonno & Cipolle|7.95 |Onions           |\n",
      "+---------------+-----+-----------------+\n",
      "only showing top 20 rows\n",
      "\n"
     ]
    }
   ],
   "source": [
    "from pyspark.sql.functions import explode\n",
    "\n",
    "exploded_df = df.select(col(\"Pizza Name\"), df.Price, explode(df.Ingredients))\n",
    "exploded_df.printSchema()\n",
    "exploded_df.show(truncate = False)"
   ]
  },
  {
   "cell_type": "code",
   "execution_count": 18,
   "id": "91dbc7d0-ee23-4c83-99be-4d1d15523f1a",
   "metadata": {},
   "outputs": [
    {
     "name": "stdout",
     "output_type": "stream",
     "text": [
      "root\n",
      " |-- Pizza Name: string (nullable = true)\n",
      " |-- Price: float (nullable = true)\n",
      " |-- Ingredient: string (nullable = true)\n",
      "\n"
     ]
    }
   ],
   "source": [
    "# How can we rename a column?\n",
    "exploded_df = exploded_df.withColumnRenamed(\"col\", \"Ingredient\")\n",
    "\n",
    "exploded_df.printSchema()"
   ]
  }
 ],
 "metadata": {
  "kernelspec": {
   "display_name": "Python 3 (ipykernel)",
   "language": "python",
   "name": "python3"
  },
  "language_info": {
   "codemirror_mode": {
    "name": "ipython",
    "version": 3
   },
   "file_extension": ".py",
   "mimetype": "text/x-python",
   "name": "python",
   "nbconvert_exporter": "python",
   "pygments_lexer": "ipython3",
   "version": "3.10.5"
  }
 },
 "nbformat": 4,
 "nbformat_minor": 5
}
