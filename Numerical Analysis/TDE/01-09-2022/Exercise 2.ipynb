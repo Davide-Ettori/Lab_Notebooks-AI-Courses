{
 "cells": [
  {
   "cell_type": "markdown",
   "source": [
    "# Es 1"
   ],
   "metadata": {
    "collapsed": false
   }
  },
  {
   "cell_type": "code",
   "execution_count": 100,
   "outputs": [],
   "source": [
    "# grad(f) = [-400 * x * (y - x ** 2) - 2 * (1 - x), 200 * (y - x ** 2)].T\n",
    "# hess(f) = [\n",
    "#   -400 * (y - 3 * x ** 2) + 2, -400 * x\n",
    "#   -400 * x, 200\n",
    "# ]\n",
    "# l'unico punto stazionario è il punto (x, y) = (1, 1), il quale è un minimo assoluto --> f(1, 1) = 0"
   ],
   "metadata": {
    "collapsed": false,
    "ExecuteTime": {
     "end_time": "2024-01-15T14:22:52.269703Z",
     "start_time": "2024-01-15T14:22:52.263860Z"
    }
   }
  },
  {
   "cell_type": "markdown",
   "source": [
    "# Es 2"
   ],
   "metadata": {
    "collapsed": false
   }
  },
  {
   "cell_type": "code",
   "execution_count": 101,
   "outputs": [],
   "source": [
    "import matplotlib.pyplot as plt\n",
    "import numpy as np"
   ],
   "metadata": {
    "collapsed": false,
    "ExecuteTime": {
     "end_time": "2024-01-15T14:22:53.564864Z",
     "start_time": "2024-01-15T14:22:53.531950Z"
    }
   }
  },
  {
   "cell_type": "code",
   "execution_count": 103,
   "outputs": [
    {
     "name": "stdout",
     "output_type": "stream",
     "text": [
      "Early Stopping at epoch 12028\n"
     ]
    },
    {
     "data": {
      "text/plain": "(array([0.99647605, 0.99295038]), 1.243820434720804e-05)"
     },
     "execution_count": 103,
     "metadata": {},
     "output_type": "execute_result"
    },
    {
     "data": {
      "text/plain": "<Figure size 640x480 with 1 Axes>",
      "image/png": "[encoded data removed]"
     },
     "metadata": {},
     "output_type": "display_data"
    }
   ],
   "source": [
    "max_iter = range(50000)\n",
    "tol = 1e-8\n",
    "x_0 = np.array([-1.2, 1.2])\n",
    "stepsize = 0.001\n",
    "def func(vec):\n",
    "    x, y = vec\n",
    "    return 100 * (y - x ** 2) ** 2 + (1 - x) ** 2\n",
    "def grad(vec):\n",
    "    x, y = vec\n",
    "    return np.array([-400 * x * (y - x ** 2) - 2 * (1 - x), 200 * (y - x ** 2)])\n",
    "\n",
    "w = x_0\n",
    "\n",
    "err = list()\n",
    "for i in max_iter:\n",
    "    direct = -grad(w)\n",
    "    w += stepsize * direct\n",
    "    err.append(abs(func(w) - func(w - stepsize * direct)))\n",
    "    if err[-1] <= tol:\n",
    "        print(f\"Early Stopping at epoch {i}\")\n",
    "        break\n",
    "plt.plot(err); w, func(w)"
   ],
   "metadata": {
    "collapsed": false,
    "ExecuteTime": {
     "end_time": "2024-01-15T14:23:00.254872Z",
     "start_time": "2024-01-15T14:22:59.932Z"
    }
   }
  },
  {
   "cell_type": "markdown",
   "source": [
    "# Es 3"
   ],
   "metadata": {
    "collapsed": false
   }
  },
  {
   "cell_type": "code",
   "execution_count": 104,
   "outputs": [
    {
     "data": {
      "text/plain": "array([1.00160064e+03, 3.99360767e-01])"
     },
     "execution_count": 104,
     "metadata": {},
     "output_type": "execute_result"
    }
   ],
   "source": [
    "H = np.array([[802, -400], [-400, 200]])\n",
    "np.linalg.eigvals(H) # matrix positive definite"
   ],
   "metadata": {
    "collapsed": false,
    "ExecuteTime": {
     "end_time": "2024-01-15T14:23:07.686325Z",
     "start_time": "2024-01-15T14:23:07.681572Z"
    }
   }
  },
  {
   "cell_type": "code",
   "execution_count": 105,
   "outputs": [
    {
     "name": "stdout",
     "output_type": "stream",
     "text": [
      "Early Stopping at epoch 8945\n"
     ]
    },
    {
     "data": {
      "text/plain": "(array([0.99822025, 0.9965849 ]), 5.162137380706194e-06)"
     },
     "execution_count": 105,
     "metadata": {},
     "output_type": "execute_result"
    },
    {
     "data": {
      "text/plain": "<Figure size 640x480 with 1 Axes>",
      "image/png": "[encoded data removed]"
     },
     "metadata": {},
     "output_type": "display_data"
    }
   ],
   "source": [
    "tol_near = 1e-5\n",
    "w = np.array([-1.2, 1.2])\n",
    "\n",
    "err = list()\n",
    "newton = False\n",
    "for i in max_iter:\n",
    "    if newton:\n",
    "        direct = - np.linalg.inv(H) @ grad(w)\n",
    "    else:\n",
    "        direct = -grad(w)\n",
    "    newton = False\n",
    "    w += stepsize * direct\n",
    "    err.append(abs(func(w) - func(w - stepsize * direct)))\n",
    "    if err[-1] <= tol_near:\n",
    "        newton = True\n",
    "    if err[-1] <= tol:\n",
    "        print(f\"Early Stopping at epoch {i}\")\n",
    "        break\n",
    "plt.plot(err); w, func(w)"
   ],
   "metadata": {
    "collapsed": false,
    "ExecuteTime": {
     "end_time": "2024-01-15T14:23:35.245632Z",
     "start_time": "2024-01-15T14:23:34.810142Z"
    }
   }
  },
  {
   "cell_type": "code",
   "execution_count": null,
   "outputs": [],
   "source": [],
   "metadata": {
    "collapsed": false
   }
  }
 ],
 "metadata": {
  "kernelspec": {
   "display_name": "Python 3",
   "language": "python",
   "name": "python3"
  },
  "language_info": {
   "codemirror_mode": {
    "name": "ipython",
    "version": 2
   },
   "file_extension": ".py",
   "mimetype": "text/x-python",
   "name": "python",
   "nbconvert_exporter": "python",
   "pygments_lexer": "ipython2",
   "version": "2.7.6"
  }
 },
 "nbformat": 4,
 "nbformat_minor": 0
}
