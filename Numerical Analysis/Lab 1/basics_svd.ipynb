{
 "cells": [
  {
   "cell_type": "markdown",
   "metadata": {
    "id": "dmbKCuWye-rs"
   },
   "source": [
    "# SVD decomposition with `scipy`"
   ]
  },
  {
   "cell_type": "markdown",
   "metadata": {
    "id": "ApkyicLVc6Tj"
   },
   "source": [
    "Import the required modules"
   ]
  },
  {
   "cell_type": "code",
   "execution_count": 1,
   "metadata": {
    "id": "1rfgleYmcAuo",
    "ExecuteTime": {
     "end_time": "2023-10-10T14:31:17.167710Z",
     "start_time": "2023-10-10T14:31:16.391086Z"
    }
   },
   "outputs": [],
   "source": [
    "import scipy.linalg as la\n",
    "import numpy as np"
   ]
  },
  {
   "cell_type": "markdown",
   "metadata": {
    "id": "oUBZbm3pc9zu"
   },
   "source": [
    "Generate a random 5x4 matrix"
   ]
  },
  {
   "cell_type": "code",
   "execution_count": 2,
   "metadata": {
    "id": "HSULhXpXcYXJ",
    "ExecuteTime": {
     "end_time": "2023-10-10T14:31:41.728392Z",
     "start_time": "2023-10-10T14:31:41.707226Z"
    }
   },
   "outputs": [
    {
     "data": {
      "text/plain": "array([[1.06046348e-01, 5.06484890e-02, 3.38551811e-01, 2.88525147e-01],\n       [7.06730485e-01, 5.94977415e-04, 9.88540113e-01, 3.33401060e-01],\n       [3.61514816e-01, 3.29512597e-01, 4.71409365e-01, 5.70938289e-01],\n       [2.71950157e-01, 5.18775271e-01, 3.68967553e-02, 4.28336111e-01],\n       [9.30229229e-01, 3.56163109e-02, 1.85981435e-01, 7.31712025e-01]])"
     },
     "execution_count": 2,
     "metadata": {},
     "output_type": "execute_result"
    }
   ],
   "source": [
    "A = np.random.rand(5,4)\n",
    "A"
   ]
  },
  {
   "cell_type": "markdown",
   "metadata": {
    "id": "3a4qVZ5YdHsW"
   },
   "source": [
    "## `<numpy|scipy>.linalg.svd` \n",
    "\n",
    "Equivalent implementations:\n",
    "- https://numpy.org/doc/stable/reference/generated/numpy.linalg.svd.html\n",
    "- https://docs.scipy.org/doc/scipy/reference/generated/scipy.linalg.svd.html\n",
    "\n"
   ]
  },
  {
   "cell_type": "markdown",
   "metadata": {
    "id": "6uj3MxaIeMOw"
   },
   "source": [
    "### Full SVD (`full_matrices = True` - default)\n",
    "\n",
    "**input:**\n",
    "\n",
    "$A \\in \\mathbb{R}^{m\\times n}$\n",
    "\n",
    "**output:**\n",
    "\n",
    "$U \\in \\mathbb{R}^{m\\times m}, S \\in \\mathbb{R}^{m\\times n}, V \\in \\mathbb{R}^{n\\times n}$\n",
    "\n",
    "or, more precisely\n",
    "\n",
    "$\\boldsymbol{\\sigma} \\in \\mathbb{R}^{q} $\n",
    "\n",
    "where $q = \\min(m,n)$.\n"
   ]
  },
  {
   "cell_type": "code",
   "execution_count": 3,
   "metadata": {
    "id": "RPh_IJdscdNb",
    "ExecuteTime": {
     "end_time": "2023-10-10T14:35:07.181691Z",
     "start_time": "2023-10-10T14:35:07.163567Z"
    }
   },
   "outputs": [
    {
     "name": "stdout",
     "output_type": "stream",
     "text": [
      "U shape:  (5, 5)\n",
      "s shape:  (4,)\n",
      "VT shape:  (4, 4)\n"
     ]
    }
   ],
   "source": [
    "U, s, VT = np.linalg.svd(A)\n",
    "#U, s, VT = la.svd(A)\n",
    "print('U shape: ', U.shape)\n",
    "print('s shape: ', s.shape)\n",
    "print('VT shape: ', VT.shape)"
   ]
  },
  {
   "cell_type": "markdown",
   "metadata": {
    "id": "dlKu4OF926LD"
   },
   "source": [
    "Build the matrix $S$"
   ]
  },
  {
   "cell_type": "code",
   "execution_count": 4,
   "metadata": {
    "id": "yccHBHngcsri",
    "ExecuteTime": {
     "end_time": "2023-10-10T14:35:40.371702Z",
     "start_time": "2023-10-10T14:35:40.364564Z"
    }
   },
   "outputs": [
    {
     "data": {
      "text/plain": "array([[1.90914707, 0.        , 0.        , 0.        ],\n       [0.        , 0.75506992, 0.        , 0.        ],\n       [0.        , 0.        , 0.54360171, 0.        ],\n       [0.        , 0.        , 0.        , 0.20250587],\n       [0.        , 0.        , 0.        , 0.        ]])"
     },
     "execution_count": 4,
     "metadata": {},
     "output_type": "execute_result"
    }
   ],
   "source": [
    "S = np.zeros(A.shape)\n",
    "for i in range(len(s)):\n",
    "    S[i, i] = s[i]\n",
    "S"
   ]
  },
  {
   "cell_type": "code",
   "execution_count": 5,
   "metadata": {
    "id": "fUcq8ihmcxjp",
    "ExecuteTime": {
     "end_time": "2023-10-10T14:36:25.016338Z",
     "start_time": "2023-10-10T14:36:24.998091Z"
    }
   },
   "outputs": [
    {
     "data": {
      "text/plain": "array([[1.90914707, 0.        , 0.        , 0.        ],\n       [0.        , 0.75506992, 0.        , 0.        ],\n       [0.        , 0.        , 0.54360171, 0.        ],\n       [0.        , 0.        , 0.        , 0.20250587],\n       [0.        , 0.        , 0.        , 0.        ]])"
     },
     "execution_count": 5,
     "metadata": {},
     "output_type": "execute_result"
    }
   ],
   "source": [
    "S = la.diagsvd(s, A.shape[0], A.shape[1]) # fa la stessa cosa della cella precedente, ma più veloce\n",
    "S"
   ]
  },
  {
   "cell_type": "markdown",
   "metadata": {
    "id": "hQYIgR273C8a"
   },
   "source": [
    "Reconstruct the matrix $A$"
   ]
  },
  {
   "cell_type": "code",
   "execution_count": 7,
   "metadata": {
    "id": "oY02NgbWc1TI",
    "ExecuteTime": {
     "end_time": "2023-10-10T14:39:54.691282Z",
     "start_time": "2023-10-10T14:39:54.678454Z"
    }
   },
   "outputs": [
    {
     "name": "stdout",
     "output_type": "stream",
     "text": [
      "err: 5.106853e-16\n"
     ]
    }
   ],
   "source": [
    "A_svd = np.matmul(U, np.matmul(S,VT))\n",
    "print('err: %e' % (la.norm(A - A_svd) / np.linalg.norm(A)))"
   ]
  },
  {
   "cell_type": "markdown",
   "metadata": {
    "id": "W1HRvIvrdsOy"
   },
   "source": [
    "### Thin SVD (`full_matrices = False`)\n",
    "\n",
    "**input:**\n",
    "\n",
    "$A \\in \\mathbb{R}^{m\\times n}$\n",
    "\n",
    "**output:**\n",
    "\n",
    "$U \\in \\mathbb{R}^{m\\times q}, S \\in \\mathbb{R}^{q\\times q}, V \\in \\mathbb{R}^{n\\times q}$\n",
    "\n",
    "or, more precisely\n",
    "\n",
    "$\\boldsymbol{\\sigma} \\in \\mathbb{R}^{q} $\n",
    "\n",
    "where $q = \\min(m,n)$.\n",
    "\n"
   ]
  },
  {
   "cell_type": "code",
   "execution_count": 8,
   "metadata": {
    "id": "7toKBuE-dvEL",
    "ExecuteTime": {
     "end_time": "2023-10-10T14:40:23.898447Z",
     "start_time": "2023-10-10T14:40:23.894610Z"
    }
   },
   "outputs": [
    {
     "name": "stdout",
     "output_type": "stream",
     "text": [
      "U shape:  (5, 4)\n",
      "s shape:  (4,)\n",
      "VT shape:  (4, 4)\n"
     ]
    }
   ],
   "source": [
    "del U, s, S, VT\n",
    "U, s, VT = la.svd(A, full_matrices = False) # non cambia nulla nella pratica --> hai semplicemente eliminato le parti inutili\n",
    "print('U shape: ', U.shape)\n",
    "print('s shape: ', s.shape)\n",
    "print('VT shape: ', VT.shape)"
   ]
  },
  {
   "cell_type": "markdown",
   "metadata": {
    "id": "4afloZj529Ps"
   },
   "source": [
    "Build the matrix $S$"
   ]
  },
  {
   "cell_type": "code",
   "execution_count": 9,
   "metadata": {
    "id": "iml2ixlfd27M",
    "ExecuteTime": {
     "end_time": "2023-10-10T14:40:29.005671Z",
     "start_time": "2023-10-10T14:40:28.965265Z"
    }
   },
   "outputs": [
    {
     "data": {
      "text/plain": "array([[1.90914707, 0.        , 0.        , 0.        ],\n       [0.        , 0.75506992, 0.        , 0.        ],\n       [0.        , 0.        , 0.54360171, 0.        ],\n       [0.        , 0.        , 0.        , 0.20250587]])"
     },
     "execution_count": 9,
     "metadata": {},
     "output_type": "execute_result"
    }
   ],
   "source": [
    "S = np.diag(s) # ecco come creare un matrice quadrata con il vettore in input (s) sulla diagonale\n",
    "S"
   ]
  },
  {
   "cell_type": "markdown",
   "metadata": {
    "id": "efXGNZqD2-XD"
   },
   "source": [
    "Reconstruct the matrix $A$"
   ]
  },
  {
   "cell_type": "code",
   "execution_count": 10,
   "metadata": {
    "id": "RVDQYJNJd6ot",
    "ExecuteTime": {
     "end_time": "2023-10-10T14:40:50.326352Z",
     "start_time": "2023-10-10T14:40:50.301676Z"
    }
   },
   "outputs": [
    {
     "name": "stdout",
     "output_type": "stream",
     "text": [
      "err: 5.663776e-16\n"
     ]
    }
   ],
   "source": [
    "A_svd = np.matmul(U, np.matmul(S,VT))\n",
    "print('err: %e' % (la.norm(A - A_svd) / la.norm(A)))"
   ]
  },
  {
   "cell_type": "code",
   "execution_count": null,
   "outputs": [],
   "source": [
    "# anche qui l'errore è semplicemente la machine precision --> il computer non fa i calcoli perfettamente"
   ],
   "metadata": {
    "collapsed": false
   }
  }
 ],
 "metadata": {
  "colab": {
   "authorship_tag": "ABX9TyPGpgzn/OLfzMVbm125sj7o",
   "name": "basics_svd.ipynb",
   "provenance": []
  },
  "kernelspec": {
   "display_name": "Python 3 (ipykernel)",
   "language": "python",
   "name": "python3"
  },
  "language_info": {
   "codemirror_mode": {
    "name": "ipython",
    "version": 3
   },
   "file_extension": ".py",
   "mimetype": "text/x-python",
   "name": "python",
   "nbconvert_exporter": "python",
   "pygments_lexer": "ipython3",
   "version": "3.9.13"
  }
 },
 "nbformat": 4,
 "nbformat_minor": 1
}
