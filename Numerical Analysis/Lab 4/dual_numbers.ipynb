{
 "cells": [
  {
   "cell_type": "markdown",
   "metadata": {
    "id": "gMz-33_m3OVr"
   },
   "source": [
    "# Forward auto-diff through Dual Numbers"
   ]
  },
  {
   "cell_type": "code",
   "execution_count": 22,
   "metadata": {
    "id": "0yxN97Qqaz7O",
    "vscode": {
     "languageId": "python"
    },
    "ExecuteTime": {
     "end_time": "2023-10-31T18:52:20.562167Z",
     "start_time": "2023-10-31T18:52:20.547191Z"
    }
   },
   "outputs": [],
   "source": [
    "import numpy as np"
   ]
  },
  {
   "cell_type": "markdown",
   "metadata": {
    "id": "uJ7sptoJ3WoN"
   },
   "source": [
    "Let us define a class `DualNumber` that represents a dual number\n",
    "\n",
    "$$\n",
    "a + b \\epsilon \n",
    "$$\n",
    "\n",
    "where $a$ is the \"real\" part and $b$ is the \"dual\" part."
   ]
  },
  {
   "cell_type": "code",
   "execution_count": 23,
   "metadata": {
    "id": "dzKOGcA9obqm",
    "vscode": {
     "languageId": "python"
    },
    "ExecuteTime": {
     "end_time": "2023-10-31T18:52:20.957429Z",
     "start_time": "2023-10-31T18:52:20.942384Z"
    }
   },
   "outputs": [],
   "source": [
    "class DualNumber:\n",
    "  def __init__(self, real, dual):\n",
    "    # dual number: 'real' + 'dual' * eps\n",
    "    self.real = real\n",
    "    self.dual = dual\n",
    "\n",
    "  def __repr__(self):\n",
    "    return repr(self.real) + ' + ' + repr(self.dual) + ' epsilon'"
   ]
  },
  {
   "cell_type": "markdown",
   "metadata": {
    "id": "DAH2eIaHod_y"
   },
   "source": [
    "Implement the operator sum `__add__` for this class."
   ]
  },
  {
   "cell_type": "code",
   "execution_count": 24,
   "metadata": {
    "id": "JbgwZc9UzG7U",
    "vscode": {
     "languageId": "python"
    },
    "ExecuteTime": {
     "end_time": "2023-10-31T18:52:21.333757Z",
     "start_time": "2023-10-31T18:52:21.322679Z"
    }
   },
   "outputs": [],
   "source": [
    "class DualNumber:\n",
    "  def __init__(self, real, dual):\n",
    "    # dual number: 'real' + 'dual' * eps\n",
    "    self.real = real\n",
    "    self.dual = dual\n",
    "\n",
    "  def __repr__(self): # overload the print method\n",
    "    return repr(self.real) + ' + ' + repr(self.dual) + ' epsilon'\n",
    "\n",
    "  def __add__(self, other): # overload the '+' operator\n",
    "    return DualNumber(self.real + other.real, self.dual + other.dual)"
   ]
  },
  {
   "cell_type": "markdown",
   "metadata": {
    "id": "LgV_q13m3iD6"
   },
   "source": [
    "Define the dual numbers\n",
    "\n",
    "$$\n",
    "\\begin{split}\n",
    "x &= 1 + 2 \\epsilon \\\\\n",
    "y &= 1.5 + 3.1 \\epsilon \\\\\n",
    "\\end{split}\n",
    "$$\n",
    "\n",
    "Then, compute $z = x + y$ and display the result."
   ]
  },
  {
   "cell_type": "code",
   "execution_count": 25,
   "outputs": [
    {
     "name": "stdout",
     "output_type": "stream",
     "text": [
      "2.5 + 5.1 epsilon\n"
     ]
    }
   ],
   "source": [
    "x = DualNumber(1, 2)\n",
    "y = DualNumber(1.5, 3.1)\n",
    "\n",
    "z = x + y\n",
    "\n",
    "print(z)"
   ],
   "metadata": {
    "collapsed": false,
    "ExecuteTime": {
     "end_time": "2023-10-31T18:52:22.000732Z",
     "start_time": "2023-10-31T18:52:21.994788Z"
    }
   }
  },
  {
   "cell_type": "markdown",
   "metadata": {
    "id": "krnyTgBg4If-"
   },
   "source": [
    "Define now the dual number\n",
    "\n",
    "$$\n",
    "\\begin{split}\n",
    "x &= 1 + 2 \\epsilon \\\\\n",
    "\\end{split}\n",
    "$$\n",
    "\n",
    "and try to compute $w = x + 1$. What is going on?"
   ]
  },
  {
   "cell_type": "code",
   "execution_count": 26,
   "outputs": [
    {
     "ename": "AttributeError",
     "evalue": "'int' object has no attribute 'dual'",
     "output_type": "error",
     "traceback": [
      "\u001B[0;31m---------------------------------------------------------------------------\u001B[0m",
      "\u001B[0;31mAttributeError\u001B[0m                            Traceback (most recent call last)",
      "Cell \u001B[0;32mIn[26], line 1\u001B[0m\n\u001B[0;32m----> 1\u001B[0m w \u001B[38;5;241m=\u001B[39m \u001B[43mx\u001B[49m\u001B[43m \u001B[49m\u001B[38;5;241;43m+\u001B[39;49m\u001B[43m \u001B[49m\u001B[38;5;241;43m1\u001B[39;49m\n\u001B[1;32m      2\u001B[0m \u001B[38;5;28mprint\u001B[39m(w)\n",
      "Cell \u001B[0;32mIn[24], line 11\u001B[0m, in \u001B[0;36mDualNumber.__add__\u001B[0;34m(self, other)\u001B[0m\n\u001B[1;32m     10\u001B[0m \u001B[38;5;28;01mdef\u001B[39;00m \u001B[38;5;21m__add__\u001B[39m(\u001B[38;5;28mself\u001B[39m, other): \u001B[38;5;66;03m# overload the '+' operator\u001B[39;00m\n\u001B[0;32m---> 11\u001B[0m   \u001B[38;5;28;01mreturn\u001B[39;00m DualNumber(\u001B[38;5;28mself\u001B[39m\u001B[38;5;241m.\u001B[39mreal \u001B[38;5;241m+\u001B[39m other\u001B[38;5;241m.\u001B[39mreal, \u001B[38;5;28mself\u001B[39m\u001B[38;5;241m.\u001B[39mdual \u001B[38;5;241m+\u001B[39m \u001B[43mother\u001B[49m\u001B[38;5;241;43m.\u001B[39;49m\u001B[43mdual\u001B[49m)\n",
      "\u001B[0;31mAttributeError\u001B[0m: 'int' object has no attribute 'dual'"
     ]
    }
   ],
   "source": [
    "w = x + 1\n",
    "print(w)"
   ],
   "metadata": {
    "collapsed": false,
    "ExecuteTime": {
     "end_time": "2023-10-31T18:52:22.884340Z",
     "start_time": "2023-10-31T18:52:22.777309Z"
    }
   }
  },
  {
   "cell_type": "markdown",
   "metadata": {
    "id": "FvUatRPG4WAY"
   },
   "source": [
    "Try now to compute $w = 1 + x$ (in this specific order). What is going on this time?"
   ]
  },
  {
   "cell_type": "code",
   "execution_count": 27,
   "outputs": [
    {
     "ename": "TypeError",
     "evalue": "unsupported operand type(s) for +: 'int' and 'DualNumber'",
     "output_type": "error",
     "traceback": [
      "\u001B[0;31m---------------------------------------------------------------------------\u001B[0m",
      "\u001B[0;31mTypeError\u001B[0m                                 Traceback (most recent call last)",
      "Cell \u001B[0;32mIn[27], line 1\u001B[0m\n\u001B[0;32m----> 1\u001B[0m w \u001B[38;5;241m=\u001B[39m \u001B[38;5;241;43m1\u001B[39;49m\u001B[43m \u001B[49m\u001B[38;5;241;43m+\u001B[39;49m\u001B[43m \u001B[49m\u001B[43mx\u001B[49m\n\u001B[1;32m      2\u001B[0m \u001B[38;5;28mprint\u001B[39m(w)\n",
      "\u001B[0;31mTypeError\u001B[0m: unsupported operand type(s) for +: 'int' and 'DualNumber'"
     ]
    }
   ],
   "source": [
    "w = 1 + x\n",
    "print(w)"
   ],
   "metadata": {
    "collapsed": false,
    "ExecuteTime": {
     "end_time": "2023-10-31T18:52:23.424132Z",
     "start_time": "2023-10-31T18:52:23.389093Z"
    }
   }
  },
  {
   "cell_type": "markdown",
   "metadata": {
    "id": "baVLjN8Y4dIA"
   },
   "source": [
    "To overcome the above inconvenient, introduce a check (inside the definition of `__add__`) on the type of `other`. Moroever, define the operator `__radd__`, besides `__add__`."
   ]
  },
  {
   "cell_type": "code",
   "execution_count": 28,
   "metadata": {
    "id": "k1XrCZgx0B09",
    "vscode": {
     "languageId": "python"
    },
    "ExecuteTime": {
     "end_time": "2023-10-31T18:52:24.556765Z",
     "start_time": "2023-10-31T18:52:24.543583Z"
    }
   },
   "outputs": [],
   "source": [
    "class DualNumber:\n",
    "  def __init__(self, real, dual):\n",
    "    # dual number: 'real' + 'dual' * eps\n",
    "    self.real = real\n",
    "    self.dual = dual\n",
    "\n",
    "  def __repr__(self):\n",
    "    return repr(self.real) + ' + ' + repr(self.dual) + ' epsilon'\n",
    "\n",
    "  def __add__(self, other):\n",
    "    # implement the operation \"self + other\"\n",
    "    if isinstance(other, DualNumber):\n",
    "      return DualNumber(self.real + other.real, self.dual + other.dual)\n",
    "    else:\n",
    "      return DualNumber(self.real + other, self.dual)\n",
    "\n",
    "  def __radd__(self, other):\n",
    "    # implement the operation \"other + self\"\n",
    "    return self.__add__(other)"
   ]
  },
  {
   "cell_type": "markdown",
   "metadata": {
    "id": "cpeVP2-p4u5f"
   },
   "source": [
    "Try again to compute $w = x + 1$"
   ]
  },
  {
   "cell_type": "code",
   "execution_count": 29,
   "outputs": [
    {
     "name": "stdout",
     "output_type": "stream",
     "text": [
      "2 + 2 epsilon\n"
     ]
    }
   ],
   "source": [
    "x = DualNumber(1, 2)\n",
    "\n",
    "w = x + 1\n",
    "print(w)"
   ],
   "metadata": {
    "collapsed": false,
    "ExecuteTime": {
     "end_time": "2023-10-31T18:52:25.303697Z",
     "start_time": "2023-10-31T18:52:25.288082Z"
    }
   }
  },
  {
   "cell_type": "markdown",
   "metadata": {
    "id": "3o7AUeYt4yXN"
   },
   "source": [
    "Try again to compute $w = 1 + x$"
   ]
  },
  {
   "cell_type": "code",
   "execution_count": 30,
   "outputs": [
    {
     "name": "stdout",
     "output_type": "stream",
     "text": [
      "2 + 2 epsilon\n"
     ]
    }
   ],
   "source": [
    "w = 1 + x\n",
    "print(w)"
   ],
   "metadata": {
    "collapsed": false,
    "ExecuteTime": {
     "end_time": "2023-10-31T18:52:26.126403Z",
     "start_time": "2023-10-31T18:52:26.098461Z"
    }
   }
  },
  {
   "cell_type": "markdown",
   "metadata": {
    "id": "2gHd4VjU40O-"
   },
   "source": [
    "Now that we have learnt how to treat the operator \"+\", let us define the full class `DualNumber`, implementing also the operators \"-\", \"*\", \"/\", \"**\"."
   ]
  },
  {
   "cell_type": "code",
   "execution_count": 31,
   "metadata": {
    "id": "Os4HeXLoassa",
    "vscode": {
     "languageId": "python"
    },
    "ExecuteTime": {
     "end_time": "2023-10-31T18:52:27.007284Z",
     "start_time": "2023-10-31T18:52:26.950658Z"
    }
   },
   "outputs": [],
   "source": [
    "class DualNumber:\n",
    "  def __init__(self, real, dual):\n",
    "    # dual number: 'real' + 'dual' * eps\n",
    "    self.real = real\n",
    "    self.dual = dual\n",
    "\n",
    "  def __add__(self, other):\n",
    "    if isinstance(other, DualNumber):\n",
    "      return DualNumber(self.real + other.real, self.dual + other.dual)\n",
    "    else:\n",
    "      return DualNumber(self.real + other, self.dual)\n",
    "  \n",
    "  def __radd__(self, other):\n",
    "    # implement the operation \"other + self\"\n",
    "    return self.__add__(other)\n",
    "\n",
    "  def __sub__(self, other):\n",
    "    if isinstance(other, DualNumber):\n",
    "      return DualNumber(self.real - other.real, self.dual + other.dual)\n",
    "    else:\n",
    "      return DualNumber(self.real - other, self.dual)\n",
    "\n",
    "  def __rsub__(self, other):\n",
    "    # implement the operation \"other - self\"\n",
    "    return DualNumber(other, 0.0) - self\n",
    "\n",
    "  def __mul__(self, other):\n",
    "    # implement the operation \"self * other\"\n",
    "    if isinstance(other, DualNumber):\n",
    "      return DualNumber(self.real * other.real, self.real * other.dual + self.dual * other.real)\n",
    "    else:\n",
    "      return DualNumber(self.real * other, self.dual * other)\n",
    "\n",
    "  def __rmul__(self, other):\n",
    "    # implement the operation \"other * self\"\n",
    "    return self.__mul__(other)\n",
    "\n",
    "  def __truediv__(self, other):\n",
    "    # implement the operation \"self / other\"\n",
    "    if isinstance(other, DualNumber):\n",
    "      return DualNumber(self.real / other.real, (self.dual * other.real - self.real * other.dual) / (other.real ** 2))\n",
    "    else:\n",
    "      return (1 / other) * self\n",
    "\n",
    "  def __rtruediv__(self, other):\n",
    "    # implement the operation \"other / self\"\n",
    "    return DualNumber(other, 0.0).__truediv__(self)\n",
    "\n",
    "  def __pow__(self, other):\n",
    "    if other == 0:\n",
    "      return 1\n",
    "    return self * self.__pow__(other - 1)\n",
    "\n",
    "  def __repr__(self):\n",
    "    return repr(self.real) + ' + ' + repr(self.dual) + ' epsilon'\n"
   ]
  },
  {
   "cell_type": "markdown",
   "metadata": {
    "id": "gywkm3dK5OVe"
   },
   "source": [
    "Define the dual numbers\n",
    "\n",
    "$$\n",
    "\\begin{split}\n",
    "x &= 1 + 2 \\epsilon \\\\\n",
    "y &= 1.5 + 3.1 \\epsilon \\\\\n",
    "\\end{split}\n",
    "$$\n",
    "\n",
    "Then, compute the result of the following operations:\n",
    "- $x + y$\n",
    "- $x - y$\n",
    "- $x y$\n",
    "- $x / y$\n",
    "- $x + 1$\n",
    "- $2 x$\n",
    "- $x ^ 3$"
   ]
  },
  {
   "cell_type": "markdown",
   "metadata": {
    "id": "qI1dQB-A5bpr"
   },
   "source": [
    "Define now the functions `my_sin`, `my_cos` and `my_exp`, implementing the operations sinus, cosinus and exponential, respectively."
   ]
  },
  {
   "cell_type": "code",
   "execution_count": 32,
   "metadata": {
    "id": "ZaUQHJjem390",
    "vscode": {
     "languageId": "python"
    },
    "ExecuteTime": {
     "end_time": "2023-10-31T18:52:28.542668Z",
     "start_time": "2023-10-31T18:52:28.524930Z"
    }
   },
   "outputs": [],
   "source": [
    "def my_sin(x):\n",
    "  if isinstance(x, DualNumber):\n",
    "    return DualNumber(np.sin(x.real), x.dual * np.cos(x.real))\n",
    "  else:\n",
    "    return np.sin(x)\n",
    "\n",
    "def my_cos(x):\n",
    "  if isinstance(x, DualNumber):\n",
    "    return DualNumber(np.cos(x.real), -x.dual * np.sin(x.real))\n",
    "  else:\n",
    "    return np.cos(x)\n",
    "\n",
    "def my_exp(x): # TO DO\n",
    "  if isinstance(x, DualNumber):\n",
    "    return DualNumber(np.exp(x.real), np.exp(x.real) * x.dual)\n",
    "  else:\n",
    "    return np.exp(x)"
   ]
  },
  {
   "cell_type": "markdown",
   "metadata": {
    "id": "TStUre5B5vE6"
   },
   "source": [
    "Define the dual number\n",
    "\n",
    "$$\n",
    "\\begin{split}\n",
    "x &= 1 + 2.3 \\epsilon \\\\\n",
    "\\end{split}\n",
    "$$\n",
    "\n",
    "Then, compute the result of the following operations:\n",
    "- $\\sin(x)$\n",
    "- $\\exp(x)$"
   ]
  },
  {
   "cell_type": "markdown",
   "metadata": {
    "id": "j2YgP93T5zIp"
   },
   "source": [
    "Define now a function `auto_diff` that, given a function $f \\colon \\mathbb{R} \\to \\mathbb{R}$ and a real number $x$, returns $f'(x)$, exploiting the class `DualNumber`. The function must have the following signature:\n",
    "```python\n",
    "def auto_diff(f, x):\n",
    "  ...\n",
    "```\n"
   ]
  },
  {
   "cell_type": "code",
   "execution_count": 33,
   "outputs": [],
   "source": [
    "def auto_diff(f, x):\n",
    "  return f(DualNumber(x, 1)).dual"
   ],
   "metadata": {
    "collapsed": false,
    "ExecuteTime": {
     "end_time": "2023-10-31T18:52:30.783634Z",
     "start_time": "2023-10-31T18:52:30.770919Z"
    }
   }
  },
  {
   "cell_type": "markdown",
   "metadata": {
    "id": "hHvUj1_C8gyT"
   },
   "source": [
    "Consider the function \n",
    "\n",
    "$$\n",
    "f(x) = x \\sin(x^2)\n",
    "$$\n",
    "\n",
    "and use the function implemented above to compute $f'(x_0)$ for $x_0 = 0.13$. Compare the result with the analytical solution and compute the relative error.\n",
    "\n"
   ]
  },
  {
   "cell_type": "code",
   "execution_count": 34,
   "metadata": {
    "id": "yq0GEyzWJHj-",
    "vscode": {
     "languageId": "python"
    },
    "ExecuteTime": {
     "end_time": "2023-10-31T18:52:32.809602Z",
     "start_time": "2023-10-31T18:52:32.789212Z"
    }
   },
   "outputs": [
    {
     "data": {
      "text/plain": "0.050694368849202455"
     },
     "execution_count": 34,
     "metadata": {},
     "output_type": "execute_result"
    }
   ],
   "source": [
    "func = lambda x : x * my_sin(x ** 2)\n",
    "x0 = auto_diff(func, 0.13)\n",
    "x0 # il valore esatto è: 0.050694 --> ottimo risultato"
   ]
  },
  {
   "cell_type": "markdown",
   "metadata": {
    "id": "cMUEXu4d-aae"
   },
   "source": [
    "Repeat the previous point, this time by computing the numerical derivative (i.e. through finite differences)."
   ]
  },
  {
   "cell_type": "code",
   "execution_count": 35,
   "metadata": {
    "id": "S-V_TQBR9NNw",
    "vscode": {
     "languageId": "python"
    },
    "ExecuteTime": {
     "end_time": "2023-10-31T18:52:33.920919Z",
     "start_time": "2023-10-31T18:52:33.890498Z"
    }
   },
   "outputs": [
    {
     "name": "stdout",
     "output_type": "stream",
     "text": [
      "f'(x0) (FD): 0.050694\n"
     ]
    },
    {
     "name": "stderr",
     "output_type": "stream",
     "text": [
      "/var/folders/_v/q6j8tl0d2cb93y5h0_d24pgr0000gn/T/ipykernel_2281/2720248378.py:2: DeprecationWarning: scipy.misc.derivative is deprecated in SciPy v1.10.0; and will be completely removed in SciPy v1.12.0. You may consider using findiff: https://github.com/maroba/findiff or numdifftools: https://github.com/pbrod/numdifftools\n",
      "  df_FD = scipy.misc.derivative(func, 0.13, dx=1e-6) # funzione deprecata --> non importa\n"
     ]
    }
   ],
   "source": [
    "import scipy.misc\n",
    "df_FD = scipy.misc.derivative(func, 0.13, dx=1e-6) # funzione deprecata --> non importa\n",
    "print('f\\'(x0) (FD): %f' % df_FD)\n",
    "#print('err (FD): %e' % (abs(df_FD - df_ex)/abs(df_ex))) --> stima dell'errore, df_ex è il valore reale della derivata\n",
    "# il valore reale lo puoi calcolare manualmente, facendo la derivata della funzione in questione"
   ]
  },
  {
   "cell_type": "markdown",
   "metadata": {
    "id": "Is_OfXGT-v6W"
   },
   "source": [
    "Repeat the previous point, this time by computing the symbolic derivative (module `sympy` = **sym**bolic **py**thon)"
   ]
  },
  {
   "cell_type": "code",
   "execution_count": 36,
   "metadata": {
    "id": "eeqC5uGI9hg2",
    "vscode": {
     "languageId": "python"
    },
    "ExecuteTime": {
     "end_time": "2023-10-31T18:52:36.771860Z",
     "start_time": "2023-10-31T18:52:36.756123Z"
    }
   },
   "outputs": [
    {
     "name": "stdout",
     "output_type": "stream",
     "text": [
      "2*x**2*cos(x**2) + sin(x**2)\n",
      "f'(x0) (sy): 0.050694\n"
     ]
    }
   ],
   "source": [
    "import sympy\n",
    "x = sympy.symbols('x')\n",
    "func_sym = x * sympy.sin(x ** 2)\n",
    "\n",
    "dfunc_sym = sympy.diff(func_sym, x)\n",
    "print(dfunc_sym)\n",
    "df_sy = dfunc_sym.subs(x, 0.13)\n",
    "\n",
    "print('f\\'(x0) (sy): %f' % df_sy)\n",
    "#print('err (sy): %e' % (abs(df_sy - df_ex)/abs(df_ex))) --> stima dell'errore, df_ex è il valore reale della derivata\n",
    "\n",
    "# non riesco a installare questo package --> comunque il risultato che otteniamo lo stesso risultato"
   ]
  },
  {
   "cell_type": "markdown",
   "metadata": {
    "id": "MCxUDCRY-9aM"
   },
   "source": [
    "Evaluate and compare the execution time of the different approaches.\n",
    "To compute the execution time of a line of code, prepend IPython [magic command](https://ipython.readthedocs.io/en/stable/interactive/magics.html) `%timeit` to the line.\n",
    "\n",
    "Example:\n",
    "```python\n",
    "%timeit np.random.rand(1000)\n",
    "```"
   ]
  },
  {
   "cell_type": "code",
   "execution_count": 37,
   "outputs": [
    {
     "name": "stdout",
     "output_type": "stream",
     "text": [
      "4.6 µs ± 47.7 ns per loop (mean ± std. dev. of 7 runs, 100,000 loops each)\n"
     ]
    }
   ],
   "source": [
    "%timeit x0 = auto_diff(func, 0.13) # praticamente è come valutare la funzione derivata reale nel punto --> ottimale"
   ],
   "metadata": {
    "collapsed": false,
    "ExecuteTime": {
     "end_time": "2023-10-31T18:52:41.710377Z",
     "start_time": "2023-10-31T18:52:37.850284Z"
    }
   }
  },
  {
   "cell_type": "code",
   "execution_count": 38,
   "outputs": [
    {
     "name": "stderr",
     "output_type": "stream",
     "text": [
      "<magic-timeit>:1: DeprecationWarning: scipy.misc.derivative is deprecated in SciPy v1.10.0; and will be completely removed in SciPy v1.12.0. You may consider using findiff: https://github.com/maroba/findiff or numdifftools: https://github.com/pbrod/numdifftools\n"
     ]
    },
    {
     "name": "stdout",
     "output_type": "stream",
     "text": [
      "16 µs ± 155 ns per loop (mean ± std. dev. of 7 runs, 100,000 loops each)\n"
     ]
    }
   ],
   "source": [
    "%timeit x0 = scipy.misc.derivative(func, 0.13, dx=1e-6) # come vedi, questo approccio è molto più lento"
   ],
   "metadata": {
    "collapsed": false,
    "ExecuteTime": {
     "end_time": "2023-10-31T18:52:55.643744Z",
     "start_time": "2023-10-31T18:52:42.593856Z"
    }
   }
  },
  {
   "cell_type": "markdown",
   "metadata": {
    "id": "AAi_aPmvFqIZ"
   },
   "source": [
    "Consider now the function \n",
    "$$\n",
    "f(x) = \\frac{1}{x^5}\n",
    "$$\n",
    "compute the derivative in the point $x_0 = 10^{-2}$ with AD and FD and compare the results with the exact solution."
   ]
  },
  {
   "cell_type": "code",
   "execution_count": 39,
   "outputs": [
    {
     "name": "stdout",
     "output_type": "stream",
     "text": [
      "-4999999999999.999\n",
      "-5000000349996.567\n"
     ]
    },
    {
     "name": "stderr",
     "output_type": "stream",
     "text": [
      "/var/folders/_v/q6j8tl0d2cb93y5h0_d24pgr0000gn/T/ipykernel_2281/4238742683.py:5: DeprecationWarning: scipy.misc.derivative is deprecated in SciPy v1.10.0; and will be completely removed in SciPy v1.12.0. You may consider using findiff: https://github.com/maroba/findiff or numdifftools: https://github.com/pbrod/numdifftools\n",
      "  print(scipy.misc.derivative(func, point, dx=1e-6))\n"
     ]
    }
   ],
   "source": [
    "func = lambda x : 1 / (x ** 5)\n",
    "point = 10 ** -2\n",
    "\n",
    "print(auto_diff(func, point))\n",
    "print(scipy.misc.derivative(func, point, dx=1e-6))\n",
    "# exact solution: -5000000000000.000000"
   ],
   "metadata": {
    "collapsed": false,
    "ExecuteTime": {
     "end_time": "2023-10-31T18:53:00.018465Z",
     "start_time": "2023-10-31T18:53:00.006495Z"
    }
   }
  },
  {
   "cell_type": "code",
   "execution_count": null,
   "outputs": [],
   "source": [
    "# il metodo dei Dual Number è il migliore --> molto usato nel deep learning"
   ],
   "metadata": {
    "collapsed": false
   }
  }
 ],
 "metadata": {
  "colab": {
   "authorship_tag": "ABX9TyP4ZVumK1FyNdOJjcijcwVB",
   "collapsed_sections": [],
   "name": "dual_numbers.ipynb",
   "provenance": []
  },
  "kernelspec": {
   "name": "python3",
   "language": "python",
   "display_name": "Python 3 (ipykernel)"
  }
 },
 "nbformat": 4,
 "nbformat_minor": 0
}
