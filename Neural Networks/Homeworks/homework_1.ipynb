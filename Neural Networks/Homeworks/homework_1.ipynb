{
 "cells": [
  {
   "cell_type": "code",
   "execution_count": 22,
   "metadata": {},
   "outputs": [],
   "source": [
    "import numpy as np"
   ]
  },
  {
   "cell_type": "code",
   "execution_count": 23,
   "metadata": {},
   "outputs": [],
   "source": [
    "W = np.array([\n",
    "    [-1, -1, 1, -1, -1, 1, 1, 1, 1],\n",
    "    [1, -1, -1, 1, -1, -1, 1, 1, 1],\n",
    "    [1, 1, 1, -1, -1, 1, -1, -1, 1],\n",
    "    [1, 1, 1, 1, -1, -1, 1, -1, -1]\n",
    "])\n",
    "b = np.array([4, 4, 4, 4])\n",
    "U = np.array([-1, -1, -1, -1])\n",
    "c = np.array([4])\n",
    "\n",
    "activation = np.vectorize(lambda x: 0 if x < 1 else 1)"
   ]
  },
  {
   "cell_type": "code",
   "execution_count": 26,
   "metadata": {},
   "outputs": [
    {
     "data": {
      "text/plain": [
       "1"
      ]
     },
     "execution_count": 26,
     "metadata": {},
     "output_type": "execute_result"
    }
   ],
   "source": [
    "x = np.array([0, 0, 0, 0, 1, 1, 0, 1, 1])\n",
    "\n",
    "z = activation(W @ x + b)\n",
    "y = activation(U @ z + c)\n",
    "y[0]"
   ]
  }
 ],
 "metadata": {
  "kernelspec": {
   "display_name": "Python 3",
   "language": "python",
   "name": "python3"
  },
  "language_info": {
   "codemirror_mode": {
    "name": "ipython",
    "version": 3
   },
   "file_extension": ".py",
   "mimetype": "text/x-python",
   "name": "python",
   "nbconvert_exporter": "python",
   "pygments_lexer": "ipython3",
   "version": "3.9.18"
  }
 },
 "nbformat": 4,
 "nbformat_minor": 2
}
