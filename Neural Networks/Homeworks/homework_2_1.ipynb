{
 "cells": [
  {
   "cell_type": "code",
   "execution_count": 1,
   "metadata": {},
   "outputs": [],
   "source": [
    "import numpy as np"
   ]
  },
  {
   "cell_type": "code",
   "execution_count": 2,
   "metadata": {},
   "outputs": [],
   "source": [
    "def real_function(vec):\n",
    "    x1, x2, x3 = vec\n",
    "    if x1 == 1 and x2 == 1 and x3 == -1: return 1\n",
    "    if x2 == -1 and x3 == 1: return 1\n",
    "    return -1"
   ]
  },
  {
   "cell_type": "code",
   "execution_count": 3,
   "metadata": {},
   "outputs": [],
   "source": [
    "W1 = np.array([\n",
    "    [1, 1, -1],\n",
    "    [0, -1, 1]\n",
    "])\n",
    "b1 = np.array([-2, -1])\n",
    "W2 = np.array([[1, 1]])\n",
    "b2 = 1\n",
    "\n",
    "def get_sign(x):\n",
    "    if x == 0: return 0\n",
    "    if x > 0: return 1\n",
    "    return -1\n",
    "\n",
    "sign = np.vectorize(get_sign)"
   ]
  },
  {
   "cell_type": "code",
   "execution_count": 4,
   "metadata": {},
   "outputs": [],
   "source": [
    "def run_nn(X):\n",
    "    res = list()\n",
    "    for vec in X:\n",
    "        res.append(sign(W2 @ (sign(W1 @ vec + b1)) + b2))\n",
    "    return np.array(res)\n",
    "\n",
    "def run_function(X):\n",
    "    res = list()\n",
    "    for vec in X:\n",
    "        res.append(real_function(vec))\n",
    "    return np.array(res)\n",
    "\n",
    "def to_string(vec):\n",
    "    s = \"\"\n",
    "    for x in vec:\n",
    "        if x == 1:\n",
    "            s += \"T \"\n",
    "        elif x == -1:\n",
    "            s += \"F \"\n",
    "    return s"
   ]
  },
  {
   "cell_type": "code",
   "execution_count": 5,
   "metadata": {},
   "outputs": [
    {
     "name": "stdout",
     "output_type": "stream",
     "text": [
      "\n",
      "Truth Table\n",
      "\n",
      "F F F | F\n",
      "F F T | T\n",
      "F T F | F\n",
      "F T T | F\n",
      "T F F | F\n",
      "T F T | T\n",
      "T T F | T\n",
      "T T T | F\n",
      "\n",
      "Input-Output Table\n",
      "\n",
      "-1 -1 -1 | -1\n",
      "-1 -1 +1 | +1\n",
      "-1 +1 -1 | -1\n",
      "-1 +1 +1 | -1\n",
      "+1 -1 -1 | -1\n",
      "+1 -1 +1 | +1\n",
      "+1 +1 -1 | +1\n",
      "+1 +1 +1 | -1\n"
     ]
    }
   ],
   "source": [
    "X = np.array([\n",
    "    [-1, -1, -1],\n",
    "    [-1, -1, 1],\n",
    "    [-1, 1, -1],\n",
    "    [-1, 1, 1],\n",
    "    [1, -1, -1],\n",
    "    [1, -1, 1],\n",
    "    [1, 1, -1],\n",
    "    [1, 1, 1]\n",
    "])\n",
    "\n",
    "y1 = run_function(X)\n",
    "y2 = run_nn(X)[:, 0]\n",
    "\n",
    "print(\"\\nTruth Table\\n\")\n",
    "for i in range(len(X)):\n",
    "    print(to_string(X[i]), end=\"| \")\n",
    "    if y1[i] == 1: \n",
    "        print(\"T\")\n",
    "    if y1[i] == -1: \n",
    "        print(\"F\")\n",
    "\n",
    "\n",
    "print(\"\\nInput-Output Table\\n\")\n",
    "for i in range(len(X)):\n",
    "    for x in X[i]:\n",
    "        if x == 1:\n",
    "            print(\"+1 \", end=\"\")\n",
    "        else:\n",
    "            print(\"-1 \", end=\"\")\n",
    "    print(\"| \", end=\"\")\n",
    "    if y2[i] == 1:\n",
    "        print(\"+1\")\n",
    "    else:\n",
    "        print(\"-1\")"
   ]
  }
 ],
 "metadata": {
  "kernelspec": {
   "display_name": "Python 3",
   "language": "python",
   "name": "python3"
  },
  "language_info": {
   "codemirror_mode": {
    "name": "ipython",
    "version": 3
   },
   "file_extension": ".py",
   "mimetype": "text/x-python",
   "name": "python",
   "nbconvert_exporter": "python",
   "pygments_lexer": "ipython3",
   "version": "3.9.18"
  }
 },
 "nbformat": 4,
 "nbformat_minor": 2
}
