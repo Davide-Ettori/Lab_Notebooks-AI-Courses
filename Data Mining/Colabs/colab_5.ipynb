{
  "cells": [
    {
      "cell_type": "markdown",
      "metadata": {
        "id": "kPt5q27L5557"
      },
      "source": [
        "# CS483 - Colab 5\n",
        "## PageRank"
      ]
    },
    {
      "cell_type": "code",
      "execution_count": 1,
      "metadata": {
        "colab": {
          "base_uri": "https://localhost:8080/",
          "height": 192
        },
        "id": "yUHXnec92vdy",
        "outputId": "0149debe-2c76-4e0f-e8be-0dff35b431f5"
      },
      "outputs": [
        {
          "output_type": "stream",
          "name": "stdout",
          "text": [
            "Colab 5 Mascot\n"
          ]
        },
        {
          "output_type": "execute_result",
          "data": {
            "text/html": [
              "<img src=\"https://media.giphy.com/media/cCOVfFwDI3awdse5A3/giphy.gif\" width=\"150\"/>"
            ],
            "text/plain": [
              "<IPython.core.display.Image object>"
            ]
          },
          "metadata": {},
          "execution_count": 1
        }
      ],
      "source": [
        "from IPython.display import Image\n",
        "print(\"Colab 5 Mascot\")\n",
        "Image(url='https://media.giphy.com/media/cCOVfFwDI3awdse5A3/giphy.gif',width=150)"
      ]
    },
    {
      "cell_type": "markdown",
      "metadata": {
        "id": "p0-YhEpP_Ds-"
      },
      "source": [
        "### Setup"
      ]
    },
    {
      "cell_type": "markdown",
      "metadata": {
        "id": "PUUjUvXe3Sjk"
      },
      "source": [
        "First of all, we authenticate a Google Drive client to download the dataset we will be processing in this Colab.\n",
        "\n",
        "**Make sure to follow the interactive instructions.**"
      ]
    },
    {
      "cell_type": "code",
      "execution_count": 2,
      "metadata": {
        "id": "lRElWs_x2mGh",
        "colab": {
          "base_uri": "https://localhost:8080/"
        },
        "outputId": "eb3f9917-22e1-4c9d-ee5b-09f93fb91d03"
      },
      "outputs": [
        {
          "output_type": "stream",
          "name": "stderr",
          "text": [
            "WARNING:root:pydrive is deprecated and no longer maintained. We recommend that you migrate your projects to pydrive2, the maintained fork of pydrive\n"
          ]
        }
      ],
      "source": [
        "from pydrive.auth import GoogleAuth\n",
        "from pydrive.drive import GoogleDrive\n",
        "from google.colab import auth\n",
        "from oauth2client.client import GoogleCredentials\n",
        "\n",
        "# Authenticate and create the PyDrive client\n",
        "auth.authenticate_user()\n",
        "gauth = GoogleAuth()\n",
        "gauth.credentials = GoogleCredentials.get_application_default()\n",
        "drive = GoogleDrive(gauth)"
      ]
    },
    {
      "cell_type": "code",
      "execution_count": null,
      "metadata": {
        "id": "QHsFTGUy2n1c"
      },
      "outputs": [],
      "source": [
        "id='1EoolSK32_U74I4FeLox88iuUB_SUUYsI'\n",
        "downloaded = drive.CreateFile({'id': id})\n",
        "downloaded.GetContentFile('web-Stanford.txt')"
      ]
    },
    {
      "cell_type": "markdown",
      "metadata": {
        "id": "qwtlO4_m_LbQ"
      },
      "source": [
        "If you executed the cells above, you should be able to see the dataset we will use for this Colab under the \"Files\" tab on the left panel.\n",
        "\n",
        "Next, we import some of the common libraries needed for our task."
      ]
    },
    {
      "cell_type": "code",
      "execution_count": 3,
      "metadata": {
        "id": "twk-K-jilWK7"
      },
      "outputs": [],
      "source": [
        "import pandas as pd\n",
        "import numpy as np\n",
        "import matplotlib.pyplot as plt\n",
        "%matplotlib inline"
      ]
    },
    {
      "cell_type": "markdown",
      "metadata": {
        "id": "kAYRX2PMm0L6"
      },
      "source": [
        "### Data Loading"
      ]
    },
    {
      "cell_type": "markdown",
      "metadata": {
        "id": "GXzc_R6ArXtL"
      },
      "source": [
        "For this Colab we will be using [NetworkX](https://networkx.github.io), a Python package for the creation, manipulation, and study of the structure, dynamics, and functions of complex networks ([tutorial](https://networkx.org/documentation/stable/tutorial.html)).\n",
        "\n",
        "The dataset we will analyze is a snapshot of the Web Graph centered around [stanford.edu](https://stanford.edu), collected in 2002. Nodes represent pages from Stanford University (stanford.edu) and directed edges represent hyperlinks between them. [[More Info]](http://snap.stanford.edu/data/web-Stanford.html)"
      ]
    },
    {
      "cell_type": "code",
      "execution_count": 5,
      "metadata": {
        "id": "LPIadGxvLyyq"
      },
      "outputs": [],
      "source": [
        "import networkx as nx\n",
        "\n",
        "G = nx.read_edgelist('web-Stanford.txt', create_using=nx.DiGraph)"
      ]
    },
    {
      "cell_type": "markdown",
      "metadata": {
        "id": "zgVOrXN1EWNh"
      },
      "source": [
        "#### Function to print graph information"
      ]
    },
    {
      "cell_type": "code",
      "execution_count": 6,
      "metadata": {
        "id": "Smd1XvR7MLyE"
      },
      "outputs": [],
      "source": [
        "def print_graph_info(G, directed=True):\n",
        "  print(\"Number of nodes:\", len(G.nodes))\n",
        "  print(\"Number of edges:\", len(G.edges))\n",
        "  if directed:\n",
        "    print(\"Average in-degree:\", sum(dict(G.in_degree).values()) / len(G.nodes))\n",
        "    print(\"Average out-degree:\", sum(dict(G.out_degree).values()) / len(G.nodes))\n",
        "  else:\n",
        "    print(\"Average degree:\", sum(dict(G.degree).values()) / len(G.nodes))"
      ]
    },
    {
      "cell_type": "code",
      "execution_count": 7,
      "metadata": {
        "id": "gcZxbivxEcDT",
        "colab": {
          "base_uri": "https://localhost:8080/"
        },
        "outputId": "45bb48f2-ae54-4e40-855f-20c4a54d0776"
      },
      "outputs": [
        {
          "output_type": "stream",
          "name": "stdout",
          "text": [
            "Number of nodes: 281903\n",
            "Number of edges: 2312497\n",
            "Average in-degree: 8.203165627893283\n",
            "Average out-degree: 8.203165627893283\n"
          ]
        }
      ],
      "source": [
        "print_graph_info(G, True)"
      ]
    },
    {
      "cell_type": "markdown",
      "metadata": {
        "id": "vbmr23B2rJKR"
      },
      "source": [
        "### Your Task"
      ]
    },
    {
      "cell_type": "markdown",
      "metadata": {
        "id": "x15OQeyys1xd"
      },
      "source": [
        "To begin with, let's simplify our analysis by ignoring the dangling nodes and the disconnected components in the original graph.\n",
        "\n",
        "Use NetworkX to identify the **largest** weakly connected component in the ```G``` graph.  From now on, use this connected component for all the following tasks.\n",
        "\n",
        "Print its information."
      ]
    },
    {
      "cell_type": "code",
      "execution_count": 8,
      "metadata": {
        "id": "R9tDwRidIw-Q",
        "colab": {
          "base_uri": "https://localhost:8080/"
        },
        "outputId": "95eddef4-71a5-466e-82ee-9165f3ef3d9c"
      },
      "outputs": [
        {
          "output_type": "stream",
          "name": "stdout",
          "text": [
            "Number of nodes: 255265\n",
            "Number of edges: 2234572\n",
            "Average in-degree: 8.753930229369479\n",
            "Average out-degree: 8.753930229369479\n"
          ]
        }
      ],
      "source": [
        "''' 3 lines of code in total expected. '''\n",
        "\n",
        "largest_cc = max(nx.weakly_connected_components(G), key=len)\n",
        "subgraph = G.subgraph(largest_cc)\n",
        "print_graph_info(subgraph, True)"
      ]
    },
    {
      "cell_type": "markdown",
      "metadata": {
        "id": "mbYMNjBhuhK-"
      },
      "source": [
        "Compute the PageRank vector, using the default parameters in NetworkX: [https://networkx.github.io/documentation/stable/reference/algorithms/generated/networkx.algorithms.link_analysis.pagerank_alg.pagerank.html#networkx.algorithms.link_analysis.pagerank_alg.pageranky](https://networkx.github.io/documentation/stable/reference/algorithms/generated/networkx.algorithms.link_analysis.pagerank_alg.pagerank.html#networkx.algorithms.link_analysis.pagerank_alg.pagerank)"
      ]
    },
    {
      "cell_type": "code",
      "execution_count": 9,
      "metadata": {
        "id": "ll-rVh7KVoLA"
      },
      "outputs": [],
      "source": [
        "''' 1 line of code in total expected. '''\n",
        "\n",
        "page_rank = nx.pagerank(subgraph)"
      ]
    },
    {
      "cell_type": "markdown",
      "metadata": {
        "id": "xDx905Wk3FKf"
      },
      "source": [
        "In 1999, Barabási and Albert proposed an elegant mathematical model which can generate graphs with topological properties similar to the Web Graph (also called Scale-free Networks).\n",
        "\n",
        "If you complete the steps below, you should obtain some empirical evidence that the Random Graph model is inferior compared to the Barabási–Albert model when it comes to generating a graph resembling the World Wide Web!"
      ]
    },
    {
      "cell_type": "markdown",
      "metadata": {
        "id": "Ox3ksWEFyaP-"
      },
      "source": [
        "As such, we will use two different graph generator methods, and then we will test how well they approximate the Web Graph structure by means of comparing the respective PageRank vectors. [[NetworkX Graph generators]](https://networkx.github.io/documentation/stable/reference/generators.html#)\n",
        "\n",
        "Using the parameters ```seed = 1``` and ```directed=False``` where applicable, generate:\n",
        "\n",
        "\n",
        "1.   a random graph (with the fast method), setting ```n``` equal to the number of nodes in the original connected component, and ```p = 0.00008```\n",
        "2.   a Barabasi-Albert graph (with the standard method), setting ```n``` equal to the number of nodes in the original connected component, and finding the right ***integer*** value for ```m``` such as the resulting number of edges **approximates by excess** the number of edges in the original connected component\n",
        "\n",
        "and compute the PageRank vectors for both graphs. Print generated graph's information, if needed.\n"
      ]
    },
    {
      "cell_type": "code",
      "execution_count": 17,
      "metadata": {
        "id": "5Yd94CE9aPJP",
        "colab": {
          "base_uri": "https://localhost:8080/"
        },
        "outputId": "36bacc08-15ab-4769-8ed4-3ecc2daffbf8"
      },
      "outputs": [
        {
          "output_type": "stream",
          "name": "stdout",
          "text": [
            "Number of nodes: 255265\n",
            "Number of edges: 2606386\n",
            "Average degree: 20.421021291598926\n",
            "Number of nodes: 255265\n",
            "Number of edges: 2297304\n",
            "Average degree: 17.99936536540458\n"
          ]
        }
      ],
      "source": [
        "''' 6-8 lines of code in total expected but can differ based on your style.\n",
        "For sub-parts of the question (if any), creating different cells of code would be recommended.'''\n",
        "\n",
        "# 1. Random Graph\n",
        "random_graph = nx.fast_gnp_random_graph(n=len(subgraph.nodes), p=0.00008, seed=1, directed=False)\n",
        "random_graph_pagerank = nx.pagerank(random_graph)\n",
        "print_graph_info(random_graph, directed=False)\n",
        "\n",
        "\n",
        "# 2. Barabási-Albert Graph\n",
        "num_edges_original = len(subgraph.edges)\n",
        "m_value = 9\n",
        "barabasi_albert_graph = nx.barabasi_albert_graph(n=len(subgraph.nodes), m=m_value, seed=1)\n",
        "barabasi_albert_pagerank = nx.pagerank(barabasi_albert_graph)\n",
        "print_graph_info(barabasi_albert_graph, directed=False)\n"
      ]
    },
    {
      "cell_type": "markdown",
      "metadata": {
        "id": "BlxK42Pi01vN"
      },
      "source": [
        "Compare the PageRank vectors obtained on the generated graphs with the PageRank vector you computed on the original connected component.\n",
        "**Sort** the components of each vector by value, and use cosine similarity as similarity measure.\n",
        "\n",
        "Feel free to use any implementation of the cosine similarity available in third-party libraries, or implement your own with ```numpy```."
      ]
    },
    {
      "cell_type": "code",
      "execution_count": 18,
      "metadata": {
        "id": "1aUgyeNdUQxs",
        "colab": {
          "base_uri": "https://localhost:8080/"
        },
        "outputId": "bb439b73-4dcf-481f-e83b-a24e3388bb97"
      },
      "outputs": [
        {
          "output_type": "stream",
          "name": "stdout",
          "text": [
            "Cosine Similarity (Original vs. Random): 0.1039556470396439\n",
            "Cosine Similarity (Original vs. Barabási-Albert): 0.6488673660967244\n"
          ]
        }
      ],
      "source": [
        "''' 8-10 lines of code in total expected but can differ based on your style.\n",
        "For sub-parts of the question (if any), creating different cells of code would be recommended.'''\n",
        "\n",
        "import numpy as np\n",
        "from sklearn.metrics.pairwise import cosine_similarity\n",
        "\n",
        "# Sort PageRank vectors by value\n",
        "original_pagerank_sorted = sorted(page_rank.items(), key=lambda item: item[1], reverse=True)\n",
        "random_pagerank_sorted = sorted(random_graph_pagerank.items(), key=lambda item: item[1], reverse=True)\n",
        "barabasi_pagerank_sorted = sorted(barabasi_albert_pagerank.items(), key=lambda item: item[1], reverse=True)\n",
        "\n",
        "# Extract PageRank values\n",
        "original_values = [item[1] for item in original_pagerank_sorted]\n",
        "random_values = [item[1] for item in random_pagerank_sorted]\n",
        "barabasi_values = [item[1] for item in barabasi_pagerank_sorted]\n",
        "\n",
        "\n",
        "# Calculate cosine similarity\n",
        "original_random_similarity = cosine_similarity([original_values], [random_values])[0][0]\n",
        "original_barabasi_similarity = cosine_similarity([original_values], [barabasi_values])[0][0]\n",
        "\n",
        "print(\"Cosine Similarity (Original vs. Random):\", original_random_similarity)\n",
        "print(\"Cosine Similarity (Original vs. Barabási-Albert):\", original_barabasi_similarity)"
      ]
    },
    {
      "cell_type": "markdown",
      "metadata": {
        "id": "SIrXJyVNP2AI"
      },
      "source": [
        "Once you have working code for each cell above, **head over to Gradescope, read carefully the questions, and submit your solution for this Colab**!"
      ]
    }
  ],
  "metadata": {
    "colab": {
      "machine_shape": "hm",
      "provenance": []
    },
    "kernelspec": {
      "display_name": "Python 3",
      "name": "python3"
    }
  },
  "nbformat": 4,
  "nbformat_minor": 0
}