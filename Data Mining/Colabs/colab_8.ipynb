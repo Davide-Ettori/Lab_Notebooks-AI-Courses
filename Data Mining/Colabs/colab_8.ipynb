{
  "cells": [
    {
      "cell_type": "markdown",
      "metadata": {
        "id": "kPt5q27L5557"
      },
      "source": [
        "# CS483 - Colab 8\n",
        "## Bloom Filters"
      ]
    },
    {
      "cell_type": "markdown",
      "metadata": {
        "id": "p0-YhEpP_Ds-"
      },
      "source": [
        "### Setup"
      ]
    },
    {
      "cell_type": "markdown",
      "metadata": {
        "id": "Zsj5WYpR9QId"
      },
      "source": [
        "In this Colab, we need to install a [bloom_filter](https://github.com/hiway/python-bloom-filter), a Python library which offers an implementation of Bloom filters.  Run the cell below!"
      ]
    },
    {
      "cell_type": "code",
      "execution_count": 1,
      "metadata": {
        "colab": {
          "base_uri": "https://localhost:8080/"
        },
        "id": "k-qHai2252mI",
        "outputId": "85e27fd8-4bfe-485d-bdf7-104fec5725b6"
      },
      "outputs": [
        {
          "output_type": "stream",
          "name": "stdout",
          "text": [
            "Collecting bloom_filter\n",
            "  Downloading bloom_filter-1.3.3-py3-none-any.whl.metadata (1.7 kB)\n",
            "Downloading bloom_filter-1.3.3-py3-none-any.whl (8.1 kB)\n",
            "Installing collected packages: bloom_filter\n",
            "Successfully installed bloom_filter-1.3.3\n"
          ]
        }
      ],
      "source": [
        "!pip install bloom_filter"
      ]
    },
    {
      "cell_type": "markdown",
      "metadata": {
        "id": "kAYRX2PMm0L6"
      },
      "source": [
        "### Data Loading"
      ]
    },
    {
      "cell_type": "markdown",
      "metadata": {
        "id": "XO_IcxgquzhI"
      },
      "source": [
        "From the NLTK (Natural Language ToolKit) library, we import a large list of English dictionary words, commonly used by the very first spell-checking programs in Unix-like operating systems."
      ]
    },
    {
      "cell_type": "code",
      "execution_count": 2,
      "metadata": {
        "colab": {
          "base_uri": "https://localhost:8080/"
        },
        "id": "-Xz3f79crEEb",
        "outputId": "035e8a11-2a06-40e8-cfac-7df4ca89e8ad"
      },
      "outputs": [
        {
          "output_type": "stream",
          "name": "stderr",
          "text": [
            "[nltk_data] Downloading package words to /root/nltk_data...\n",
            "[nltk_data]   Unzipping corpora/words.zip.\n"
          ]
        },
        {
          "output_type": "stream",
          "name": "stdout",
          "text": [
            "Dictionary length: 236736\n",
            "['A', 'a', 'aa', 'aal', 'aalii', 'aam', 'Aani', 'aardvark', 'aardwolf', 'Aaron', 'Aaronic', 'Aaronical', 'Aaronite', 'Aaronitic', 'Aaru']\n"
          ]
        }
      ],
      "source": [
        "import nltk\n",
        "nltk.download('words')\n",
        "\n",
        "from nltk.corpus import words\n",
        "word_list = words.words()\n",
        "print(f'Dictionary length: {len(word_list)}')\n",
        "print(word_list[:15])"
      ]
    },
    {
      "cell_type": "markdown",
      "metadata": {
        "id": "csbQXPUFUMob"
      },
      "source": [
        "Then we load another dataset from the NLTK Corpora collection: ```movie_reviews```.\n",
        "\n",
        "The movie reviews are categorized between *positive* and *negative*, so we construct a list of words (usually called **bag of words**) for each category."
      ]
    },
    {
      "cell_type": "code",
      "execution_count": 3,
      "metadata": {
        "colab": {
          "base_uri": "https://localhost:8080/"
        },
        "id": "HwgRhMT1UNUt",
        "outputId": "ccc081de-80eb-434c-8062-0d13914d00e7"
      },
      "outputs": [
        {
          "output_type": "stream",
          "name": "stderr",
          "text": [
            "[nltk_data] Downloading package movie_reviews to /root/nltk_data...\n",
            "[nltk_data]   Unzipping corpora/movie_reviews.zip.\n"
          ]
        }
      ],
      "source": [
        "from nltk.corpus import movie_reviews\n",
        "nltk.download('movie_reviews')\n",
        "\n",
        "neg_reviews = []\n",
        "pos_reviews = []\n",
        "\n",
        "for fileid in movie_reviews.fileids('neg'):\n",
        "  neg_reviews.extend(movie_reviews.words(fileid))\n",
        "for fileid in movie_reviews.fileids('pos'):\n",
        "  pos_reviews.extend(movie_reviews.words(fileid))"
      ]
    },
    {
      "cell_type": "markdown",
      "metadata": {
        "id": "CRaF2A_j_nC7"
      },
      "source": [
        "### Your task"
      ]
    },
    {
      "cell_type": "markdown",
      "metadata": {
        "id": "mrHJptH3Tb-3"
      },
      "source": [
        "In this Colab, you will develop a very simplistic spell-checker.  By no means you should think of using it for a real-world use case, but it is an interesting exercise to highlight the strenghts and weaknesses of Bloom Filters!"
      ]
    },
    {
      "cell_type": "code",
      "execution_count": 4,
      "metadata": {
        "id": "bK3WyXaPsa5q"
      },
      "outputs": [],
      "source": [
        "from bloom_filter import BloomFilter\n",
        "\n",
        "word_filter = BloomFilter(max_elements=236736)\n",
        "\n",
        "for word in word_list:\n",
        "  word_filter.add(word)\n",
        "\n",
        "word_set = set(word_list)"
      ]
    },
    {
      "cell_type": "markdown",
      "metadata": {
        "id": "Ddqg0odiaSRg"
      },
      "source": [
        "If you executed the cell above, you now have 3 different variables in your scope:\n",
        "\n",
        "1.   ```word_list```, a Python list containing the English dictionary (in case insensitive order)\n",
        "2.   ```word_filter```, a Bloom filter where we have already added all the words in the English dictionary\n",
        "3.   ```word_set```, a [Python set](https://docs.python.org/3.6/library/stdtypes.html#set-types-set-frozenset) built from the same list of words in the English dictionary\n",
        "\n",
        "Let's inspect the size of each datastructure using the [getsizeof()](https://docs.python.org/3/library/sys.html#sys.getsizeof) method!\n",
        "\n"
      ]
    },
    {
      "cell_type": "code",
      "execution_count": 5,
      "metadata": {
        "colab": {
          "base_uri": "https://localhost:8080/"
        },
        "id": "FVLxu20maRLf",
        "outputId": "63f9045e-fa35-42b9-c4db-39dfe3c23eda"
      },
      "outputs": [
        {
          "output_type": "stream",
          "name": "stdout",
          "text": [
            "Size of word_list (in bytes): 2055512\n",
            "Size of word_set (in bytes): 8388824\n",
            "Size of word_filter (in bytes): 48\n"
          ]
        }
      ],
      "source": [
        "# YOUR CODE HERE\n",
        "\n",
        "from sys import getsizeof\n",
        "\n",
        "print(f'Size of word_list (in bytes): {getsizeof(word_list)}')\n",
        "print(f'Size of word_set (in bytes): {getsizeof(word_set)}')\n",
        "print(f'Size of word_filter (in bytes): {getsizeof(word_filter)}')"
      ]
    },
    {
      "cell_type": "markdown",
      "metadata": {
        "id": "WbQzd4czlT3h"
      },
      "source": [
        "You should have noticed how efficient is the Bloom filter in terms of memory footprint!\n",
        "\n",
        "Now let's find out how fast is the main operation for which we construct Bloom filters: *membership testing*. To do so, we will use the ```%timeit``` IPython magic command, which times the repeated execution of a single Python statement."
      ]
    },
    {
      "cell_type": "code",
      "execution_count": 6,
      "metadata": {
        "colab": {
          "base_uri": "https://localhost:8080/"
        },
        "id": "xq7I6kJfwXy5",
        "outputId": "a1d7aca7-b098-41df-866e-f1aff3109d0d"
      },
      "outputs": [
        {
          "output_type": "stream",
          "name": "stdout",
          "text": [
            "881 µs ± 21 µs per loop (mean ± std. dev. of 3 runs, 1000 loops each)\n",
            "63 ns ± 5.04 ns per loop (mean ± std. dev. of 3 runs, 10000000 loops each)\n",
            "13.6 µs ± 64.5 ns per loop (mean ± std. dev. of 3 runs, 100000 loops each)\n"
          ]
        }
      ],
      "source": [
        "# YOUR CODE HERE\n",
        "\n",
        "%timeit -r 3 \"California\" in word_list\n",
        "%timeit -r 3 \"California\" in word_set\n",
        "%timeit -r 3 \"California\" in word_filter"
      ]
    },
    {
      "cell_type": "markdown",
      "metadata": {
        "id": "Qq2LVgEVnI_R"
      },
      "source": [
        "Notice the performance gap between linear search on a list, multiple hash computations in a Bloom filter, and a single hash computation in a native Python ```Set()```.\n",
        "\n",
        "We now have all the building blocks required to build our spell-checker, and we understand the performance tradeoffs of each datastructure we chose. Write a function that takes as arguments (1) a list of words, and (2) any of the 3 dictionary datastructures we constructed. The function must return the number of words which **do not appear** in the dictionary."
      ]
    },
    {
      "cell_type": "code",
      "execution_count": 7,
      "metadata": {
        "colab": {
          "base_uri": "https://localhost:8080/"
        },
        "id": "lTT-6rQcnibH",
        "outputId": "cb11384d-f5ed-4cf1-af1e-b2e3850a0ff9"
      },
      "outputs": [
        {
          "output_type": "stream",
          "name": "stdout",
          "text": [
            "Number of missing words in negative reviews (filter): 193802\n",
            "Number of missing words in positive reviews (filter): 214349\n",
            "\n",
            "Number of missing words in negative reviews (set): 210258\n",
            "Number of missing words in positive reviews (set): 232436\n"
          ]
        }
      ],
      "source": [
        "# YOUR CODE HERE\n",
        "\n",
        "def count_missing_words(word_list_to_check, dictionary_data_structure):\n",
        "  missing_word_count = 0\n",
        "  for word in word_list_to_check:\n",
        "    if word in dictionary_data_structure:\n",
        "      continue\n",
        "    missing_word_count += 1\n",
        "  return missing_word_count\n",
        "\n",
        "print(f\"Number of missing words in negative reviews (filter): {count_missing_words(neg_reviews, word_filter)}\")\n",
        "print(f\"Number of missing words in positive reviews (filter): {count_missing_words(pos_reviews, word_filter)}\")\n",
        "print()\n",
        "print(f\"Number of missing words in negative reviews (set): {count_missing_words(neg_reviews, word_set)}\")\n",
        "print(f\"Number of missing words in positive reviews (set): {count_missing_words(pos_reviews, word_set)}\")"
      ]
    },
    {
      "cell_type": "markdown",
      "metadata": {
        "id": "SIrXJyVNP2AI"
      },
      "source": [
        "Once you have working code for each cell above, **head over to Gradescope, read carefully the questions, and submit your solution for this Colab**!"
      ]
    },
    {
      "cell_type": "code",
      "execution_count": null,
      "metadata": {
        "id": "oPxLGYO31W4W"
      },
      "outputs": [],
      "source": []
    }
  ],
  "metadata": {
    "colab": {
      "provenance": []
    },
    "kernelspec": {
      "display_name": "Python 3",
      "name": "python3"
    }
  },
  "nbformat": 4,
  "nbformat_minor": 0
}