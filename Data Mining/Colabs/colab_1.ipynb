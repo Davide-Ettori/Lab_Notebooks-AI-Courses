{
  "nbformat": 4,
  "nbformat_minor": 0,
  "metadata": {
    "colab": {
      "provenance": [],
      "toc_visible": true
    },
    "kernelspec": {
      "name": "python3",
      "display_name": "Python 3"
    },
    "gpuClass": "standard"
  },
  "cells": [
    {
      "cell_type": "markdown",
      "metadata": {
        "id": "kPt5q27L5557"
      },
      "source": [
        "# CS483 - Colab 1\n",
        "## Word Count in Spark"
      ]
    },
    {
      "cell_type": "markdown",
      "metadata": {
        "id": "p0-YhEpP_Ds-"
      },
      "source": [
        "### Setup"
      ]
    },
    {
      "cell_type": "markdown",
      "metadata": {
        "id": "Zsj5WYpR9QId"
      },
      "source": [
        "Let's set up Spark on your Colab environment.  Run the cell below!"
      ]
    },
    {
      "cell_type": "code",
      "metadata": {
        "id": "k-qHai2252mI",
        "colab": {
          "base_uri": "https://localhost:8080/"
        },
        "outputId": "bdd9deec-e3f3-40fb-d633-d7a35ed19f3f"
      },
      "source": [
        "!pip install pyspark\n",
        "!pip install -U -q PyDrive\n",
        "!apt install openjdk-8-jdk-headless -qq\n",
        "import os\n",
        "os.environ[\"JAVA_HOME\"] = \"/usr/lib/jvm/java-8-openjdk-amd64\""
      ],
      "execution_count": 1,
      "outputs": [
        {
          "output_type": "stream",
          "name": "stdout",
          "text": [
            "Collecting pyspark\n",
            "  Downloading pyspark-3.5.2.tar.gz (317.3 MB)\n",
            "\u001b[2K     \u001b[90m━━━━━━━━━━━━━━━━━━━━━━━━━━━━━━━━━━━━━━━━\u001b[0m \u001b[32m317.3/317.3 MB\u001b[0m \u001b[31m2.7 MB/s\u001b[0m eta \u001b[36m0:00:00\u001b[0m\n",
            "\u001b[?25h  Preparing metadata (setup.py) ... \u001b[?25l\u001b[?25hdone\n",
            "Requirement already satisfied: py4j==0.10.9.7 in /usr/local/lib/python3.10/dist-packages (from pyspark) (0.10.9.7)\n",
            "Building wheels for collected packages: pyspark\n",
            "  Building wheel for pyspark (setup.py) ... \u001b[?25l\u001b[?25hdone\n",
            "  Created wheel for pyspark: filename=pyspark-3.5.2-py2.py3-none-any.whl size=317812365 sha256=4bf0bf5b62cde78604c1d3ae7183d573e28d8bb17da82e5e1435a373470f1f7a\n",
            "  Stored in directory: /root/.cache/pip/wheels/34/34/bd/03944534c44b677cd5859f248090daa9fb27b3c8f8e5f49574\n",
            "Successfully built pyspark\n",
            "Installing collected packages: pyspark\n",
            "Successfully installed pyspark-3.5.2\n",
            "The following additional packages will be installed:\n",
            "  libxtst6 openjdk-8-jre-headless\n",
            "Suggested packages:\n",
            "  openjdk-8-demo openjdk-8-source libnss-mdns fonts-dejavu-extra fonts-nanum fonts-ipafont-gothic\n",
            "  fonts-ipafont-mincho fonts-wqy-microhei fonts-wqy-zenhei fonts-indic\n",
            "The following NEW packages will be installed:\n",
            "  libxtst6 openjdk-8-jdk-headless openjdk-8-jre-headless\n",
            "0 upgraded, 3 newly installed, 0 to remove and 49 not upgraded.\n",
            "Need to get 39.6 MB of archives.\n",
            "After this operation, 144 MB of additional disk space will be used.\n",
            "Selecting previously unselected package libxtst6:amd64.\n",
            "(Reading database ... 123597 files and directories currently installed.)\n",
            "Preparing to unpack .../libxtst6_2%3a1.2.3-1build4_amd64.deb ...\n",
            "Unpacking libxtst6:amd64 (2:1.2.3-1build4) ...\n",
            "Selecting previously unselected package openjdk-8-jre-headless:amd64.\n",
            "Preparing to unpack .../openjdk-8-jre-headless_8u422-b05-1~22.04_amd64.deb ...\n",
            "Unpacking openjdk-8-jre-headless:amd64 (8u422-b05-1~22.04) ...\n",
            "Selecting previously unselected package openjdk-8-jdk-headless:amd64.\n",
            "Preparing to unpack .../openjdk-8-jdk-headless_8u422-b05-1~22.04_amd64.deb ...\n",
            "Unpacking openjdk-8-jdk-headless:amd64 (8u422-b05-1~22.04) ...\n",
            "Setting up libxtst6:amd64 (2:1.2.3-1build4) ...\n",
            "Setting up openjdk-8-jre-headless:amd64 (8u422-b05-1~22.04) ...\n",
            "update-alternatives: using /usr/lib/jvm/java-8-openjdk-amd64/jre/bin/orbd to provide /usr/bin/orbd (orbd) in auto mode\n",
            "update-alternatives: using /usr/lib/jvm/java-8-openjdk-amd64/jre/bin/servertool to provide /usr/bin/servertool (servertool) in auto mode\n",
            "update-alternatives: using /usr/lib/jvm/java-8-openjdk-amd64/jre/bin/tnameserv to provide /usr/bin/tnameserv (tnameserv) in auto mode\n",
            "Setting up openjdk-8-jdk-headless:amd64 (8u422-b05-1~22.04) ...\n",
            "update-alternatives: using /usr/lib/jvm/java-8-openjdk-amd64/bin/clhsdb to provide /usr/bin/clhsdb (clhsdb) in auto mode\n",
            "update-alternatives: using /usr/lib/jvm/java-8-openjdk-amd64/bin/extcheck to provide /usr/bin/extcheck (extcheck) in auto mode\n",
            "update-alternatives: using /usr/lib/jvm/java-8-openjdk-amd64/bin/hsdb to provide /usr/bin/hsdb (hsdb) in auto mode\n",
            "update-alternatives: using /usr/lib/jvm/java-8-openjdk-amd64/bin/idlj to provide /usr/bin/idlj (idlj) in auto mode\n",
            "update-alternatives: using /usr/lib/jvm/java-8-openjdk-amd64/bin/javah to provide /usr/bin/javah (javah) in auto mode\n",
            "update-alternatives: using /usr/lib/jvm/java-8-openjdk-amd64/bin/jhat to provide /usr/bin/jhat (jhat) in auto mode\n",
            "update-alternatives: using /usr/lib/jvm/java-8-openjdk-amd64/bin/jsadebugd to provide /usr/bin/jsadebugd (jsadebugd) in auto mode\n",
            "update-alternatives: using /usr/lib/jvm/java-8-openjdk-amd64/bin/native2ascii to provide /usr/bin/native2ascii (native2ascii) in auto mode\n",
            "update-alternatives: using /usr/lib/jvm/java-8-openjdk-amd64/bin/schemagen to provide /usr/bin/schemagen (schemagen) in auto mode\n",
            "update-alternatives: using /usr/lib/jvm/java-8-openjdk-amd64/bin/wsgen to provide /usr/bin/wsgen (wsgen) in auto mode\n",
            "update-alternatives: using /usr/lib/jvm/java-8-openjdk-amd64/bin/wsimport to provide /usr/bin/wsimport (wsimport) in auto mode\n",
            "update-alternatives: using /usr/lib/jvm/java-8-openjdk-amd64/bin/xjc to provide /usr/bin/xjc (xjc) in auto mode\n",
            "Processing triggers for libc-bin (2.35-0ubuntu3.4) ...\n",
            "/sbin/ldconfig.real: /usr/local/lib/libur_adapter_level_zero.so.0 is not a symbolic link\n",
            "\n",
            "/sbin/ldconfig.real: /usr/local/lib/libtbbbind_2_0.so.3 is not a symbolic link\n",
            "\n",
            "/sbin/ldconfig.real: /usr/local/lib/libtbbmalloc_proxy.so.2 is not a symbolic link\n",
            "\n",
            "/sbin/ldconfig.real: /usr/local/lib/libur_loader.so.0 is not a symbolic link\n",
            "\n",
            "/sbin/ldconfig.real: /usr/local/lib/libtbb.so.12 is not a symbolic link\n",
            "\n",
            "/sbin/ldconfig.real: /usr/local/lib/libur_adapter_opencl.so.0 is not a symbolic link\n",
            "\n",
            "/sbin/ldconfig.real: /usr/local/lib/libtbbbind.so.3 is not a symbolic link\n",
            "\n",
            "/sbin/ldconfig.real: /usr/local/lib/libtbbmalloc.so.2 is not a symbolic link\n",
            "\n",
            "/sbin/ldconfig.real: /usr/local/lib/libtbbbind_2_5.so.3 is not a symbolic link\n",
            "\n"
          ]
        }
      ]
    },
    {
      "cell_type": "markdown",
      "metadata": {
        "id": "-CJ71AKe91eh"
      },
      "source": [
        "Now we authenticate a Google Drive client to download the file we will be processing in our Spark job.\n",
        "\n",
        "**Make sure to follow the interactive instructions.**"
      ]
    },
    {
      "cell_type": "code",
      "metadata": {
        "id": "5K93ABEy9Zlo",
        "colab": {
          "base_uri": "https://localhost:8080/"
        },
        "outputId": "69c2c2b1-9a4f-40b6-8550-fe84226a5dc7"
      },
      "source": [
        "from pydrive.auth import GoogleAuth\n",
        "from pydrive.drive import GoogleDrive\n",
        "from google.colab import auth\n",
        "from oauth2client.client import GoogleCredentials\n",
        "\n",
        "# Authenticate and create the PyDrive client\n",
        "auth.authenticate_user()\n",
        "gauth = GoogleAuth()\n",
        "gauth.credentials = GoogleCredentials.get_application_default()\n",
        "drive = GoogleDrive(gauth)"
      ],
      "execution_count": 2,
      "outputs": [
        {
          "output_type": "stream",
          "name": "stderr",
          "text": [
            "WARNING:root:pydrive is deprecated and no longer maintained. We recommend that you migrate your projects to pydrive2, the maintained fork of pydrive\n"
          ]
        }
      ]
    },
    {
      "cell_type": "code",
      "metadata": {
        "id": "0orRvrc1-545"
      },
      "source": [
        "id='1SE6k_0YukzGd5wK-E4i6mG83nydlfvSa'\n",
        "downloaded = drive.CreateFile({'id': id})\n",
        "downloaded.GetContentFile('pg100.txt')"
      ],
      "execution_count": 3,
      "outputs": []
    },
    {
      "cell_type": "markdown",
      "metadata": {
        "id": "qwtlO4_m_LbQ"
      },
      "source": [
        "If you executed the cells above, you should be able to see the file *pg100.txt* under the \"Files\" tab on the left panel."
      ]
    },
    {
      "cell_type": "code",
      "source": [
        "from google.colab import drive\n",
        "drive.mount('/content/drive')"
      ],
      "metadata": {
        "colab": {
          "base_uri": "https://localhost:8080/"
        },
        "id": "u9tjDkV8fAJw",
        "outputId": "9e91ea19-9e4e-4e5d-9297-90c3b448489e"
      },
      "execution_count": 4,
      "outputs": [
        {
          "output_type": "stream",
          "name": "stdout",
          "text": [
            "Mounted at /content/drive\n"
          ]
        }
      ]
    },
    {
      "cell_type": "markdown",
      "metadata": {
        "id": "CRaF2A_j_nC7"
      },
      "source": [
        "### Your task"
      ]
    },
    {
      "cell_type": "markdown",
      "metadata": {
        "id": "ebLNUxP0_8x3"
      },
      "source": [
        "If you successfully run the setup stage, you are ready to work on the *pg100.txt* file which contains a copy of the complete works of Shakespeare.\n",
        "\n",
        "Write a Spark application which outputs the number of words that start with each letter. This means that for every letter, we want to count the total number of (non-unique) words that start with a specific letter.\n",
        "\n",
        "In your implementation, **ignore the letter case**, i.e., consider all words as lower case. Also, you can ignore all words that **start** with a non-alphabetic character. You should output word counts for the **entire document**, inclusive of the title, author, and the main texts. If you encounter words broken as a result of new lines, e.g. \"pro-ject\" where the segment after the dash sign is on a new line, no special processing is needed and you can safely consider it as two words.\n",
        "\n",
        "Your outputs will be graded on a range -- if your differences from the ground-truths are within an error threshold of 5, you'll be considered correct."
      ]
    },
    {
      "cell_type": "code",
      "metadata": {
        "id": "xu-e7Ph2_ruG"
      },
      "source": [
        "from pyspark.sql import *\n",
        "from pyspark.sql.functions import *\n",
        "from pyspark import SparkContext\n",
        "import pandas as pd\n",
        "\n",
        "# create the Spark Session\n",
        "spark = SparkSession.builder.getOrCreate()\n",
        "\n",
        "# create the Spark Context\n",
        "sc = spark.sparkContext"
      ],
      "execution_count": 5,
      "outputs": []
    },
    {
      "cell_type": "code",
      "source": [
        "df = spark.read.text(\"pg100.txt\")"
      ],
      "metadata": {
        "id": "am3OAjtkTz12"
      },
      "execution_count": 10,
      "outputs": []
    },
    {
      "cell_type": "code",
      "source": [
        "df.show(truncate=False, n=100)"
      ],
      "metadata": {
        "colab": {
          "base_uri": "https://localhost:8080/"
        },
        "id": "hpnHgLqNUo5_",
        "outputId": "77332890-f0d4-4f02-8028-d52e19eb9749"
      },
      "execution_count": 11,
      "outputs": [
        {
          "output_type": "stream",
          "name": "stdout",
          "text": [
            "+---------------------------------------------------------------------------------+\n",
            "|value                                                                            |\n",
            "+---------------------------------------------------------------------------------+\n",
            "|The Project Gutenberg EBook of The Complete Works of William Shakespeare, by     |\n",
            "|William Shakespeare                                                              |\n",
            "|                                                                                 |\n",
            "|This eBook is for the use of anyone anywhere at no cost and with                 |\n",
            "|almost no restrictions whatsoever.  You may copy it, give it away or             |\n",
            "|re-use it under the terms of the Project Gutenberg License included              |\n",
            "|with this eBook or online at www.gutenberg.org                                   |\n",
            "|                                                                                 |\n",
            "|** This is a COPYRIGHTED Project Gutenberg eBook, Details Below **               |\n",
            "|**     Please follow the copyright guidelines in this file.     **               |\n",
            "|                                                                                 |\n",
            "|Title: The Complete Works of William Shakespeare                                 |\n",
            "|                                                                                 |\n",
            "|Author: William Shakespeare                                                      |\n",
            "|                                                                                 |\n",
            "|Posting Date: September 1, 2011 [EBook #100]                                     |\n",
            "|Release Date: January, 1994                                                      |\n",
            "|                                                                                 |\n",
            "|Language: English                                                                |\n",
            "|                                                                                 |\n",
            "|                                                                                 |\n",
            "|*** START OF THIS PROJECT GUTENBERG EBOOK COMPLETE WORKS--WILLIAM SHAKESPEARE ***|\n",
            "|                                                                                 |\n",
            "|                                                                                 |\n",
            "|                                                                                 |\n",
            "|                                                                                 |\n",
            "|Produced by World Library, Inc., from their Library of the Future                |\n",
            "|                                                                                 |\n",
            "|                                                                                 |\n",
            "|                                                                                 |\n",
            "|                                                                                 |\n",
            "|This is the 100th Etext file presented by Project Gutenberg, and                 |\n",
            "|is presented in cooperation with World Library, Inc., from their                 |\n",
            "|Library of the Future and Shakespeare CDROMS.  Project Gutenberg                 |\n",
            "|often releases Etexts that are NOT placed in the Public Domain!!                 |\n",
            "|                                                                                 |\n",
            "|Shakespeare                                                                      |\n",
            "|                                                                                 |\n",
            "|*This Etext has certain copyright implications you should read!*                 |\n",
            "|                                                                                 |\n",
            "|<<THIS ELECTRONIC VERSION OF THE COMPLETE WORKS OF WILLIAM                       |\n",
            "|SHAKESPEARE IS COPYRIGHT 1990-1993 BY WORLD LIBRARY, INC., AND IS                |\n",
            "|PROVIDED BY PROJECT GUTENBERG ETEXT OF ILLINOIS BENEDICTINE COLLEGE              |\n",
            "|WITH PERMISSION.  ELECTRONIC AND MACHINE READABLE COPIES MAY BE                  |\n",
            "|DISTRIBUTED SO LONG AS SUCH COPIES (1) ARE FOR YOUR OR OTHERS                    |\n",
            "|PERSONAL USE ONLY, AND (2) ARE NOT DISTRIBUTED OR USED                           |\n",
            "|COMMERCIALLY.  PROHIBITED COMMERCIAL DISTRIBUTION INCLUDES BY ANY                |\n",
            "|SERVICE THAT CHARGES FOR DOWNLOAD TIME OR FOR MEMBERSHIP.>>                      |\n",
            "|                                                                                 |\n",
            "|*Project Gutenberg is proud to cooperate with The World Library*                 |\n",
            "|in the presentation of The Complete Works of William Shakespeare                 |\n",
            "|for your reading for education and entertainment.  HOWEVER, THIS                 |\n",
            "|IS NEITHER SHAREWARE NOR PUBLIC DOMAIN. . .AND UNDER THE LIBRARY                 |\n",
            "|OF THE FUTURE CONDITIONS OF THIS PRESENTATION. . .NO CHARGES MAY                 |\n",
            "|BE MADE FOR *ANY* ACCESS TO THIS MATERIAL.  YOU ARE ENCOURAGED!!                 |\n",
            "|TO GIVE IT AWAY TO ANYONE YOU LIKE, BUT NO CHARGES ARE ALLOWED!!                 |\n",
            "|                                                                                 |\n",
            "|                                                                                 |\n",
            "|                                                                                 |\n",
            "|                                                                                 |\n",
            "|***** SMALL PRINT! for COMPLETE SHAKESPEARE *****                                |\n",
            "|                                                                                 |\n",
            "|THIS ELECTRONIC VERSION OF THE COMPLETE WORKS OF WILLIAM                         |\n",
            "|SHAKESPEARE IS COPYRIGHT 1990-1993 BY WORLD LIBRARY, INC.,                       |\n",
            "|AND IS PROVIDED BY PROJECT GUTENBERG ETEXT OF                                    |\n",
            "|ILLINOIS BENEDICTINE COLLEGE WITH PERMISSION.                                    |\n",
            "|                                                                                 |\n",
            "|Since unlike many other Project Gutenberg-tm etexts, this etext                  |\n",
            "|is copyright protected, and since the materials and methods you                  |\n",
            "|use will effect the Project's reputation, your right to copy and                 |\n",
            "|distribute it is limited by the copyright and other laws, and by                 |\n",
            "|the conditions of this \"Small Print!\" statement.                                 |\n",
            "|                                                                                 |\n",
            "|1.  LICENSE                                                                      |\n",
            "|                                                                                 |\n",
            "|  A) YOU MAY (AND ARE ENCOURAGED) TO DISTRIBUTE ELECTRONIC AND                   |\n",
            "|MACHINE READABLE COPIES OF THIS ETEXT, SO LONG AS SUCH COPIES                    |\n",
            "|(1) ARE FOR YOUR OR OTHERS PERSONAL USE ONLY, AND (2) ARE NOT                    |\n",
            "|DISTRIBUTED OR USED COMMERCIALLY.  PROHIBITED COMMERCIAL                         |\n",
            "|DISTRIBUTION INCLUDES BY ANY SERVICE THAT CHARGES FOR DOWNLOAD                   |\n",
            "|TIME OR FOR MEMBERSHIP.                                                          |\n",
            "|                                                                                 |\n",
            "|  B) This license is subject to the conditions that you honor                    |\n",
            "|the refund and replacement provisions of this \"small print!\"                     |\n",
            "|statement; and that you distribute exact copies of this etext,                   |\n",
            "|including this Small Print statement.  Such copies can be                        |\n",
            "|compressed or any proprietary form (including any form resulting                 |\n",
            "|from word processing or hypertext software), so long as                          |\n",
            "|*EITHER*:                                                                        |\n",
            "|                                                                                 |\n",
            "|    (1) The etext, when displayed, is clearly readable, and does                 |\n",
            "|  *not* contain characters other than those intended by the                      |\n",
            "|  author of the work, although tilde (~), asterisk (*) and                       |\n",
            "|  underline (_) characters may be used to convey punctuation                     |\n",
            "|  intended by the author, and additional characters may be used                  |\n",
            "|  to indicate hypertext links; OR                                                |\n",
            "|                                                                                 |\n",
            "|    (2) The etext is readily convertible by the reader at no                     |\n",
            "|  expense into plain ASCII, EBCDIC or equivalent form by the                     |\n",
            "|  program that displays the etext (as is the case, for instance,                 |\n",
            "+---------------------------------------------------------------------------------+\n",
            "only showing top 100 rows\n",
            "\n"
          ]
        }
      ]
    },
    {
      "cell_type": "code",
      "metadata": {
        "id": "AuAxGFPFB43Y",
        "colab": {
          "base_uri": "https://localhost:8080/"
        },
        "outputId": "6eb1ac96-790b-42c8-cff5-5964f523632c"
      },
      "source": [
        "# Step 1: Convert text to lowercase\n",
        "df = df.select(lower(col(\"value\")).alias(\"value\"))\n",
        "\n",
        "# Step 2: Split each line into words using split() and then explode into individual rows\n",
        "words_df = df.select(explode(split(col(\"value\"), \" \")).alias(\"word\"))\n",
        "#words_df.show()\n",
        "\n",
        "# Step 3: Filter out empty words and keep only those that start with an alphabetic character\n",
        "words_df = words_df.filter((col(\"word\") != \"\") & (col(\"word\").rlike(\"^[a-z]\")))\n",
        "#words_df.show()\n",
        "\n",
        "# Step 4: Select the first letter of each word\n",
        "words_df = words_df.withColumn(\"first_letter\", col(\"word\").substr(1, 1))\n",
        "#words_df.show()\n",
        "\n",
        "# Step 5: Group by the first letter and count occurrences\n",
        "letter_counts_df = words_df.groupBy(\"first_letter\").count().orderBy(\"first_letter\")\n",
        "\n",
        "# Show the entire result without truncation\n",
        "letter_counts_df.show(truncate=False, n=26)"
      ],
      "execution_count": 12,
      "outputs": [
        {
          "output_type": "stream",
          "name": "stdout",
          "text": [
            "+------------+------+\n",
            "|first_letter|count |\n",
            "+------------+------+\n",
            "|a           |84836 |\n",
            "|b           |45455 |\n",
            "|c           |34567 |\n",
            "|d           |29713 |\n",
            "|e           |18697 |\n",
            "|f           |36814 |\n",
            "|g           |20782 |\n",
            "|h           |60563 |\n",
            "|i           |62167 |\n",
            "|j           |3339  |\n",
            "|k           |9418  |\n",
            "|l           |29569 |\n",
            "|m           |55676 |\n",
            "|n           |26759 |\n",
            "|o           |43494 |\n",
            "|p           |27759 |\n",
            "|q           |2377  |\n",
            "|r           |14265 |\n",
            "|s           |65705 |\n",
            "|t           |123602|\n",
            "|u           |9170  |\n",
            "|v           |5728  |\n",
            "|w           |59597 |\n",
            "|x           |14    |\n",
            "|y           |25855 |\n",
            "|z           |71    |\n",
            "+------------+------+\n",
            "\n"
          ]
        }
      ]
    }
  ]
}