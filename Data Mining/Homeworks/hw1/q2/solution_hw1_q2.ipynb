{
  "nbformat": 4,
  "nbformat_minor": 0,
  "metadata": {
    "colab": {
      "provenance": [],
      "machine_shape": "hm",
      "gpuType": "A100"
    },
    "kernelspec": {
      "name": "python3",
      "display_name": "Python 3"
    },
    "language_info": {
      "name": "python"
    },
    "accelerator": "GPU"
  },
  "cells": [
    {
      "cell_type": "code",
      "source": [
        "def read_data(file_path):\n",
        "    transactions = []\n",
        "    with open(file_path, 'r') as file:\n",
        "        for line in file:\n",
        "            items = line.strip().split()\n",
        "            unique_items = set(items)\n",
        "            transactions.append(unique_items)\n",
        "    return transactions\n",
        "\n",
        "file_path = 'browsing.txt'\n",
        "transactions = read_data(file_path)"
      ],
      "metadata": {
        "id": "xjgKkWfSZZrg"
      },
      "execution_count": 94,
      "outputs": []
    },
    {
      "cell_type": "code",
      "source": [
        "len(transactions)"
      ],
      "metadata": {
        "colab": {
          "base_uri": "https://localhost:8080/"
        },
        "id": "coVoRLAcwqwE",
        "outputId": "ae77fbfb-c845-4e24-9ba4-ff216f04cbfb"
      },
      "execution_count": 95,
      "outputs": [
        {
          "output_type": "execute_result",
          "data": {
            "text/plain": [
              "31101"
            ]
          },
          "metadata": {},
          "execution_count": 95
        }
      ]
    },
    {
      "cell_type": "code",
      "execution_count": 96,
      "metadata": {
        "colab": {
          "base_uri": "https://localhost:8080/"
        },
        "id": "ng1YBQ32Uc-x",
        "outputId": "3fcdb2c2-60b3-46a4-d5aa-63be133b3e18"
      },
      "outputs": [
        {
          "output_type": "stream",
          "name": "stdout",
          "text": [
            "553\n",
            "Itemset of length 2:\n",
            "Generated 152628 candidates\n",
            "Transaction 0 of 31101\n",
            "Transaction 500 of 31101\n",
            "Transaction 1000 of 31101\n",
            "Transaction 1500 of 31101\n",
            "Transaction 2000 of 31101\n",
            "Transaction 2500 of 31101\n",
            "Transaction 3000 of 31101\n",
            "Transaction 3500 of 31101\n",
            "Transaction 4000 of 31101\n",
            "Transaction 4500 of 31101\n",
            "Transaction 5000 of 31101\n",
            "Transaction 5500 of 31101\n",
            "Transaction 6000 of 31101\n",
            "Transaction 6500 of 31101\n",
            "Transaction 7000 of 31101\n",
            "Transaction 7500 of 31101\n",
            "Transaction 8000 of 31101\n",
            "Transaction 8500 of 31101\n",
            "Transaction 9000 of 31101\n",
            "Transaction 9500 of 31101\n",
            "Transaction 10000 of 31101\n",
            "Transaction 10500 of 31101\n",
            "Transaction 11000 of 31101\n",
            "Transaction 11500 of 31101\n",
            "Transaction 12000 of 31101\n",
            "Transaction 12500 of 31101\n",
            "Transaction 13000 of 31101\n",
            "Transaction 13500 of 31101\n",
            "Transaction 14000 of 31101\n",
            "Transaction 14500 of 31101\n",
            "Transaction 15000 of 31101\n",
            "Transaction 15500 of 31101\n",
            "Transaction 16000 of 31101\n",
            "Transaction 16500 of 31101\n",
            "Transaction 17000 of 31101\n",
            "Transaction 17500 of 31101\n",
            "Transaction 18000 of 31101\n",
            "Transaction 18500 of 31101\n",
            "Transaction 19000 of 31101\n",
            "Transaction 19500 of 31101\n",
            "Transaction 20000 of 31101\n",
            "Transaction 20500 of 31101\n",
            "Transaction 21000 of 31101\n",
            "Transaction 21500 of 31101\n",
            "Transaction 22000 of 31101\n",
            "Transaction 22500 of 31101\n",
            "Transaction 23000 of 31101\n",
            "Transaction 23500 of 31101\n",
            "Transaction 24000 of 31101\n",
            "Transaction 24500 of 31101\n",
            "Transaction 25000 of 31101\n",
            "Transaction 25500 of 31101\n",
            "Transaction 26000 of 31101\n",
            "Transaction 26500 of 31101\n",
            "Transaction 27000 of 31101\n",
            "Transaction 27500 of 31101\n",
            "Transaction 28000 of 31101\n",
            "Transaction 28500 of 31101\n",
            "Transaction 29000 of 31101\n",
            "Transaction 29500 of 31101\n",
            "Transaction 30000 of 31101\n",
            "Transaction 30500 of 31101\n",
            "Transaction 31000 of 31101\n",
            "Itemset of length 3:\n",
            "Generated 3931 candidates\n",
            "Transaction 0 of 31101\n",
            "Transaction 500 of 31101\n",
            "Transaction 1000 of 31101\n",
            "Transaction 1500 of 31101\n",
            "Transaction 2000 of 31101\n",
            "Transaction 2500 of 31101\n",
            "Transaction 3000 of 31101\n",
            "Transaction 3500 of 31101\n",
            "Transaction 4000 of 31101\n",
            "Transaction 4500 of 31101\n",
            "Transaction 5000 of 31101\n",
            "Transaction 5500 of 31101\n",
            "Transaction 6000 of 31101\n",
            "Transaction 6500 of 31101\n",
            "Transaction 7000 of 31101\n",
            "Transaction 7500 of 31101\n",
            "Transaction 8000 of 31101\n",
            "Transaction 8500 of 31101\n",
            "Transaction 9000 of 31101\n",
            "Transaction 9500 of 31101\n",
            "Transaction 10000 of 31101\n",
            "Transaction 10500 of 31101\n",
            "Transaction 11000 of 31101\n",
            "Transaction 11500 of 31101\n",
            "Transaction 12000 of 31101\n",
            "Transaction 12500 of 31101\n",
            "Transaction 13000 of 31101\n",
            "Transaction 13500 of 31101\n",
            "Transaction 14000 of 31101\n",
            "Transaction 14500 of 31101\n",
            "Transaction 15000 of 31101\n",
            "Transaction 15500 of 31101\n",
            "Transaction 16000 of 31101\n",
            "Transaction 16500 of 31101\n",
            "Transaction 17000 of 31101\n",
            "Transaction 17500 of 31101\n",
            "Transaction 18000 of 31101\n",
            "Transaction 18500 of 31101\n",
            "Transaction 19000 of 31101\n",
            "Transaction 19500 of 31101\n",
            "Transaction 20000 of 31101\n",
            "Transaction 20500 of 31101\n",
            "Transaction 21000 of 31101\n",
            "Transaction 21500 of 31101\n",
            "Transaction 22000 of 31101\n",
            "Transaction 22500 of 31101\n",
            "Transaction 23000 of 31101\n",
            "Transaction 23500 of 31101\n",
            "Transaction 24000 of 31101\n",
            "Transaction 24500 of 31101\n",
            "Transaction 25000 of 31101\n",
            "Transaction 25500 of 31101\n",
            "Transaction 26000 of 31101\n",
            "Transaction 26500 of 31101\n",
            "Transaction 27000 of 31101\n",
            "Transaction 27500 of 31101\n",
            "Transaction 28000 of 31101\n",
            "Transaction 28500 of 31101\n",
            "Transaction 29000 of 31101\n",
            "Transaction 29500 of 31101\n",
            "Transaction 30000 of 31101\n",
            "Transaction 30500 of 31101\n",
            "Transaction 31000 of 31101\n"
          ]
        }
      ],
      "source": [
        "def all_subsets_present(arr, old):\n",
        "  for i in range(len(arr)):\n",
        "    subset = arr[:i] + arr[i + 1:]\n",
        "    if \" \".join(subset) not in old:\n",
        "      return False\n",
        "  return True\n",
        "\n",
        "def candidate_gen(F_old):\n",
        "  F_old_set = {\" \".join(f) for f in F_old}\n",
        "  Ck = list()\n",
        "  for f1 in F_old:\n",
        "    for f2 in F_old:\n",
        "      if \" \".join(f1[:-1]) == \" \".join(f2[:-1]) and f1[-1] < f2[-1]:\n",
        "        c = \" \".join(f1 + [f2[-1]])\n",
        "        if all_subsets_present(c.split(\" \"), F_old_set):\n",
        "          Ck.append(c.split(\" \"))\n",
        "  return Ck\n",
        "\n",
        "def A_Priori(T, S, max_items):\n",
        "  F = {str(i): list() for i in range(1, max_items + 1)}\n",
        "\n",
        "  for t in T:\n",
        "    for item in t:\n",
        "      if item not in C:\n",
        "        C[item] = 1\n",
        "      else:\n",
        "        C[item] += 1\n",
        "\n",
        "  for item in C:\n",
        "    if C[item] >= S:\n",
        "      F[\"1\"].append(item.split(\" \"))\n",
        "\n",
        "  print(len(F[\"1\"]))\n",
        "\n",
        "  for k in range(2, max_items + 1):\n",
        "    print(f\"Itemset of length {k}:\")\n",
        "    Ck = candidate_gen(F[str(k - 1)])\n",
        "    print(f\"Generated {len(Ck)} candidates\")\n",
        "\n",
        "    Ck_set = [set(c) for c in Ck]\n",
        "    for i, t in enumerate(T):\n",
        "      if i % 500 == 0:\n",
        "        print(f\"Transaction {i} of {len(transactions)}\")\n",
        "      for i, c in enumerate(Ck_set):\n",
        "        if c.issubset(t):\n",
        "          key = \" \".join(Ck[i])\n",
        "          if key not in C:\n",
        "            C[key] = 1\n",
        "          else:\n",
        "            C[key] += 1\n",
        "\n",
        "    for item in C:\n",
        "      if len(item.split(\" \")) == k and C[item] >= S:\n",
        "        F[str(k)].append(item.split(\" \"))\n",
        "\n",
        "  return F\n",
        "\n",
        "C = dict()\n",
        "F = A_Priori(transactions, 120, 3)"
      ]
    },
    {
      "cell_type": "code",
      "source": [
        "print(F[\"1\"])\n",
        "print(F[\"2\"])\n",
        "print(F[\"3\"])"
      ],
      "metadata": {
        "colab": {
          "base_uri": "https://localhost:8080/"
        },
        "id": "IHCjlNrrrq7_",
        "outputId": "36818495-4c55-4b22-a256-e78c64e6651c"
      },
      "execution_count": 97,
      "outputs": [
        {
          "output_type": "stream",
          "name": "stdout",
          "text": [
            "[['GRO99222'], ['SNA90258'], ['ELE17451'], ['SNA11465'], ['ELE52966'], ['SNA30755'], ['ELE26917'], ['SNA80192'], ['GRO12298'], ['DAI22896'], ['FRO86643'], ['SNA99873'], ['GRO73461'], ['GRO56989'], ['ELE37798'], ['DAI54444'], ['SNA69641'], ['GRO39357'], ['FRO78087'], ['ELE11375'], ['DAI50921'], ['DAI22177'], ['SNA91554'], ['SNA85662'], ['ELE59935'], ['DAI14125'], ['GRO94758'], ['FRO81176'], ['DAI49199'], ['DAI46755'], ['ELE66810'], ['GRO36567'], ['SNA47306'], ['GRO12935'], ['SNA55952'], ['DAI87514'], ['DAI92253'], ['GRO48282'], ['DAI48891'], ['ELE27376'], ['DAI38969'], ['DAI50913'], ['ELE11111'], ['FRO32293'], ['SNA66979'], ['FRO92261'], ['FRO98729'], ['DAI95741'], ['FRO41069'], ['DAI88808'], ['FRO16142'], ['GRO30386'], ['SNA63157'], ['DAI35347'], ['DAI22534'], ['SNA93860'], ['FRO19520'], ['FRO98878'], ['FRO24098'], ['SNA72163'], ['DAI55911'], ['FRO38366'], ['SNA59903'], ['FRO31317'], ['ELE20196'], ['FRO98184'], ['GRO15017'], ['ELE30182'], ['GRO59710'], ['ELE18435'], ['DAI95860'], ['DAI63921'], ['SNA18336'], ['ELE69204'], ['GRO39070'], ['SNA83730'], ['ELE66600'], ['DAI91290'], ['DAI62779'], ['ELE14480'], ['SNA14713'], ['DAI32480'], ['SNA55762'], ['GRO34288'], ['ELE91337'], ['SNA93641'], ['SNA43319'], ['GRO38983'], ['ELE68605'], ['SNA45677'], ['FRO78994'], ['SNA89670'], ['SNA93730'], ['DAI84001'], ['DAI52318'], ['SNA30579'], ['ELE20166'], ['ELE28189'], ['ELE20347'], ['ELE12792'], ['ELE63685'], ['DAI37607'], ['SNA56035'], ['GRO71615'], ['ELE22574'], ['ELE86561'], ['SNA40408'], ['FRO40251'], ['FRO43226'], ['ELE21353'], ['DAI59508'], ['FRO99756'], ['GRO85051'], ['GRO84328'], ['ELE20398'], ['DAI25796'], ['GRO69543'], ['ELE49863'], ['DAI73122'], ['FRO53137'], ['ELE64231'], ['FRO21081'], ['FRO94523'], ['FRO14171'], ['GRO15448'], ['GRO44993'], ['DAI74083'], ['SNA85241'], ['FRO73056'], ['GRO61133'], ['DAI35798'], ['GRO81087'], ['GRO67739'], ['GRO35122'], ['SNA64534'], ['ELE32164'], ['ELE53126'], ['ELE37770'], ['DAI70456'], ['GRO61641'], ['GRO92635'], ['DAI88807'], ['FRO27054'], ['ELE37048'], ['ELE62598'], ['ELE37153'], ['ELE87710'], ['GRO21487'], ['DAI43223'], ['ELE58409'], ['ELE85027'], ['ELE53835'], ['FRO66272'], ['ELE66741'], ['SNA36781'], ['FRO75591'], ['SNA59061'], ['DAI88352'], ['DAI88079'], ['SNA80324'], ['FRO55003'], ['DAI75645'], ['FRO92469'], ['SNA88283'], ['ELE38504'], ['SNA12663'], ['GRO38814'], ['FRO61611'], ['ELE92629'], ['ELE99737'], ['SNA35732'], ['FRO87415'], ['DAI86167'], ['SNA96271'], ['DAI48126'], ['DAI83948'], ['SNA83597'], ['SNA89368'], ['ELE49801'], ['FRO35904'], ['GRO50832'], ['ELE61940'], ['DAI67621'], ['FRO61161'], ['GRO68067'], ['SNA97586'], ['ELE15527'], ['ELE12845'], ['SNA24799'], ['FRO85978'], ['SNA95666'], ['SNA99654'], ['FRO74605'], ['SNA57913'], ['DAI32836'], ['FRO53271'], ['SNA55617'], ['DAI94514'], ['SNA90094'], ['DAI91422'], ['SNA38068'], ['DAI51880'], ['ELE88263'], ['SNA17775'], ['DAI80076'], ['ELE69630'], ['DAI13788'], ['ELE74009'], ['FRO90481'], ['GRO35827'], ['GRO56726'], ['SNA20554'], ['ELE99211'], ['ELE24064'], ['ELE30196'], ['FRO35729'], ['FRO95943'], ['GRO52067'], ['ELE65859'], ['SNA49028'], ['FRO89565'], ['GRO71279'], ['FRO41939'], ['SNA28093'], ['DAI62356'], ['ELE34057'], ['SNA44451'], ['ELE38289'], ['DAI58206'], ['GRO24246'], ['SNA30859'], ['SNA12933'], ['DAI64292'], ['FRO19671'], ['SNA28860'], ['DAI96999'], ['ELE69675'], ['GRO58671'], ['ELE35632'], ['DAI33336'], ['ELE38511'], ['GRO33815'], ['ELE87456'], ['FRO66852'], ['ELE95803'], ['ELE88031'], ['FRO75586'], ['ELE22970'], ['DAI26390'], ['DAI45339'], ['FRO66216'], ['FRO80238'], ['GRO57755'], ['GRO87006'], ['DAI15681'], ['SNA35625'], ['ELE30327'], ['GRO55545'], ['SNA52886'], ['ELE32244'], ['ELE56788'], ['DAI31081'], ['GRO23573'], ['DAI49017'], ['GRO88324'], ['DAI59546'], ['DAI27125'], ['DAI83733'], ['FRO80039'], ['FRO18274'], ['ELE25077'], ['ELE20202'], ['ELE50913'], ['DAI16732'], ['FRO74121'], ['ELE30911'], ['ELE49861'], ['ELE55721'], ['SNA62128'], ['ELE56095'], ['FRO25840'], ['DAI59609'], ['ELE74482'], ['ELE61961'], ['FRO49682'], ['SNA53220'], ['GRO30912'], ['ELE67409'], ['ELE88583'], ['ELE24630'], ['DAI20585'], ['ELE87243'], ['SNA57865'], ['SNA74022'], ['SNA26242'], ['GRO89004'], ['GRO45654'], ['DAI56158'], ['GRO91660'], ['SNA71332'], ['GRO20770'], ['DAI87412'], ['FRO61354'], ['SNA44190'], ['ELE36909'], ['SNA38067'], ['GRO69388'], ['SNA67745'], ['SNA68538'], ['DAI69156'], ['SNA84284'], ['SNA17270'], ['ELE11909'], ['GRO26160'], ['GRO64900'], ['ELE86306'], ['GRO71621'], ['FRO71085'], ['SNA29014'], ['GRO65522'], ['DAI13266'], ['GRO82670'], ['DAI48423'], ['SNA46873'], ['ELE60861'], ['DAI87507'], ['DAI67189'], ['FRO33641'], ['FRO42750'], ['GRO83111'], ['GRO67714'], ['ELE78169'], ['SNA41431'], ['DAI89320'], ['ELE16038'], ['DAI42493'], ['FRO47962'], ['ELE42696'], ['ELE18198'], ['FRO87724'], ['GRO61273'], ['GRO88511'], ['FRO17734'], ['ELE11160'], ['DAI11223'], ['GRO20227'], ['DAI53152'], ['DAI93865'], ['GRO32086'], ['SNA30533'], ['GRO18367'], ['FRO91449'], ['ELE59541'], ['FRO18565'], ['SNA54435'], ['ELE20847'], ['FRO73337'], ['GRO52116'], ['SNA88543'], ['DAI18805'], ['GRO46854'], ['DAI31893'], ['DAI47529'], ['FRO74324'], ['FRO48920'], ['ELE54144'], ['DAI53495'], ['ELE72565'], ['GRO76157'], ['FRO47183'], ['FRO32147'], ['SNA66583'], ['ELE73453'], ['DAI29159'], ['GRO29389'], ['SNA61380'], ['SNA50789'], ['ELE59028'], ['FRO83374'], ['DAI56641'], ['FRO14040'], ['GRO18468'], ['ELE42974'], ['FRO99372'], ['GRO95519'], ['SNA16036'], ['GRO46627'], ['GRO57279'], ['GRO93333'], ['SNA58341'], ['ELE73604'], ['SNA40784'], ['ELE27303'], ['GRO21047'], ['DAI55148'], ['FRO64059'], ['GRO70959'], ['FRO77633'], ['SNA38046'], ['DAI37288'], ['GRO56701'], ['DAI74315'], ['FRO53088'], ['DAI41952'], ['ELE55848'], ['DAI43063'], ['DAI94445'], ['GRO81647'], ['SNA49107'], ['ELE74410'], ['ELE60182'], ['ELE34030'], ['ELE53470'], ['DAI43868'], ['DAI99319'], ['SNA37803'], ['FRO22809'], ['SNA82308'], ['GRO81900'], ['FRO57082'], ['DAI63631'], ['GRO17075'], ['DAI91654'], ['FRO99751'], ['SNA96466'], ['FRO68870'], ['FRO48038'], ['DAI14470'], ['DAI22240'], ['DAI63507'], ['SNA92435'], ['ELE38536'], ['ELE74567'], ['DAI88088'], ['GRO94173'], ['ELE69750'], ['FRO49827'], ['FRO89355'], ['FRO44046'], ['ELE81534'], ['ELE92920'], ['FRO64631'], ['FRO13478'], ['SNA82528'], ['GRO46839'], ['SNA29146'], ['SNA53368'], ['SNA81024'], ['GRO88505'], ['ELE36333'], ['FRO26482'], ['SNA57752'], ['FRO87855'], ['DAI32718'], ['SNA88091'], ['SNA80230'], ['SNA42528'], ['SNA59228'], ['DAI72236'], ['FRO23748'], ['SNA71244'], ['FRO44973'], ['GRO89148'], ['DAI91392'], ['SNA74222'], ['GRO97621'], ['ELE35159'], ['ELE61844'], ['FRO79022'], ['GRO29598'], ['DAI28743'], ['FRO64787'], ['FRO97732'], ['GRO13844'], ['DAI74874'], ['SNA12690'], ['GRO39661'], ['SNA31619'], ['DAI85309'], ['FRO55161'], ['GRO75758'], ['ELE30933'], ['ELE36642'], ['DAI13902'], ['FRO71487'], ['GRO96567'], ['ELE88539'], ['DAI54320'], ['DAI26369'], ['FRO62357'], ['GRO67376'], ['ELE63143'], ['SNA43571'], ['SNA93177'], ['SNA24061'], ['SNA87537'], ['GRO33356'], ['ELE60381'], ['DAI34857'], ['SNA30908'], ['DAI53110'], ['DAI52509'], ['FRO57542'], ['SNA77634'], ['FRO19221'], ['GRO83463'], ['SNA17634'], ['ELE69552'], ['FRO31824'], ['DAI77909'], ['GRO74951'], ['SNA21851'], ['DAI94679'], ['DAI23334'], ['FRO36333'], ['GRO91630'], ['DAI50895'], ['GRO43332'], ['GRO42566'], ['GRO65025'], ['DAI18527'], ['DAI34472'], ['DAI83031'], ['SNA56249'], ['FRO31077'], ['DAI39727'], ['GRO96342'], ['GRO75369'], ['DAI72502'], ['FRO65488'], ['ELE16299'], ['ELE50759'], ['DAI43747'], ['FRO99783'], ['GRO22957'], ['GRO15683'], ['DAI87448'], ['FRO48055'], ['FRO98006'], ['GRO67806'], ['GRO37797'], ['GRO99635'], ['SNA40078'], ['ELE27021'], ['ELE81987'], ['GRO81045'], ['DAI16142'], ['ELE19549'], ['DAI42083'], ['DAI92600'], ['ELE53386'], ['SNA92493'], ['FRO52457']]\n",
            "[['GRO99222', 'SNA90258'], ['ELE17451', 'GRO99222'], ['ELE17451', 'ELE26917'], ['ELE26917', 'GRO99222'], ['ELE17451', 'SNA99873'], ['ELE17451', 'GRO73461'], ['DAI22896', 'ELE17451'], ['DAI22896', 'GRO73461'], ['GRO73461', 'SNA99873'], ['ELE17451', 'GRO56989'], ['ELE17451', 'FRO78087'], ['ELE17451', 'ELE59935'], ['DAI22177', 'ELE17451'], ['ELE17451', 'GRO94758'], ['ELE17451', 'ELE66810'], ['GRO73461', 'GRO94758'], ['DAI22177', 'GRO73461'], ['DAI46755', 'FRO81176'], ['ELE66810', 'GRO73461'], ['ELE17451', 'SNA55952'], ['ELE26917', 'GRO73461'], ['ELE26917', 'SNA47306'], ['DAI22177', 'ELE26917'], ['DAI48891', 'ELE17451'], ['DAI48891', 'GRO36567'], ['FRO78087', 'SNA99873'], ['FRO78087', 'GRO73461'], ['ELE17451', 'FRO32293'], ['ELE17451', 'FRO92261'], ['ELE11111', 'ELE17451'], ['ELE17451', 'FRO16142'], ['ELE17451', 'GRO30386'], ['FRO16142', 'GRO73461'], ['GRO30386', 'GRO73461'], ['DAI35347', 'ELE17451'], ['ELE17451', 'SNA93860'], ['ELE17451', 'SNA72163'], ['ELE17451', 'SNA59903'], ['ELE17451', 'FRO31317'], ['ELE26917', 'FRO31317'], ['DAI22896', 'SNA72163'], ['DAI22896', 'FRO31317'], ['GRO73461', 'SNA72163'], ['GRO73461', 'SNA59903'], ['DAI95741', 'GRO73461'], ['DAI35347', 'FRO31317'], ['DAI55911', 'ELE17451'], ['SNA59903', 'SNA72163'], ['FRO31317', 'GRO73461'], ['DAI22177', 'FRO31317'], ['ELE17451', 'GRO15017'], ['ELE17451', 'GRO59710'], ['ELE26917', 'GRO15017'], ['ELE26917', 'GRO59710'], ['GRO15017', 'GRO73461'], ['GRO59710', 'GRO73461'], ['ELE26917', 'SNA99873'], ['DAI22177', 'SNA99873'], ['DAI63921', 'ELE17451'], ['DAI63921', 'ELE59935'], ['ELE17451', 'ELE66600'], ['DAI63921', 'ELE66600'], ['ELE66600', 'FRO78087'], ['DAI63921', 'DAI91290'], ['DAI91290', 'ELE17451'], ['DAI62779', 'GRO99222'], ['DAI62779', 'ELE17451'], ['DAI62779', 'FRO78087'], ['DAI62779', 'ELE59935'], ['DAI62779', 'ELE14480'], ['ELE14480', 'ELE17451'], ['ELE17451', 'SNA55762'], ['ELE26917', 'SNA55762'], ['DAI35347', 'DAI62779'], ['FRO31317', 'SNA99873'], ['DAI63921', 'ELE26917'], ['DAI63921', 'SNA99873'], ['DAI63921', 'FRO31317'], ['DAI63921', 'SNA55762'], ['DAI62779', 'ELE26917'], ['DAI62779', 'SNA99873'], ['DAI62779', 'FRO31317'], ['DAI62779', 'DAI63921'], ['DAI62779', 'SNA55762'], ['SNA55762', 'SNA99873'], ['ELE91337', 'SNA99873'], ['DAI62779', 'SNA43319'], ['DAI62779', 'GRO38983'], ['DAI62779', 'ELE68605'], ['ELE17451', 'SNA45677'], ['DAI62779', 'GRO56989'], ['DAI62779', 'FRO32293'], ['DAI62779', 'SNA45677'], ['DAI62779', 'FRO78994'], ['DAI62779', 'SNA93730'], ['ELE91337', 'SNA45677'], ['GRO94758', 'SNA99873'], ['ELE17451', 'FRO40251'], ['FRO31317', 'SNA93860'], ['FRO31317', 'FRO40251'], ['DAI62779', 'SNA93860'], ['DAI62779', 'FRO40251'], ['DAI62779', 'ELE21353'], ['FRO40251', 'SNA93860'], ['FRO40251', 'FRO78087'], ['FRO40251', 'GRO85051'], ['DAI55911', 'DAI62779'], ['DAI62779', 'GRO73461'], ['ELE17451', 'GRO69543'], ['DAI48891', 'DAI62779'], ['DAI48891', 'SNA45677'], ['DAI62779', 'SNA69641'], ['DAI62779', 'ELE12792'], ['DAI62779', 'GRO69543'], ['ELE12792', 'ELE17451'], ['ELE12792', 'SNA69641'], ['DAI59508', 'DAI62779'], ['ELE26917', 'ELE66810'], ['DAI62779', 'ELE66810'], ['DAI62779', 'GRO44993'], ['GRO44993', 'SNA85241'], ['GRO73461', 'SNA69641'], ['GRO73461', 'SNA45677'], ['FRO31317', 'SNA45677'], ['DAI91290', 'GRO73461'], ['FRO73056', 'GRO73461'], ['GRO61133', 'GRO73461'], ['ELE66810', 'FRO31317'], ['ELE17451', 'GRO61133'], ['ELE17451', 'ELE32164'], ['ELE17451', 'ELE53126'], ['ELE59935', 'GRO30386'], ['DAI35347', 'ELE32164'], ['DAI63921', 'GRO73461'], ['DAI63921', 'GRO61133'], ['DAI62779', 'GRO30386'], ['DAI62779', 'GRO61133'], ['DAI62779', 'ELE32164'], ['DAI62779', 'ELE53126'], ['DAI62779', 'ELE37770'], ['ELE32164', 'GRO73461'], ['ELE32164', 'GRO30386'], ['ELE32164', 'FRO43226'], ['ELE32164', 'GRO61133'], ['ELE37770', 'ELE53126'], ['DAI70456', 'ELE37770'], ['DAI88807', 'GRO73461'], ['ELE17451', 'ELE37048'], ['ELE32164', 'ELE37048'], ['ELE17451', 'ELE62598'], ['ELE17451', 'GRO21487'], ['ELE32164', 'FRO78087'], ['ELE32164', 'ELE62598'], ['ELE32164', 'GRO21487'], ['DAI43223', 'ELE17451'], ['DAI43223', 'ELE32164'], ['FRO73056', 'GRO44993'], ['DAI62779', 'SNA59061'], ['DAI62779', 'DAI88352'], ['FRO40251', 'GRO73461'], ['DAI88079', 'ELE17451'], ['DAI88079', 'GRO73461'], ['DAI88079', 'FRO40251'], ['GRO73461', 'SNA80324'], ['DAI91290', 'SNA80324'], ['FRO40251', 'FRO92469'], ['DAI75645', 'GRO73461'], ['DAI75645', 'FRO40251'], ['DAI75645', 'FRO92469'], ['FRO92469', 'GRO73461'], ['ELE17451', 'FRO92469'], ['DAI62779', 'FRO66272'], ['DAI62779', 'FRO92469'], ['DAI62779', 'SNA12663'], ['FRO40251', 'GRO69543'], ['GRO69543', 'GRO73461'], ['ELE17451', 'GRO85051'], ['ELE17451', 'SNA80324'], ['ELE17451', 'GRO38814'], ['ELE26917', 'FRO40251'], ['ELE26917', 'GRO85051'], ['ELE26917', 'SNA80324'], ['GRO73461', 'GRO85051'], ['DAI38969', 'DAI62779'], ['DAI91290', 'FRO40251'], ['DAI62779', 'DAI91290'], ['DAI62779', 'GRO85051'], ['DAI62779', 'SNA80324'], ['DAI62779', 'GRO38814'], ['FRO40251', 'SNA80324'], ['FRO40251', 'GRO38814'], ['GRO85051', 'SNA80324'], ['DAI88079', 'SNA80324'], ['FRO92469', 'SNA80324'], ['GRO38814', 'GRO73461'], ['GRO38814', 'SNA80324'], ['FRO40251', 'GRO38983'], ['FRO40251', 'GRO44993'], ['DAI75645', 'GRO85051'], ['DAI75645', 'GRO44993'], ['DAI75645', 'SNA80324'], ['DAI95741', 'FRO40251'], ['FRO40251', 'SNA47306'], ['ELE99737', 'GRO73461'], ['ELE99737', 'FRO40251'], ['SNA80324', 'SNA93860'], ['DAI75645', 'SNA93860'], ['DAI75645', 'DAI91290'], ['FRO32293', 'FRO40251'], ['DAI75645', 'FRO32293'], ['SNA45677', 'SNA80324'], ['FRO40251', 'SNA45677'], ['ELE17451', 'SNA96271'], ['GRO73461', 'SNA96271'], ['FRO32293', 'GRO73461'], ['FRO31317', 'FRO32293'], ['FRO31317', 'GRO15017'], ['FRO31317', 'SNA96271'], ['DAI62779', 'GRO36567'], ['DAI62779', 'SNA72163'], ['DAI62779', 'GRO15017'], ['DAI62779', 'ELE62598'], ['DAI62779', 'SNA96271'], ['DAI62779', 'DAI83948'], ['ELE62598', 'GRO73461'], ['DAI48126', 'DAI62779'], ['DAI83948', 'GRO73461'], ['ELE17451', 'GRO81087'], ['DAI62779', 'GRO81087'], ['DAI62779', 'ELE49801'], ['DAI22177', 'SNA45677'], ['FRO35904', 'SNA45677'], ['DAI62779', 'ELE12845'], ['DAI62779', 'SNA24799'], ['DAI62779', 'FRO85978'], ['DAI62779', 'SNA95666'], ['FRO85978', 'SNA95666'], ['DAI63921', 'FRO32293'], ['FRO40251', 'FRO53271'], ['DAI75645', 'FRO53271'], ['FRO35904', 'FRO40251'], ['GRO73461', 'SNA38068'], ['DAI62779', 'SNA38068'], ['ELE62598', 'SNA38068'], ['SNA38068', 'SNA80324'], ['GRO30386', 'SNA80324'], ['GRO30386', 'SNA96271'], ['FRO40251', 'GRO99222'], ['FRO40251', 'GRO30386'], ['FRO40251', 'GRO61133'], ['FRO40251', 'SNA96271'], ['GRO61133', 'SNA80324'], ['SNA80324', 'SNA96271'], ['FRO78087', 'SNA45677'], ['FRO78087', 'SNA80324'], ['ELE66810', 'FRO40251'], ['DAI35347', 'ELE66810'], ['GRO15017', 'SNA45677'], ['GRO15017', 'SNA80324'], ['FRO40251', 'GRO15017'], ['ELE74009', 'FRO78087'], ['ELE74009', 'GRO15017'], ['ELE74009', 'SNA45677'], ['ELE74009', 'FRO40251'], ['ELE74009', 'SNA80324'], ['ELE74009', 'SNA95666'], ['ELE26917', 'ELE66600'], ['ELE26917', 'GRO81087'], ['GRO73461', 'GRO81087'], ['ELE66600', 'GRO73461'], ['DAI62779', 'FRO98729'], ['DAI62779', 'ELE66600'], ['GRO94758', 'SNA45677'], ['ELE66600', 'ELE91337'], ['ELE66600', 'SNA45677'], ['DAI62779', 'GRO94758'], ['DAI62779', 'ELE91337'], ['ELE66810', 'SNA66979'], ['ELE66810', 'FRO35729'], ['ELE32164', 'FRO31317'], ['ELE32164', 'FRO89565'], ['ELE17451', 'GRO56726'], ['GRO68067', 'GRO73461'], ['GRO56726', 'GRO73461'], ['ELE26917', 'FRO32293'], ['ELE26917', 'GRO21487'], ['FRO32293', 'SNA99873'], ['DAI62779', 'GRO21487'], ['DAI62779', 'GRO56726'], ['DAI62779', 'ELE34057'], ['GRO21487', 'SNA99873'], ['GRO21487', 'GRO56726'], ['ELE34057', 'SNA99873'], ['ELE34057', 'GRO21487'], ['ELE38289', 'SNA66979'], ['GRO30386', 'SNA72163'], ['SNA72163', 'SNA93860'], ['DAI91290', 'GRO30386'], ['DAI62779', 'SNA59903'], ['DAI50913', 'GRO33815'], ['ELE66600', 'FRO85978'], ['ELE34057', 'FRO85978'], ['ELE17451', 'ELE34057'], ['DAI62779', 'ELE87456'], ['ELE17451', 'ELE99737'], ['ELE17451', 'FRO85978'], ['FRO85978', 'SNA99873'], ['FRO85978', 'SNA55952'], ['ELE17451', 'FRO75586'], ['DAI63921', 'FRO35904'], ['ELE66600', 'FRO31317'], ['DAI62779', 'FRO35904'], ['DAI62779', 'FRO75586'], ['DAI62779', 'FRO24098'], ['ELE17451', 'ELE74009'], ['GRO73461', 'SNA55762'], ['ELE74009', 'GRO73461'], ['ELE74009', 'SNA55762'], ['DAI55911', 'FRO40251'], ['DAI55911', 'GRO85051'], ['DAI55911', 'DAI75645'], ['DAI75645', 'ELE74009'], ['DAI75645', 'DAI83948'], ['DAI83948', 'FRO40251'], ['ELE17451', 'SNA18336'], ['DAI22177', 'FRO66272'], ['DAI62779', 'DAI75645'], ['DAI62779', 'ELE74009'], ['DAI62779', 'DAI83733'], ['SNA55762', 'SNA80324'], ['FRO40251', 'SNA55762'], ['DAI75645', 'SNA55762'], ['DAI75645', 'DAI83733'], ['DAI83733', 'GRO73461'], ['DAI83733', 'FRO40251'], ['DAI83733', 'SNA80324'], ['DAI83733', 'ELE74009'], ['FRO40251', 'FRO80039'], ['DAI75645', 'FRO80039'], ['ELE26917', 'FRO80039'], ['FRO32293', 'FRO80039'], ['DAI62779', 'GRO88324'], ['DAI63921', 'ELE91337'], ['ELE26917', 'FRO85978'], ['ELE26917', 'FRO78087'], ['DAI63921', 'FRO85978'], ['FRO35904', 'FRO85978'], ['ELE66600', 'GRO38983'], ['ELE66600', 'GRO21487'], ['ELE66600', 'SNA96271'], ['GRO36567', 'SNA45677'], ['DAI22177', 'FRO85978'], ['FRO78087', 'FRO85978'], ['FRO85978', 'GRO15017'], ['SNA53220', 'SNA93860'], ['GRO36567', 'GRO38814'], ['DAI75645', 'GRO38814'], ['DAI75645', 'ELE26917'], ['DAI75645', 'FRO16142'], ['ELE26917', 'SNA45677'], ['DAI62779', 'ELE88583'], ['DAI62779', 'ELE24630'], ['DAI62779', 'ELE37048'], ['DAI62779', 'GRO68067'], ['ELE53126', 'FRO24098'], ['ELE37048', 'ELE53126'], ['ELE26917', 'SNA96271'], ['DAI43223', 'GRO59710'], ['ELE17451', 'FRO80039'], ['ELE59935', 'FRO80039'], ['FRO31317', 'FRO80039'], ['ELE32164', 'GRO59710'], ['GRO59710', 'SNA45677'], ['GRO38814', 'GRO59710'], ['GRO38814', 'SNA45677'], ['GRO59710', 'SNA99873'], ['ELE53126', 'SNA99873'], ['FRO80039', 'SNA99873'], ['FRO80039', 'GRO59710'], ['ELE25077', 'GRO89004'], ['ELE37770', 'ELE74482'], ['ELE74482', 'GRO59710'], ['DAI63921', 'GRO56726'], ['DAI22534', 'DAI62779'], ['DAI62779', 'FRO61354'], ['ELE66810', 'FRO80039'], ['DAI62779', 'ELE56788'], ['SNA20554', 'SNA45677'], ['FRO85978', 'SNA45677'], ['ELE56788', 'FRO40251'], ['DAI22896', 'GRO38814'], ['ELE66810', 'FRO41939'], ['DAI88807', 'SNA72163'], ['DAI62779', 'ELE99737'], ['DAI62779', 'SNA20554'], ['DAI62779', 'GRO64900'], ['FRO85978', 'GRO64900'], ['DAI62779', 'GRO71621'], ['DAI31081', 'GRO73461'], ['DAI31081', 'DAI62779'], ['GRO71621', 'GRO73461'], ['ELE66810', 'SNA99873'], ['GRO38814', 'SNA99873'], ['DAI22177', 'DAI62779'], ['DAI62779', 'ELE25077'], ['ELE91337', 'FRO85978'], ['GRO38814', 'GRO94758'], ['FRO85978', 'GRO56726'], ['GRO94758', 'SNA80324'], ['DAI63921', 'SNA45677'], ['DAI63921', 'DAI83733'], ['DAI75645', 'GRO94758'], ['DAI75645', 'SNA45677'], ['DAI75645', 'GRO61133'], ['DAI83733', 'SNA45677'], ['DAI55911', 'SNA80324'], ['ELE12792', 'FRO40251'], ['ELE12792', 'SNA80324'], ['DAI22177', 'DAI63921'], ['DAI22177', 'ELE91337'], ['DAI62779', 'DAI67189'], ['ELE11111', 'GRO73461'], ['ELE11111', 'SNA80324'], ['DAI62779', 'ELE11111'], ['DAI62779', 'SNA88283'], ['SNA80324', 'SNA99873'], ['ELE66600', 'SNA99873'], ['ELE24630', 'ELE26917'], ['ELE91337', 'GRO64900'], ['ELE78169', 'GRO94758'], ['ELE26917', 'ELE74009'], ['FRO40251', 'FRO85978'], ['ELE62598', 'FRO40251'], ['FRO85978', 'GRO73461'], ['ELE74009', 'GRO61133'], ['DAI75645', 'GRO81087'], ['DAI42493', 'DAI75645'], ['DAI42493', 'ELE74009'], ['FRO16142', 'FRO40251'], ['FRO16142', 'SNA80324'], ['DAI75645', 'DAI88079'], ['DAI75645', 'FRO47962'], ['DAI42493', 'FRO40251'], ['DAI42493', 'SNA80324'], ['DAI62779', 'FRO92261'], ['DAI22177', 'FRO40251'], ['DAI22177', 'SNA80324'], ['FRO40251', 'GRO81087'], ['GRO61133', 'GRO81087'], ['GRO81087', 'SNA80324'], ['DAI83948', 'SNA80324'], ['ELE78169', 'SNA45677'], ['ELE28189', 'FRO17734'], ['DAI49199', 'DAI62779'], ['DAI22896', 'SNA80324'], ['DAI22896', 'DAI75645'], ['DAI88807', 'SNA80324'], ['DAI75645', 'SNA99873'], ['DAI75645', 'DAI88807'], ['DAI75645', 'ELE74482'], ['ELE74482', 'SNA99873'], ['ELE74482', 'GRO73461'], ['FRO47962', 'GRO73461'], ['FRO40251', 'GRO94758'], ['FRO40251', 'GRO21487'], ['FRO40251', 'GRO32086'], ['GRO21487', 'SNA55762'], ['GRO21487', 'GRO38814'], ['DAI75645', 'GRO21487'], ['DAI75645', 'SNA96271'], ['FRO53271', 'GRO21487'], ['FRO53271', 'GRO38814'], ['FRO53271', 'GRO32086'], ['DAI53152', 'FRO40251'], ['DAI93865', 'FRO40251'], ['SNA30533', 'SNA96271'], ['DAI62779', 'ELE78169'], ['DAI62779', 'GRO18367'], ['ELE66810', 'GRO21487'], ['DAI62779', 'SNA55952'], ['DAI62779', 'ELE20847'], ['ELE20847', 'GRO73461'], ['ELE20847', 'FRO40251'], ['ELE11111', 'FRO40251'], ['DAI75645', 'ELE11111'], ['DAI22177', 'FRO32293'], ['DAI22177', 'GRO21487'], ['FRO32293', 'SNA80324'], ['FRO31317', 'GRO21487'], ['FRO31317', 'SNA80324'], ['FRO31317', 'FRO53271'], ['GRO21487', 'SNA80324'], ['FRO53271', 'SNA80324'], ['FRO85978', 'GRO21487'], ['FRO85978', 'GRO46854'], ['ELE59935', 'GRO46854'], ['ELE91337', 'GRO46854'], ['SNA45677', 'SNA99873'], ['GRO46854', 'SNA99873'], ['GRO46854', 'SNA45677'], ['ELE66600', 'FRO80039'], ['FRO80039', 'SNA96271'], ['FRO35904', 'GRO46854'], ['ELE17451', 'GRO46854'], ['ELE17451', 'ELE20847'], ['ELE20847', 'SNA80324'], ['ELE20847', 'SNA96271'], ['GRO46854', 'GRO73461'], ['DAI62779', 'GRO46854'], ['DAI62779', 'SNA50789'], ['GRO46854', 'SNA96271'], ['ELE59935', 'FRO40251'], ['ELE53126', 'FRO40251'], ['ELE34057', 'ELE91337'], ['DAI62779', 'SNA62128'], ['DAI62779', 'SNA57865'], ['DAI62779', 'ELE59028'], ['ELE14480', 'SNA62128'], ['FRO85978', 'SNA93860'], ['ELE59028', 'SNA93860'], ['ELE59028', 'FRO85978'], ['DAI83733', 'ELE17451'], ['DAI83733', 'GRO38814'], ['ELE74482', 'FRO40251'], ['ELE74009', 'SNA93860'], ['FRO53271', 'GRO73461'], ['DAI62779', 'SNA29014'], ['DAI75645', 'SNA38068'], ['DAI62779', 'GRO23573'], ['DAI62779', 'FRO16142'], ['DAI62779', 'FRO80039'], ['GRO44993', 'GRO73461'], ['DAI75645', 'GRO30386'], ['DAI75645', 'GRO15017'], ['ELE99737', 'FRO80039'], ['FRO80039', 'GRO73461'], ['FRO80039', 'GRO30386'], ['DAI31081', 'SNA80324'], ['DAI31081', 'DAI75645'], ['DAI62779', 'GRO50832'], ['FRO80039', 'GRO50832'], ['FRO40251', 'GRO56726'], ['GRO56726', 'SNA80324'], ['DAI62779', 'SNA53220'], ['ELE17451', 'SNA38068'], ['FRO40251', 'SNA38068'], ['FRO40251', 'GRO35122'], ['GRO35122', 'SNA80324'], ['DAI75645', 'ELE17451'], ['FRO31317', 'GRO59710'], ['GRO59710', 'SNA40784'], ['DAI75645', 'FRO31317'], ['FRO31317', 'GRO32086'], ['ELE53126', 'FRO31317'], ['ELE53126', 'GRO32086'], ['DAI83733', 'FRO31317'], ['GRO30386', 'GRO71621'], ['FRO31317', 'GRO30386'], ['FRO31317', 'GRO71621'], ['DAI75645', 'GRO56726'], ['DAI75645', 'GRO71621'], ['GRO21487', 'GRO73461'], ['DAI55148', 'ELE17451'], ['DAI55148', 'GRO73461'], ['DAI55148', 'DAI75645'], ['ELE12845', 'FRO35904'], ['ELE34057', 'GRO73461'], ['DAI83733', 'GRO56726'], ['ELE34057', 'FRO80039'], ['DAI62779', 'FRO53271'], ['DAI62779', 'GRO88511'], ['FRO61354', 'SNA80324'], ['DAI22177', 'ELE32164'], ['DAI22177', 'DAI31081'], ['ELE66600', 'FRO40251'], ['ELE66600', 'ELE74009'], ['FRO40251', 'FRO61354'], ['ELE32164', 'ELE66600'], ['ELE32164', 'FRO40251'], ['ELE32164', 'GRO81087'], ['ELE32164', 'ELE74009'], ['DAI43223', 'GRO73461'], ['DAI31081', 'FRO40251'], ['DAI31081', 'ELE32164'], ['DAI31081', 'DAI43223'], ['DAI63921', 'FRO66272'], ['DAI63921', 'FRO80039'], ['GRO21487', 'SNA93860'], ['ELE26917', 'GRO30386'], ['DAI62779', 'SNA47306'], ['ELE74009', 'GRO38814'], ['ELE74009', 'FRO53271'], ['ELE74009', 'GRO64900'], ['ELE91337', 'SNA55762'], ['FRO40251', 'SNA99873'], ['GRO73461', 'GRO81647'], ['DAI62779', 'GRO81647'], ['FRO53271', 'SNA99873'], ['DAI22896', 'DAI62779'], ['DAI22896', 'FRO53271'], ['DAI31081', 'FRO53271'], ['GRO15017', 'SNA99873'], ['GRO61133', 'SNA99873'], ['GRO59710', 'GRO61133'], ['ELE32164', 'GRO15017'], ['ELE32164', 'GRO38814'], ['DAI88807', 'GRO59710'], ['DAI88807', 'ELE32164'], ['DAI83733', 'ELE32164'], ['DAI83733', 'ELE26917'], ['DAI83733', 'ELE59935'], ['ELE56788', 'GRO71621'], ['DAI83733', 'GRO71621'], ['GRO71621', 'SNA55762'], ['DAI75645', 'SNA72163'], ['DAI75645', 'FRO85978'], ['ELE34057', 'SNA45677'], ['DAI22177', 'GRO59710'], ['DAI31081', 'GRO59710'], ['FRO31317', 'FRO85978'], ['GRO59710', 'GRO81087'], ['ELE14480', 'ELE32164'], ['GRO81087', 'SNA45677'], ['ELE32164', 'SNA45677'], ['ELE32164', 'ELE34057'], ['DAI43223', 'SNA45677'], ['ELE34057', 'FRO31317'], ['DAI75645', 'ELE66810'], ['DAI75645', 'ELE56788'], ['DAI22177', 'DAI83733'], ['ELE34057', 'FRO40251'], ['DAI62779', 'DAI88807'], ['ELE66810', 'GRO59710'], ['DAI62779', 'GRO59710'], ['DAI62779', 'GRO24246'], ['ELE91337', 'GRO73461'], ['ELE37048', 'FRO40251'], ['DAI73122', 'GRO73461'], ['DAI62779', 'SNA96466'], ['GRO21487', 'SNA45677'], ['GRO35122', 'GRO73461'], ['ELE74009', 'SNA99873'], ['ELE74009', 'SNA72163'], ['ELE74009', 'FRO31317'], ['DAI22896', 'ELE74009'], ['DAI88807', 'SNA59903'], ['DAI88807', 'ELE74009'], ['DAI22896', 'FRO40251'], ['FRO40251', 'SNA72163'], ['DAI88807', 'FRO40251'], ['GRO35122', 'GRO56726'], ['ELE49801', 'GRO73461'], ['ELE49801', 'GRO46854'], ['FRO80039', 'FRO85978'], ['ELE17451', 'SNA90094'], ['GRO73461', 'SNA90094'], ['FRO40251', 'SNA90094'], ['FRO40251', 'FRO75586'], ['SNA80324', 'SNA90094'], ['DAI75645', 'SNA90094'], ['FRO75586', 'SNA80324'], ['DAI75645', 'ELE20847'], ['ELE20847', 'GRO85051'], ['GRO21487', 'GRO69543'], ['DAI75645', 'ELE66600'], ['DAI75645', 'GRO69543'], ['ELE17451', 'FRO35904'], ['DAI88807', 'ELE17451'], ['FRO35904', 'GRO73461'], ['FRO35904', 'SNA80324'], ['DAI83733', 'FRO85978'], ['DAI42493', 'ELE17451'], ['DAI42493', 'GRO73461'], ['GRO73461', 'SNA18336'], ['GRO44993', 'SNA45677'], ['ELE56788', 'SNA45677'], ['GRO94173', 'SNA45677'], ['DAI95741', 'SNA90094'], ['GRO64900', 'GRO73461'], ['GRO30386', 'SNA45677'], ['DAI31081', 'ELE17451'], ['FRO80039', 'GRO94758'], ['GRO30386', 'SNA88283'], ['ELE14480', 'GRO73461'], ['ELE14480', 'FRO40251'], ['ELE17451', 'SNA62128'], ['ELE26917', 'GRO94758'], ['ELE88583', 'SNA24799'], ['ELE74009', 'GRO59710'], ['ELE20847', 'FRO92469'], ['ELE91337', 'FRO80039'], ['DAI62779', 'ELE92920'], ['FRO80039', 'SNA80324'], ['ELE92920', 'FRO40251'], ['FRO16142', 'GRO59710'], ['DAI62779', 'FRO89565'], ['DAI62779', 'SNA40784'], ['ELE99737', 'GRO94758'], ['GRO71621', 'GRO94758'], ['GRO56726', 'SNA93860'], ['GRO30386', 'GRO59710'], ['GRO71621', 'SNA80324'], ['FRO40251', 'GRO71621'], ['GRO71621', 'SNA99873'], ['GRO71621', 'SNA93860'], ['DAI43868', 'SNA82528'], ['ELE99737', 'SNA55762'], ['GRO21487', 'GRO85051'], ['FRO80039', 'SNA45677'], ['DAI75645', 'FRO78087'], ['DAI55148', 'DAI62779'], ['ELE74009', 'FRO80039'], ['FRO40251', 'GRO64900'], ['SNA45677', 'SNA55762'], ['FRO85978', 'SNA55762'], ['DAI62779', 'GRO32086'], ['DAI62779', 'GRO95519'], ['DAI83733', 'SNA99873'], ['ELE17451', 'SNA88283'], ['ELE66600', 'SNA55762'], ['FRO98184', 'GRO30386'], ['ELE17451', 'FRO53271'], ['DAI55148', 'FRO40251'], ['DAI42493', 'DAI62779'], ['ELE26917', 'GRO38983'], ['ELE32164', 'FRO16142'], ['ELE32164', 'FRO53271'], ['DAI88807', 'GRO21487'], ['DAI62779', 'GRO88505'], ['FRO31317', 'GRO38814'], ['FRO31317', 'GRO69543'], ['GRO21487', 'GRO71621'], ['DAI62779', 'SNA18336'], ['SNA45677', 'SNA96271'], ['DAI31081', 'GRO69543'], ['ELE91337', 'GRO21487'], ['DAI63921', 'GRO46854'], ['ELE26917', 'GRO71621'], ['ELE17451', 'GRO35122'], ['DAI62779', 'GRO35122'], ['DAI62779', 'ELE74482'], ['DAI31081', 'DAI88807'], ['DAI62779', 'DAI95741'], ['FRO78087', 'GRO59710'], ['FRO32293', 'GRO59710'], ['GRO21487', 'GRO59710'], ['ELE17451', 'GRO71621'], ['DAI83948', 'GRO88511'], ['DAI63921', 'GRO21487'], ['ELE74009', 'GRO21487'], ['DAI83733', 'GRO21487'], ['ELE66600', 'GRO71621'], ['FRO85978', 'GRO71621'], ['FRO92261', 'SNA99873'], ['GRO15017', 'GRO21487'], ['DAI62779', 'FRO79022'], ['FRO79022', 'GRO56726'], ['ELE53126', 'FRO53271'], ['DAI62779', 'FRO99372'], ['GRO21487', 'GRO30386'], ['DAI31081', 'GRO21487'], ['FRO40251', 'SNA18336'], ['ELE17451', 'ELE74482'], ['ELE74482', 'FRO31317'], ['ELE32164', 'SNA99873'], ['ELE32164', 'SNA93860'], ['ELE32164', 'SNA18336'], ['ELE32164', 'ELE92920'], ['ELE92920', 'SNA18336'], ['DAI55148', 'SNA80324'], ['DAI73122', 'ELE32164'], ['ELE32164', 'SNA72163'], ['ELE32164', 'SNA55762'], ['DAI42493', 'ELE32164'], ['SNA45677', 'SNA90094'], ['DAI85309', 'ELE17451'], ['DAI85309', 'GRO73461'], ['DAI85309', 'FRO40251'], ['DAI85309', 'SNA80324'], ['DAI85309', 'ELE34057'], ['DAI85309', 'ELE26917'], ['DAI85309', 'FRO78087'], ['DAI85309', 'GRO81087'], ['DAI85309', 'ELE99737'], ['DAI63921', 'DAI85309'], ['DAI85309', 'SNA45677'], ['DAI85309', 'FRO85978'], ['ELE11111', 'ELE32164'], ['ELE32164', 'SNA59903'], ['GRO59710', 'GRO94758'], ['GRO59710', 'SNA55762'], ['ELE32164', 'GRO94758'], ['ELE32164', 'GRO69543'], ['DAI88807', 'FRO53271'], ['FRO53271', 'GRO59710'], ['GRO71621', 'SNA40784'], ['DAI83733', 'ELE91337'], ['ELE32164', 'SNA90094'], ['DAI22177', 'GRO71621'], ['DAI85309', 'GRO94758'], ['DAI85309', 'ELE91337'], ['DAI85309', 'GRO61133'], ['DAI95741', 'GRO46854'], ['GRO46854', 'SNA55762'], ['DAI85309', 'SNA99873'], ['DAI85309', 'DAI95741'], ['DAI85309', 'SNA55762'], ['DAI85309', 'GRO46854'], ['DAI85309', 'ELE59935'], ['DAI85309', 'GRO56726'], ['DAI75645', 'DAI85309'], ['DAI85309', 'ELE74009'], ['DAI22177', 'DAI75645'], ['DAI42493', 'FRO31317'], ['ELE74009', 'GRO30386'], ['FRO80039', 'GRO21487'], ['ELE74482', 'GRO30386'], ['FRO64631', 'SNA99873'], ['ELE66600', 'SNA80324'], ['ELE74009', 'GRO94758'], ['GRO38814', 'GRO71621'], ['ELE92920', 'GRO59710'], ['ELE26917', 'ELE32164'], ['ELE32164', 'ELE66810'], ['DAI85309', 'SNA40784'], ['ELE32164', 'FRO80039'], ['ELE32164', 'FRO32293'], ['ELE17451', 'ELE56788'], ['DAI43223', 'DAI62779'], ['ELE32164', 'ELE74482'], ['DAI43223', 'GRO94758'], ['ELE32164', 'ELE99737'], ['ELE32164', 'SNA62128'], ['DAI22177', 'DAI85309'], ['DAI85309', 'FRO31317'], ['DAI85309', 'ELE32164'], ['DAI85309', 'FRO79022'], ['DAI43223', 'DAI85309'], ['ELE17451', 'ELE92920'], ['DAI62779', 'SNA90094'], ['ELE56788', 'SNA80324'], ['ELE32164', 'SNA38068'], ['DAI22240', 'ELE37048'], ['ELE74009', 'ELE92920'], ['DAI42493', 'SNA18336'], ['DAI42493', 'ELE92920'], ['DAI42493', 'GRO59710'], ['DAI85309', 'FRO66272'], ['DAI22177', 'FRO80039'], ['DAI85309', 'ELE66600'], ['ELE32164', 'ELE56788'], ['FRO78087', 'GRO71621'], ['ELE32164', 'GRO71621'], ['DAI85309', 'SNA96271'], ['DAI85309', 'ELE66810'], ['DAI85309', 'GRO15017'], ['DAI85309', 'GRO30386'], ['DAI85309', 'SNA93860'], ['DAI85309', 'GRO59710'], ['ELE74009', 'GRO71621'], ['DAI85309', 'GRO71621'], ['DAI85309', 'FRO80039'], ['DAI63921', 'GRO71621'], ['GRO71621', 'SNA90094'], ['GRO46854', 'GRO61133'], ['ELE74009', 'SNA90094'], ['ELE66600', 'ELE66810'], ['FRO19221', 'GRO73461'], ['FRO80039', 'GRO46854'], ['DAI62779', 'FRO19221'], ['FRO80039', 'GRO71621'], ['ELE99737', 'SNA45677'], ['GRO71621', 'SNA45677'], ['ELE99737', 'FRO19221'], ['DAI85309', 'FRO19221'], ['DAI85309', 'SNA18336'], ['DAI62779', 'DAI85309'], ['FRO40251', 'GRO46854'], ['DAI75645', 'GRO46854'], ['ELE74009', 'GRO46854'], ['GRO46854', 'SNA80324'], ['DAI22240', 'DAI62779'], ['DAI62779', 'ELE69552'], ['ELE69552', 'FRO19221'], ['DAI85309', 'ELE56788'], ['DAI85309', 'ELE92920'], ['ELE21353', 'FRO19221'], ['FRO19221', 'SNA53220'], ['DAI85309', 'GRO21487'], ['GRO46854', 'GRO71621'], ['DAI91290', 'ELE32164'], ['FRO19221', 'SNA93860'], ['GRO46854', 'SNA93860'], ['ELE92920', 'GRO15017'], ['DAI83733', 'FRO80039'], ['FRO40251', 'SNA62128'], ['DAI85309', 'SNA90094'], ['DAI83733', 'DAI85309'], ['ELE32244', 'ELE66600'], ['ELE32164', 'FRO35904'], ['FRO35904', 'FRO78087'], ['DAI88088', 'ELE38289'], ['DAI23334', 'DAI62779'], ['GRO46854', 'SNA90094'], ['DAI88807', 'FRO80039'], ['DAI62779', 'GRO83463'], ['DAI22177', 'ELE56788'], ['DAI83031', 'DAI94679'], ['DAI62779', 'ELE81534'], ['SNA40784', 'SNA99873'], ['DAI55148', 'DAI85309'], ['FRO31317', 'GRO56726'], ['GRO21487', 'GRO46854'], ['DAI55148', 'ELE32164'], ['GRO46854', 'GRO56726'], ['DAI75645', 'ELE92920'], ['DAI22177', 'GRO46854'], ['DAI83733', 'GRO46854'], ['FRO99783', 'GRO46854'], ['FRO35904', 'FRO99783'], ['FRO79022', 'FRO99783'], ['DAI87448', 'GRO56726'], ['DAI23334', 'ELE92920'], ['DAI62779', 'DAI87448'], ['DAI87448', 'GRO73461'], ['DAI87448', 'ELE30933'], ['DAI85309', 'DAI87448'], ['DAI87448', 'GRO46854'], ['FRO79022', 'GRO46854'], ['ELE92920', 'GRO81087'], ['DAI62779', 'FRO99783'], ['GRO46854', 'GRO81045'], ['DAI42083', 'DAI92600'], ['DAI92600', 'FRO40251'], ['DAI92600', 'GRO73461'], ['DAI92600', 'ELE17451'], ['DAI62779', 'DAI92600'], ['DAI92600', 'GRO59710'], ['DAI92600', 'ELE32164'], ['DAI42083', 'ELE17451']]\n",
            "[['ELE17451', 'SNA59903', 'SNA72163'], ['DAI62779', 'ELE17451', 'FRO78087'], ['DAI62779', 'ELE17451', 'ELE26917'], ['DAI62779', 'ELE17451', 'SNA99873'], ['DAI62779', 'ELE17451', 'SNA55762'], ['DAI62779', 'ELE17451', 'SNA45677'], ['DAI62779', 'ELE17451', 'FRO40251'], ['DAI62779', 'ELE17451', 'GRO73461'], ['DAI62779', 'ELE17451', 'GRO30386'], ['DAI62779', 'ELE17451', 'ELE32164'], ['DAI62779', 'GRO30386', 'GRO73461'], ['DAI62779', 'ELE32164', 'GRO73461'], ['DAI43223', 'ELE17451', 'ELE32164'], ['ELE17451', 'FRO40251', 'GRO73461'], ['DAI62779', 'FRO40251', 'GRO73461'], ['DAI88079', 'ELE17451', 'FRO40251'], ['DAI88079', 'FRO40251', 'GRO73461'], ['FRO40251', 'FRO92469', 'GRO73461'], ['DAI75645', 'FRO40251', 'GRO73461'], ['DAI75645', 'FRO40251', 'FRO92469'], ['ELE17451', 'FRO40251', 'FRO92469'], ['DAI62779', 'FRO40251', 'FRO92469'], ['DAI62779', 'ELE17451', 'GRO85051'], ['DAI62779', 'ELE17451', 'SNA80324'], ['ELE17451', 'FRO40251', 'GRO85051'], ['ELE17451', 'FRO40251', 'SNA80324'], ['DAI62779', 'FRO40251', 'GRO85051'], ['DAI62779', 'FRO40251', 'SNA80324'], ['FRO40251', 'GRO85051', 'SNA80324'], ['DAI62779', 'GRO73461', 'SNA80324'], ['FRO40251', 'GRO73461', 'GRO85051'], ['FRO40251', 'GRO73461', 'SNA80324'], ['DAI88079', 'FRO40251', 'SNA80324'], ['FRO40251', 'FRO92469', 'SNA80324'], ['ELE17451', 'GRO85051', 'SNA80324'], ['ELE26917', 'FRO40251', 'GRO85051'], ['ELE26917', 'FRO40251', 'SNA80324'], ['DAI62779', 'GRO85051', 'SNA80324'], ['DAI62779', 'GRO38814', 'GRO73461'], ['DAI75645', 'FRO40251', 'GRO85051'], ['DAI75645', 'FRO40251', 'SNA80324'], ['DAI75645', 'GRO85051', 'SNA80324'], ['DAI75645', 'GRO73461', 'SNA80324'], ['FRO40251', 'SNA45677', 'SNA80324'], ['DAI62779', 'ELE17451', 'GRO81087'], ['DAI75645', 'FRO40251', 'FRO53271'], ['DAI62779', 'SNA59903', 'SNA72163'], ['DAI55911', 'FRO40251', 'GRO85051'], ['DAI75645', 'ELE74009', 'FRO40251'], ['DAI75645', 'FRO40251', 'SNA55762'], ['DAI62779', 'DAI75645', 'FRO40251'], ['DAI62779', 'DAI75645', 'GRO73461'], ['DAI62779', 'DAI75645', 'SNA80324'], ['DAI62779', 'GRO71621', 'GRO73461'], ['DAI75645', 'GRO94758', 'SNA80324'], ['DAI75645', 'DAI88079', 'FRO40251'], ['DAI62779', 'ELE20847', 'FRO40251'], ['FRO40251', 'GRO94758', 'SNA80324'], ['DAI62779', 'GRO46854', 'GRO73461'], ['DAI62779', 'FRO85978', 'SNA93860'], ['DAI62779', 'ELE59028', 'SNA93860'], ['DAI62779', 'ELE59028', 'FRO85978'], ['ELE59028', 'FRO85978', 'SNA93860'], ['DAI62779', 'DAI83733', 'ELE17451'], ['DAI62779', 'DAI75645', 'GRO30386'], ['DAI75645', 'ELE26917', 'SNA80324'], ['DAI62779', 'GRO30386', 'SNA80324'], ['DAI75645', 'ELE17451', 'SNA80324'], ['DAI75645', 'ELE17451', 'FRO40251'], ['DAI75645', 'ELE17451', 'GRO73461'], ['DAI43223', 'ELE32164', 'GRO59710'], ['FRO40251', 'GRO21487', 'GRO73461'], ['DAI62779', 'GRO21487', 'GRO73461'], ['ELE32164', 'GRO59710', 'GRO73461'], ['DAI31081', 'DAI75645', 'FRO40251'], ['DAI88807', 'SNA59903', 'SNA72163'], ['ELE20847', 'FRO40251', 'GRO85051'], ['DAI75645', 'ELE20847', 'FRO40251'], ['DAI75645', 'GRO30386', 'SNA80324'], ['DAI75645', 'ELE26917', 'FRO40251'], ['ELE20847', 'FRO40251', 'SNA80324'], ['DAI75645', 'ELE20847', 'SNA80324'], ['ELE20847', 'FRO40251', 'FRO92469'], ['DAI62779', 'ELE20847', 'SNA80324'], ['DAI62779', 'ELE92920', 'FRO40251'], ['DAI62779', 'ELE17451', 'FRO80039'], ['DAI62779', 'DAI75645', 'ELE17451'], ['DAI62779', 'DAI75645', 'GRO85051'], ['DAI62779', 'ELE17451', 'GRO94758'], ['DAI62779', 'SNA53220', 'SNA93860'], ['FRO40251', 'GRO21487', 'GRO85051'], ['DAI55148', 'DAI62779', 'ELE17451'], ['DAI55148', 'DAI62779', 'DAI75645'], ['DAI55148', 'ELE17451', 'FRO40251'], ['DAI55148', 'DAI62779', 'FRO40251'], ['FRO40251', 'GRO71621', 'SNA80324'], ['DAI75645', 'FRO40251', 'SNA45677'], ['DAI43223', 'ELE17451', 'GRO59710'], ['DAI62779', 'ELE32164', 'ELE92920'], ['DAI62779', 'ELE92920', 'SNA18336'], ['DAI55148', 'DAI62779', 'SNA80324'], ['DAI43223', 'DAI62779', 'ELE32164'], ['DAI62779', 'ELE17451', 'ELE92920'], ['ELE17451', 'ELE32164', 'GRO59710'], ['DAI62779', 'ELE17451', 'GRO59710'], ['DAI62779', 'ELE17451', 'SNA18336'], ['ELE17451', 'ELE92920', 'SNA18336'], ['DAI62779', 'FRO19221', 'GRO73461'], ['DAI43223', 'DAI62779', 'ELE17451'], ['DAI43223', 'DAI62779', 'GRO59710'], ['DAI62779', 'DAI85309', 'ELE17451'], ['DAI62779', 'DAI85309', 'FRO40251'], ['DAI62779', 'DAI85309', 'GRO73461'], ['DAI62779', 'DAI85309', 'ELE99737'], ['DAI62779', 'DAI85309', 'SNA18336'], ['DAI62779', 'ELE17451', 'SNA59903'], ['DAI88807', 'ELE17451', 'SNA59903'], ['DAI62779', 'DAI85309', 'ELE32164'], ['DAI55148', 'FRO40251', 'SNA80324'], ['DAI55148', 'DAI75645', 'FRO40251'], ['DAI62779', 'DAI85309', 'ELE92920'], ['DAI85309', 'ELE92920', 'SNA18336'], ['DAI62779', 'FRO19221', 'SNA53220'], ['DAI62779', 'ELE17451', 'GRO71621'], ['DAI85309', 'ELE17451', 'ELE92920'], ['DAI62779', 'ELE32164', 'GRO59710'], ['DAI62779', 'FRO19221', 'SNA93860'], ['DAI62779', 'ELE92920', 'GRO15017'], ['DAI62779', 'DAI83733', 'DAI85309'], ['DAI62779', 'DAI75645', 'ELE92920'], ['DAI23334', 'DAI62779', 'ELE92920'], ['DAI62779', 'ELE92920', 'GRO81087']]\n"
          ]
        }
      ]
    },
    {
      "cell_type": "code",
      "source": [
        "print(len(F[\"1\"]))\n",
        "print(len(F[\"2\"]))\n",
        "print(len(F[\"3\"]))"
      ],
      "metadata": {
        "colab": {
          "base_uri": "https://localhost:8080/"
        },
        "id": "dU4DsFMVv_Rb",
        "outputId": "7fb14c47-cd2a-4fe4-e1ee-f63ceddc70f9"
      },
      "execution_count": 98,
      "outputs": [
        {
          "output_type": "stream",
          "name": "stdout",
          "text": [
            "553\n",
            "940\n",
            "132\n"
          ]
        }
      ]
    },
    {
      "cell_type": "code",
      "source": [
        "C[\" \".join(['ELE17451', 'SNA59903', 'SNA72163'])]"
      ],
      "metadata": {
        "colab": {
          "base_uri": "https://localhost:8080/"
        },
        "id": "1gP5MYKYwFYM",
        "outputId": "84b81c06-8a9a-43a7-d82a-c740002f8b27"
      },
      "execution_count": 99,
      "outputs": [
        {
          "output_type": "execute_result",
          "data": {
            "text/plain": [
              "127"
            ]
          },
          "metadata": {},
          "execution_count": 99
        }
      ]
    },
    {
      "cell_type": "code",
      "source": [
        "def confidence(X, Y):\n",
        "  num = sorted(X + Y)\n",
        "  den = sorted(X)\n",
        "  return C[\" \".join(num)] / C[\" \".join(den)]"
      ],
      "metadata": {
        "id": "a9nA4pF_xeAB"
      },
      "execution_count": 100,
      "outputs": []
    },
    {
      "cell_type": "code",
      "source": [
        "recommendations = list()\n",
        "for rule in F[\"2\"]:\n",
        "  recommendations.append((f\"{rule[0]} --> {rule[1]}\", confidence([rule[0]], [rule[1]])))\n",
        "  recommendations.append((f\"{rule[1]} --> {rule[0]}\", confidence([rule[1]], [rule[0]])))"
      ],
      "metadata": {
        "id": "8fOMArpBwP6s"
      },
      "execution_count": 101,
      "outputs": []
    },
    {
      "cell_type": "code",
      "source": [
        "sorted_list = sorted(recommendations, key=lambda x: (-x[1], x[0].split(\" --> \")[0]))\n",
        "small_list = sorted_list[:5]\n",
        "\n",
        "for rule in small_list:\n",
        "  print(f\"Rule: {rule[0]} with Confidence: {rule[1]}\")"
      ],
      "metadata": {
        "colab": {
          "base_uri": "https://localhost:8080/"
        },
        "id": "WzRw1PBixtPO",
        "outputId": "17ce2b9d-d99a-4950-9645-7be960236fd9"
      },
      "execution_count": 102,
      "outputs": [
        {
          "output_type": "stream",
          "name": "stdout",
          "text": [
            "Rule: DAI93865 --> FRO40251 with Confidence: 1.0\n",
            "Rule: GRO85051 --> FRO40251 with Confidence: 0.999176276771005\n",
            "Rule: DAI88079 --> FRO40251 with Confidence: 0.9867256637168141\n",
            "Rule: FRO92469 --> FRO40251 with Confidence: 0.983510011778563\n",
            "Rule: DAI43868 --> SNA82528 with Confidence: 0.972972972972973\n"
          ]
        }
      ]
    },
    {
      "cell_type": "code",
      "source": [
        "recommendations = list()\n",
        "for rule in F[\"3\"]:\n",
        "  recommendations.append((f\"{rule[0]}, {rule[1]} --> {rule[2]}\", confidence([rule[0], rule[1]], [rule[2]])))\n",
        "  recommendations.append((f\"{rule[1]}, {rule[2]} --> {rule[0]}\", confidence([rule[1], rule[2]], [rule[0]])))\n",
        "  recommendations.append((f\"{rule[0]}, {rule[2]} --> {rule[1]}\", confidence([rule[0], rule[2]], [rule[1]])))"
      ],
      "metadata": {
        "id": "pbYQsbZJ0FmP"
      },
      "execution_count": 103,
      "outputs": []
    },
    {
      "cell_type": "code",
      "source": [
        "sorted_list = sorted(recommendations, key=lambda x: (-x[1], x[0].split(\" --> \")[0]))\n",
        "small_list = sorted_list[:5]\n",
        "\n",
        "for rule in small_list:\n",
        "  print(f\"Rule: {rule[0]} with Confidence: {rule[1]}\")"
      ],
      "metadata": {
        "colab": {
          "base_uri": "https://localhost:8080/"
        },
        "id": "eYPlizdv1d-H",
        "outputId": "231dcc67-3e27-4dfd-c928-efee31a7bcf5"
      },
      "execution_count": 104,
      "outputs": [
        {
          "output_type": "stream",
          "name": "stdout",
          "text": [
            "Rule: DAI23334, ELE92920 --> DAI62779 with Confidence: 1.0\n",
            "Rule: DAI55911, GRO85051 --> FRO40251 with Confidence: 1.0\n",
            "Rule: DAI75645, GRO85051 --> FRO40251 with Confidence: 1.0\n",
            "Rule: ELE17451, GRO85051 --> FRO40251 with Confidence: 1.0\n",
            "Rule: ELE20847, FRO92469 --> FRO40251 with Confidence: 1.0\n"
          ]
        }
      ]
    }
  ]
}