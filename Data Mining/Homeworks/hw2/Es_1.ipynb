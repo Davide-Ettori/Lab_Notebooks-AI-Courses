{
 "cells": [
  {
   "cell_type": "code",
   "execution_count": 10,
   "metadata": {},
   "outputs": [],
   "source": [
    "import numpy as np\n",
    "import scipy as sp\n",
    "from matplotlib import pyplot as plt"
   ]
  },
  {
   "cell_type": "code",
   "execution_count": 11,
   "metadata": {},
   "outputs": [
    {
     "name": "stdout",
     "output_type": "stream",
     "text": [
      "Shape of M: (4, 2)\n",
      "Shape of U: (4, 2)\n",
      "Shape of Sigma: (2,)\n",
      "Shape of Vt: (2, 2)\n",
      "\n",
      "U:\n",
      " [[-0.27854301  0.5       ]\n",
      " [-0.27854301 -0.5       ]\n",
      " [-0.64993368  0.5       ]\n",
      " [-0.64993368 -0.5       ]]\n",
      "Sigma:\n",
      " [7.61577311 1.41421356]\n",
      "Vt:\n",
      " [[-0.70710678 -0.70710678]\n",
      " [-0.70710678  0.70710678]]\n"
     ]
    }
   ],
   "source": [
    "M = np.array([[1, 2], [2, 1], [3, 4], [4, 3]])\n",
    "\n",
    "U, sigma, Vt = sp.linalg.svd(M, full_matrices=False)\n",
    "\n",
    "print(\"Shape of M:\", M.shape)\n",
    "print(\"Shape of U:\", U.shape)\n",
    "print(\"Shape of Sigma:\", sigma.shape)\n",
    "print(\"Shape of Vt:\", Vt.shape)\n",
    "print(\"\\nU:\\n\", U)\n",
    "print(\"Sigma:\\n\", sigma)\n",
    "print(\"Vt:\\n\", Vt)"
   ]
  },
  {
   "cell_type": "code",
   "execution_count": 12,
   "metadata": {},
   "outputs": [
    {
     "name": "stdout",
     "output_type": "stream",
     "text": [
      "Shape of MTM: (2, 2)\n",
      "Shape of Evals: (2,)\n",
      "Shape of Evecs: (2, 2)\n",
      "Eigenvalues (sorted): [58.  2.]\n",
      "Eigenvectors (sorted):\n",
      " [[ 0.70710678 -0.70710678]\n",
      " [ 0.70710678  0.70710678]]\n"
     ]
    }
   ],
   "source": [
    "MTM = np.dot(M.T, M)\n",
    "Evals, Evecs = sp.linalg.eigh(MTM)\n",
    "sorted_indices = np.argsort(Evals)[::-1]\n",
    "Evals = Evals[sorted_indices]\n",
    "Evecs = Evecs[:, sorted_indices]\n",
    "\n",
    "print(\"Shape of MTM:\", MTM.shape)\n",
    "print(\"Shape of Evals:\", Evals.shape)\n",
    "print(\"Shape of Evecs:\", Evecs.shape)\n",
    "print(\"Eigenvalues (sorted):\", Evals)\n",
    "print(\"Eigenvectors (sorted):\\n\", Evecs)"
   ]
  },
  {
   "cell_type": "code",
   "execution_count": 13,
   "metadata": {},
   "outputs": [
    {
     "name": "stdout",
     "output_type": "stream",
     "text": [
      "V (transpose of Vt):\n",
      " [[-0.70710678 -0.70710678]\n",
      " [-0.70710678  0.70710678]]\n",
      "Evecs:\n",
      " [[ 0.70710678 -0.70710678]\n",
      " [ 0.70710678  0.70710678]]\n"
     ]
    }
   ],
   "source": [
    "V = Vt.T\n",
    "print(\"V (transpose of Vt):\\n\", V)\n",
    "print(\"Evecs:\\n\", Evecs)"
   ]
  },
  {
   "cell_type": "code",
   "execution_count": 14,
   "metadata": {},
   "outputs": [
    {
     "name": "stdout",
     "output_type": "stream",
     "text": [
      "L1 norm of the difference between singular values squared and eigenvalues:  2.1760371282653068e-14\n"
     ]
    }
   ],
   "source": [
    "sigma_squared = sigma**2\n",
    "\n",
    "err = np.linalg.norm(sigma_squared - Evals, ord=1)\n",
    "\n",
    "print(\"L1 norm of the difference between singular values squared and eigenvalues: \", err)"
   ]
  }
 ],
 "metadata": {
  "kernelspec": {
   "display_name": "Python 3",
   "language": "python",
   "name": "python3"
  },
  "language_info": {
   "codemirror_mode": {
    "name": "ipython",
    "version": 3
   },
   "file_extension": ".py",
   "mimetype": "text/x-python",
   "name": "python",
   "nbconvert_exporter": "python",
   "pygments_lexer": "ipython3",
   "version": "3.9.18"
  }
 },
 "nbformat": 4,
 "nbformat_minor": 2
}
