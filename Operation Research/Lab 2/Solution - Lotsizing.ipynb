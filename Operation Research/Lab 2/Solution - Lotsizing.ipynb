{
 "cells": [
  {
   "cell_type": "markdown",
   "metadata": {
    "id": "RKRzXfZXz1U0"
   },
   "source": [
    "## Lot sizing\n",
    "\n",
    "A company has to plan the production of 3 products, A1, A2, A3, for a time horizon of four months, from January to April. The working days are: 22 for January, 20 for February, 23 for March, 22 for April.\n",
    "\n",
    "Sales forecasts indicate the following maximum demand, per product and month.\n",
    "\n",
    "\n",
    "| Demand |January|February|March|April|\n",
    "|--------|-------|--------|-----|-----|\n",
    " | A1     | 5300| 1200| 7400| 5300|\n",
    " | A2     | 4500| 5400| 6500| 7200|\n",
    " | A3     | 4400| 6700| 12500| 13200|\n",
    "\n",
    "The following table reports the price of each product (Euro) and its unit production cost (Euro). It also reports the maximum number of pieces that can be produced in a single day (pieces/day), if the whole production capability of the factory is used to produce units of that product.\n",
    "\n",
    "| Product           |A1|A2|A3|\n",
    "|-------------------|--|--|--|\n",
    "| Price             | 124| 109| 115|\n",
    "| Production cost   | 75| 53| 65|\n",
    "| Production amount | 500| 450| 550|\n",
    "\n",
    "Inventory can be used to store units of unsold product. The inventory cost per month and unit\n",
    "is 3 for product A1, 4 for product A2, and 2 for product A3. Each month, no more than 800\n",
    "total units of the three products can be stored.\n",
    "\n",
    "1. Give an integer linear programming formulation for the problem of determining a production plan that maximizes the total revenue.\n",
    "2. Integrality restrictions are mandatory for this problem, since we are dealing with discrete products. In spite of this, when dealing with problems involving large quantities of product, it is often possible, when dropping the integrality constraints, to obtain solutions that are almost integer. Assess, computationally, the difference between integer and continuous optimal solutions for the original formulation."
   ]
  },
  {
   "cell_type": "markdown",
   "metadata": {
    "id": "mllqY4f1Jp8s"
   },
   "source": [
    "<h3>Optional questions<h3>"
   ]
  },
  {
   "cell_type": "markdown",
   "metadata": {
    "id": "f9iX3AUdJp8s"
   },
   "source": [
    "1. Give a formulation for the variant where a minimum lot size is required whenever a product, per month, is produced, and where a fixed cost is charged, per month and product, whenever the production line for the corresponding product is active. Use the data:\n",
    "\n",
    "| Product           |A1|A2|A3|\n",
    "|-------------------|--|--|--|\n",
    "| Fixed cost        |150000|150000|100000|\n",
    "|  Minimum lot size |20|20|16|\n",
    "\n",
    "2. Assess the effect of integrality for the variant of the problem. Do you expect the difference between the integer and continuous solutions to be larger in this case?"
   ]
  },
  {
   "cell_type": "markdown",
   "metadata": {
    "id": "69mQrtF9Jp80"
   },
   "source": [
    " <h3 align=\"center\">Formulation</h3> \n",
    " \n",
    "- Sets\n",
    "    - $I$: products\n",
    "    - $J=$ {1,$\\ldots,n$}: months, $n=4$ \n",
    "    \n",
    "- Parameters\n",
    "    - $b_j$: number of working days for month $j \\in J$\n",
    "    - $d_{ij}$: maximum demand for product $i$ in month $j,i\\in I,j \\in J$\n",
    "    - $r_i$: unit price for product $i \\in I$\n",
    "    - $c_i$: unit production cost for product $i \\in I$\n",
    "    - $q_i$: maximum production level for product $i \\in I$\n",
    "    - $m_i$: unit inventory cost, per month, for product $i \\in I $\n",
    "    - $K$: inventory capacity\n",
    "    \n",
    "- Variables\n",
    "    - $x_{ij}$: quantity of product $i$ produced in month $j$, $i \\in I, j \\in J$\n",
    "    - $v_{ij}$: quantity of product $i$ sold in month $j$, $i \\in I, j \\in J$\n",
    "    - $z_{ij}$: quantity of product $i$ stored at the end of month $j$, $i \\in I, j \\in J \\cup \\{0\\}$ --> auxiliary variable\n",
    "    \n",
    "    \n",
    "- Model (remember to set the initial or final variable for each conservation constrain)\n",
    "$$\n",
    "\\begin{array}{lll}\n",
    "  \\min & \\sum_{i \\in I,j\\in J} r_i v_{ij} - c_{i} x_{ij} - m_i z_{ij} \\qquad & & \\text{(revenue)}\\\\\n",
    "  \\textrm{s. t.}\n",
    "  & v_{ij} \\leq d_{ij} & i \\in I, j \\in J & \\text{(demand)}\\\\\n",
    "  & \\sum_{i \\in I} \\frac{x_{ij}}{q_i} \\leq b_j & j \\in J & \\text{(production)}\\\\\n",
    "  & z_{i,j-1} + x_{ij} = z_{ij} + v_{ij} & i \\in I, j \\in J & \\text{(balance)}\\\\\n",
    "  & z_{i,0} = 0 & i \\in I & \\text{(init)}\\\\\n",
    "  & \\sum_{i \\in I} z_{ij} \\leq K & j \\in J & \\text{(capacity)}\\\\\n",
    "  & x_{ij} \\in \\mathbb{Z}^{+} & i \\in I, j \\in J &  \\text{(nonnegativity, integrality)}\\\\\n",
    "  & v_{ij} \\geq 0 & i\\in I, j \\in J & \\text{(nonnegativity)}\\\\\n",
    "  & z_{ij} \\geq 0 & i\\in I, j\\in I\\cup\\{0\\} & \\text{(nonnegativity)}\n",
    "\\end{array}\n",
    "$$\n",
    "\n",
    "The introduction of variable $z_{ij}$ for month 0 (constraint init) is necessary for the correctness of the balance constraint. Note that it suffices to impose the integrality on $x_{ij}$ to guarantee that $v_{ij}$ and $z_{ij}$ will be integral as well. Why?"
   ]
  },
  {
   "cell_type": "code",
   "execution_count": 3,
   "outputs": [],
   "source": [
    "# When using Colab, make sure you run this instruction beforehand\n",
    "#!pip install --upgrade cffi==1.15.0\n",
    "import importlib\n",
    "import cffi\n",
    "#importlib.reload(cffi)\n",
    "#!pip install mip"
   ],
   "metadata": {
    "collapsed": false,
    "ExecuteTime": {
     "end_time": "2023-11-03T14:47:54.229341Z",
     "start_time": "2023-11-03T14:47:54.219181Z"
    }
   }
  },
  {
   "cell_type": "code",
   "execution_count": 4,
   "outputs": [],
   "source": [
    "import mip\n",
    "from mip import BINARY,INTEGER\n",
    "# Number of products\n",
    "n_product = 3\n",
    "# Number of months\n",
    "n_months = 4\n",
    "\n",
    "# Set of products\n",
    "I = range(n_product)\n",
    "# Set of months\n",
    "J = range(1, n_months+1)\n",
    "\n",
    "# Working days per month\n",
    "b = [22, 20, 23, 22]\n",
    "# Maximum demand, per product and month\n",
    "d = [[5300, 1200, 7400, 5300], [4500, 5400, 6500, 7200], [4400, 6700, 12500, 13200]]\n",
    "\n",
    "# Price of each product (Euro)\n",
    "r = [124, 109, 115]\n",
    "# Unit production cost (Euro)\n",
    "c = [75, 53, 65]\n",
    "\n",
    "# Maximum number of pieces that can be produced in a single day (pieces/day)\n",
    "q = [500, 450, 550]\n",
    "# Inventory cost per month and unit\n",
    "m = [3, 4, 2]\n",
    "\n",
    "# Maximum number of total units of the three products that can be stored\n",
    "K = 800\n",
    "\n",
    "# Fixed cost charged per month and product\n",
    "f = [150000, 150000, 100000]\n",
    "# Minimum lot size per product and month\n",
    "l = [20, 20, 16]"
   ],
   "metadata": {
    "collapsed": false,
    "ExecuteTime": {
     "end_time": "2023-11-03T14:47:54.504198Z",
     "start_time": "2023-11-03T14:47:54.499137Z"
    }
   }
  },
  {
   "cell_type": "code",
   "execution_count": 52,
   "outputs": [],
   "source": [
    "# Model definition\n",
    "model = mip.Model()"
   ],
   "metadata": {
    "collapsed": false,
    "ExecuteTime": {
     "end_time": "2023-10-31T20:33:15.430799Z",
     "start_time": "2023-10-31T20:33:15.373979Z"
    }
   }
  },
  {
   "cell_type": "code",
   "execution_count": 53,
   "outputs": [],
   "source": [
    "# quantity of product i produced in month j\n",
    "x = {(i, j): model.add_var(name ='x('+str(i)+','+str(j)+')', var_type=INTEGER, lb=0) for i in I for j in J}\n",
    "# quantity of product i sold in month j\n",
    "v = {(i, j): model.add_var(name ='v('+str(i)+','+str(j)+')', lb=0) for i in I for j in J}\n",
    "# quantity of product i stored at the end of month j\n",
    "z = {(i, j): model.add_var(name ='z('+str(i)+','+str(j)+')', lb=0) for i in I for j in range(n_months+1)}"
   ],
   "metadata": {
    "collapsed": false,
    "ExecuteTime": {
     "end_time": "2023-10-31T20:33:15.431683Z",
     "start_time": "2023-10-31T20:33:15.381847Z"
    }
   }
  },
  {
   "cell_type": "code",
   "execution_count": 54,
   "outputs": [],
   "source": [
    "# maximizing the revenue\n",
    "model.objective = mip.maximize(mip.xsum(r[i]*v[i, j] - c[i]*x[i, j] - m[i]*z[i, j] for i in I for j in J))"
   ],
   "metadata": {
    "collapsed": false,
    "ExecuteTime": {
     "end_time": "2023-10-31T20:33:15.431859Z",
     "start_time": "2023-10-31T20:33:15.390780Z"
    }
   }
  },
  {
   "cell_type": "code",
   "execution_count": 55,
   "outputs": [],
   "source": [
    "# Demand constraint\n",
    "for i in I:\n",
    "    for j in J:\n",
    "      model.add_constr(v[i, j]<=d[i][j-1])\n",
    "\n",
    "# Production constraint\n",
    "for j in J:\n",
    "    model.add_constr(mip.xsum(x[i, j]/q[i] for i in I) <= b[j-1])\n",
    "\n",
    "# Balance constraint\n",
    "for i in I:\n",
    "    for j in J:\n",
    "        model.add_constr(z[i, j-1]+x[i,j] == z[i, j] + v[i, j])\n",
    "# Init constraint\n",
    "for i in I:\n",
    "    model.add_constr(z[i, 0] == 0)\n",
    "\n",
    "# Capacity constraint\n",
    "for j in J:\n",
    "    model.add_constr(mip.xsum(z[i, j] for i in I) <= K)"
   ],
   "metadata": {
    "collapsed": false,
    "ExecuteTime": {
     "end_time": "2023-10-31T20:33:15.432363Z",
     "start_time": "2023-10-31T20:33:15.398792Z"
    }
   }
  },
  {
   "cell_type": "code",
   "execution_count": 56,
   "outputs": [
    {
     "name": "stdout",
     "output_type": "stream",
     "text": [
      "Cgl0003I 0 fixed, 0 tightened bounds, 2 strengthened rows, 0 substitutions\n",
      "Cgl0004I processed model has 44 rows, 36 columns (24 integer (12 of which binary)) and 107 elements\n",
      "Coin3009W Conflict graph built in 0.000 seconds, density: 0.457%\n",
      "Cgl0015I Clique Strengthening extended 0 cliques, 0 were dominated\n",
      "Cbc0038I Initial state - 6 integers unsatisfied sum - 1.08826\n",
      "Cbc0038I Pass   1: suminf.    0.09091 (1) obj. -1.58409e+06 iterations 7\n",
      "Cbc0038I Solution found of -1.58409e+06\n",
      "Cbc0038I Branch and bound needed to clear up 1 general integers\n",
      "Cbc0038I Full problem 44 rows 36 columns, reduced to 15 rows 15 columns\n",
      "Cbc0038I Cleaned solution of -1.58584e+06\n",
      "Cbc0038I Before mini branch and bound, 18 integers at bound fixed and 11 continuous of which 2 were internal integer and 0 internal continuous\n",
      "Cbc0038I Mini branch and bound did not improve solution (0.01 seconds)\n",
      "Cbc0038I Freeing continuous variables gives a solution of -1.58584e+06\n",
      "Cbc0038I Round again with cutoff of -1.5957e+06\n",
      "Cbc0038I Reduced cost fixing fixed 4 variables on major pass 2\n",
      "Cbc0038I Pass   2: suminf.    0.56249 (3) obj. -1.5957e+06 iterations 10\n",
      "Cbc0038I Pass   3: suminf.    1.43634 (5) obj. -1.5957e+06 iterations 7\n",
      "Cbc0038I Pass   4: suminf.    1.54015 (6) obj. -1.5957e+06 iterations 24\n",
      "Cbc0038I Pass   5: suminf.    0.72311 (4) obj. -1.5957e+06 iterations 7\n",
      "Cbc0038I Pass   6: suminf.    0.56249 (3) obj. -1.5957e+06 iterations 9\n",
      "Cbc0038I Pass   7: suminf.    0.56249 (3) obj. -1.5957e+06 iterations 2\n",
      "Cbc0038I Pass   8: suminf.    1.27531 (6) obj. -1.5957e+06 iterations 12\n",
      "Cbc0038I Pass   9: suminf.    1.75188 (7) obj. -1.5957e+06 iterations 2\n",
      "Cbc0038I Pass  10: suminf.    1.75188 (7) obj. -1.5957e+06 iterations 0\n",
      "Cbc0038I Pass  11: suminf.    1.75188 (7) obj. -1.5957e+06 iterations 0\n",
      "Cbc0038I Pass  12: suminf.    1.27531 (6) obj. -1.5957e+06 iterations 2\n",
      "Cbc0038I Pass  13: suminf.    1.75188 (7) obj. -1.5957e+06 iterations 2\n",
      "Cbc0038I Pass  14: suminf.    1.75188 (7) obj. -1.5957e+06 iterations 0\n",
      "Cbc0038I Pass  15: suminf.    1.75188 (7) obj. -1.5957e+06 iterations 0\n",
      "Cbc0038I Pass  16: suminf.    0.89370 (4) obj. -1.5957e+06 iterations 6\n",
      "Cbc0038I Pass  17: suminf.    0.77181 (6) obj. -1.5957e+06 iterations 13\n",
      "Cbc0038I Pass  18: suminf.    0.77181 (6) obj. -1.5957e+06 iterations 0\n",
      "Cbc0038I Pass  19: suminf.    1.53465 (5) obj. -1.5957e+06 iterations 9\n",
      "Cbc0038I Pass  20: suminf.    0.45615 (2) obj. -1.5957e+06 iterations 5\n",
      "Cbc0038I Pass  21: suminf.    0.56249 (3) obj. -1.5957e+06 iterations 11\n",
      "Cbc0038I Pass  22: suminf.    1.43634 (5) obj. -1.5957e+06 iterations 5\n",
      "Cbc0038I Pass  23: suminf.    1.43634 (5) obj. -1.5957e+06 iterations 0\n",
      "Cbc0038I Pass  24: suminf.    0.79699 (5) obj. -1.5957e+06 iterations 15\n",
      "Cbc0038I Pass  25: suminf.    0.56249 (3) obj. -1.5957e+06 iterations 8\n",
      "Cbc0038I Pass  26: suminf.    1.92602 (5) obj. -1.5957e+06 iterations 16\n",
      "Cbc0038I Pass  27: suminf.    1.92602 (5) obj. -1.5957e+06 iterations 0\n",
      "Cbc0038I Pass  28: suminf.    0.36524 (3) obj. -1.5957e+06 iterations 15\n",
      "Cbc0038I Pass  29: suminf.    0.89370 (4) obj. -1.5957e+06 iterations 3\n",
      "Cbc0038I Pass  30: suminf.    0.77181 (6) obj. -1.5957e+06 iterations 12\n",
      "Cbc0038I Pass  31: suminf.    0.77181 (6) obj. -1.5957e+06 iterations 0\n",
      "Cbc0038I No solution found this major pass\n",
      "Cbc0038I Before mini branch and bound, 11 integers at bound fixed and 6 continuous\n",
      "Cbc0038I Full problem 44 rows 36 columns, reduced to 20 rows 17 columns\n",
      "Cbc0038I Mini branch and bound did not improve solution (0.02 seconds)\n",
      "Cbc0038I After 0.02 seconds - Feasibility pump exiting with objective of -1.58584e+06 - took 0.01 seconds\n",
      "Cbc0012I Integer solution of -1585836 found by feasibility pump after 0 iterations and 0 nodes (0.02 seconds)\n",
      "Cbc0038I Full problem 44 rows 36 columns, reduced to 25 rows 20 columns\n",
      "Cbc0031I 10 added rows had average density of 4.2\n",
      "Cbc0013I At root node, 10 cuts changed objective from -1684481.4 to -1585836.1 in 44 passes\n",
      "Cbc0014I Cut generator 0 (Probing) - 27 row cuts average 2.9 elements, 0 column cuts (0 active)  in 0.002 seconds - new frequency is 1\n",
      "Cbc0014I Cut generator 1 (Gomory) - 194 row cuts average 7.8 elements, 0 column cuts (0 active)  in 0.003 seconds - new frequency is 1\n",
      "Cbc0014I Cut generator 2 (Knapsack) - 0 row cuts average 0.0 elements, 0 column cuts (0 active)  in 0.002 seconds - new frequency is -100\n",
      "Cbc0014I Cut generator 3 (Clique) - 0 row cuts average 0.0 elements, 0 column cuts (0 active)  in 0.000 seconds - new frequency is -100\n",
      "Cbc0014I Cut generator 4 (OddWheel) - 0 row cuts average 0.0 elements, 0 column cuts (0 active)  in 0.000 seconds - new frequency is -100\n",
      "Cbc0014I Cut generator 5 (MixedIntegerRounding2) - 0 row cuts average 0.0 elements, 0 column cuts (0 active)  in 0.002 seconds - new frequency is -100\n",
      "Cbc0014I Cut generator 6 (FlowCover) - 4 row cuts average 4.0 elements, 0 column cuts (0 active)  in 0.002 seconds - new frequency is -100\n",
      "Cbc0014I Cut generator 7 (TwoMirCuts) - 39 row cuts average 7.5 elements, 0 column cuts (0 active)  in 0.002 seconds - new frequency is 1\n",
      "Cbc0011I Exiting as integer gap of 0.066904573 less than 1e-10 or 0.01%\n",
      "Cbc0001I Search completed - best objective -1585836, took 166 iterations and 0 nodes (0.05 seconds)\n",
      "Cbc0035I Maximum depth 0, 5 variables fixed on reduced cost\n",
      "Total time (CPU seconds):       0.04   (Wallclock seconds):       0.05\n",
      "\n",
      "Starting solution of the Linear programming relaxation problem using Dual Simplex\n",
      "\n",
      "Coin0506I Presolve 17 (-18) rows, 33 (-6) columns and 63 (-24) elements\n",
      "Clp0006I 0  Obj -0 Dual inf 1215.5555 (12)\n",
      "Clp0000I Optimal - objective value 2339336.4\n",
      "Coin0511I After Postsolve, objective 2339336.4, infeasibilities - dual 0 (0), primal 0 (0)\n",
      "Clp0032I Optimal objective 2339336.364 - 19 iterations time 0.002, Presolve 0.00\n",
      "\n",
      "Starting MIP optimization\n"
     ]
    },
    {
     "data": {
      "text/plain": "<OptimizationStatus.OPTIMAL: 0>"
     },
     "execution_count": 56,
     "metadata": {},
     "output_type": "execute_result"
    }
   ],
   "source": [
    "# optimizing\n",
    "model.optimize()"
   ],
   "metadata": {
    "collapsed": false,
    "ExecuteTime": {
     "end_time": "2023-10-31T20:33:15.433024Z",
     "start_time": "2023-10-31T20:33:15.405881Z"
    }
   }
  },
  {
   "cell_type": "code",
   "execution_count": 57,
   "outputs": [
    {
     "data": {
      "text/plain": "2339316.0"
     },
     "execution_count": 57,
     "metadata": {},
     "output_type": "execute_result"
    }
   ],
   "source": [
    "# optimal objective function value\n",
    "model.objective.x"
   ],
   "metadata": {
    "collapsed": false,
    "ExecuteTime": {
     "end_time": "2023-10-31T20:33:15.433293Z",
     "start_time": "2023-10-31T20:33:15.416799Z"
    }
   }
  },
  {
   "cell_type": "code",
   "execution_count": 58,
   "outputs": [
    {
     "name": "stdout",
     "output_type": "stream",
     "text": [
      "x\n",
      " 2000.0     0.0     0.0     0.0 \n",
      " 4500.0  2986.0     0.0     0.0 \n",
      " 4400.0  7350.0 12650.0 12100.0 \n",
      "v\n",
      " 2000.0     0.0     0.0     0.0 \n",
      " 4500.0  2986.0     0.0     0.0 \n",
      " 4400.0  6700.0 12500.0 12900.0 \n",
      "z\n",
      "   -0.0     0.0    -0.0     0.0 \n",
      "    0.0    -0.0     0.0     0.0 \n",
      "    0.0   650.0   800.0     0.0 \n"
     ]
    }
   ],
   "source": [
    "# print the optimal values of each variable\n",
    "print(\"x\")\n",
    "for i in I:\n",
    "    for j in J:\n",
    "        print(\"{:-7}\".format(x[i,j].x), end=\" \")\n",
    "    print()\n",
    "print(\"v\")\n",
    "for i in I:\n",
    "    for j in J:\n",
    "        print(f\"{v[i,j].x:-7}\", end=\" \")\n",
    "    print()\n",
    "print(\"z\")\n",
    "for i in I:\n",
    "    for j in J:\n",
    "        print(f\"{z[i,j].x:-7}\", end=\" \")\n",
    "    print()"
   ],
   "metadata": {
    "collapsed": false,
    "ExecuteTime": {
     "end_time": "2023-10-31T20:33:15.433556Z",
     "start_time": "2023-10-31T20:33:15.425140Z"
    }
   }
  },
  {
   "cell_type": "markdown",
   "source": [
    " <h3 align=\"center\">Optional (advanced)</h3>\n",
    "\n",
    "Let us introduce the parameters\n",
    "- $f_i, i \\in I$: fixed charge for the production of product $i \\in I$\n",
    "- $l_i,i \\in I$: minimum lot size for product $i \\in I$\n",
    "\n",
    "and the variables\n",
    "\n",
    "- $y_{ij}, i \\in I, j \\in J $: 1 if product $i$ is produced in month $j$, 0 else, $i \\in I, j \\in J$\n",
    "\n",
    "The new objective function is\n",
    "$$\n",
    "\\begin{array}{lll}\n",
    "\\max & \\sum_{i \\in I,j\\in J} r_i v_{ij} - c_{i} x_{ij} - m_i z_{ij} - f_i y_{ij} \\qquad & & \\text{(revenue)}\\\\\n",
    "\\end{array}\n",
    "$$\n",
    "\n",
    "We introduce the following constraints\n",
    "$$\n",
    "\\begin{array}{lll}\n",
    "& x_{ij} \\leq b_j q_i y_{ij} & i \\in I, j \\in J & \\text{(activation)}\\\\\n",
    "& x_{ij} \\geq l_i y_{ij} & i \\in I, j \\in J & \\text{(lot size)}\\\\\n",
    "& x_{ij} \\leq y_{ij} \\in \\{0,1\\} & i \\in I, j \\in J & \\text{(binary variables)}\\\\\n",
    "\\end{array}\n",
    "$$\n",
    "\n",
    "The constraint $\\textit{activation}$ imposes that, if $y_{ij} = 0$, then $x_{ij} = 0$, i.e., that no units of product i are produced when production is not active. If $y_{ij} = 1$, constraint activation is 'not active', i.e., it just imposes $x_{ij} \\leq b_j q_i$. This constraint is already implied by the, stronger, $\\textit{production}$ constraint $\\sum_{i \\in I} \\frac{x_{ij}}{q_i} \\leq b_j $. Similarly, when $y_{ij} = 0$, the constraint $\\textit{lot size}$ becomes $x_{ij} \\geq 0$. This constraint is already present in the formulation."
   ],
   "metadata": {
    "collapsed": false
   }
  },
  {
   "cell_type": "code",
   "execution_count": 59,
   "outputs": [],
   "source": [
    "# definition of the new model\n",
    "model1 = mip.Model()"
   ],
   "metadata": {
    "collapsed": false,
    "ExecuteTime": {
     "end_time": "2023-10-31T20:33:15.442035Z",
     "start_time": "2023-10-31T20:33:15.431172Z"
    }
   }
  },
  {
   "cell_type": "code",
   "execution_count": 60,
   "outputs": [],
   "source": [
    "# quantity of product i produced in month j\n",
    "x = {(i, j): model1.add_var(name ='x('+str(i)+','+str(j)+')', var_type=INTEGER, lb=0) for i in I for j in J}\n",
    "# quantity of product i sold in month j\n",
    "v = {(i, j): model1.add_var(name ='v('+str(i)+','+str(j)+')', lb=0) for i in I for j in J}\n",
    "# quantity of product i stored at the end of month j\n",
    "z = {(i, j): model1.add_var(name ='z('+str(i)+','+str(j)+')', lb=0) for i in I for j in range(n_months+1)}\n",
    "# binary variable: 1 if product i is produced in month j, 0 else\n",
    "y = {(i, j): model1.add_var(name ='y('+str(i)+','+str(j)+')', var_type=BINARY) for i in I for j in J}"
   ],
   "metadata": {
    "collapsed": false,
    "ExecuteTime": {
     "end_time": "2023-10-31T20:33:15.446985Z",
     "start_time": "2023-10-31T20:33:15.439561Z"
    }
   }
  },
  {
   "cell_type": "code",
   "execution_count": 61,
   "outputs": [],
   "source": [
    "model1.objective = mip.maximize(mip.xsum(r[i]*v[i, j] - c[i]*x[i, j] - m[i]*z[i, j] - f[i]*y[i, j] for i in I for j in J))"
   ],
   "metadata": {
    "collapsed": false,
    "ExecuteTime": {
     "end_time": "2023-10-31T20:33:15.451756Z",
     "start_time": "2023-10-31T20:33:15.446480Z"
    }
   }
  },
  {
   "cell_type": "code",
   "execution_count": 62,
   "outputs": [],
   "source": [
    "# Demand constraint\n",
    "for i in I:\n",
    "    for j in J:\n",
    "        model1.add_constr(v[i, j]<=d[i][j-1])\n",
    "# Production constraint\n",
    "for j in J:\n",
    "    model1.add_constr(mip.xsum(x[i, j]/q[i] for i in I) <= b[j-1])\n",
    "\n",
    "# Balance constraint\n",
    "for i in I:\n",
    "    for j in J:\n",
    "        model1.add_constr(z[i, j-1]+x[i, j] == z[i, j] + v[i, j])\n",
    "# Init constraint\n",
    "for i in I:\n",
    "    model1.add_constr(z[i, 0] == 0)\n",
    "\n",
    "# Capacity constraint\n",
    "for j in J:\n",
    "    model1.add_constr(mip.xsum(z[i, j] for i in I) <= K)\n",
    "\n",
    "# Activation constraint\n",
    "for i in I:\n",
    "    for j in J:\n",
    "      model1.add_constr(x[i, j] <= b[j-1]*q[i]*y[i, j])\n",
    "\n",
    "# Lot size constraint\n",
    "for i in I:\n",
    "    for j in J:\n",
    "      model1.add_constr(x[i, j] >= l[i]*y[i, j])"
   ],
   "metadata": {
    "collapsed": false,
    "ExecuteTime": {
     "end_time": "2023-10-31T20:33:15.502628Z",
     "start_time": "2023-10-31T20:33:15.457206Z"
    }
   }
  },
  {
   "cell_type": "code",
   "execution_count": 63,
   "outputs": [
    {
     "name": "stdout",
     "output_type": "stream",
     "text": [
      "Cgl0004I processed model has 20 rows, 24 columns (12 integer (0 of which binary)) and 57 elements\n",
      "Coin3009W Conflict graph built in 0.000 seconds, density: 0.000%\n",
      "Cgl0015I Clique Strengthening extended 0 cliques, 0 were dominated\n",
      "Cbc0012I Integer solution of -2339316 found by DiveCoefficient after 0 iterations and 0 nodes (0.00 seconds)\n",
      "Cbc0011I Exiting as integer gap of 20.363636 less than 1e-10 or 0.01%\n",
      "Cbc0001I Search completed - best objective -2339316, took 0 iterations and 0 nodes (0.00 seconds)\n",
      "Cbc0035I Maximum depth 0, 0 variables fixed on reduced cost\n",
      "Total time (CPU seconds):       0.00   (Wallclock seconds):       0.00\n",
      "\n",
      "Starting solution of the Linear programming relaxation problem using Dual Simplex\n",
      "\n",
      "Coin0506I Presolve 41 (-18) rows, 45 (-6) columns and 117 (-18) elements\n",
      "Clp0006I 0  Obj -0 Dual inf 20098.908 (12)\n",
      "Clp0000I Optimal - objective value 1890927.3\n",
      "Coin0511I After Postsolve, objective 1890927.3, infeasibilities - dual 0 (0), primal 0 (0)\n",
      "Clp0032I Optimal objective 1890927.273 - 41 iterations time 0.002, Presolve 0.00\n",
      "\n",
      "Starting MIP optimization\n"
     ]
    },
    {
     "data": {
      "text/plain": "<OptimizationStatus.OPTIMAL: 0>"
     },
     "execution_count": 63,
     "metadata": {},
     "output_type": "execute_result"
    }
   ],
   "source": [
    "# optimizing\n",
    "model1.optimize()"
   ],
   "metadata": {
    "collapsed": false,
    "ExecuteTime": {
     "end_time": "2023-10-31T20:33:15.558786Z",
     "start_time": "2023-10-31T20:33:15.467560Z"
    }
   }
  },
  {
   "cell_type": "code",
   "execution_count": 64,
   "outputs": [
    {
     "data": {
      "text/plain": "1585836.0"
     },
     "execution_count": 64,
     "metadata": {},
     "output_type": "execute_result"
    }
   ],
   "source": [
    "# optimal objective function value\n",
    "model1.objective.x"
   ],
   "metadata": {
    "collapsed": false,
    "ExecuteTime": {
     "end_time": "2023-10-31T20:33:15.566144Z",
     "start_time": "2023-10-31T20:33:15.526796Z"
    }
   }
  },
  {
   "cell_type": "code",
   "execution_count": 65,
   "outputs": [
    {
     "name": "stdout",
     "output_type": "stream",
     "text": [
      "x\n",
      " 6100.0     0.0     0.0     0.0 \n",
      "    0.0  2988.0     0.0     0.0 \n",
      " 4400.0  7348.0 12650.0 12100.0 \n",
      "v\n",
      " 5300.0   800.0     0.0     0.0 \n",
      "    0.0  2988.0     0.0     0.0 \n",
      " 4400.0  6700.0 12500.0 12898.0 \n",
      "y\n",
      "    1.0     0.0     0.0     0.0 \n",
      "    0.0     1.0     0.0     0.0 \n",
      "    1.0     1.0     1.0     1.0 \n",
      "z\n",
      "  800.0     0.0    -0.0     0.0 \n",
      "    0.0    -0.0     0.0     0.0 \n",
      "    0.0   648.0   798.0     0.0 \n"
     ]
    }
   ],
   "source": [
    "print(\"x\")\n",
    "for i in I:\n",
    "    for j in J:\n",
    "        print(f\"{x[i,j].x:-7}\", end=\" \")\n",
    "    print()\n",
    "print(\"v\")\n",
    "for i in I:\n",
    "    for j in J:\n",
    "        print(f\"{v[i,j].x:-7}\", end=\" \")\n",
    "    print()\n",
    "print(\"y\")\n",
    "for i in I:\n",
    "    for j in J:\n",
    "        print(f\"{y[i,j].x:-7.3}\", end=\" \")\n",
    "    print()\n",
    "print(\"z\")\n",
    "for i in I:\n",
    "    for j in J:\n",
    "        print(f\"{z[i,j].x:-7}\", end=\" \")\n",
    "    print()"
   ],
   "metadata": {
    "collapsed": false,
    "ExecuteTime": {
     "end_time": "2023-10-31T20:33:15.566679Z",
     "start_time": "2023-10-31T20:33:15.532542Z"
    }
   }
  },
  {
   "cell_type": "markdown",
   "metadata": {
    "id": "TE7OE6R25kCJ"
   },
   "source": [
    " <h3 align=\"center\">Question 2</h3> \n",
    "\n",
    "We relax the integrality on $y_{ij}$ , by substituting $y_{ij} \\in [0, 1]$  for $y_{ij}\\in \\{0,1\\}, i \\in I, j \\in J$. We obtain a solution that is meaningless. What is amiss in the formulation with continuous $y_{ij}$ is the $\\textit{activation}$ constraint $x_{ij} \\leq b_j q_i y_{ij}$ . In any optimal, continuous, solution, $y_{ij}$ will always take the smallest value in $[0, 1]$ that satisfies the constraint, i.e., $y_{ij}^* = \\frac{x_{ij}^{*}}{b_jq_i}$, which is, in general, non integer."
   ]
  }
 ],
 "metadata": {
  "colab": {
   "provenance": [],
   "collapsed_sections": []
  },
  "kernelspec": {
   "display_name": "Python 3",
   "language": "python",
   "name": "python3"
  },
  "language_info": {
   "codemirror_mode": {
    "name": "ipython",
    "version": 3
   },
   "file_extension": ".py",
   "mimetype": "text/x-python",
   "name": "python",
   "nbconvert_exporter": "python",
   "pygments_lexer": "ipython3",
   "version": "3.6.8"
  }
 },
 "nbformat": 4,
 "nbformat_minor": 0
}
