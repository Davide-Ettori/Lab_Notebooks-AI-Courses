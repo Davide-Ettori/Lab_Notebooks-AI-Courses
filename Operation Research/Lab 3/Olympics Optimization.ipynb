{
 "cells": [
  {
   "cell_type": "markdown",
   "metadata": {
    "id": "foMHdx1wYeE-"
   },
   "source": [
    "## June School Olympic Games\n",
    "\n",
    "The students of the G. Galilei high school are enrolled in the June School Olympic Games. The instructors are planning the event schedule.\n",
    "\n",
    "In a time span of 10 days, the students will be involved in matches of 100, 200, and 1000 meters, cross country running, discus throw, javelin throw, football, and baseball. The games will be played both in week days and week-end days.\n",
    "\n",
    "The students have already enrolled for the sports they are interested in. Since some athlets will play matches of different disciplines, the activities must be schedules so as to entirely avoid overlaps.\n",
    "\n",
    "The table reports, with an X, the pair of matches with at least one athlete in common. It also indicates, for each discipline, the total number of matches to be played.\n",
    "\n",
    "Disciplines|100|200|1000|cross country|discus|javelin|football|baseball\n",
    "-----------|---|---|----|-------------|------|-------|--------|--------\n",
    "100|-|X|-|X|-|X|-|-\n",
    "200|-|-|X|X|-|-|-|-\n",
    "1000|-|-|-|X|-|-|X|X\n",
    "cross country|-|-|-|-|-|X|-|-\n",
    "discus|-|-|-|-|-|X|-|-\n",
    "javelin|-|-|-|-|-|-|-|X\n",
    "football|-|-|-|-|-|-|-|X\n",
    "baseball|-|-|-|-|-|-|-|-\n",
    "-----|-----|-----|---------------|-----|-----|-----|-----|-----\n",
    "Total Matches|2|2|2|1|3|3|4|4\n",
    "\n",
    "\n",
    "For each match, the instructors estimated the 'degree of interest', which is shown in the table\n",
    "\n",
    "Disciplines|100|200|cross country|discus|javelin|football|baseball\n",
    "-----------|---|---|-------------|------|-------|--------|--------\n",
    "Interest|7|8|10|4|5|6|10|9\n",
    "\n",
    "The matches are played in sequence, during the first 3 afternoon hours (180 minutes). For each day, at most one match per discipline can be scheduled. The length, in minutes, of a match of each discipline is reported in the table\n",
    "\n",
    "Disciplines|100|200|cross country|discus|javelin|football|baseball\n",
    "-----------|---|---|-------------|------|-------|--------|--------\n",
    "Length|15|15|20|60|30|30|100|100\n",
    "\n",
    "To exploit the enthusiasm of the athlets, the instructors decided that no more than 7 days must pass from the first and the last match of each discipline.\n",
    "\n",
    "Give an integer linear programming formulation for the problem of determining a schedule for the matches such that the interest of the less interesting day is maximized. Per day, the interest amounts to the sum of the degree of interest of the matches that are played."
   ]
  },
  {
   "cell_type": "code",
   "execution_count": 2,
   "metadata": {
    "id": "3sHGX1wUVUNw",
    "ExecuteTime": {
     "end_time": "2023-12-18T16:29:08.580641Z",
     "start_time": "2023-12-18T16:29:08.526364Z"
    }
   },
   "outputs": [],
   "source": [
    "import mip"
   ]
  },
  {
   "cell_type": "code",
   "execution_count": null,
   "metadata": {
    "id": "aiePoKhY9H11"
   },
   "outputs": [],
   "source": [
    "# Types of matches\n",
    "I = {'hundred', 'twohundred', 'thousand', 'crossCountry','discus', 'javelin', 'football', 'baseball'}\n",
    "\n",
    "# Number of days\n",
    "G = 10\n",
    "# List of days\n",
    "J = range(1, G+1)\n",
    "\n",
    "# Available time per day\n",
    "T = 180\n",
    "# Maximum number of days between first and last match\n",
    "n = 7\n",
    "\n",
    "# Pair of matches with at least one athlete in common\n",
    "c = [('hundred', 'twohundred'), ('hundred', 'crossCountry'), ('hundred', 'javelin'), \\\n",
    "     ('twohundred', 'thousand'), ('twohundred', 'crossCountry'), \\\n",
    "     ('thousand', 'crossCountry'), ('thousand', 'football'), ('thousand', 'baseball'), \\\n",
    "     ('crossCountry', 'javelin'), ('discus', 'javelin'), ('javelin', 'baseball'), ('football', 'baseball')]\n",
    "# Total matches\n",
    "m = {'hundred':2, 'twohundred':2, 'thousand':2, 'crossCountry':1,'discus':3, 'javelin':3, 'football':4, 'baseball':4}\n",
    "\n",
    "# Degree of interest\n",
    "w = {'hundred':7, 'twohundred':8, 'thousand':10, 'crossCountry':4,'discus':5, 'javelin':6, 'football':10, 'baseball':9}\n",
    "\n",
    "# Length of a match of each discipline\n",
    "t = {'hundred':15, 'twohundred':15, 'thousand':20, 'crossCountry':60, 'discus':30, 'javelin':30, 'football':100, 'baseball':100}"
   ]
  },
  {
   "cell_type": "code",
   "execution_count": null,
   "metadata": {
    "id": "ki5HMYBoVAuC"
   },
   "outputs": [],
   "source": [
    "# Model definition\n",
    "model = mip.Model()"
   ]
  },
  {
   "cell_type": "code",
   "execution_count": null,
   "metadata": {
    "id": "vAqlc8P5VCHl"
   },
   "outputs": [],
   "source": [
    "# Variables definition"
   ]
  },
  {
   "cell_type": "code",
   "execution_count": null,
   "metadata": {
    "id": "XETU393cV5SF"
   },
   "outputs": [],
   "source": [
    "# Objective definition\n",
    "model.objective"
   ]
  },
  {
   "cell_type": "code",
   "execution_count": null,
   "metadata": {
    "id": "Fu21IvjNWVhk"
   },
   "outputs": [],
   "source": [
    "# Interest constraint\n",
    "model.add_constr()\n",
    "\n",
    "# Conflicts constraint\n",
    "model.add_constr()\n",
    "\n",
    "# Number constraint\n",
    "model.add_constr()\n",
    "\n",
    "# Time constraint\n",
    "model.add_constr()\n",
    "\n",
    "# Limit constraint\n",
    "model.add_constr()"
   ]
  },
  {
   "cell_type": "code",
   "execution_count": null,
   "metadata": {
    "colab": {
     "base_uri": "https://localhost:8080/"
    },
    "id": "ke9zK5BCfFd1",
    "outputId": "61656282-e80b-4bc3-8614-4b76e62ac0f2"
   },
   "outputs": [
    {
     "data": {
      "text/plain": [
       "<OptimizationStatus.OPTIMAL: 0>"
      ]
     },
     "execution_count": 24,
     "metadata": {},
     "output_type": "execute_result"
    }
   ],
   "source": [
    "# optimizing\n",
    "model.optimize()"
   ]
  },
  {
   "cell_type": "code",
   "execution_count": null,
   "metadata": {
    "colab": {
     "base_uri": "https://localhost:8080/"
    },
    "id": "0FPCIVzDfUqE",
    "outputId": "c73539d2-3cec-4794-cfcf-0e96a46398c9"
   },
   "outputs": [
    {
     "data": {
      "text/plain": [
       "14.0"
      ]
     },
     "execution_count": 25,
     "metadata": {},
     "output_type": "execute_result"
    }
   ],
   "source": [
    "model.objective.x"
   ]
  },
  {
   "cell_type": "code",
   "execution_count": null,
   "metadata": {
    "colab": {
     "base_uri": "https://localhost:8080/"
    },
    "id": "pRX9JWXMfaQ5",
    "outputId": "6041b5cb-7bad-413c-93dc-ec1735e1d0e0"
   },
   "outputs": [
    {
     "name": "stdout",
     "output_type": "stream",
     "text": [
      "twohundred_1\n",
      "0.0\n",
      "twohundred_2\n",
      "0.0\n",
      "twohundred_3\n",
      "0.0\n",
      "twohundred_4\n",
      "0.0\n",
      "twohundred_5\n",
      "0.0\n",
      "twohundred_6\n",
      "0.0\n",
      "twohundred_7\n",
      "1.0\n",
      "twohundred_8\n",
      "0.0\n",
      "twohundred_9\n",
      "1.0\n",
      "twohundred_10\n",
      "0.0\n",
      "javelin_1\n",
      "0.0\n",
      "javelin_2\n",
      "1.0\n",
      "javelin_3\n",
      "1.0\n",
      "javelin_4\n",
      "1.0\n",
      "javelin_5\n",
      "0.0\n",
      "javelin_6\n",
      "0.0\n",
      "javelin_7\n",
      "0.0\n",
      "javelin_8\n",
      "0.0\n",
      "javelin_9\n",
      "0.0\n",
      "javelin_10\n",
      "0.0\n",
      "discus_1\n",
      "0.0\n",
      "discus_2\n",
      "0.0\n",
      "discus_3\n",
      "0.0\n",
      "discus_4\n",
      "0.0\n",
      "discus_5\n",
      "1.0\n",
      "discus_6\n",
      "1.0\n",
      "discus_7\n",
      "0.0\n",
      "discus_8\n",
      "1.0\n",
      "discus_9\n",
      "0.0\n",
      "discus_10\n",
      "0.0\n",
      "thousand_1\n",
      "0.0\n",
      "thousand_2\n",
      "0.0\n",
      "thousand_3\n",
      "0.0\n",
      "thousand_4\n",
      "0.0\n",
      "thousand_5\n",
      "1.0\n",
      "thousand_6\n",
      "0.0\n",
      "thousand_7\n",
      "0.0\n",
      "thousand_8\n",
      "0.0\n",
      "thousand_9\n",
      "0.0\n",
      "thousand_10\n",
      "1.0\n",
      "crossCountry_1\n",
      "1.0\n",
      "crossCountry_2\n",
      "0.0\n",
      "crossCountry_3\n",
      "0.0\n",
      "crossCountry_4\n",
      "0.0\n",
      "crossCountry_5\n",
      "0.0\n",
      "crossCountry_6\n",
      "0.0\n",
      "crossCountry_7\n",
      "0.0\n",
      "crossCountry_8\n",
      "0.0\n",
      "crossCountry_9\n",
      "0.0\n",
      "crossCountry_10\n",
      "0.0\n",
      "hundred_1\n",
      "0.0\n",
      "hundred_2\n",
      "0.0\n",
      "hundred_3\n",
      "0.0\n",
      "hundred_4\n",
      "0.0\n",
      "hundred_5\n",
      "0.0\n",
      "hundred_6\n",
      "1.0\n",
      "hundred_7\n",
      "0.0\n",
      "hundred_8\n",
      "0.0\n",
      "hundred_9\n",
      "0.0\n",
      "hundred_10\n",
      "1.0\n",
      "football_1\n",
      "1.0\n",
      "football_2\n",
      "1.0\n",
      "football_3\n",
      "1.0\n",
      "football_4\n",
      "1.0\n",
      "football_5\n",
      "0.0\n",
      "football_6\n",
      "0.0\n",
      "football_7\n",
      "0.0\n",
      "football_8\n",
      "0.0\n",
      "football_9\n",
      "0.0\n",
      "football_10\n",
      "0.0\n",
      "baseball_1\n",
      "0.0\n",
      "baseball_2\n",
      "0.0\n",
      "baseball_3\n",
      "0.0\n",
      "baseball_4\n",
      "0.0\n",
      "baseball_5\n",
      "0.0\n",
      "baseball_6\n",
      "1.0\n",
      "baseball_7\n",
      "1.0\n",
      "baseball_8\n",
      "1.0\n",
      "baseball_9\n",
      "1.0\n",
      "baseball_10\n",
      "0.0\n",
      "var(80)\n",
      "14.0\n"
     ]
    }
   ],
   "source": [
    "for i in model.vars:\n",
    "    if i.x != 0:\n",
    "        print(i.name, i.x)"
   ]
  },
  {
   "cell_type": "markdown",
   "metadata": {
    "id": "ZY-BaYevE1Lk"
   },
   "source": [
    "<h3 align=\"center\">Formulation</h3> \n",
    " \n",
    "- Sets\n",
    "    - $I$: disciplines\n",
    "    - $J= \\{1,...,G\\}$: days\n",
    "    \n",
    "- Parameters\n",
    "    - T: available time per day\n",
    "    - n: maximum number of days between first and last matc\n",
    "    - $c_{ii'}$: 1 if i-th and $i'$ -th matches are in conflict $i,i'$ $\\in I$\n",
    "    - $m_i$:number of matches for discipline $i \\in I$\n",
    "    - $w_i$: degree of interest for discipline $i \\in I$\n",
    "    - $t_i$:length of a match for discipline $i \\in I$\n",
    "\n",
    "- Decision variables\n",
    "    - $x_{ij}$: 1 if a match of discipline $i$ is played in day $j,i\\in I, j \\in J$\n",
    "    - $\\eta$: interest of the less interesting day\n",
    "    \n",
    "- Model\n",
    "    $$\n",
    "\\begin{array}{lll}\n",
    "  \\max & \\eta \\qquad & & \\text{(min interest)}\\\\\n",
    "  \\textrm{s.t.} &  & \\\\\n",
    "  & \\sum_{i \\in I} x_{ij} w_i \\geq \\eta &  j \\in J & \\text{(interest)} &\\\\\n",
    "  & x_{ij}+x_{i^*j} \\leq 1 &  i,i^* \\in I,j \\in J: c_{ii^*}=1 & \\text{(conflicts)} &\\\\\n",
    "  & \\sum_{j \\in J} x_{ij}=m_i  &  i \\in I & \\text{(number)} &\\\\\n",
    "  & \\sum_{j \\in J}t_i x_{ij}\\leq T  &  j \\in J & \\text{(time)} &\\\\\n",
    "  & x_{ij}+x_{ij^*} \\leq 1 &  i \\in I,j,j^* \\in J: j - j^* > n & \\text{(limit)} &\\\\\n",
    "  & x_{ij} \\in \\{0,1\\} &  i\\in I,j \\in J & \\text{(binary variables)} &\\\\\n",
    "  & \\eta \\geq 0 & & \\text{(nonnegative variables)} &\\\\\n",
    "\\end{array}\n",
    " $$\n"
   ]
  }
 ],
 "metadata": {
  "colab": {
   "provenance": []
  },
  "kernelspec": {
   "display_name": "Python 3",
   "language": "python",
   "name": "python3"
  },
  "language_info": {
   "codemirror_mode": {
    "name": "ipython",
    "version": 3
   },
   "file_extension": ".py",
   "mimetype": "text/x-python",
   "name": "python",
   "nbconvert_exporter": "python",
   "pygments_lexer": "ipython3",
   "version": "3.6.8"
  }
 },
 "nbformat": 4,
 "nbformat_minor": 0
}
