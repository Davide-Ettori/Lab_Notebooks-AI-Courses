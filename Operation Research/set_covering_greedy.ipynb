{
 "cells": [
  {
   "cell_type": "markdown",
   "metadata": {
    "id": "cWp6S9Fwkj0W"
   },
   "source": [
    "## Set Covering greedy algorithm\n",
    "Many real-world optimization problems can be expressed as variants or extensions of the set cover problem. We define a finite set of objects $U = \\{x_1, . . . , x_m\\}$ as the universe, and S = $\\{s_1, . . . , s_n\\}$ a collection of subsets of $U$, such that every element of $U$ belongs to at least one set of $S$.\n",
    "\n",
    "\n",
    "**input**: collection $S$ of sets over universe $U$, costs $c: S → \\mathbb{R}_+$\n",
    "\n",
    "**output**: set cover $C$\n",
    "\n",
    "1. Let $C \\gets \\emptyset$;\n",
    "2. Repeat until $C$ is a set cover;\n",
    "3. Find a set $s \\in S$ maximizing the number of elements in $s$ not yet covered by any set in $C$, divided by the cost $c_s$;\n",
    "4. Add $s$ to C;\n",
    "5. Return $C$."
   ]
  },
  {
   "cell_type": "markdown",
   "metadata": {
    "id": "jo-M9VYTbE3i"
   },
   "source": [
    "Some theorethical results can be proved for the worst case quality scenario. For instance in [1,2,3] it was proved that: \n",
    "\n",
    "**Theorem** The greedy set-cover algorithm returns a set cover of cost at most $H(d)$ opt, where opt is the minimum cost of any set cover, $d=\\max_{s∈S}\\{|s|\\}$ is the maximum set size, and $H(d)$≈$0.58+\\ln(d)$ is the $d$-th Harmonic number.\n",
    "\n",
    "The logarithmic approximation guarantee is the best possible in the following sense: if P≠NP, in the worst case, no polynomial-time algorithm guarantees a cover of cost $o$(opt $\\log(n)$), where $n=|U|$ is the number of elements to be covered.\n",
    "\n",
    "Bibliography\n",
    "\n",
    "[1]\tV. Chvátal. A greedy heuristic for the set-covering problem. Math. Operations Research, 4:233–235, 1979.\n",
    "\n",
    "[2]\tD. S. Johnson. Approximation algorithms for combinatorial problems. J. Computer System Sciences, 9:256–278, 1974.\n",
    "\n",
    "[3]\tL. Lovász. On the ratio of optimal integral and fractional covers. Discrete Mathematics, 13:383–390, 1975.\n"
   ]
  },
  {
   "cell_type": "code",
   "execution_count": 1,
   "outputs": [],
   "source": [
    "import numpy as np"
   ],
   "metadata": {
    "collapsed": false,
    "ExecuteTime": {
     "end_time": "2023-11-30T19:46:10.540560Z",
     "start_time": "2023-11-30T19:46:10.433414Z"
    }
   }
  },
  {
   "cell_type": "code",
   "execution_count": 5,
   "metadata": {
    "id": "0xR0I2tSpLzn",
    "ExecuteTime": {
     "end_time": "2023-11-30T19:55:59.584739Z",
     "start_time": "2023-11-30T19:55:59.578824Z"
    }
   },
   "outputs": [],
   "source": [
    "def equals_set(s1, s2):\n",
    "    if len(s1) != len(s2):\n",
    "        return False\n",
    "    for elem in s1:\n",
    "        if elem not in s2:\n",
    "            return False\n",
    "    return True\n",
    "\n",
    "# implementation of set covering greedy algorithm\n",
    "# input matrix a and c defined above\n",
    "def set_cover(a, c):\n",
    "    # number of subsets\n",
    "    n_subset = a.shape[1]\n",
    "    # subsets\n",
    "    subsets = [set(np.where(a[:, i] == 1)[0]) for i in range(n_subset)]\n",
    "    # universe\n",
    "    U = set(range(a.shape[0]))\n",
    "    # set containing singular elements of each subset\n",
    "    elements = set(e for s in subsets for e in s)\n",
    "    # Check the subsets cover the universe\n",
    "    if elements != U:\n",
    "        return None\n",
    "    covered = set()\n",
    "    visited_idx = set()\n",
    "    C = []\n",
    "    # Greedily add the subsets maximizing the number of elements in it not yet covered by any set found so far, divided by its cost\n",
    "    while not equals_set(covered, elements):\n",
    "        best_cost, idx = 0, None\n",
    "        for i, cur_set in enumerate(subsets):\n",
    "            if i in visited_idx:\n",
    "                continue\n",
    "            count = 0\n",
    "            for elem in cur_set:\n",
    "                if elem not in covered:\n",
    "                    count += 1\n",
    "            count /= c[i]\n",
    "            if count > best_cost:\n",
    "                best_cost = count\n",
    "                idx = i\n",
    "\n",
    "        covered.update(subsets[idx])\n",
    "        C.append(subsets[idx])\n",
    "        visited_idx.add(idx)\n",
    " \n",
    "    return C"
   ]
  }
 ],
 "metadata": {
  "colab": {
   "provenance": [],
   "collapsed_sections": []
  },
  "kernelspec": {
   "display_name": "Python 3",
   "language": "python",
   "name": "python3"
  },
  "language_info": {
   "codemirror_mode": {
    "name": "ipython",
    "version": 3
   },
   "file_extension": ".py",
   "mimetype": "text/x-python",
   "name": "python",
   "nbconvert_exporter": "python",
   "pygments_lexer": "ipython3",
   "version": "3.6.8"
  }
 },
 "nbformat": 4,
 "nbformat_minor": 0
}
