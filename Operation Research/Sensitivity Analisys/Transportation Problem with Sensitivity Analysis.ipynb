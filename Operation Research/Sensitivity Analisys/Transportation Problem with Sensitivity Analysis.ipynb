{
 "cells": [
  {
   "cell_type": "code",
   "execution_count": null,
   "metadata": {
    "id": "fThm4iLPpRv4"
   },
   "outputs": [],
   "source": [
    "import mip"
   ]
  },
  {
   "cell_type": "markdown",
   "metadata": {
    "id": "e8tfwY6Eej9l"
   },
   "source": [
    "A company has to ship empty containers stocked in the depots of Verona, Perugia, Roma,\n",
    "Pescara, Taranto, and Lamezia, to the main national harbors of Genova, Venezia, Ancona,\n",
    "Napoli, and Bari.\n",
    "\n",
    "The number of empty containers available in each depot, and the demand of containers in\n",
    "each harbor, are\n",
    "\n",
    "\n",
    "Depots|Availability|\n",
    "-------|-----|\n",
    "Verona|10|\n",
    "Perugia|12|\n",
    "Roma|20|\n",
    "Pescara|24\n",
    "Taranto|18\n",
    "Lamezia|40\n",
    "\n",
    "\n",
    "Harbors|Availability|\n",
    "-------|-----|\n",
    "Genova|20|\n",
    "Venezia|15|\n",
    "Ancona|25|\n",
    "Napoli|33\n",
    "Bari|21\n",
    "\n",
    "The transportation cost is of 1 Euro per km. The distances from the depots to the harbors, in km, are the following ones\n",
    "\n",
    "Cities|Genova|Venezia|Ancona|Napoli|Bari|\n",
    "------|------|-------|------|------|----|\n",
    "Verona|290|115|355|715|810\n",
    "Perugia|380|340|165|380|610\n",
    "Roma|505|530|285|220|450\n",
    "Pescara|655|450|155|240|315\n",
    "Taranto|1010|840|550|305|95\n",
    "Lamezia|1072|1097|747|372|333\n",
    "\n",
    "1. Give a linear programming formulation for the problem of minimizing the total transportation cost.\n",
    "\n",
    "\n",
    "2. Comment on the integrality constraints on the variables: are they necessary?\n",
    "\n",
    "**Sensitivity analysis**\n",
    "\n",
    "1. Are there harbors where more containers than requested are delivered?\n",
    "\n",
    "2. Assume that the transportation cost for a depot-harbor pair which is not used in the solution can be modified with a tax or a discount. What is the maximum variation such that the basis of the current solution remains optimal? Does the solution change?\n",
    "\n",
    "3. How much would the solution value change if the availability of containers in Perugia was increased by 2?\n",
    "\n",
    "\n",
    "4. What is the greatest variation in containers availability in Lamezia such that the basis and\n",
    "the solutions remain the same?\n",
    "\n",
    "\n"
   ]
  },
  {
   "cell_type": "code",
   "execution_count": null,
   "metadata": {
    "id": "SHX0J54ieiUN"
   },
   "outputs": [],
   "source": [
    "# Set definition \n",
    "\n",
    "# Depots\n",
    "I = {'Verona', 'Perugia', 'Roma','Pescara', 'Taranto','Lamezia'}\n",
    "# Harbors\n",
    "J = {'Genova', 'Venezia', 'Ancona', 'Napoli','Bari'}\n",
    "\n",
    "# Parameters definition\n",
    "\n",
    "# container availability in depot i\n",
    "b = {'Verona':10, 'Perugia':12, 'Roma':20,'Pescara':24, 'Taranto':18,'Lamezia':40}\n",
    "\n",
    "# container demand in harbor j\n",
    "d = {'Genova':20, 'Venezia':15, 'Ancona':25, 'Napoli':33,'Bari':21}\n",
    "\n",
    "# distance from depot i to harbor j\n",
    "c = {('Verona','Genova'):290, ('Verona','Venezia'):115, ('Verona','Ancona'):355, ('Verona','Napoli'):715, ('Verona','Bari'):810,\n",
    "     ('Perugia','Genova'):380, ('Perugia','Venezia'):340, ('Perugia','Ancona'):165, ('Perugia','Napoli'):380, ('Perugia','Bari'):610,\n",
    "     ('Roma','Genova'):505, ('Roma','Venezia'):530, ('Roma','Ancona'):285, ('Roma','Napoli'):220, ('Roma','Bari'):450,\n",
    "     ('Pescara','Genova'):655, ('Pescara','Venezia'):450, ('Pescara','Ancona'):155, ('Pescara','Napoli'):240, ('Pescara','Bari'):315,\n",
    "     ('Taranto','Genova'):1010, ('Taranto','Venezia'):840, ('Taranto','Ancona'):550, ('Taranto','Napoli'):305, ('Taranto','Bari'):95,\n",
    "     ('Lamezia','Genova'):1072, ('Lamezia','Venezia'):1097, ('Lamezia','Ancona'):747, ('Lamezia','Napoli'):372, ('Lamezia','Bari'):333,\n",
    "     }"
   ]
  },
  {
   "cell_type": "code",
   "execution_count": null,
   "metadata": {
    "id": "aC866pRudECt"
   },
   "outputs": [],
   "source": [
    "# Model definition\n",
    "model = mip.Model()"
   ]
  },
  {
   "cell_type": "code",
   "execution_count": null,
   "metadata": {
    "id": "Q5ztrauyeiXU"
   },
   "outputs": [],
   "source": [
    "# Variables definition\n"
   ]
  },
  {
   "cell_type": "code",
   "execution_count": null,
   "metadata": {
    "id": "uJvFsTqdeia4"
   },
   "outputs": [],
   "source": [
    "# Objective function definition"
   ]
  },
  {
   "cell_type": "code",
   "execution_count": null,
   "metadata": {
    "id": "Nh2XELUFd2S7"
   },
   "outputs": [],
   "source": [
    "# Availability constraints\n",
    "model.add_constr()\n",
    "\n",
    "# Demand constraints\n",
    "model.add_constr()"
   ]
  },
  {
   "cell_type": "code",
   "execution_count": null,
   "metadata": {
    "colab": {
     "base_uri": "https://localhost:8080/"
    },
    "id": "0GrDMpq9TCAO",
    "outputId": "6bf22f3b-bae1-4c08-9511-fdb422a10894"
   },
   "outputs": [
    {
     "data": {
      "text/plain": [
       "<OptimizationStatus.OPTIMAL: 0>"
      ]
     },
     "execution_count": 9,
     "metadata": {},
     "output_type": "execute_result"
    }
   ],
   "source": [
    "# Solve\n",
    "model.optimize()"
   ]
  },
  {
   "cell_type": "code",
   "execution_count": null,
   "metadata": {
    "colab": {
     "base_uri": "https://localhost:8080/"
    },
    "id": "dQujNO_u05uQ",
    "outputId": "f25f93ad-7fd4-4a74-e6c2-fba1777f983b"
   },
   "outputs": [
    {
     "data": {
      "text/plain": [
       "30153.0"
      ]
     },
     "execution_count": 16,
     "metadata": {},
     "output_type": "execute_result"
    }
   ],
   "source": [
    "model.objective.x"
   ]
  },
  {
   "cell_type": "markdown",
   "metadata": {
    "id": "BAYv7bJgg_zJ"
   },
   "source": [
    "**Sensitivity analysis**\n",
    "\n",
    "We can use sensitivity analysis developed for linear programming problems with continuous\n",
    "variables thanks to the TUM property"
   ]
  },
  {
   "cell_type": "markdown",
   "metadata": {
    "id": "Ms1C7WvDiIJ_"
   },
   "source": [
    "**Are there harbors where more containers than requested are delivered**"
   ]
  },
  {
   "cell_type": "code",
   "execution_count": null,
   "metadata": {
    "id": "NO5yUEoqiRII"
   },
   "outputs": [],
   "source": []
  },
  {
   "cell_type": "markdown",
   "metadata": {
    "id": "vpC8PK7IiYtm"
   },
   "source": []
  },
  {
   "cell_type": "markdown",
   "metadata": {
    "id": "-KkgvFH82k7H"
   },
   "source": [
    "**Assume that the transportation cost for a depot-harbor pair which is not used in the solution can be modified with a tax or a discount. What is the maximum variation such that the basis of the current solution remains optimal? Does the solution change?**"
   ]
  },
  {
   "cell_type": "markdown",
   "metadata": {
    "id": "ssd38Sui3gcw"
   },
   "source": [
    "\n"
   ]
  },
  {
   "cell_type": "markdown",
   "metadata": {
    "id": "248nYgTG4foV"
   },
   "source": [
    "**How much would the solution value change if availability of containers in Perugia was increased by 2?**"
   ]
  },
  {
   "cell_type": "markdown",
   "metadata": {
    "id": "PS9c35Zf6UO_"
   },
   "source": [
    " **What is the greatest variation in containers availability in Lamezia such that the basis and\n",
    "the solutions remain the same?**"
   ]
  },
  {
   "cell_type": "markdown",
   "metadata": {
    "id": "xjc3fLs16Zcf"
   },
   "source": []
  }
 ],
 "metadata": {
  "colab": {
   "provenance": []
  },
  "kernelspec": {
   "display_name": "Python 3",
   "language": "python",
   "name": "python3"
  },
  "language_info": {
   "codemirror_mode": {
    "name": "ipython",
    "version": 3
   },
   "file_extension": ".py",
   "mimetype": "text/x-python",
   "name": "python",
   "nbconvert_exporter": "python",
   "pygments_lexer": "ipython3",
   "version": "3.6.8"
  }
 },
 "nbformat": 4,
 "nbformat_minor": 0
}
