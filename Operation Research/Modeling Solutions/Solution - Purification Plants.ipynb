{
 "cells": [
  {
   "cell_type": "markdown",
   "metadata": {
    "id": "JPIbi_-3YhkP"
   },
   "source": [
    "## Purification plant location\n",
    "\n",
    "We are to choose the building site for a set of water purification plants, among 12 areas $A_1$,...,$A_{12}$, which are close to 5 cities $C_1$,...,$C_5$. Each area can serve simultaneously all the\n",
    "cities indicated with the symbol \"*\". The second last line reports the purification capacity, in tons/year, of each facility (which depends on the site where the facility is built). The last line\n",
    "reports the building cost, in MEuro\n",
    "\n",
    "Cities|$A_1$|$A_2$|$A_3$|$A_4$|$A_5$|$A_6$|$A_7$|$A_8$|$A_9$|$A_{10}$|$A_{11}$|$A_{12}$|\n",
    "------|-----|-----|-----|-----|-----|-----|-----|-----|-----|--------|--------|-------|\n",
    "$C_1$| *|-|*|-|*|-|*|*|-|-|*|-\n",
    "$C_2$| -|*|*|-|-|*|-|-|*|-|*|*\n",
    "$C_3$| *|*|-|-|-|*|*|-|-|*|-|-\n",
    "$C_4$| -|*|-|*|-|-|*|*|-|*|-|*\n",
    "$C_5$| -|-|-|*|*|*|-|-|*|*|*|*\n",
    "------|-----|-----|-----|-----|-----|-----|-----|-----|-----|--------|--------|-------|\n",
    "Capacity|15|39|26|31|34|24|51|19|18|36|41|34\n",
    "Cost|7|9|12|3|4|4|5|11|8|6|7|16\n",
    "\n",
    "For each city, at least one close-by purification plant must be built.\n",
    "\n",
    "\n",
    "1. Give an integer linear programming formulation for the problem of minimizing the total building cost.\n",
    "2. Give an integer linear programming formulation for the variant where each city can have only one purification plant nearby.\n",
    "3. Give an integer linear programming formulation for the variant where the total quantity of purified water must be nonsmaller than  $120 \\cdot 10^9$ kg/year"
   ]
  },
  {
   "cell_type": "code",
   "execution_count": 2,
   "metadata": {
    "id": "dNvl2ccUObuz",
    "ExecuteTime": {
     "end_time": "2023-12-09T15:14:13.652505Z",
     "start_time": "2023-12-09T15:14:13.418011Z"
    }
   },
   "outputs": [],
   "source": [
    "import mip\n",
    "import numpy as np\n",
    "from mip import BINARY, INTEGER"
   ]
  },
  {
   "cell_type": "code",
   "execution_count": 3,
   "metadata": {
    "id": "AyGdauaoOhBR",
    "ExecuteTime": {
     "end_time": "2023-12-09T15:14:13.709944Z",
     "start_time": "2023-12-09T15:14:13.670086Z"
    }
   },
   "outputs": [],
   "source": [
    "# Number of cities\n",
    "m = 5\n",
    "# Number of areas\n",
    "n = 12\n",
    "\n",
    "# Cost for each areas\n",
    "c = [7, 9, 12, 3, 4, 4, 5, 11, 8, 6, 7, 16]\n",
    "# Capacity for each areas\n",
    "b = [15, 39, 26, 31, 34, 24, 51, 19, 18, 36, 41, 34]\n",
    "\n",
    "# Area that can serve simultaneously cities\n",
    "a = np.array([[1,0,1,0,1,0,1,1,0,0,0,0],\n",
    "     [0,1,1,0,0,1,0,0,1,0,1,1],\n",
    "     [1,1,0,0,0,1,1,0,0,1,0,0],\n",
    "     [0,1,0,1,0,0,1,1,0,1,0,1],\n",
    "     [0,0,0,1,1,1,0,0,1,1,1,1]])\n",
    "# Total quantity of purified water\n",
    "Q = 120"
   ]
  },
  {
   "cell_type": "code",
   "execution_count": 4,
   "metadata": {
    "id": "-CChQLDnQY0h",
    "ExecuteTime": {
     "end_time": "2023-12-09T15:14:14.077214Z",
     "start_time": "2023-12-09T15:14:13.923764Z"
    }
   },
   "outputs": [],
   "source": [
    "# definition of model\n",
    "model = mip.Model()"
   ]
  },
  {
   "cell_type": "code",
   "execution_count": 5,
   "metadata": {
    "id": "pe25r-T3QcXc",
    "ExecuteTime": {
     "end_time": "2023-12-09T15:14:14.169199Z",
     "start_time": "2023-12-09T15:14:14.153513Z"
    }
   },
   "outputs": [],
   "source": [
    "# definition of variables\n",
    "x = [model.add_var(name = str(j), var_type=BINARY) for j in range(n)]"
   ]
  },
  {
   "cell_type": "code",
   "execution_count": 6,
   "metadata": {
    "id": "at_Bhkk9lzWu",
    "ExecuteTime": {
     "end_time": "2023-12-09T15:14:14.370617Z",
     "start_time": "2023-12-09T15:14:14.356902Z"
    }
   },
   "outputs": [],
   "source": [
    "# definition of the objective function\n",
    "model.objective = mip.minimize(mip.xsum(x[j]*c[j] for j in range(n)))"
   ]
  },
  {
   "cell_type": "code",
   "execution_count": 7,
   "metadata": {
    "id": "R2q0kqIYqFSv",
    "ExecuteTime": {
     "end_time": "2023-12-09T15:14:14.570438Z",
     "start_time": "2023-12-09T15:14:14.556456Z"
    }
   },
   "outputs": [],
   "source": [
    "# Covering constraint\n",
    "for i in range(m):\n",
    "    model.add_constr(mip.xsum(a[i][j]*x[j]for j in range(n)) >= 1)"
   ]
  },
  {
   "cell_type": "code",
   "execution_count": 8,
   "metadata": {
    "id": "2FE-_iOErDWv",
    "colab": {
     "base_uri": "https://localhost:8080/"
    },
    "outputId": "ed82cfbb-84df-47db-8251-d7433f280292",
    "ExecuteTime": {
     "end_time": "2023-12-09T15:14:14.795038Z",
     "start_time": "2023-12-09T15:14:14.756215Z"
    }
   },
   "outputs": [
    {
     "name": "stdout",
     "output_type": "stream",
     "text": [
      "Welcome to the CBC MILP Solver \n",
      "Version: Trunk\n",
      "Build Date: Oct 28 2021 \n",
      "\n",
      "Starting solution of the Linear programming relaxation problem using Primal Simplex\n",
      "\n",
      "Clp0024I Matrix will be packed to eliminate 31 small elements\n",
      "Coin0506I Presolve 5 (0) rows, 12 (0) columns and 29 (0) elements\n",
      "Clp1000I sum of infeasibilities 7.49462e-08 - average 1.49892e-08, 5 fixed columns\n",
      "Coin0506I Presolve 5 (0) rows, 7 (-5) columns and 17 (-12) elements\n",
      "Clp0029I End of values pass after 7 iterations\n",
      "Clp0000I Optimal - objective value 9\n",
      "Clp0000I Optimal - objective value 9\n",
      "Coin0511I After Postsolve, objective 9, infeasibilities - dual 0 (0), primal 0 (0)\n",
      "Clp0000I Optimal - objective value 9\n",
      "Clp0000I Optimal - objective value 9\n",
      "Clp0000I Optimal - objective value 9\n",
      "Clp0032I Optimal objective 9 - 0 iterations time 0.002, Idiot 0.00\n",
      "\n",
      "Starting MIP optimization\n"
     ]
    },
    {
     "data": {
      "text/plain": "<OptimizationStatus.OPTIMAL: 0>"
     },
     "execution_count": 8,
     "metadata": {},
     "output_type": "execute_result"
    }
   ],
   "source": [
    "# optimizing\n",
    "model.optimize()"
   ]
  },
  {
   "cell_type": "code",
   "execution_count": 9,
   "metadata": {
    "id": "kRvHnvvUrR3i",
    "colab": {
     "base_uri": "https://localhost:8080/"
    },
    "outputId": "023926ef-a2be-4498-9475-5a76369ac167",
    "ExecuteTime": {
     "end_time": "2023-12-09T15:14:14.967864Z",
     "start_time": "2023-12-09T15:14:14.952767Z"
    }
   },
   "outputs": [
    {
     "data": {
      "text/plain": "9.0"
     },
     "execution_count": 9,
     "metadata": {},
     "output_type": "execute_result"
    }
   ],
   "source": [
    "# Objective function values\n",
    "model.objective.x"
   ]
  },
  {
   "cell_type": "code",
   "execution_count": 10,
   "metadata": {
    "id": "qHqtAqsEp_wf",
    "ExecuteTime": {
     "end_time": "2023-12-09T15:14:15.668238Z",
     "start_time": "2023-12-09T15:14:15.653548Z"
    }
   },
   "outputs": [],
   "source": [
    "# Partitioning model\n",
    "model1 = mip.Model()"
   ]
  },
  {
   "cell_type": "code",
   "execution_count": 11,
   "metadata": {
    "id": "UO3HxtKElzWw",
    "ExecuteTime": {
     "end_time": "2023-12-09T15:14:15.900064Z",
     "start_time": "2023-12-09T15:14:15.885719Z"
    }
   },
   "outputs": [],
   "source": [
    "# definition of variables\n",
    "x1 = [model1.add_var(name = str(j), var_type=BINARY) for j in range(n)]"
   ]
  },
  {
   "cell_type": "code",
   "execution_count": 12,
   "metadata": {
    "id": "cS6dTFGylzWw",
    "ExecuteTime": {
     "end_time": "2023-12-09T15:14:16.472501Z",
     "start_time": "2023-12-09T15:14:16.444812Z"
    }
   },
   "outputs": [],
   "source": [
    "# definition of the objective function\n",
    "model1.objective = mip.minimize(mip.xsum(x1[j]*c[j] for j in range(n)))"
   ]
  },
  {
   "cell_type": "code",
   "execution_count": 13,
   "metadata": {
    "id": "Elz1qiv5R8Bc",
    "ExecuteTime": {
     "end_time": "2023-12-09T15:14:16.969454Z",
     "start_time": "2023-12-09T15:14:16.942164Z"
    }
   },
   "outputs": [],
   "source": [
    "# Partitioning constraint\n",
    "for i in range(m):\n",
    "    model1.add_constr(mip.xsum(a[i][j]*x1[j] for j in range(n)) == 1)"
   ]
  },
  {
   "cell_type": "code",
   "execution_count": 14,
   "metadata": {
    "id": "r_L2g_IDrxLf",
    "colab": {
     "base_uri": "https://localhost:8080/"
    },
    "outputId": "74a4f85c-0f61-48b2-f654-cc84703e553e",
    "ExecuteTime": {
     "end_time": "2023-12-09T15:14:18.066297Z",
     "start_time": "2023-12-09T15:14:18.051236Z"
    }
   },
   "outputs": [
    {
     "name": "stdout",
     "output_type": "stream",
     "text": [
      "Cgl0004I processed model has 5 rows, 12 columns (12 integer (12 of which binary)) and 29 elements\n",
      "Coin3009W Conflict graph built in 0.000 seconds, density: 4.000%\n",
      "Cgl0015I Clique Strengthening extended 0 cliques, 0 were dominated\n",
      "Cbc0038I Initial state - 0 integers unsatisfied sum - 0\n",
      "Cbc0038I Solution found of 9\n",
      "Cbc0038I Before mini branch and bound, 12 integers at bound fixed and 0 continuous\n",
      "Cbc0038I Mini branch and bound did not improve solution (0.00 seconds)\n",
      "Cbc0038I After 0.00 seconds - Feasibility pump exiting with objective of 9 - took 0.00 seconds\n",
      "Cbc0012I Integer solution of 9 found by feasibility pump after 0 iterations and 0 nodes (0.00 seconds)\n",
      "Cbc0001I Search completed - best objective 9, took 0 iterations and 0 nodes (0.00 seconds)\n",
      "Cbc0035I Maximum depth 0, 0 variables fixed on reduced cost\n",
      "Total time (CPU seconds):       0.00   (Wallclock seconds):       0.00\n",
      "\n",
      "Starting solution of the Linear programming relaxation problem using Primal Simplex\n",
      "\n",
      "Clp0024I Matrix will be packed to eliminate 31 small elements\n",
      "Coin0506I Presolve 5 (0) rows, 11 (-1) columns and 27 (-2) elements\n",
      "Clp1000I sum of infeasibilities 1.01772e-07 - average 2.03544e-08, 3 fixed columns\n",
      "Coin0506I Presolve 5 (0) rows, 8 (-3) columns and 20 (-7) elements\n",
      "Clp0006I 0  Obj 12.000087 Dual inf 5000 (8)\n",
      "Clp0029I End of values pass after 8 iterations\n",
      "Clp0000I Optimal - objective value 12\n",
      "Clp0000I Optimal - objective value 12\n",
      "Coin0511I After Postsolve, objective 12, infeasibilities - dual 0 (0), primal 0 (0)\n",
      "Clp0006I 0  Obj 12\n",
      "Clp0000I Optimal - objective value 12\n",
      "Clp0000I Optimal - objective value 12\n",
      "Clp0000I Optimal - objective value 12\n",
      "Coin0511I After Postsolve, objective 12, infeasibilities - dual 0 (0), primal 0 (0)\n",
      "Clp0032I Optimal objective 12 - 0 iterations time 0.002, Presolve 0.00, Idiot 0.00\n",
      "\n",
      "Starting MIP optimization\n"
     ]
    },
    {
     "data": {
      "text/plain": "<OptimizationStatus.OPTIMAL: 0>"
     },
     "execution_count": 14,
     "metadata": {},
     "output_type": "execute_result"
    }
   ],
   "source": [
    "# optimizing\n",
    "model1.optimize()"
   ]
  },
  {
   "cell_type": "code",
   "execution_count": 15,
   "outputs": [
    {
     "data": {
      "text/plain": "12.0"
     },
     "execution_count": 15,
     "metadata": {},
     "output_type": "execute_result"
    }
   ],
   "source": [
    "model1.objective.x"
   ],
   "metadata": {
    "collapsed": false,
    "ExecuteTime": {
     "end_time": "2023-12-09T15:14:19.315089Z",
     "start_time": "2023-12-09T15:14:19.301670Z"
    }
   }
  },
  {
   "cell_type": "code",
   "execution_count": 17,
   "metadata": {
    "id": "EQmyhvi2q22O"
   },
   "outputs": [],
   "source": [
    "model2 = mip.Model()"
   ]
  },
  {
   "cell_type": "code",
   "execution_count": 18,
   "metadata": {
    "id": "g35OQIGdlzWx"
   },
   "outputs": [],
   "source": [
    "# definition of variables\n",
    "x2 = [model2.add_var(name = str(j), var_type=BINARY) for j in range(n)]"
   ]
  },
  {
   "cell_type": "code",
   "execution_count": 19,
   "metadata": {
    "id": "ds6Z4odmlzWx"
   },
   "outputs": [],
   "source": [
    "# definition of the objective function\n",
    "model2.objective = mip.minimize(mip.xsum(x2[j]*c[j] for j in range(n)))"
   ]
  },
  {
   "cell_type": "code",
   "execution_count": 22,
   "metadata": {
    "colab": {
     "base_uri": "https://localhost:8080/"
    },
    "id": "7x1PJi2kSf9L",
    "outputId": "25ce1064-f713-4cc8-f1b1-89bb698b5bcd"
   },
   "outputs": [
    {
     "output_type": "execute_result",
     "data": {
      "text/plain": [
       "<mip.entities.Constr at 0x7f60b5aaaaf0>"
      ]
     },
     "metadata": {},
     "execution_count": 22
    }
   ],
   "source": [
    "# Covering constraint\n",
    "for i in range(m):\n",
    "    model2.add_constr(mip.xsum(a[i][j]*x2[j] for j in range(n)) >= 1)\n",
    "\n",
    "# Quantity constraint\n",
    "model2.add_constr(mip.xsum(b[j]*x2[j] for j in range(n)) >= Q)"
   ]
  },
  {
   "cell_type": "code",
   "execution_count": 23,
   "metadata": {
    "id": "Rhjz958CrGIx",
    "colab": {
     "base_uri": "https://localhost:8080/"
    },
    "outputId": "20838d7a-eec9-42dd-d8f5-614edd935138"
   },
   "outputs": [
    {
     "output_type": "execute_result",
     "data": {
      "text/plain": [
       "<OptimizationStatus.OPTIMAL: 0>"
      ]
     },
     "metadata": {},
     "execution_count": 23
    }
   ],
   "source": [
    "# optimizing\n",
    "model2.optimize()"
   ]
  },
  {
   "cell_type": "code",
   "execution_count": 24,
   "metadata": {
    "colab": {
     "base_uri": "https://localhost:8080/"
    },
    "id": "-7TtS3xFTVg-",
    "outputId": "e964af7d-aa22-4a56-ce03-0a4d26739722"
   },
   "outputs": [
    {
     "output_type": "execute_result",
     "data": {
      "text/plain": [
       "15.0"
      ]
     },
     "metadata": {},
     "execution_count": 24
    }
   ],
   "source": [
    "# Objective function values\n",
    "model2.objective.x"
   ]
  },
  {
   "cell_type": "code",
   "execution_count": 25,
   "metadata": {
    "id": "UhBMNTl2Tb7i",
    "scrolled": true,
    "colab": {
     "base_uri": "https://localhost:8080/"
    },
    "outputId": "521b4fee-3d3f-4c23-904b-bea55fe44507"
   },
   "outputs": [
    {
     "output_type": "stream",
     "name": "stdout",
     "text": [
      "5 1.0\n",
      "6 1.0\n"
     ]
    }
   ],
   "source": [
    "# variables values\n",
    "for i in model.vars:\n",
    "    if i.x != 0:\n",
    "        print(i.name, i.x)"
   ]
  },
  {
   "cell_type": "markdown",
   "metadata": {
    "id": "MNK_XAgfYhko"
   },
   "source": [
    "<h3 align=\"center\">Formulation</h3> \n",
    " \n",
    "- Sets\n",
    "    - $I$: cities\n",
    "    - $J$: areas\n",
    "    \n",
    "- Parameters\n",
    "    - $a_{ij}$: 1 if area $j$ can serve city $i\\in I,j \\in J$\n",
    "    - $c_j$: building cost for area $j \\in J$\n",
    "    - $b_j$: capacity for area $j \\in J$\n",
    "\n",
    "- Variables\n",
    "    - $x_{j}$: 1 if a purification plant is build on $j$, 0 otherwise $j \\in J$ \n",
    "    \n",
    "- Model\n",
    "  \\begin{array}{lll}\n",
    "  \\min & \\sum_{j\\in J} c_j x_{j} \\qquad & & \\text{(cost)}\\\\\n",
    "  \\textrm{s.t.} &  & \\\\\n",
    "  & \\sum_{j \\in J}a_{ij} x_j \\geq 1 &  i \\in I & \\text{(covering)} &\\\\\n",
    "  & x_{j}\\in \\{0,1\\} &  j \\in J & \\text{(binary variables)} &\\\\\n",
    "\\end{array}\n",
    "\n",
    "For question 2), we substitute the following constraint for the $\\textit{covering}$ one\n",
    "\n",
    "\\begin{array}{lll}\n",
    "  & \\sum_{j \\in J}a_{ij} x_j = 1 &  i \\in I & \\text{(partitioning)} &\\\\\n",
    "\\end{array}\n",
    "\n",
    "For question 3), we introduce the parameter\n",
    "- Q: minimum quantity of water to purify\n",
    "\n",
    "and add the constraint\n",
    "\n",
    "\\begin{array}{lll}\n",
    "  & \\sum_{j \\in J}b_j x_j \\geq Q &  i \\in I & \\text{(quantity)} &\\\\\n",
    "\\end{array}\n",
    "\n",
    " \n",
    "The problem as in question 1) is known in the literature as the $\\textit{set covering}$ problem. We are given a set $I=\\{1,\\ldots,m\\}$ and a set $J=\\{I_1,\\ldots,I_n\\}$ of $n$ subsets of $I$. Let $c_j$ be the cost for subset $j\\in J$. The $\\textit{set covering}$ problem amounts to selecting a subset $F \\subseteq J$ of minimum total cost, such that each element in $I$ is contained in, at least, a subset of those in $F$, i.e., such that $\\cup_{j \\in F}I_j=I$. When constraint $I_j \\cap I_{j^*}=\\emptyset$ is present, we have a so-called $\\textit{set partitioning}$ problem."
   ]
  },
  {
   "cell_type": "markdown",
   "metadata": {
    "id": "cWp6S9Fwkj0W"
   },
   "source": [
    "## Set Covering greedy algorithm\n",
    "Many real-world optimization problems can be expressed as variants or extensions of the set cover problem. We define a finite set of objects $U = \\{x_1, . . . , x_m\\}$ as the universe, and S = $\\{s_1, . . . , s_n\\}$ a collection of subsets of $U$, such that every element of U belongs to at least one set of S.\n",
    "\n",
    "\n",
    "**input**:collection $S$ of sets over universe $U$, costs $c$: $S → \\mathbb{R}_+$\n",
    "\n",
    "**output**: set cover $C$\n",
    "\n",
    "1. Let $C \\gets \\emptyset$;\n",
    "2. Repeat until $C$ is a set cover;\n",
    "3. Find a set $s \\in S$ maximizing the number of elements in $s$ not yet covered by any set in $C$, divided by the cost $c_s$;\n",
    "4. Add $s$ to C;\n",
    "5. Return $C$."
   ]
  },
  {
   "cell_type": "markdown",
   "metadata": {
    "id": "jo-M9VYTbE3i"
   },
   "source": [
    "Some theorethical results can be proved for the worst case quality scenario. For instance in [1,2,3] it was proved that: \n",
    "\n",
    "**Theorem** The greedy set-cover algorithm returns a set cover of cost at most $H(d)$ opt, where opt is the minimum cost of any set cover, $d=\\max_{s∈S}|s|$ is the maximum set size, and $H(d)$≈$0.58+ln(d)$ is the $d$th Harmonic number.\n",
    "\n",
    "The logarithmic approximation guarantee is the best possible in the following sense: if P≠NP, in the worst case, no polynomial-time algorithm guarantees a cover of cost $o$(opt $log(n)$), where $n=|U|$ is the number of elements to be covered.\n",
    "\n",
    "Bibliography\n",
    "\n",
    "[1]\tV. Chvátal. A greedy heuristic for the set-covering problem. Math. Operations Research, 4:233–235, 1979.\n",
    "\n",
    "[2]\tD. S. Johnson. Approximation algorithms for combinatorial problems. J. Computer System Sciences, 9:256–278, 1974.\n",
    "\n",
    "[3]\tL. Lovász. On the ratio of optimal integral and fractional covers. Discrete Mathematics, 13:383–390, 1975.\n"
   ]
  },
  {
   "cell_type": "code",
   "execution_count": null,
   "metadata": {
    "id": "0xR0I2tSpLzn"
   },
   "outputs": [],
   "source": [
    "# implementation of set covering greedy algorithm\n",
    "# input matrix a and c defined above\n",
    "def set_cover(a, c):\n",
    "    # number of subsets\n",
    "    n_subset = a.shape[1]\n",
    "    # subsets\n",
    "    subsets = [set(np.where(a[:, i] == 1)[0]) for i in range(n_subset)]\n",
    "    # universe\n",
    "    U = set(range(a.shape[0]))\n",
    "    elements = set(e for s in subsets for e in s)\n",
    "    # Check the subsets cover the universe\n",
    "    if elements != U:\n",
    "        return None\n",
    "    covered = set()\n",
    "    C = []\n",
    "    # Greedily add the subsets maximizing the number of elements in it not yet covered by any set dound so far, divided by its cost\n",
    "    while covered != elements:\n",
    "        max_val = -np.inf\n",
    "      \n",
    "        for j, set_ in enumerate(subsets):\n",
    "            if len(set_ - covered)/c[j] > max_val:\n",
    "                subset = set_\n",
    "                max_val = len(set_ - covered)/c[j]\n",
    "                index = j\n",
    "        C.append(index)\n",
    "        covered |= subset\n",
    " \n",
    "    return C"
   ]
  }
 ],
 "metadata": {
  "colab": {
   "provenance": []
  },
  "kernelspec": {
   "display_name": "Python 3",
   "language": "python",
   "name": "python3"
  },
  "language_info": {
   "codemirror_mode": {
    "name": "ipython",
    "version": 3
   },
   "file_extension": ".py",
   "mimetype": "text/x-python",
   "name": "python",
   "nbconvert_exporter": "python",
   "pygments_lexer": "ipython3",
   "version": "3.6.8"
  }
 },
 "nbformat": 4,
 "nbformat_minor": 0
}
