{
 "cells": [
  {
   "cell_type": "markdown",
   "metadata": {
    "id": "XntefuDobFts"
   },
   "source": [
    "## Diet problem\n",
    "\n",
    "A canteen has to plan the composition of the meals that it provides. A meal can be composed of the types of food indicated in the following table. Costs, in Euro per hg, and availabilities, in hg, are also indicated.\n",
    "\n",
    "Food|Cost|Availability\n",
    "----|----|------------\n",
    "Bread|0.1|4\n",
    "Milk|0.5|3\n",
    "Eggs|0.12|1\n",
    "Meat|0.9|2\n",
    "Cake|1.3|2\n",
    "\n",
    "A meal must contain at least the following amount of each nutrient\n",
    "\n",
    "Nutrient|Minimum quantity\n",
    "--------|----------------\n",
    "Calories|600 cal\n",
    "Proteins|50 g\n",
    "Calcium|0.7 g\n",
    "\n",
    "Each hg of each type of food contains to following amount of nutrients\n",
    "\n",
    "Food|Calories|Proteins|Calcium\n",
    "----|--------|--------|-------\n",
    "Bread|30 cal|5 g|0.02 g\n",
    "Milk|50 cal|15 g|0.15 g\n",
    "Eggs|150 cal|30 g|0.05 g\n",
    "Meat|180 cal|90 g|0.08 g\n",
    "Cake|400 cal|70 g|0.01 g\n",
    "\n",
    "Give a linear programming formulation for the problem of finding a diet (a meal) of minimum total cost which satisfies the minimum nutrient requirements."
   ]
  },
  {
   "cell_type": "markdown",
   "metadata": {
    "id": "pcGSJc9VbFtv"
   },
   "source": [
    " <h3 align=\"center\"> Diet problem formulation</h3> \n",
    " \n",
    "- Sets\n",
    "    - $I$: food types\n",
    "    - $J$: nutrients\n",
    "    \n",
    "- Parameters\n",
    "    - $c_i$: unit cost of food type $i \\in I$ \n",
    "    - $q_i$: available quantity of food type $i \\in I$\n",
    "    - $b_j$: minimum quantity of nutrient $j \\in J$ required\n",
    "    - $a_{ij}$: quantity of nutrient $j \\in J$ per unit of food of type $i \\in I$\n",
    "    \n",
    "- Variables\n",
    "    - $x_i$: quantity of food of type $i \\in I$ included in the diet\n",
    "    \n",
    "- Model\n",
    "    \n",
    "\\begin{array}{lll}\n",
    "  \\min & \\sum_{i\\in I} c_{i} x_{i} \\qquad & & \\text{(cost)}\\\\\n",
    "  \\textrm{s.t.} & \\sum_{i\\in I}a_{ij}x_{ij} \\ge b_j & j \\in J & \\text{(min nutrients)}\\\\\n",
    "  & x_i \\leq q_i & i \\in I & \\text{(availability)}\\\\\n",
    "  & x_i \\geq 0 &  i \\in I & \\text{(nonnegativity)}\n",
    "\\end{array}\n"
   ]
  },
  {
   "cell_type": "code",
   "execution_count": 90,
   "metadata": {
    "id": "MwIE5_v1bFty",
    "ExecuteTime": {
     "end_time": "2023-12-18T20:31:54.748805Z",
     "start_time": "2023-12-18T20:31:54.741079Z"
    }
   },
   "outputs": [],
   "source": [
    "import mip"
   ]
  },
  {
   "cell_type": "code",
   "execution_count": 91,
   "metadata": {
    "id": "emiHieGMkTVg",
    "ExecuteTime": {
     "end_time": "2023-12-18T20:31:54.756725Z",
     "start_time": "2023-12-18T20:31:54.749502Z"
    }
   },
   "outputs": [],
   "source": [
    "# Food\n",
    "I = {'Bread', 'Milk', 'Eggs', 'Meat', 'Cake'}\n",
    "\n",
    "# Nutrients\n",
    "J = {'Calories', 'Proteins', 'Calcium'}\n",
    "\n",
    "# Cost in Euro per hg of food\n",
    "c = {'Bread': 0.1, 'Milk': 0.5, 'Eggs': 0.12, 'Meat': 0.9, 'Cake': 1.3}\n",
    "\n",
    "# Availability per hg of food\n",
    "q = {'Bread': 4, 'Milk': 3, 'Eggs': 1, 'Meat': 2, 'Cake': 2}\n",
    "\n",
    "# Minimum nutrients \n",
    "b = {'Calories': 600, 'Proteins': 50, 'Calcium': 0.7}\n",
    "\n",
    "# Nutrients per hf of food\n",
    "a = {\n",
    "    ('Bread', 'Calories'): 30, ('Milk', 'Calories'): 50, ('Eggs', 'Calories'): 150, ('Meat', 'Calories'): 180,\n",
    "     ('Cake', 'Calories'): 400, ('Bread', 'Proteins'): 5, ('Milk', 'Proteins'): 15, ('Eggs', 'Proteins'): 30,\n",
    "     ('Meat', 'Proteins'): 90, ('Cake', 'Proteins'): 70, ('Bread', 'Calcium'): 0.02, ('Milk', 'Calcium'): 0.15,\n",
    "     ('Eggs', 'Calcium'): 0.05, ('Meat', 'Calcium'): 0.08, ('Cake', 'Calcium'): 0.01\n",
    "}"
   ]
  },
  {
   "cell_type": "code",
   "execution_count": 92,
   "metadata": {
    "id": "pSvGnxiao6Zl",
    "ExecuteTime": {
     "end_time": "2023-12-18T20:31:54.775115Z",
     "start_time": "2023-12-18T20:31:54.753839Z"
    }
   },
   "outputs": [],
   "source": [
    "# Define a model\n",
    "model = mip.Model()\n",
    "\n",
    "# Define variables\n",
    "x = [model.add_var(name=i, lb=0) for i in I]"
   ]
  },
  {
   "cell_type": "code",
   "execution_count": 93,
   "metadata": {
    "id": "GM2sOSkJpVza",
    "ExecuteTime": {
     "end_time": "2023-12-18T20:31:54.775440Z",
     "start_time": "2023-12-18T20:31:54.763438Z"
    }
   },
   "outputs": [],
   "source": [
    "# Define the objective function\n",
    "model.objective = mip.minimize(mip.xsum(x[i] * c[food] for i, food in enumerate(I)))"
   ]
  },
  {
   "cell_type": "code",
   "execution_count": 94,
   "metadata": {
    "id": "JeNTerfsqFjS",
    "ExecuteTime": {
     "end_time": "2023-12-18T20:31:54.775730Z",
     "start_time": "2023-12-18T20:31:54.768255Z"
    }
   },
   "outputs": [],
   "source": [
    "# CONSTRAINTS\n",
    "# Availability constraint\n",
    "constrains = list()\n",
    "for i, food in enumerate(I):\n",
    "    constrains.append(model.add_constr(x[i] <= q[food]))\n",
    "\n",
    "# Minimum nutrients\n",
    "for j in J:\n",
    "    constrains.append(model.add_constr(mip.xsum(x[i] * a[(food, j)] for i, food in enumerate(I)) >= b[j]))"
   ]
  },
  {
   "cell_type": "code",
   "execution_count": 95,
   "metadata": {
    "id": "u2EOpR5zrlfr",
    "colab": {
     "base_uri": "https://localhost:8080/"
    },
    "outputId": "d472f5ca-994c-468d-b55f-ba0bb0ea39cd",
    "ExecuteTime": {
     "end_time": "2023-12-18T20:31:54.788938Z",
     "start_time": "2023-12-18T20:31:54.775603Z"
    }
   },
   "outputs": [
    {
     "name": "stdout",
     "output_type": "stream",
     "text": [
      "Coin0506I Presolve 2 (-6) rows, 5 (0) columns and 10 (-10) elements\n",
      "Clp0006I 0  Obj 2.3749999 Primal inf 2.0358316 (2)\n",
      "Clp0000I Optimal - objective value 3.37\n",
      "Coin0511I After Postsolve, objective 3.37, infeasibilities - dual 0 (0), primal 0 (0)\n",
      "Clp0032I Optimal objective 3.37 - 1 iterations time 0.002, Presolve 0.00\n",
      "Starting solution of the Linear programming problem using Dual Simplex\n",
      "\n"
     ]
    },
    {
     "data": {
      "text/plain": "<OptimizationStatus.OPTIMAL: 0>"
     },
     "execution_count": 95,
     "metadata": {},
     "output_type": "execute_result"
    }
   ],
   "source": [
    "# Optimizing command\n",
    "model.optimize()"
   ]
  },
  {
   "cell_type": "code",
   "execution_count": 96,
   "outputs": [
    {
     "data": {
      "text/plain": "3.37"
     },
     "execution_count": 96,
     "metadata": {},
     "output_type": "execute_result"
    }
   ],
   "source": [
    "# Optimal objective function value\n",
    "model.objective.x"
   ],
   "metadata": {
    "collapsed": false,
    "ExecuteTime": {
     "end_time": "2023-12-18T20:31:54.793116Z",
     "start_time": "2023-12-18T20:31:54.785704Z"
    }
   }
  },
  {
   "cell_type": "code",
   "execution_count": 97,
   "outputs": [
    {
     "name": "stdout",
     "output_type": "stream",
     "text": [
      "Bread \t=\t 3.9999999999999996\n",
      "Eggs \t=\t 1.0\n",
      "Cake \t=\t 0.0\n",
      "Meat \t=\t 1.5000000000000002\n",
      "Milk \t=\t 3.0\n"
     ]
    }
   ],
   "source": [
    "for var in model.vars:\n",
    "  print(var.name, \"\\t=\\t\", var.x)"
   ],
   "metadata": {
    "collapsed": false,
    "ExecuteTime": {
     "end_time": "2023-12-18T20:31:54.853805Z",
     "start_time": "2023-12-18T20:31:54.791513Z"
    }
   }
  },
  {
   "cell_type": "code",
   "execution_count": 98,
   "outputs": [
    {
     "name": "stdout",
     "output_type": "stream",
     "text": [
      "Dual value of constrain 1 \t=\t -0.12\n",
      "Dual value of constrain 2 \t=\t -0.44\n",
      "Dual value of constrain 3 \t=\t 0.0\n",
      "Dual value of constrain 4 \t=\t 0.0\n",
      "Dual value of constrain 5 \t=\t -1.19\n",
      "Dual value of constrain 6 \t=\t 0.0\n",
      "Dual value of constrain 7 \t=\t 11.25\n",
      "Dual value of constrain 8 \t=\t 0.0\n"
     ]
    }
   ],
   "source": [
    "for i, con in enumerate(constrains):\n",
    "    print(f\"Dual value of constrain {i + 1} \\t=\\t {round(con.pi, 2)}\")\n",
    "# ecco come trovare il valore ottimale della variabile duale associata a ogni constrain --> devi salvare tutti i constrain in una lista, ovviamente"
   ],
   "metadata": {
    "collapsed": false,
    "ExecuteTime": {
     "end_time": "2023-12-18T20:31:54.863088Z",
     "start_time": "2023-12-18T20:31:54.799104Z"
    }
   }
  }
 ],
 "metadata": {
  "colab": {
   "provenance": [],
   "collapsed_sections": []
  },
  "kernelspec": {
   "display_name": "Python 3",
   "language": "python",
   "name": "python3"
  },
  "language_info": {
   "codemirror_mode": {
    "name": "ipython",
    "version": 3
   },
   "file_extension": ".py",
   "mimetype": "text/x-python",
   "name": "python",
   "nbconvert_exporter": "python",
   "pygments_lexer": "ipython3",
   "version": "3.6.8"
  }
 },
 "nbformat": 4,
 "nbformat_minor": 0
}
