{
 "cells": [
  {
   "cell_type": "markdown",
   "source": [
    "We are to choose the building site for a set of burners among 10 areas $A_1,\\dots, A_{10}$, which are close to 7 cities $B_1,\\cdots,B_7$. The following table contains the symbol \"*\" for each pair of city and area that are considered to be 'close'. The second last line reports the capacity, in tons/year, of each facility (which depends on the site where the facility is built). The last line reports the building cost, in MEuro.\n",
    "\n",
    "Cities|$A_1$|$A_2$|$A_3$|$A_4$|$A_5$|$A_6$|$A_7$|$A_8$|$A_9$|$A_{10}$|\n",
    "------|-----|-----|-----|-----|-----|-----|-----|-----|-----|--------|\n",
    "$B_1$| -|*|-|-|*|*|*|-|*|-\n",
    "$B_2$| *|*|-|*|-|-|-|*|-|-\n",
    "$B_3$| -|-|-|-|*|-|-|*|*|-\n",
    "$B_4$| *|-|*|-|*|-|*|*|*|*\n",
    "$B_5$| -|-|*|*|-|-|*|-|-|*\n",
    "$B_6$| -|*|-|-|-|-|-|*|*|-\n",
    "$B_7$| -|-|*|*|-|*|*|*|-|*\n",
    "------|-----|-----|-----|-----|-----|-----|-----|-----|-----|--------\n",
    "Capacity|450|720|580|460|660|390|510|1000|830|680\n",
    "Cost|4|7|8|4|6|9|10|10|8|6\n",
    "\n",
    "Due to pollution reasons, **no more** than a burner can be build close to each city.\n",
    "\n",
    "1. Give an integer linear programming formulation for the problem of maximizing the total capacity of the burners.\n",
    "2. Give an integer linear programming formulation for the variant where the total building cost must be non-greater than 10 MEuro.\n"
   ],
   "metadata": {
    "id": "e8tfwY6Eej9l"
   }
  },
  {
   "cell_type": "code",
   "execution_count": 2,
   "outputs": [],
   "source": [
    "import mip"
   ],
   "metadata": {
    "collapsed": false,
    "ExecuteTime": {
     "end_time": "2023-12-02T11:52:55.429202Z",
     "start_time": "2023-12-02T11:52:55.391065Z"
    }
   }
  },
  {
   "cell_type": "code",
   "source": [
    "A = [\n",
    "    [0,1,0,0,1,1,1,0,1,0],\n",
    "    [1,1,0,1,0,0,0,1,0,0],\n",
    "    [0,0,0,0,1,0,0,1,1,0],\n",
    "    [1,0,1,0,1,0,1,1,1,1],\n",
    "    [0,0,1,1,0,0,1,0,0,1],\n",
    "    [0,1,0,0,0,0,0,1,1,0],\n",
    "    [0,0,1,1,0,1,1,1,0,1]\n",
    "]\n",
    "cap = [450, 720, 580, 460, 660, 390, 510, 1000, 830, 680]\n",
    "cost = [4, 7, 8, 4, 6, 9, 10, 10, 8, 6]\n",
    "I = range(10)\n",
    "J = range(7)"
   ],
   "metadata": {
    "id": "SHX0J54ieiUN",
    "ExecuteTime": {
     "end_time": "2023-12-02T11:52:57.074717Z",
     "start_time": "2023-12-02T11:52:56.797051Z"
    }
   },
   "execution_count": 3,
   "outputs": []
  },
  {
   "cell_type": "code",
   "source": [
    "model = mip.Model()"
   ],
   "metadata": {
    "id": "Q5ztrauyeiXU",
    "ExecuteTime": {
     "end_time": "2023-12-02T11:53:37.198303Z",
     "start_time": "2023-12-02T11:53:37.192920Z"
    }
   },
   "execution_count": 14,
   "outputs": []
  },
  {
   "cell_type": "code",
   "source": [
    "x = [model.add_var(name=f\"X_{i}\", lb=0, var_type=mip.BINARY) for i in I]"
   ],
   "metadata": {
    "id": "uJvFsTqdeia4",
    "ExecuteTime": {
     "end_time": "2023-12-02T11:53:37.443840Z",
     "start_time": "2023-12-02T11:53:37.438250Z"
    }
   },
   "execution_count": 15,
   "outputs": []
  },
  {
   "cell_type": "code",
   "execution_count": 16,
   "outputs": [],
   "source": [
    "model.objective = mip.maximize(mip.xsum([x[i] * cap[i] for i in I]))"
   ],
   "metadata": {
    "collapsed": false,
    "ExecuteTime": {
     "end_time": "2023-12-02T11:53:37.660454Z",
     "start_time": "2023-12-02T11:53:37.655592Z"
    }
   }
  },
  {
   "cell_type": "code",
   "execution_count": 17,
   "outputs": [],
   "source": [
    "for j in J:\n",
    "    model.add_constr(mip.xsum([A[j][i] * x[i] for i in I]) >= 1)\n",
    "\n",
    "# model.add_constr(mip.xsum([cost[i] * x[i] for i in I]) <= 10) # point number 2"
   ],
   "metadata": {
    "collapsed": false,
    "ExecuteTime": {
     "end_time": "2023-12-02T11:53:38.149098Z",
     "start_time": "2023-12-02T11:53:38.144133Z"
    }
   }
  },
  {
   "cell_type": "code",
   "execution_count": 18,
   "outputs": [
    {
     "name": "stdout",
     "output_type": "stream",
     "text": [
      "Welcome to the CBC MILP Solver \n",
      "Version: Trunk\n",
      "Build Date: Oct 28 2021 \n",
      "\n",
      "Starting solution of the Linear programming relaxation problem using Primal Simplex\n",
      "\n",
      "Clp0024I Matrix will be packed to eliminate 38 small elements\n",
      "Coin0506I Presolve 0 (-7) rows, 0 (-10) columns and 0 (-32) elements\n",
      "Clp0000I Optimal - objective value 6280\n",
      "Coin0511I After Postsolve, objective 6280, infeasibilities - dual 0 (0), primal 0 (0)\n",
      "Clp0032I Optimal objective 6280 - 0 iterations time 0.002, Presolve 0.00, Idiot 0.00\n",
      "\n",
      "Starting MIP optimization\n"
     ]
    },
    {
     "data": {
      "text/plain": "<OptimizationStatus.OPTIMAL: 0>"
     },
     "execution_count": 18,
     "metadata": {},
     "output_type": "execute_result"
    }
   ],
   "source": [
    "model.optimize()"
   ],
   "metadata": {
    "collapsed": false,
    "ExecuteTime": {
     "end_time": "2023-12-02T11:53:38.559232Z",
     "start_time": "2023-12-02T11:53:38.545573Z"
    }
   }
  },
  {
   "cell_type": "code",
   "execution_count": 20,
   "outputs": [
    {
     "data": {
      "text/plain": "6280.0"
     },
     "execution_count": 20,
     "metadata": {},
     "output_type": "execute_result"
    }
   ],
   "source": [
    "model.objective.x"
   ],
   "metadata": {
    "collapsed": false,
    "ExecuteTime": {
     "end_time": "2023-12-02T11:53:45.267524Z",
     "start_time": "2023-12-02T11:53:45.263730Z"
    }
   }
  },
  {
   "cell_type": "code",
   "execution_count": 52,
   "outputs": [
    {
     "name": "stdout",
     "output_type": "stream",
     "text": [
      "X_0 0.0\n",
      "X_1 0.0\n",
      "X_2 0.0\n",
      "X_3 1.0\n",
      "X_4 1.0\n",
      "X_5 0.0\n",
      "X_6 0.0\n",
      "X_7 0.0\n",
      "X_8 0.0\n",
      "X_9 0.0\n"
     ]
    }
   ],
   "source": [
    "for var in model.vars:\n",
    "  print(var.name, \"\\t=\\t\", var.x)"
   ],
   "metadata": {
    "collapsed": false,
    "ExecuteTime": {
     "end_time": "2023-11-30T18:57:47.021400Z",
     "start_time": "2023-11-30T18:57:47.016566Z"
    }
   }
  }
 ],
 "metadata": {
  "colab": {
   "provenance": [],
   "collapsed_sections": []
  },
  "kernelspec": {
   "name": "python3",
   "language": "python",
   "display_name": "Python 3 (ipykernel)"
  },
  "language_info": {
   "name": "python"
  }
 },
 "nbformat": 4,
 "nbformat_minor": 0
}
