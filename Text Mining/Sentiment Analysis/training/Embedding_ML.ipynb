{
 "cells": [
  {
   "cell_type": "code",
   "execution_count": 1,
   "metadata": {},
   "outputs": [
    {
     "name": "stderr",
     "output_type": "stream",
     "text": [
      "2024-12-12 17:46:52.823286: I tensorflow/core/platform/cpu_feature_guard.cc:210] This TensorFlow binary is optimized to use available CPU instructions in performance-critical operations.\n",
      "To enable the following instructions: AVX2 FMA, in other operations, rebuild TensorFlow with the appropriate compiler flags.\n"
     ]
    }
   ],
   "source": [
    "from sklearn.svm import SVC\n",
    "from sklearn.neighbors import KNeighborsClassifier\n",
    "from sklearn.metrics import accuracy_score\n",
    "from sklearn.model_selection import train_test_split\n",
    "import pandas as pd\n",
    "from sentence_transformers import SentenceTransformer\n",
    "from sklearn.metrics import classification_report\n",
    "import numpy as np"
   ]
  },
  {
   "cell_type": "code",
   "execution_count": 2,
   "metadata": {},
   "outputs": [
    {
     "name": "stdout",
     "output_type": "stream",
     "text": [
      "Train data shape: (10006,)\n",
      "Test data shape: (1112,)\n",
      "Obama can say what he wants but weve all seen what hes done in the past 4 years Actions speak louder than words HofstraDebate -1\n",
      "768 10006\n"
     ]
    }
   ],
   "source": [
    "# Load data\n",
    "data = pd.read_csv(\"../data_cleaned/train_data_cleaned.csv\", header=None, names=[\"tweet\", \"sentiment\"])\n",
    "\n",
    "# Split data\n",
    "train_tweets, test_tweets, train_labels, test_labels = train_test_split(\n",
    "    data[\"tweet\"].to_numpy()[1:], data[\"sentiment\"].to_numpy()[1:].astype(int), test_size=0.1, random_state=21\n",
    ")\n",
    "\n",
    "print(\"Train data shape:\", train_tweets.shape)\n",
    "print(\"Test data shape:\", test_tweets.shape)\n",
    "\n",
    "print(train_tweets[0], train_labels[0])\n",
    "\n",
    "# Adjust labels from -1, 0, 1 to 0, 1, 2\n",
    "train_labels += 1\n",
    "test_labels += 1\n",
    "\n",
    "# Convert tweets to embeddings\n",
    "#model = SentenceTransformer(\"all-MiniLM-L6-v2\")\n",
    "model = SentenceTransformer(\"all-mpnet-base-v2\")\n",
    "train_embeddings = model.encode(train_tweets)\n",
    "test_embeddings = model.encode(test_tweets)\n",
    "print(len(train_embeddings[0]), len(train_embeddings))"
   ]
  },
  {
   "cell_type": "code",
   "execution_count": null,
   "metadata": {},
   "outputs": [],
   "source": [
    "'''val_embeddings = test_embeddings[:len(test_tweets)//2]\n",
    "val_labels = test_labels[:len(test_labels)//2]\n",
    "\n",
    "test_embeddings = test_embeddings[len(test_tweets)//2:]\n",
    "test_labels = test_labels[len(test_labels)//2:]''';"
   ]
  },
  {
   "cell_type": "code",
   "execution_count": 3,
   "metadata": {},
   "outputs": [
    {
     "name": "stdout",
     "output_type": "stream",
     "text": [
      "Label 0: 43.34%\n",
      "Label 1: 32.14%\n",
      "Label 2: 24.52%\n"
     ]
    },
    {
     "data": {
      "text/plain": [
       "array([0.2429184 , 0.32759238, 0.42948923])"
      ]
     },
     "execution_count": 3,
     "metadata": {},
     "output_type": "execute_result"
    }
   ],
   "source": [
    "unique, counts = np.unique(train_labels, return_counts=True)\n",
    "percentages = counts / len(train_labels) * 100\n",
    "weights = []\n",
    "for label, percentage in zip(unique, percentages):\n",
    "    print(f\"Label {label}: {percentage:.2f}%\")\n",
    "    weights.append(1 / percentage)\n",
    "\n",
    "weights = np.array(weights)\n",
    "weights /= weights.sum()\n",
    "weights"
   ]
  },
  {
   "cell_type": "code",
   "execution_count": null,
   "metadata": {},
   "outputs": [
    {
     "name": "stderr",
     "output_type": "stream",
     "text": [
      "/usr/local/lib/python3.9/site-packages/sklearn/ensemble/_base.py:156: FutureWarning: `base_estimator` was renamed to `estimator` in version 1.2 and will be removed in 1.4.\n",
      "  warnings.warn(\n"
     ]
    }
   ],
   "source": [
    "from sklearn.ensemble import AdaBoostClassifier\n",
    "\n",
    "# Define the SVM and AdaBoost ensemble\n",
    "svm = SVC(probability=True, kernel=\"rbf\")  # Make sure to enable probability for boosting compatibility\n",
    "boosting = AdaBoostClassifier(base_estimator=svm, n_estimators=10, random_state=42)\n",
    "\n",
    "# Train and evaluate\n",
    "boosting.fit(train_embeddings, train_labels)\n",
    "y_pred = boosting.predict(test_embeddings)\n",
    "report = classification_report(test_labels, y_pred, target_names=['class -1', 'class 0', 'class 1'])\n",
    "print(report)"
   ]
  },
  {
   "cell_type": "code",
   "execution_count": null,
   "metadata": {},
   "outputs": [],
   "source": [
    "from sklearn.ensemble import BaggingClassifier\n",
    "\n",
    "# Define the SVM and AdaBoost ensemble\n",
    "svm = SVC(probability=True, kernel=\"rbf\")  # Make sure to enable probability for boosting compatibility\n",
    "boosting = BaggingClassifier(base_estimator=svm, n_estimators=10, random_state=42)\n",
    "\n",
    "# Train and evaluate\n",
    "boosting.fit(train_embeddings, train_labels)\n",
    "y_pred = boosting.predict(test_embeddings)\n",
    "report = classification_report(test_labels, y_pred, target_names=['class -1', 'class 0', 'class 1'])\n",
    "print(report)"
   ]
  },
  {
   "cell_type": "code",
   "execution_count": 4,
   "metadata": {},
   "outputs": [
    {
     "data": {
      "text/html": [
       "<style>#sk-container-id-1 {color: black;}#sk-container-id-1 pre{padding: 0;}#sk-container-id-1 div.sk-toggleable {background-color: white;}#sk-container-id-1 label.sk-toggleable__label {cursor: pointer;display: block;width: 100%;margin-bottom: 0;padding: 0.3em;box-sizing: border-box;text-align: center;}#sk-container-id-1 label.sk-toggleable__label-arrow:before {content: \"▸\";float: left;margin-right: 0.25em;color: #696969;}#sk-container-id-1 label.sk-toggleable__label-arrow:hover:before {color: black;}#sk-container-id-1 div.sk-estimator:hover label.sk-toggleable__label-arrow:before {color: black;}#sk-container-id-1 div.sk-toggleable__content {max-height: 0;max-width: 0;overflow: hidden;text-align: left;background-color: #f0f8ff;}#sk-container-id-1 div.sk-toggleable__content pre {margin: 0.2em;color: black;border-radius: 0.25em;background-color: #f0f8ff;}#sk-container-id-1 input.sk-toggleable__control:checked~div.sk-toggleable__content {max-height: 200px;max-width: 100%;overflow: auto;}#sk-container-id-1 input.sk-toggleable__control:checked~label.sk-toggleable__label-arrow:before {content: \"▾\";}#sk-container-id-1 div.sk-estimator input.sk-toggleable__control:checked~label.sk-toggleable__label {background-color: #d4ebff;}#sk-container-id-1 div.sk-label input.sk-toggleable__control:checked~label.sk-toggleable__label {background-color: #d4ebff;}#sk-container-id-1 input.sk-hidden--visually {border: 0;clip: rect(1px 1px 1px 1px);clip: rect(1px, 1px, 1px, 1px);height: 1px;margin: -1px;overflow: hidden;padding: 0;position: absolute;width: 1px;}#sk-container-id-1 div.sk-estimator {font-family: monospace;background-color: #f0f8ff;border: 1px dotted black;border-radius: 0.25em;box-sizing: border-box;margin-bottom: 0.5em;}#sk-container-id-1 div.sk-estimator:hover {background-color: #d4ebff;}#sk-container-id-1 div.sk-parallel-item::after {content: \"\";width: 100%;border-bottom: 1px solid gray;flex-grow: 1;}#sk-container-id-1 div.sk-label:hover label.sk-toggleable__label {background-color: #d4ebff;}#sk-container-id-1 div.sk-serial::before {content: \"\";position: absolute;border-left: 1px solid gray;box-sizing: border-box;top: 0;bottom: 0;left: 50%;z-index: 0;}#sk-container-id-1 div.sk-serial {display: flex;flex-direction: column;align-items: center;background-color: white;padding-right: 0.2em;padding-left: 0.2em;position: relative;}#sk-container-id-1 div.sk-item {position: relative;z-index: 1;}#sk-container-id-1 div.sk-parallel {display: flex;align-items: stretch;justify-content: center;background-color: white;position: relative;}#sk-container-id-1 div.sk-item::before, #sk-container-id-1 div.sk-parallel-item::before {content: \"\";position: absolute;border-left: 1px solid gray;box-sizing: border-box;top: 0;bottom: 0;left: 50%;z-index: -1;}#sk-container-id-1 div.sk-parallel-item {display: flex;flex-direction: column;z-index: 1;position: relative;background-color: white;}#sk-container-id-1 div.sk-parallel-item:first-child::after {align-self: flex-end;width: 50%;}#sk-container-id-1 div.sk-parallel-item:last-child::after {align-self: flex-start;width: 50%;}#sk-container-id-1 div.sk-parallel-item:only-child::after {width: 0;}#sk-container-id-1 div.sk-dashed-wrapped {border: 1px dashed gray;margin: 0 0.4em 0.5em 0.4em;box-sizing: border-box;padding-bottom: 0.4em;background-color: white;}#sk-container-id-1 div.sk-label label {font-family: monospace;font-weight: bold;display: inline-block;line-height: 1.2em;}#sk-container-id-1 div.sk-label-container {text-align: center;}#sk-container-id-1 div.sk-container {/* jupyter's `normalize.less` sets `[hidden] { display: none; }` but bootstrap.min.css set `[hidden] { display: none !important; }` so we also need the `!important` here to be able to override the default hidden behavior on the sphinx rendered scikit-learn.org. See: https://github.com/scikit-learn/scikit-learn/issues/21755 */display: inline-block !important;position: relative;}#sk-container-id-1 div.sk-text-repr-fallback {display: none;}</style><div id=\"sk-container-id-1\" class=\"sk-top-container\"><div class=\"sk-text-repr-fallback\"><pre>SVC(class_weight={0: 1, 1: 1, 2: 1})</pre><b>In a Jupyter environment, please rerun this cell to show the HTML representation or trust the notebook. <br />On GitHub, the HTML representation is unable to render, please try loading this page with nbviewer.org.</b></div><div class=\"sk-container\" hidden><div class=\"sk-item\"><div class=\"sk-estimator sk-toggleable\"><input class=\"sk-toggleable__control sk-hidden--visually\" id=\"sk-estimator-id-1\" type=\"checkbox\" checked><label for=\"sk-estimator-id-1\" class=\"sk-toggleable__label sk-toggleable__label-arrow\">SVC</label><div class=\"sk-toggleable__content\"><pre>SVC(class_weight={0: 1, 1: 1, 2: 1})</pre></div></div></div></div></div>"
      ],
      "text/plain": [
       "SVC(class_weight={0: 1, 1: 1, 2: 1})"
      ]
     },
     "execution_count": 4,
     "metadata": {},
     "output_type": "execute_result"
    }
   ],
   "source": [
    "class_weights = {0: 1, 1: 1, 2: 1}\n",
    "svm_model = SVC(kernel='rbf', class_weight=class_weights)\n",
    "svm_model.fit(train_embeddings, train_labels)"
   ]
  },
  {
   "cell_type": "code",
   "execution_count": 5,
   "metadata": {},
   "outputs": [
    {
     "name": "stdout",
     "output_type": "stream",
     "text": [
      "              precision    recall  f1-score   support\n",
      "\n",
      "    class -1       0.68      0.83      0.75       478\n",
      "     class 0       0.64      0.51      0.57       359\n",
      "     class 1       0.72      0.62      0.67       275\n",
      "\n",
      "    accuracy                           0.68      1112\n",
      "   macro avg       0.68      0.65      0.66      1112\n",
      "weighted avg       0.67      0.68      0.67      1112\n",
      "\n"
     ]
    }
   ],
   "source": [
    "svm_predictions = svm_model.predict(test_embeddings)\n",
    "report = classification_report(test_labels, svm_predictions, target_names=['class -1', 'class 0', 'class 1'])\n",
    "print(report)"
   ]
  },
  {
   "cell_type": "code",
   "execution_count": 6,
   "metadata": {},
   "outputs": [
    {
     "data": {
      "text/html": [
       "<style>#sk-container-id-2 {color: black;}#sk-container-id-2 pre{padding: 0;}#sk-container-id-2 div.sk-toggleable {background-color: white;}#sk-container-id-2 label.sk-toggleable__label {cursor: pointer;display: block;width: 100%;margin-bottom: 0;padding: 0.3em;box-sizing: border-box;text-align: center;}#sk-container-id-2 label.sk-toggleable__label-arrow:before {content: \"▸\";float: left;margin-right: 0.25em;color: #696969;}#sk-container-id-2 label.sk-toggleable__label-arrow:hover:before {color: black;}#sk-container-id-2 div.sk-estimator:hover label.sk-toggleable__label-arrow:before {color: black;}#sk-container-id-2 div.sk-toggleable__content {max-height: 0;max-width: 0;overflow: hidden;text-align: left;background-color: #f0f8ff;}#sk-container-id-2 div.sk-toggleable__content pre {margin: 0.2em;color: black;border-radius: 0.25em;background-color: #f0f8ff;}#sk-container-id-2 input.sk-toggleable__control:checked~div.sk-toggleable__content {max-height: 200px;max-width: 100%;overflow: auto;}#sk-container-id-2 input.sk-toggleable__control:checked~label.sk-toggleable__label-arrow:before {content: \"▾\";}#sk-container-id-2 div.sk-estimator input.sk-toggleable__control:checked~label.sk-toggleable__label {background-color: #d4ebff;}#sk-container-id-2 div.sk-label input.sk-toggleable__control:checked~label.sk-toggleable__label {background-color: #d4ebff;}#sk-container-id-2 input.sk-hidden--visually {border: 0;clip: rect(1px 1px 1px 1px);clip: rect(1px, 1px, 1px, 1px);height: 1px;margin: -1px;overflow: hidden;padding: 0;position: absolute;width: 1px;}#sk-container-id-2 div.sk-estimator {font-family: monospace;background-color: #f0f8ff;border: 1px dotted black;border-radius: 0.25em;box-sizing: border-box;margin-bottom: 0.5em;}#sk-container-id-2 div.sk-estimator:hover {background-color: #d4ebff;}#sk-container-id-2 div.sk-parallel-item::after {content: \"\";width: 100%;border-bottom: 1px solid gray;flex-grow: 1;}#sk-container-id-2 div.sk-label:hover label.sk-toggleable__label {background-color: #d4ebff;}#sk-container-id-2 div.sk-serial::before {content: \"\";position: absolute;border-left: 1px solid gray;box-sizing: border-box;top: 0;bottom: 0;left: 50%;z-index: 0;}#sk-container-id-2 div.sk-serial {display: flex;flex-direction: column;align-items: center;background-color: white;padding-right: 0.2em;padding-left: 0.2em;position: relative;}#sk-container-id-2 div.sk-item {position: relative;z-index: 1;}#sk-container-id-2 div.sk-parallel {display: flex;align-items: stretch;justify-content: center;background-color: white;position: relative;}#sk-container-id-2 div.sk-item::before, #sk-container-id-2 div.sk-parallel-item::before {content: \"\";position: absolute;border-left: 1px solid gray;box-sizing: border-box;top: 0;bottom: 0;left: 50%;z-index: -1;}#sk-container-id-2 div.sk-parallel-item {display: flex;flex-direction: column;z-index: 1;position: relative;background-color: white;}#sk-container-id-2 div.sk-parallel-item:first-child::after {align-self: flex-end;width: 50%;}#sk-container-id-2 div.sk-parallel-item:last-child::after {align-self: flex-start;width: 50%;}#sk-container-id-2 div.sk-parallel-item:only-child::after {width: 0;}#sk-container-id-2 div.sk-dashed-wrapped {border: 1px dashed gray;margin: 0 0.4em 0.5em 0.4em;box-sizing: border-box;padding-bottom: 0.4em;background-color: white;}#sk-container-id-2 div.sk-label label {font-family: monospace;font-weight: bold;display: inline-block;line-height: 1.2em;}#sk-container-id-2 div.sk-label-container {text-align: center;}#sk-container-id-2 div.sk-container {/* jupyter's `normalize.less` sets `[hidden] { display: none; }` but bootstrap.min.css set `[hidden] { display: none !important; }` so we also need the `!important` here to be able to override the default hidden behavior on the sphinx rendered scikit-learn.org. See: https://github.com/scikit-learn/scikit-learn/issues/21755 */display: inline-block !important;position: relative;}#sk-container-id-2 div.sk-text-repr-fallback {display: none;}</style><div id=\"sk-container-id-2\" class=\"sk-top-container\"><div class=\"sk-text-repr-fallback\"><pre>SVC(class_weight={0: 0.2429183951212646, 1: 0.3275923755102378,\n",
       "                  2: 0.42948922936849765})</pre><b>In a Jupyter environment, please rerun this cell to show the HTML representation or trust the notebook. <br />On GitHub, the HTML representation is unable to render, please try loading this page with nbviewer.org.</b></div><div class=\"sk-container\" hidden><div class=\"sk-item\"><div class=\"sk-estimator sk-toggleable\"><input class=\"sk-toggleable__control sk-hidden--visually\" id=\"sk-estimator-id-2\" type=\"checkbox\" checked><label for=\"sk-estimator-id-2\" class=\"sk-toggleable__label sk-toggleable__label-arrow\">SVC</label><div class=\"sk-toggleable__content\"><pre>SVC(class_weight={0: 0.2429183951212646, 1: 0.3275923755102378,\n",
       "                  2: 0.42948922936849765})</pre></div></div></div></div></div>"
      ],
      "text/plain": [
       "SVC(class_weight={0: 0.2429183951212646, 1: 0.3275923755102378,\n",
       "                  2: 0.42948922936849765})"
      ]
     },
     "execution_count": 6,
     "metadata": {},
     "output_type": "execute_result"
    }
   ],
   "source": [
    "class_weights = {i: weights[i] for i in range(len(weights))}\n",
    "svm_model = SVC(kernel='rbf', class_weight=class_weights)\n",
    "svm_model.fit(train_embeddings, train_labels)"
   ]
  },
  {
   "cell_type": "code",
   "execution_count": 7,
   "metadata": {},
   "outputs": [
    {
     "name": "stdout",
     "output_type": "stream",
     "text": [
      "              precision    recall  f1-score   support\n",
      "\n",
      "    class -1       0.71      0.72      0.72       478\n",
      "     class 0       0.59      0.55      0.57       359\n",
      "     class 1       0.62      0.67      0.65       275\n",
      "\n",
      "    accuracy                           0.65      1112\n",
      "   macro avg       0.64      0.65      0.64      1112\n",
      "weighted avg       0.65      0.65      0.65      1112\n",
      "\n"
     ]
    }
   ],
   "source": [
    "svm_predictions = svm_model.predict(test_embeddings)\n",
    "report = classification_report(test_labels, svm_predictions, target_names=['class -1', 'class 0', 'class 1'])\n",
    "print(report)"
   ]
  },
  {
   "cell_type": "code",
   "execution_count": null,
   "metadata": {},
   "outputs": [],
   "source": [
    "N = 10\n",
    "subsample_size = 0.3\n",
    "all_predictions = np.zeros((test_labels.shape[0], )) \n",
    "\n",
    "for i in range(N):\n",
    "    print(f\"Training model {i+1}\")\n",
    "    sample_indices = np.random.choice(len(train_embeddings), int(subsample_size * len(train_embeddings)), replace=False)\n",
    "    X_subsample, y_subsample = train_embeddings[sample_indices], train_labels[sample_indices]\n",
    "    \n",
    "    svm = SVC(probability=True, kernel=\"rbf\")\n",
    "    svm.fit(X_subsample, y_subsample)\n",
    "    \n",
    "    predictions = svm.predict_proba(test_embeddings)  \n",
    "    all_predictions += predictions.argmax(axis=1).reshape((-1, ))\n",
    "    print(all_predictions[0])\n",
    "\n",
    "mean_predictions = np.round(all_predictions / N)\n",
    "report = classification_report(test_labels, mean_predictions, target_names=['class -1', 'class 0', 'class 1'])\n",
    "print(report)"
   ]
  },
  {
   "cell_type": "code",
   "execution_count": null,
   "metadata": {},
   "outputs": [
    {
     "name": "stdout",
     "output_type": "stream",
     "text": [
      "              precision    recall  f1-score   support\n",
      "\n",
      "    class -1       0.69      0.83      0.75       482\n",
      "     class 0       0.64      0.53      0.58       366\n",
      "     class 1       0.69      0.61      0.65       264\n",
      "\n",
      "    accuracy                           0.68      1112\n",
      "   macro avg       0.67      0.65      0.66      1112\n",
      "weighted avg       0.67      0.68      0.67      1112\n",
      "\n"
     ]
    }
   ],
   "source": [
    "'''combined_embeddings = np.concatenate((val_embeddings, test_embeddings), axis=0)\n",
    "combined_labels = np.concatenate((val_labels, test_labels), axis=0)\n",
    "\n",
    "svm_predictions = svm_model.predict(combined_embeddings)\n",
    "report = classification_report(combined_labels, svm_predictions, target_names=['class -1', 'class 0', 'class 1'])\n",
    "print(report)''';"
   ]
  },
  {
   "cell_type": "code",
   "execution_count": null,
   "metadata": {},
   "outputs": [],
   "source": [
    "'''svm_predictions = svm_model.predict(val_embeddings)\n",
    "report = classification_report(val_labels, svm_predictions, target_names=['class -1', 'class 0', 'class 1'])\n",
    "print(report)''';"
   ]
  },
  {
   "cell_type": "code",
   "execution_count": 4,
   "metadata": {},
   "outputs": [
    {
     "data": {
      "text/plain": [
       "'knn_predictions = knn_model.predict(val_embeddings)\\nknn_accuracy = accuracy_score(val_labels, knn_predictions)\\nprint(\"KNN Val Accuracy:\", knn_accuracy)'"
      ]
     },
     "execution_count": 4,
     "metadata": {},
     "output_type": "execute_result"
    }
   ],
   "source": [
    "# Train K-Nearest Neighbors\n",
    "knn_model = KNeighborsClassifier(n_neighbors=7)\n",
    "knn_model.fit(train_embeddings, train_labels)\n",
    "'''knn_predictions = knn_model.predict(val_embeddings)\n",
    "knn_accuracy = accuracy_score(val_labels, knn_predictions)\n",
    "print(\"KNN Val Accuracy:\", knn_accuracy)'''"
   ]
  },
  {
   "cell_type": "code",
   "execution_count": 5,
   "metadata": {},
   "outputs": [
    {
     "name": "stderr",
     "output_type": "stream",
     "text": [
      "huggingface/tokenizers: The current process just got forked, after parallelism has already been used. Disabling parallelism to avoid deadlocks...\n",
      "To disable this warning, you can either:\n",
      "\t- Avoid using `tokenizers` before the fork if possible\n",
      "\t- Explicitly set the environment variable TOKENIZERS_PARALLELISM=(true | false)\n"
     ]
    },
    {
     "name": "stdout",
     "output_type": "stream",
     "text": [
      "KNN Test Accuracy: 0.6025179856115108\n",
      "              precision    recall  f1-score   support\n",
      "\n",
      "    class -1       0.62      0.77      0.69       478\n",
      "     class 0       0.56      0.38      0.46       359\n",
      "     class 1       0.59      0.60      0.60       275\n",
      "\n",
      "    accuracy                           0.60      1112\n",
      "   macro avg       0.59      0.58      0.58      1112\n",
      "weighted avg       0.60      0.60      0.59      1112\n",
      "\n"
     ]
    }
   ],
   "source": [
    "knn_predictions = knn_model.predict(test_embeddings)\n",
    "knn_accuracy = accuracy_score(test_labels, knn_predictions)\n",
    "print(\"KNN Test Accuracy:\", knn_accuracy)\n",
    "\n",
    "report = classification_report(test_labels, knn_predictions, target_names=['class -1', 'class 0', 'class 1'])\n",
    "print(report)"
   ]
  },
  {
   "cell_type": "code",
   "execution_count": 6,
   "metadata": {},
   "outputs": [
    {
     "data": {
      "text/plain": [
       "'log_reg_predictions = log_reg_model.predict(val_embeddings)\\nlog_reg_accuracy = accuracy_score(val_labels, log_reg_predictions)\\nprint(\"Logistic Regression Val Accuracy:\", log_reg_accuracy)'"
      ]
     },
     "execution_count": 6,
     "metadata": {},
     "output_type": "execute_result"
    }
   ],
   "source": [
    "from sklearn.linear_model import LogisticRegression\n",
    "\n",
    "log_reg_model = LogisticRegression(max_iter=1000)\n",
    "log_reg_model.fit(train_embeddings, train_labels)\n",
    "'''log_reg_predictions = log_reg_model.predict(val_embeddings)\n",
    "log_reg_accuracy = accuracy_score(val_labels, log_reg_predictions)\n",
    "print(\"Logistic Regression Val Accuracy:\", log_reg_accuracy)'''"
   ]
  },
  {
   "cell_type": "code",
   "execution_count": 7,
   "metadata": {},
   "outputs": [
    {
     "name": "stdout",
     "output_type": "stream",
     "text": [
      "Logistic Regression Test Accuracy: 0.6564748201438849\n",
      "              precision    recall  f1-score   support\n",
      "\n",
      "    class -1       0.67      0.79      0.72       478\n",
      "     class 0       0.61      0.53      0.57       359\n",
      "     class 1       0.68      0.60      0.63       275\n",
      "\n",
      "    accuracy                           0.66      1112\n",
      "   macro avg       0.65      0.64      0.64      1112\n",
      "weighted avg       0.65      0.66      0.65      1112\n",
      "\n"
     ]
    }
   ],
   "source": [
    "log_reg_predictions = log_reg_model.predict(test_embeddings)\n",
    "log_reg_accuracy = accuracy_score(test_labels, log_reg_predictions)\n",
    "print(\"Logistic Regression Test Accuracy:\", log_reg_accuracy)\n",
    "report = classification_report(test_labels, log_reg_predictions, target_names=['class -1', 'class 0', 'class 1'])\n",
    "print(report)"
   ]
  },
  {
   "cell_type": "code",
   "execution_count": 8,
   "metadata": {},
   "outputs": [
    {
     "data": {
      "text/plain": [
       "'rf_predictions = rf_model.predict(val_embeddings)\\nrf_accuracy = accuracy_score(val_labels, rf_predictions)\\nprint(\"Random Forest Val Accuracy:\", rf_accuracy)'"
      ]
     },
     "execution_count": 8,
     "metadata": {},
     "output_type": "execute_result"
    }
   ],
   "source": [
    "from sklearn.ensemble import RandomForestClassifier\n",
    "\n",
    "rf_model = RandomForestClassifier(n_estimators=100, random_state=42)\n",
    "rf_model.fit(train_embeddings, train_labels)\n",
    "'''rf_predictions = rf_model.predict(val_embeddings)\n",
    "rf_accuracy = accuracy_score(val_labels, rf_predictions)\n",
    "print(\"Random Forest Val Accuracy:\", rf_accuracy)'''"
   ]
  },
  {
   "cell_type": "code",
   "execution_count": 9,
   "metadata": {},
   "outputs": [
    {
     "name": "stdout",
     "output_type": "stream",
     "text": [
      "Random Forest Test Accuracy: 0.6079136690647482\n",
      "              precision    recall  f1-score   support\n",
      "\n",
      "    class -1       0.60      0.85      0.70       478\n",
      "     class 0       0.58      0.39      0.47       359\n",
      "     class 1       0.69      0.48      0.56       275\n",
      "\n",
      "    accuracy                           0.61      1112\n",
      "   macro avg       0.62      0.57      0.58      1112\n",
      "weighted avg       0.61      0.61      0.59      1112\n",
      "\n"
     ]
    }
   ],
   "source": [
    "rf_predictions = rf_model.predict(test_embeddings)\n",
    "rf_accuracy = accuracy_score(test_labels, rf_predictions)\n",
    "print(\"Random Forest Test Accuracy:\", rf_accuracy)\n",
    "report = classification_report(test_labels, rf_predictions, target_names=['class -1', 'class 0', 'class 1'])\n",
    "print(report)"
   ]
  },
  {
   "cell_type": "code",
   "execution_count": 10,
   "metadata": {},
   "outputs": [
    {
     "data": {
      "text/plain": [
       "'nb_predictions = nb_model.predict(val_embeddings)\\nnb_accuracy = accuracy_score(val_labels, nb_predictions)\\nprint(\"Naive Bayes Val Accuracy:\", nb_accuracy)'"
      ]
     },
     "execution_count": 10,
     "metadata": {},
     "output_type": "execute_result"
    }
   ],
   "source": [
    "from sklearn.naive_bayes import GaussianNB\n",
    "\n",
    "nb_model = GaussianNB()\n",
    "nb_model.fit(train_embeddings, train_labels)\n",
    "'''nb_predictions = nb_model.predict(val_embeddings)\n",
    "nb_accuracy = accuracy_score(val_labels, nb_predictions)\n",
    "print(\"Naive Bayes Val Accuracy:\", nb_accuracy)'''"
   ]
  },
  {
   "cell_type": "code",
   "execution_count": 11,
   "metadata": {},
   "outputs": [
    {
     "name": "stdout",
     "output_type": "stream",
     "text": [
      "Naive Bayes Test Accuracy: 0.5665467625899281\n",
      "              precision    recall  f1-score   support\n",
      "\n",
      "    class -1       0.64      0.62      0.63       478\n",
      "     class 0       0.50      0.43      0.46       359\n",
      "     class 1       0.54      0.65      0.59       275\n",
      "\n",
      "    accuracy                           0.57      1112\n",
      "   macro avg       0.56      0.57      0.56      1112\n",
      "weighted avg       0.57      0.57      0.56      1112\n",
      "\n"
     ]
    }
   ],
   "source": [
    "nb_predictions = nb_model.predict(test_embeddings)\n",
    "nb_accuracy = accuracy_score(test_labels, nb_predictions)\n",
    "print(\"Naive Bayes Test Accuracy:\", nb_accuracy)\n",
    "report = classification_report(test_labels, nb_predictions, target_names=['class -1', 'class 0', 'class 1'])\n",
    "print(report)"
   ]
  }
 ],
 "metadata": {
  "kernelspec": {
   "display_name": "Python 3",
   "language": "python",
   "name": "python3"
  },
  "language_info": {
   "codemirror_mode": {
    "name": "ipython",
    "version": 3
   },
   "file_extension": ".py",
   "mimetype": "text/x-python",
   "name": "python",
   "nbconvert_exporter": "python",
   "pygments_lexer": "ipython3",
   "version": "3.9.18"
  }
 },
 "nbformat": 4,
 "nbformat_minor": 2
}
