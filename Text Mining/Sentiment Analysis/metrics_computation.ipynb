{
 "cells": [
  {
   "cell_type": "code",
   "execution_count": 1,
   "metadata": {},
   "outputs": [],
   "source": [
    "import pandas as pd\n",
    "from sklearn.model_selection import train_test_split\n",
    "from sklearn.metrics import accuracy_score, precision_score, recall_score, f1_score\n",
    "import numpy as np\n",
    "import os\n",
    "import json"
   ]
  },
  {
   "cell_type": "code",
   "execution_count": 2,
   "metadata": {},
   "outputs": [],
   "source": [
    "data = pd.read_csv('data_cleaned/train_data_cleaned.csv', header=None)\n",
    "\n",
    "X = data.iloc[:, 0]\n",
    "y = data.iloc[:, 1]\n",
    "\n",
    "X_train, X_temp, y_train, y_temp = train_test_split(X, y, test_size=0.3, random_state=42)\n",
    "X_val, X_test, y_val, y_test = train_test_split(X_temp, y_temp, test_size=0.33, random_state=42)"
   ]
  },
  {
   "cell_type": "code",
   "execution_count": 3,
   "metadata": {},
   "outputs": [],
   "source": [
    "def predict(model, x):\n",
    "    return np.random.choice([-1, 0, 1])\n",
    "\n",
    "def run_inference(model, X):\n",
    "    return np.array([predict(model, x) for x in X])"
   ]
  },
  {
   "cell_type": "code",
   "execution_count": 4,
   "metadata": {},
   "outputs": [],
   "source": [
    "def evaluate_model(model, X, y, model_name, dataset_name, save=False, verbose=True):\n",
    "    y_pred = run_inference(model, X)\n",
    "\n",
    "    accuracy = accuracy_score(y, y_pred)\n",
    "\n",
    "    # Metrics for positive class (1)\n",
    "    precision_pos = precision_score(y, y_pred, labels=[1], average='micro')\n",
    "    recall_pos = recall_score(y, y_pred, labels=[1], average='micro')\n",
    "    f1_pos = f1_score(y, y_pred, labels=[1], average='micro')\n",
    "\n",
    "    # Metrics for negative class (-1)\n",
    "    precision_neg = precision_score(y, y_pred, labels=[-1], average='micro')\n",
    "    recall_neg = recall_score(y, y_pred, labels=[-1], average='micro')\n",
    "    f1_neg = f1_score(y, y_pred, labels=[-1], average='micro')\n",
    "\n",
    "    results = {\n",
    "        \"model_name\": model_name,\n",
    "        \"dataset_name\": dataset_name,\n",
    "        \"accuracy\": accuracy,\n",
    "        \"precision_pos\": precision_pos,\n",
    "        \"recall_pos\": recall_pos,\n",
    "        \"f1_pos\": f1_pos,\n",
    "        \"precision_neg\": precision_neg,\n",
    "        \"recall_neg\": recall_neg,\n",
    "        \"f1_neg\": f1_neg\n",
    "    }\n",
    "\n",
    "    if verbose:\n",
    "        for key in results:\n",
    "            print(f\"{key}: {results[key]}\")\n",
    "    \n",
    "    if save:\n",
    "        if not os.path.exists('evaluation_history'):\n",
    "            os.makedirs('evaluation_history')\n",
    "\n",
    "        file_name = f\"evaluation_history/{model_name}_{dataset_name}.json\"\n",
    "        with open(file_name, 'w') as f:\n",
    "            json.dump(results, f)\n",
    "    \n",
    "    return results\n",
    "\n",
    "def evaluate_model_on_test(model, model_name):\n",
    "    evaluate_model(model, X_test, y_test, model_name, \"test\", save=False, verbose=True)\n",
    "\n",
    "def evaluate_model_on_validation(model, model_name):\n",
    "    evaluate_model(model, X_val, y_val, model_name, \"validation\", save=True, verbose=True)"
   ]
  },
  {
   "cell_type": "code",
   "execution_count": 5,
   "metadata": {},
   "outputs": [],
   "source": [
    "def load_model(model_name):\n",
    "    return None\n",
    "    \n",
    "model = load_model(\"name\")"
   ]
  },
  {
   "cell_type": "code",
   "execution_count": 6,
   "metadata": {},
   "outputs": [
    {
     "name": "stdout",
     "output_type": "stream",
     "text": [
      "model_name: Random Classifier\n",
      "dataset_name: validation\n",
      "accuracy: 0.34496644295302015\n",
      "precision_pos: 0.2587131367292225\n",
      "recall_pos: 0.3496376811594203\n",
      "f1_pos: 0.29738058551617874\n",
      "precision_neg: 0.453125\n",
      "recall_neg: 0.3547400611620795\n",
      "f1_neg: 0.39794168096054894\n"
     ]
    }
   ],
   "source": [
    "evaluate_model_on_validation(model, \"Random Classifier\")"
   ]
  },
  {
   "cell_type": "code",
   "execution_count": 7,
   "metadata": {},
   "outputs": [
    {
     "name": "stdout",
     "output_type": "stream",
     "text": [
      "model_name: Random Classifier\n",
      "dataset_name: test\n",
      "accuracy: 0.34150772025431425\n",
      "precision_pos: 0.23809523809523808\n",
      "recall_pos: 0.3281853281853282\n",
      "f1_pos: 0.275974025974026\n",
      "precision_neg: 0.46035805626598464\n",
      "recall_neg: 0.35785288270377735\n",
      "f1_neg: 0.40268456375838924\n"
     ]
    }
   ],
   "source": [
    "evaluate_model_on_test(model, \"Random Classifier\")"
   ]
  }
 ],
 "metadata": {
  "kernelspec": {
   "display_name": "Python 3",
   "language": "python",
   "name": "python3"
  },
  "language_info": {
   "codemirror_mode": {
    "name": "ipython",
    "version": 3
   },
   "file_extension": ".py",
   "mimetype": "text/x-python",
   "name": "python",
   "nbconvert_exporter": "python",
   "pygments_lexer": "ipython3",
   "version": "3.9.18"
  }
 },
 "nbformat": 4,
 "nbformat_minor": 2
}
