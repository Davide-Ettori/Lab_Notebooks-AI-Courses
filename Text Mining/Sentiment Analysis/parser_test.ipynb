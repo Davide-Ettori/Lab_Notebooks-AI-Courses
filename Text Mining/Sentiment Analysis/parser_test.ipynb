{
 "cells": [
  {
   "cell_type": "code",
   "execution_count": 1,
   "metadata": {},
   "outputs": [],
   "source": [
    "import pandas as pd\n",
    "import random"
   ]
  },
  {
   "cell_type": "code",
   "execution_count": 2,
   "metadata": {},
   "outputs": [],
   "source": [
    "# Define the predict function\n",
    "def predict(value):\n",
    "    return random.choice([-1, 0, 1])\n",
    "\n",
    "# Load the Excel file\n",
    "file_path = 'data/sample-testdata.xlsx'\n",
    "sheet_name = \"Romney\"\n",
    "# Load the Excel file without header\n",
    "df = pd.read_excel(file_path, sheet_name=sheet_name, header=None)\n",
    "\n",
    "# Iterate over the rows and add predictions\n",
    "\n",
    "for index, row in df.iterrows():\n",
    "    prediction = predict(row[1])\n",
    "    df.at[index, 2] = prediction\n",
    "\n",
    "# Save the modified DataFrame back to the Excel file\n",
    "with pd.ExcelWriter(file_path, engine='openpyxl', mode='a', if_sheet_exists='replace') as writer:\n",
    "    df.to_excel(writer, sheet_name=sheet_name, index=False, header=None)"
   ]
  },
  {
   "cell_type": "code",
   "execution_count": 3,
   "metadata": {},
   "outputs": [],
   "source": [
    "# Load the Excel file with the specified sheet\n",
    "sheet_name = \"Obama\"\n",
    "df = pd.read_excel(file_path, sheet_name=sheet_name)\n",
    "\n",
    "# Iterate over the rows and add predictions\n",
    "for index, row in df.iterrows():\n",
    "    if index == 0:\n",
    "        continue\n",
    "    if row[\"Unnamed: 4\"] == 2:\n",
    "        df.at[index, \"Unnamed: 5\"] = 2\n",
    "    else:\n",
    "        prediction = predict(row[\"Anootated tweet\"])\n",
    "        df.at[index, \"Unnamed: 5\"] = prediction\n",
    "\n",
    "df.columns = [\"\", \"date\", \"time\", \"Anootated tweet\", \"\", \"\"]\n",
    "# Save the modified DataFrame back to the Excel file\n",
    "with pd.ExcelWriter(file_path, engine='openpyxl', mode='a', if_sheet_exists='replace') as writer:\n",
    "    df.to_excel(writer, sheet_name=sheet_name, index=False, header=True)"
   ]
  }
 ],
 "metadata": {
  "kernelspec": {
   "display_name": "Python 3",
   "language": "python",
   "name": "python3"
  },
  "language_info": {
   "codemirror_mode": {
    "name": "ipython",
    "version": 3
   },
   "file_extension": ".py",
   "mimetype": "text/x-python",
   "name": "python",
   "nbconvert_exporter": "python",
   "pygments_lexer": "ipython3",
   "version": "3.9.18"
  }
 },
 "nbformat": 4,
 "nbformat_minor": 2
}
