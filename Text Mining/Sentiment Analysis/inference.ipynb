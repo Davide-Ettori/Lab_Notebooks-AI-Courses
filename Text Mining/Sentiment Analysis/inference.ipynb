{
 "cells": [
  {
   "cell_type": "code",
   "execution_count": 11,
   "metadata": {},
   "outputs": [],
   "source": [
    "import pandas as pd\n",
    "import re\n",
    "import string\n",
    "from sentence_transformers import SentenceTransformer\n",
    "import pickle\n",
    "import os"
   ]
  },
  {
   "cell_type": "code",
   "execution_count": 12,
   "metadata": {},
   "outputs": [
    {
     "name": "stdout",
     "output_type": "stream",
     "text": [
      "(3851, 2)\n"
     ]
    },
    {
     "data": {
      "text/html": [
       "<div>\n",
       "<style scoped>\n",
       "    .dataframe tbody tr th:only-of-type {\n",
       "        vertical-align: middle;\n",
       "    }\n",
       "\n",
       "    .dataframe tbody tr th {\n",
       "        vertical-align: top;\n",
       "    }\n",
       "\n",
       "    .dataframe thead th {\n",
       "        text-align: right;\n",
       "    }\n",
       "</style>\n",
       "<table border=\"1\" class=\"dataframe\">\n",
       "  <thead>\n",
       "    <tr style=\"text-align: right;\">\n",
       "      <th></th>\n",
       "      <th>id</th>\n",
       "      <th>tweet</th>\n",
       "    </tr>\n",
       "  </thead>\n",
       "  <tbody>\n",
       "    <tr>\n",
       "      <th>0</th>\n",
       "      <td>1</td>\n",
       "      <td>&lt;e&gt;Obama&lt;/e&gt; has to maintain his professionali...</td>\n",
       "    </tr>\n",
       "    <tr>\n",
       "      <th>1</th>\n",
       "      <td>2</td>\n",
       "      <td>&lt;e&gt;Obama&lt;/e&gt; went into the debate swinging and...</td>\n",
       "    </tr>\n",
       "    <tr>\n",
       "      <th>2</th>\n",
       "      <td>3</td>\n",
       "      <td>Ditto. I started @247LS 4 years ago. RT @bmorr...</td>\n",
       "    </tr>\n",
       "    <tr>\n",
       "      <th>3</th>\n",
       "      <td>4</td>\n",
       "      <td>I absolutely love &lt;e&gt;Obama&lt;/e&gt;'s view in &lt;a&gt;im...</td>\n",
       "    </tr>\n",
       "    <tr>\n",
       "      <th>4</th>\n",
       "      <td>5</td>\n",
       "      <td>I'm agreeing completely with &lt;e&gt;Obama&lt;/e&gt;'s st...</td>\n",
       "    </tr>\n",
       "    <tr>\n",
       "      <th>5</th>\n",
       "      <td>6</td>\n",
       "      <td>&lt;e&gt;Obama&lt;/e&gt;'s &lt;a&gt;smile&lt;/a&gt; makes me happy.</td>\n",
       "    </tr>\n",
       "    <tr>\n",
       "      <th>6</th>\n",
       "      <td>7</td>\n",
       "      <td>Hahahahahaahahha&lt;e&gt; Obama&lt;/e&gt;'s &lt;a&gt;rebuttal&lt;/a...</td>\n",
       "    </tr>\n",
       "    <tr>\n",
       "      <th>7</th>\n",
       "      <td>8</td>\n",
       "      <td>If you think the economy has gotten worse duri...</td>\n",
       "    </tr>\n",
       "    <tr>\n",
       "      <th>8</th>\n",
       "      <td>9</td>\n",
       "      <td>&lt;e&gt;Obama&lt;/e&gt;'s &lt;a&gt;debate performance&lt;/a&gt; tonig...</td>\n",
       "    </tr>\n",
       "    <tr>\n",
       "      <th>9</th>\n",
       "      <td>10</td>\n",
       "      <td>I like the fact that it's not within &lt;e&gt;Obama&lt;...</td>\n",
       "    </tr>\n",
       "  </tbody>\n",
       "</table>\n",
       "</div>"
      ],
      "text/plain": [
       "   id                                              tweet\n",
       "0   1  <e>Obama</e> has to maintain his professionali...\n",
       "1   2  <e>Obama</e> went into the debate swinging and...\n",
       "2   3  Ditto. I started @247LS 4 years ago. RT @bmorr...\n",
       "3   4  I absolutely love <e>Obama</e>'s view in <a>im...\n",
       "4   5  I'm agreeing completely with <e>Obama</e>'s st...\n",
       "5   6        <e>Obama</e>'s <a>smile</a> makes me happy.\n",
       "6   7  Hahahahahaahahha<e> Obama</e>'s <a>rebuttal</a...\n",
       "7   8  If you think the economy has gotten worse duri...\n",
       "8   9  <e>Obama</e>'s <a>debate performance</a> tonig...\n",
       "9  10  I like the fact that it's not within <e>Obama<..."
      ]
     },
     "execution_count": 12,
     "metadata": {},
     "output_type": "execute_result"
    }
   ],
   "source": [
    "data_path='test_data/tweets.xlsx'\n",
    "# Read both sheets from the Excel file\n",
    "df_sheet1 = pd.read_excel(\"test_data/final_Obama.xlsx\", sheet_name=0, header=None)\n",
    "df_sheet2 = pd.read_excel(\"test_data/final_Romney.xlsx\", sheet_name=0, header=None)\n",
    "\n",
    "count_obama = len(df_sheet1)\n",
    "\n",
    "# Combine the dataframes\n",
    "df = pd.concat([df_sheet1, df_sheet2], ignore_index=True)\n",
    "df.columns = ['id', 'tweet']\n",
    "print(df.shape)\n",
    "df.head(10)"
   ]
  },
  {
   "cell_type": "code",
   "execution_count": 13,
   "metadata": {},
   "outputs": [
    {
     "name": "stdout",
     "output_type": "stream",
     "text": [
      "(3851, 2)\n"
     ]
    },
    {
     "data": {
      "text/html": [
       "<div>\n",
       "<style scoped>\n",
       "    .dataframe tbody tr th:only-of-type {\n",
       "        vertical-align: middle;\n",
       "    }\n",
       "\n",
       "    .dataframe tbody tr th {\n",
       "        vertical-align: top;\n",
       "    }\n",
       "\n",
       "    .dataframe thead th {\n",
       "        text-align: right;\n",
       "    }\n",
       "</style>\n",
       "<table border=\"1\" class=\"dataframe\">\n",
       "  <thead>\n",
       "    <tr style=\"text-align: right;\">\n",
       "      <th></th>\n",
       "      <th>id</th>\n",
       "      <th>tweet</th>\n",
       "    </tr>\n",
       "  </thead>\n",
       "  <tbody>\n",
       "    <tr>\n",
       "      <th>0</th>\n",
       "      <td>1</td>\n",
       "      <td>Obama has to maintain his professionalism thro...</td>\n",
       "    </tr>\n",
       "    <tr>\n",
       "      <th>1</th>\n",
       "      <td>2</td>\n",
       "      <td>Obama went into the debate swinging and came o...</td>\n",
       "    </tr>\n",
       "    <tr>\n",
       "      <th>2</th>\n",
       "      <td>3</td>\n",
       "      <td>Ditto I started 4 years ago RT I work for a sm...</td>\n",
       "    </tr>\n",
       "    <tr>\n",
       "      <th>3</th>\n",
       "      <td>4</td>\n",
       "      <td>I absolutely love Obamas view in immigration h...</td>\n",
       "    </tr>\n",
       "    <tr>\n",
       "      <th>4</th>\n",
       "      <td>5</td>\n",
       "      <td>Im agreeing completely with Obamas stance on i...</td>\n",
       "    </tr>\n",
       "    <tr>\n",
       "      <th>5</th>\n",
       "      <td>6</td>\n",
       "      <td>Obamas smile makes me happy</td>\n",
       "    </tr>\n",
       "    <tr>\n",
       "      <th>6</th>\n",
       "      <td>7</td>\n",
       "      <td>Hahahahahaahahha Obamas rebuttal got actual cr...</td>\n",
       "    </tr>\n",
       "    <tr>\n",
       "      <th>7</th>\n",
       "      <td>8</td>\n",
       "      <td>If you think the economy has gotten worse duri...</td>\n",
       "    </tr>\n",
       "    <tr>\n",
       "      <th>8</th>\n",
       "      <td>9</td>\n",
       "      <td>Obamas debate performance tonight about 100000...</td>\n",
       "    </tr>\n",
       "    <tr>\n",
       "      <th>9</th>\n",
       "      <td>10</td>\n",
       "      <td>I like the fact that its not within Obamas com...</td>\n",
       "    </tr>\n",
       "  </tbody>\n",
       "</table>\n",
       "</div>"
      ],
      "text/plain": [
       "   id                                              tweet\n",
       "0   1  Obama has to maintain his professionalism thro...\n",
       "1   2  Obama went into the debate swinging and came o...\n",
       "2   3  Ditto I started 4 years ago RT I work for a sm...\n",
       "3   4  I absolutely love Obamas view in immigration h...\n",
       "4   5  Im agreeing completely with Obamas stance on i...\n",
       "5   6                        Obamas smile makes me happy\n",
       "6   7  Hahahahahaahahha Obamas rebuttal got actual cr...\n",
       "7   8  If you think the economy has gotten worse duri...\n",
       "8   9  Obamas debate performance tonight about 100000...\n",
       "9  10  I like the fact that its not within Obamas com..."
      ]
     },
     "execution_count": 13,
     "metadata": {},
     "output_type": "execute_result"
    }
   ],
   "source": [
    "df['tweet'] = df['tweet'].astype(str).fillna('')\n",
    "\n",
    "# Remove HTML tags, mentions, URLs, &-starting strings, specific characters, punctuation\n",
    "df['tweet'] = df['tweet'].str.replace(r'<[^>]*>', '', regex=True)  # Remove HTML tags\n",
    "df['tweet'] = df['tweet'].str.replace(r'@\\w+', '', regex=True)  # Remove mentions starting with @\n",
    "df['tweet'] = df['tweet'].str.replace(r'http\\S+', '', regex=True)  # Remove URLs starting with http\n",
    "df['tweet'] = df['tweet'].str.replace(r'&\\S+', '', regex=True)  # Remove strings starting with &\n",
    "df['tweet'] = df['tweet'].str.replace(r'\"', '', regex=True)  # Remove double quotes\n",
    "df['tweet'] = df['tweet'].str.replace(r'#', '', regex=True)  # Remove hash symbols\n",
    "\n",
    "# Remove non-ASCII characters\n",
    "df['tweet'] = df['tweet'].apply(lambda x: x.encode('ascii', 'ignore').decode('ascii') if isinstance(x, str) else x)\n",
    "\n",
    "# Remove punctuation\n",
    "df['tweet'] = df['tweet'].str.replace(f\"[{re.escape(string.punctuation)}]\", '', regex=True)\n",
    "\n",
    "# Remove extra spaces that may result from removals\n",
    "df['tweet'] = df['tweet'].str.strip().replace(r'\\s+', ' ', regex=True)\n",
    "\n",
    "print(df.shape)\n",
    "df.head(10)"
   ]
  },
  {
   "cell_type": "code",
   "execution_count": 14,
   "metadata": {},
   "outputs": [
    {
     "data": {
      "text/plain": [
       "(3851,)"
      ]
     },
     "execution_count": 14,
     "metadata": {},
     "output_type": "execute_result"
    }
   ],
   "source": [
    "tweet_vector = df['tweet'].to_numpy()\n",
    "tweet_vector.shape"
   ]
  },
  {
   "cell_type": "code",
   "execution_count": 15,
   "metadata": {},
   "outputs": [
    {
     "data": {
      "text/plain": [
       "(3851, 768)"
      ]
     },
     "execution_count": 15,
     "metadata": {},
     "output_type": "execute_result"
    }
   ],
   "source": [
    "model = SentenceTransformer(\"all-mpnet-base-v2\")\n",
    "train_embeddings = model.encode(tweet_vector)\n",
    "train_embeddings.shape"
   ]
  },
  {
   "cell_type": "code",
   "execution_count": 16,
   "metadata": {},
   "outputs": [
    {
     "data": {
      "text/plain": [
       "(3851,)"
      ]
     },
     "execution_count": 16,
     "metadata": {},
     "output_type": "execute_result"
    }
   ],
   "source": [
    "with open('models/SVM.pkl', 'rb') as file:\n",
    "    svm_model = pickle.load(file)\n",
    "\n",
    "predictions = svm_model.predict(train_embeddings)\n",
    "final_results = predictions - 1\n",
    "\n",
    "final_results.shape"
   ]
  },
  {
   "cell_type": "code",
   "execution_count": 17,
   "metadata": {},
   "outputs": [],
   "source": [
    "os.makedirs('results', exist_ok=True)\n",
    "\n",
    "count = 1\n",
    "\n",
    "with open('results/DavideEttori_AngeloZangari.txt', 'w') as complete_file:\n",
    "    complete_file.write(\"(setf x ‘(\\n\")\n",
    "\n",
    "with open('results/DavideEttori_AngeloZangari.txt', 'a') as complete_file:\n",
    "    for label in final_results:\n",
    "        complete_file.write(f\"({count} {label})\\n\")\n",
    "        count += 1\n",
    "\n",
    "with open('results/DavideEttori_AngeloZangari.txt', 'a') as complete_file:\n",
    "    complete_file.write(\"))\")"
   ]
  },
  {
   "cell_type": "code",
   "execution_count": 18,
   "metadata": {},
   "outputs": [],
   "source": [
    "os.makedirs('results', exist_ok=True)\n",
    "\n",
    "count = 1\n",
    "\n",
    "with open('results/Obama.txt', 'w') as obama_file:\n",
    "    obama_file.write(\"(setf x ‘(\\n\")\n",
    "\n",
    "with open('results/Obama.txt', 'a') as obama_file:\n",
    "    for label in final_results[:count_obama]:\n",
    "        obama_file.write(f\"({count} {label})\\n\")\n",
    "        count += 1\n",
    "\n",
    "with open('results/Obama.txt', 'a') as obama_file:\n",
    "    obama_file.write(\"))\")\n",
    "\n",
    "count = 1\n",
    "\n",
    "with open('results/Romney.txt', 'w') as romney_file:\n",
    "    romney_file.write(\"(setf x ‘(\\n\")\n",
    "\n",
    "with open('results/Romney.txt', 'a') as romney_file:\n",
    "    for label in final_results[count_obama:]:\n",
    "        romney_file.write(f\"({count} {label})\\n\")\n",
    "        count += 1\n",
    "\n",
    "with open('results/Romney.txt', 'a') as romney_file:\n",
    "    romney_file.write(\"))\")"
   ]
  }
 ],
 "metadata": {
  "kernelspec": {
   "display_name": "Python 3",
   "language": "python",
   "name": "python3"
  },
  "language_info": {
   "codemirror_mode": {
    "name": "ipython",
    "version": 3
   },
   "file_extension": ".py",
   "mimetype": "text/x-python",
   "name": "python",
   "nbconvert_exporter": "python",
   "pygments_lexer": "ipython3",
   "version": "3.9.18"
  }
 },
 "nbformat": 4,
 "nbformat_minor": 2
}
