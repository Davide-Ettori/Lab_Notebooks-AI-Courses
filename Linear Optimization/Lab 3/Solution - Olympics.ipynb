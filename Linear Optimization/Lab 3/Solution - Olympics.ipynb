{
 "cells": [
  {
   "cell_type": "markdown",
   "metadata": {
    "id": "foMHdx1wYeE-"
   },
   "source": [
    "## June School Olympic Games\n",
    "\n",
    "The students of the G. Galilei high school are enrolled in the June School Olympic Games. The instructors are planning the event schedule.\n",
    "\n",
    "In a time span of 10 days, the students will be involved in matches of 100, 200, and 1000 meters, cross country running, discus throw, javelin throw, football, and baseball. The games will be played both in week days and week-end days.\n",
    "\n",
    "The students have already enrolled for the sports they are interested in. Since some athlets will play matches of different disciplines, the activities must be schedules so as to entirely avoid overlaps.\n",
    "\n",
    "The table reports, with an X, the pair of matches with at least one athlete in common. It also indicates, for each discipline, the total number of matches to be played.\n",
    "\n",
    "Disciplines|100|200|1000|cross country|discus|javelin|football|baseball\n",
    "-----------|---|---|----|-------------|------|-------|--------|--------\n",
    "100|-|X|-|X|-|X|-|-\n",
    "200|-|-|X|X|-|-|-|-\n",
    "1000|-|-|-|X|-|-|X|X\n",
    "cross country|-|-|-|-|-|X|-|-\n",
    "discus|-|-|-|-|-|X|-|-\n",
    "javelin|-|-|-|-|-|-|-|X\n",
    "football|-|-|-|-|-|-|-|X\n",
    "baseball|-|-|-|-|-|-|-|-\n",
    "-----|-----|-----|---------------|-----|-----|-----|-----|-----\n",
    "Total Matches|2|2|2|1|3|3|4|4\n",
    "\n",
    "\n",
    "For each match, the instructors estimated the 'degree of interest', which is shown in the table\n",
    "\n",
    "Disciplines|100|200|1000|cross country|discus|javelin|football|baseball\n",
    "-----------|---|---|----|-------------|------|-------|--------|--------\n",
    "Interest|7|8|10|4|5|6|10|9\n",
    "\n",
    "The matches are played in sequence, during the first 3 afternoon hours (180 minutes). For each day, at most one match per discipline can be scheduled. The length, in minutes, of a match of each discipline is reported in the table\n",
    "\n",
    "Disciplines|100|200|1000|cross country|discus|javelin|football|baseball\n",
    "-----------|---|---|----|-------------|------|-------|--------|--------\n",
    "Length|15|15|20|60|30|30|100|100\n",
    "\n",
    "To exploit the enthusiasm of the athlets, the instructors decided that no more than 7 days must pass from the first and the last match of each discipline.\n",
    "\n",
    "Give an integer linear programming formulation for the problem of determining a schedule for the matches such that the interest of the less interesting day is maximized. Per day, the interest amounts to the sum of the degree of interest of the matches that are played."
   ]
  },
  {
   "cell_type": "code",
   "execution_count": 11,
   "metadata": {
    "id": "3sHGX1wUVUNw"
   },
   "outputs": [],
   "source": [
    "import mip\n",
    "from mip import BINARY"
   ]
  },
  {
   "cell_type": "code",
   "execution_count": 12,
   "metadata": {
    "id": "aiePoKhY9H11"
   },
   "outputs": [],
   "source": [
    "# Types of matches\n",
    "I = {'hundred', 'twohundred', 'thousand', 'crossCountry','discus', 'javelin', 'football', 'baseball'}\n",
    "\n",
    "# Number of days\n",
    "G = 10\n",
    "# List of days\n",
    "J = range(1, G+1)\n",
    "# Available time per day\n",
    "T = 180\n",
    "# Maximum number of days between first and last match\n",
    "n = 7\n",
    "\n",
    "# Pair of matches with at least one athlete in common\n",
    "c = [('hundred', 'twohundred'), ('hundred', 'crossCountry'), ('hundred', 'javelin'), \\\n",
    "     ('twohundred', 'thousand'), ('twohundred', 'crossCountry'), \\\n",
    "     ('thousand', 'crossCountry'), ('thousand', 'football'), ('thousand', 'baseball'), \\\n",
    "     ('crossCountry', 'javelin'), ('discus', 'javelin'), ('javelin', 'baseball'), ('football', 'baseball')]\n",
    "# Total matches\n",
    "m = {'hundred':2, 'twohundred':2, 'thousand':2, 'crossCountry':1,'discus':3, 'javelin':3, 'football':4, 'baseball':4}\n",
    "# Degree of interest\n",
    "w = {'hundred':7, 'twohundred':8, 'thousand':10, 'crossCountry':4,'discus':5, 'javelin':6, 'football':10, 'baseball':9}\n",
    "# Length of a match of each discipline\n",
    "t = {'hundred':15, 'twohundred':15, 'thousand':20, 'crossCountry':60, 'discus':30, 'javelin':30, 'football':100, 'baseball':100}"
   ]
  },
  {
   "cell_type": "code",
   "execution_count": 13,
   "metadata": {
    "id": "ki5HMYBoVAuC"
   },
   "outputs": [],
   "source": [
    "model = mip.Model()"
   ]
  },
  {
   "cell_type": "code",
   "execution_count": 21,
   "metadata": {
    "id": "vAqlc8P5VCHl"
   },
   "outputs": [],
   "source": [
    "x = {(i, str(j)): model.add_var(var_type=BINARY, name = i+'_'+str(j)) for i in I for j in J}\n",
    "eta = model.add_var(lb=0, name = 'eta')"
   ]
  },
  {
   "cell_type": "code",
   "execution_count": 22,
   "metadata": {
    "id": "XETU393cV5SF"
   },
   "outputs": [],
   "source": [
    "model.objective = mip.maximize(eta)"
   ]
  },
  {
   "cell_type": "code",
   "execution_count": 23,
   "metadata": {
    "id": "Fu21IvjNWVhk"
   },
   "outputs": [],
   "source": [
    "# Interest constraint\n",
    "for j in J:\n",
    "    model.add_constr(mip.xsum(w[i]*x[i, str(j)] for i in I) >= eta)\n",
    "\n",
    "# Conflicts constraint\n",
    "for j in J:\n",
    "    for i in I:\n",
    "        for i1 in I:\n",
    "            if (i, i1) in c:\n",
    "                model.add_constr(x[i, str(j)]+x[i1, str(j)] <= 1)\n",
    "\n",
    "# Number constraint\n",
    "for i in I:\n",
    "    model.add_constr(mip.xsum(x[i, str(j)] for j in J) == m[i])\n",
    "\n",
    "# Time constraint\n",
    "for j in J:\n",
    "    model.add_constr(mip.xsum(t[i]*x[i, str(j)] for i in I) <= T)\n",
    "\n",
    "# Limit constraint\n",
    "for i in I:\n",
    "    for j in J:\n",
    "        for j1 in J:\n",
    "            if (j - j1) > n:\n",
    "                model.add_constr(x[i, str(j)]+x[i, str(j1)] <= 1)"
   ]
  },
  {
   "cell_type": "code",
   "execution_count": 24,
   "metadata": {
    "colab": {
     "base_uri": "https://localhost:8080/"
    },
    "id": "ke9zK5BCfFd1",
    "outputId": "2f17b826-aa7c-4139-a4b7-869e99278c51"
   },
   "outputs": [
    {
     "output_type": "execute_result",
     "data": {
      "text/plain": [
       "<OptimizationStatus.OPTIMAL: 0>"
      ]
     },
     "metadata": {},
     "execution_count": 24
    }
   ],
   "source": [
    "# optimizing\n",
    "model.optimize()"
   ]
  },
  {
   "cell_type": "code",
   "execution_count": 25,
   "metadata": {
    "colab": {
     "base_uri": "https://localhost:8080/"
    },
    "id": "0FPCIVzDfUqE",
    "outputId": "0d7b9ac6-fe76-4b1d-eaf3-e8b1fd03409b"
   },
   "outputs": [
    {
     "output_type": "execute_result",
     "data": {
      "text/plain": [
       "14.0"
      ]
     },
     "metadata": {},
     "execution_count": 25
    }
   ],
   "source": [
    "model.objective.x"
   ]
  },
  {
   "cell_type": "code",
   "execution_count": 26,
   "metadata": {
    "colab": {
     "base_uri": "https://localhost:8080/"
    },
    "id": "pRX9JWXMfaQ5",
    "outputId": "808b1dfa-fdb7-48bd-8a06-3d63b571fd54"
   },
   "outputs": [
    {
     "output_type": "stream",
     "name": "stdout",
     "text": [
      "discus_6 1.0\n",
      "discus_7 1.0\n",
      "discus_10 1.0\n",
      "hundred_7 1.0\n",
      "hundred_10 1.0\n",
      "crossCountry_1 1.0\n",
      "javelin_3 1.0\n",
      "javelin_4 1.0\n",
      "javelin_5 1.0\n",
      "baseball_2 1.0\n",
      "baseball_6 1.0\n",
      "baseball_8 1.0\n",
      "baseball_9 1.0\n",
      "football_1 1.0\n",
      "football_3 1.0\n",
      "football_4 1.0\n",
      "football_5 1.0\n",
      "twohundred_8 1.0\n",
      "twohundred_9 1.0\n",
      "thousand_7 1.0\n",
      "thousand_10 1.0\n",
      "discus_1 1.0\n",
      "discus_4 1.0\n",
      "discus_5 1.0\n",
      "hundred_7 1.0\n",
      "hundred_10 1.0\n",
      "crossCountry_6 1.0\n",
      "javelin_2 1.0\n",
      "javelin_3 1.0\n",
      "javelin_9 1.0\n",
      "baseball_1 1.0\n",
      "baseball_4 1.0\n",
      "baseball_7 1.0\n",
      "baseball_8 1.0\n",
      "football_2 1.0\n",
      "football_3 1.0\n",
      "football_6 1.0\n",
      "football_9 1.0\n",
      "twohundred_1 1.0\n",
      "twohundred_8 1.0\n",
      "thousand_5 1.0\n",
      "thousand_10 1.0\n",
      "eta 14.0\n"
     ]
    }
   ],
   "source": [
    "for i in model.vars:\n",
    "    if i.x != 0:\n",
    "        print(i.name, i.x)"
   ]
  },
  {
   "cell_type": "markdown",
   "metadata": {
    "id": "oEl9Yz8pfaLJ"
   },
   "source": [
    "<h3 align=\"center\">Formulation</h3> \n",
    " \n",
    "- Sets\n",
    "    - $I$: disciplines\n",
    "    - $J= \\{1,...,G\\}$: days\n",
    "    \n",
    "- Parameters\n",
    "    - T: available time per day\n",
    "    - n: maximum number of days between first and last matc\n",
    "    - $c_{ii'}$: 1 if $i$-th and $i'$-th matches are in conflict $i,i' \\in I$\n",
    "    - $m_i$: number of matches for discipline $i \\in I$\n",
    "    - $w_i$: degree of interest for discipline $i \\in I$\n",
    "    - $t_i$: length of a match for discipline $i \\in I$\n",
    "\n",
    "- Decision variables\n",
    "    - $x_{ij}$: 1 if a match of discipline $i$ is played in day $j,i\\in I, j \\in J$\n",
    "    - $\\eta$: interest of the less interesting day\n",
    "    \n",
    "- Model\n",
    "  $$\n",
    "\\begin{array}{lll}\n",
    "  \\max & \\eta \\qquad & & \\text{(min interest)}\\\\\n",
    "  \\textrm{s. t.}\n",
    "  & \\sum_{i \\in I} x_{ij} w_i \\geq \\eta &  j \\in J & \\text{(interest)} &\\\\\n",
    "  & x_{ij}+x_{i^*j} \\leq 1 &  i,i^* \\in I,j \\in J: c_{ii^*}=1 & \\text{(conflicts)} &\\\\\n",
    "  & \\sum_{j \\in J} x_{ij}=m_i  &  i \\in I & \\text{(number)} &\\\\\n",
    "  & \\sum_{j \\in J}t_i x_{ij}\\leq T  &  j \\in J & \\text{(time)} &\\\\\n",
    "  & x_{ij}+x_{ij^*} \\leq 1 &  i \\in I,j,j^* \\in J: j - j^* > n & \\text{(limit)} &\\\\\n",
    "  & x_{ij} \\in \\{0,1\\} &  i\\in I,j \\in J & \\text{(binary variables)} &\\\\\n",
    "  & \\eta \\geq 0 & & \\text{(nonnegative variables)} &\\\\\n",
    "\\end{array}\n",
    " $$\n"
   ]
  }
 ],
 "metadata": {
  "colab": {
   "provenance": []
  },
  "kernelspec": {
   "display_name": "Python 3",
   "language": "python",
   "name": "python3"
  },
  "language_info": {
   "codemirror_mode": {
    "name": "ipython",
    "version": 3
   },
   "file_extension": ".py",
   "mimetype": "text/x-python",
   "name": "python",
   "nbconvert_exporter": "python",
   "pygments_lexer": "ipython3",
   "version": "3.6.8"
  }
 },
 "nbformat": 4,
 "nbformat_minor": 0
}
