{
  "cells": [
    {
      "cell_type": "markdown",
      "metadata": {
        "id": "XntefuDobFts"
      },
      "source": [
        "## Diet problem\n",
        "\n",
        "A canteen has to plan the composition of the meals that it provides. A meal can be composed of the types of food indicated in the following table. Costs, in Euro per hg, and availabilities, in hg, are also indicated.\n",
        "\n",
        "Food|Cost|Availability\n",
        "----|----|------------\n",
        "Bread|0.1|4\n",
        "Milk|0.5|3\n",
        "Eggs|0.12|1\n",
        "Meat|0.9|2\n",
        "Cake|1.3|2\n",
        "\n",
        "A meal must contain at least the following amount of each nutrient\n",
        "\n",
        "Nutrient|Minimum quantity\n",
        "--------|----------------\n",
        "Calories|600 cal\n",
        "Proteins|50 g\n",
        "Calcium|0.7 g\n",
        "\n",
        "Each hg of each type of food contains to following amount of nutrients\n",
        "\n",
        "Food|Calories|Proteins|Calcium\n",
        "----|--------|--------|-------\n",
        "Bread|30 cal|5 g|0.02 g\n",
        "Milk|50 cal|15 g|0.15 g\n",
        "Eggs|150 cal|30 g|0.05 g\n",
        "Meat|180 cal|90 g|0.08 g\n",
        "Cake|400 cal|70 g|0.01 g\n",
        "\n",
        "Give a linear programming formulation for the problem of finding a diet (a meal) of minimum total cost which satisfies the minimum nutrient requirements."
      ]
    },
    {
      "cell_type": "markdown",
      "metadata": {
        "id": "pcGSJc9VbFtv"
      },
      "source": [
        " <h3 align=\"center\"> Diet problem formulation</h3> \n",
        " \n",
        "- Sets\n",
        "    - $I$: food types\n",
        "    - $J$: nutrients\n",
        "    \n",
        "- Parameters\n",
        "    - $c_i$: unit cost of food type $i \\in I$ \n",
        "    - $q_i$: available quantity of food type $i \\in I$\n",
        "    - $b_j$: minimum quantity of nutrient $j \\in J$ required\n",
        "    - $a_{ij}$: quantity of nutrient $j \\in J$ per unit of food of type $i \\in I$\n",
        "    \n",
        "- Variables\n",
        "    - $x_i$: quantity of food of type $i \\in I$ included in the diet\n",
        "    \n",
        "- Model\n",
        "    \n",
        "\\begin{array}{lll}\n",
        "  \\min & \\sum_{i\\in I} c_{i} x_{i} \\qquad & & \\text{(cost)}\\\\\n",
        "  \\textrm{s.t.} & \\sum_{i\\in I}a_{ij}x_{ij} \\ge b_j & j \\in J & \\text{(min nutrients)}\\\\\n",
        "  & x_i \\leq q_i & i \\in I & \\text{(availability)}\\\\\n",
        "  & x_i \\geq 0 &  i \\in I & \\text{(nonnegativity)}\n",
        "\\end{array}\n"
      ]
    },
    {
      "cell_type": "code",
      "execution_count": null,
      "metadata": {
        "id": "4XVDga4VbFtx",
        "colab": {
          "base_uri": "https://localhost:8080/"
        },
        "outputId": "43b90feb-cc0a-40ad-988b-056fafd2755d"
      },
      "outputs": [
        {
          "output_type": "stream",
          "name": "stdout",
          "text": [
            "Looking in indexes: https://pypi.org/simple, https://us-python.pkg.dev/colab-wheels/public/simple/\n",
            "Requirement already satisfied: mip in /usr/local/lib/python3.7/dist-packages (1.14.1)\n",
            "Requirement already satisfied: cffi==1.15.0 in /usr/local/lib/python3.7/dist-packages (from mip) (1.15.0)\n",
            "Requirement already satisfied: pycparser in /usr/local/lib/python3.7/dist-packages (from cffi==1.15.0->mip) (2.21)\n"
          ]
        }
      ],
      "source": [
        "# When using Colab, make sure you run this instruction beforehand\n",
        "!pip install mip"
      ]
    },
    {
      "cell_type": "code",
      "execution_count": null,
      "metadata": {
        "id": "MwIE5_v1bFty"
      },
      "outputs": [],
      "source": [
        "# We need to import the package mip\n",
        "import mip"
      ]
    },
    {
      "cell_type": "code",
      "execution_count": null,
      "metadata": {
        "id": "emiHieGMkTVg"
      },
      "outputs": [],
      "source": [
        "# Food\n",
        "I = {'Bread', 'Milk', 'Eggs', 'Meat', 'Cake'}\n",
        "\n",
        "# Nutrients\n",
        "J = {'Calories', 'Proteins', 'Calcium'}\n",
        "\n",
        "# Cost in Euro per hg of food\n",
        "c = {'Bread':0.1, 'Milk':0.5, 'Eggs':0.12, 'Meat':0.9, 'Cake':1.3}\n",
        "\n",
        "# Availability per hg of food\n",
        "q = {'Bread':4, 'Milk':3, 'Eggs':1, 'Meat':2, 'Cake':2}\n",
        "\n",
        "# Minimum nutrients \n",
        "b = {'Calories':600, 'Proteins':50, 'Calcium':0.7}\n",
        "\n",
        "# Nutrients per hf of food\n",
        "a = {('Bread', 'Calories'):30, ('Milk', 'Calories'):50, ('Eggs', 'Calories'):150, ('Meat', 'Calories'):180, ('Cake', 'Calories'):400,\n",
        "    ('Bread', 'Proteins'):5, ('Milk', 'Proteins'):15, ('Eggs', 'Proteins'):30, ('Meat', 'Proteins'):90, ('Cake', 'Proteins'):70,\n",
        "    ('Bread', 'Calcium'):0.02, ('Milk', 'Calcium'):0.15, ('Eggs', 'Calcium'):0.05, ('Meat', 'Calcium'):0.08, ('Cake', 'Calcium'):0.01}"
      ]
    },
    {
      "cell_type": "markdown",
      "metadata": {
        "id": "74XROyw9bFtz"
      },
      "source": [
        "Now we create an empty model and add the variables"
      ]
    },
    {
      "cell_type": "code",
      "execution_count": null,
      "metadata": {
        "id": "pSvGnxiao6Zl"
      },
      "outputs": [],
      "source": [
        "# Define a model\n",
        "model = mip.Model()\n",
        "\n",
        "# Define variables\n",
        "x = [model.add_var(name=i, lb=0) for i in I]"
      ]
    },
    {
      "cell_type": "code",
      "execution_count": null,
      "metadata": {
        "id": "GM2sOSkJpVza"
      },
      "outputs": [],
      "source": [
        "# Define the objective function\n",
        "model.objective = mip.minimize(mip.xsum(x[i]*c[food] for i, food in enumerate(I)))"
      ]
    },
    {
      "cell_type": "code",
      "execution_count": null,
      "metadata": {
        "id": "JeNTerfsqFjS"
      },
      "outputs": [],
      "source": [
        "# CONSTRAINTS\n",
        "# Availability constraint\n",
        "for i, food in enumerate(I):\n",
        "    model.add_constr(x[i]<= q[food])\n",
        "\n",
        "# Minimum nutrients\n",
        "for j in J:\n",
        "    model.add_constr(mip.xsum(x[i]*a[food, j] for i, food in enumerate(I))>= b[j])"
      ]
    },
    {
      "cell_type": "markdown",
      "metadata": {
        "id": "evACQTyjbFt2"
      },
      "source": [
        "The model is complete. Let us solve it and print the optimal solution."
      ]
    },
    {
      "cell_type": "code",
      "execution_count": null,
      "metadata": {
        "id": "u2EOpR5zrlfr",
        "colab": {
          "base_uri": "https://localhost:8080/"
        },
        "outputId": "d472f5ca-994c-468d-b55f-ba0bb0ea39cd"
      },
      "outputs": [
        {
          "output_type": "execute_result",
          "data": {
            "text/plain": [
              "<OptimizationStatus.OPTIMAL: 0>"
            ]
          },
          "metadata": {},
          "execution_count": 8
        }
      ],
      "source": [
        "# Optimizing command\n",
        "model.optimize()"
      ]
    },
    {
      "cell_type": "code",
      "execution_count": null,
      "metadata": {
        "id": "SptErh70xQFd",
        "colab": {
          "base_uri": "https://localhost:8080/"
        },
        "outputId": "e63aee0c-a935-4eb5-9750-679b94e1c3f4"
      },
      "outputs": [
        {
          "output_type": "execute_result",
          "data": {
            "text/plain": [
              "3.37"
            ]
          },
          "metadata": {},
          "execution_count": 9
        }
      ],
      "source": [
        "# Optimal objective function value\n",
        "model.objective.x"
      ]
    },
    {
      "cell_type": "code",
      "execution_count": null,
      "metadata": {
        "id": "1GmrXIDUxhtA",
        "colab": {
          "base_uri": "https://localhost:8080/"
        },
        "outputId": "ea7aac60-a24a-4e41-bc36-427d8dac3094"
      },
      "outputs": [
        {
          "output_type": "stream",
          "name": "stdout",
          "text": [
            "Eggs 1.0\n",
            "Milk 3.0\n",
            "Cake 0.0\n",
            "Bread 3.9999999999999996\n",
            "Meat 1.5000000000000002\n"
          ]
        }
      ],
      "source": [
        "# Printing the variables values\n",
        "for i in model.vars:\n",
        "    print(i.name, i.x)"
      ]
    },
    {
      "cell_type": "markdown",
      "metadata": {
        "id": "Zrn31ofFbFt4"
      },
      "source": [
        "## Oil blending problem\n",
        "\n",
        "A refinery has to blend 4 types of oil to obtain 3 types of gasoline. The following table reports the available quantity of oil of each type (in barrels) and the respective unit cost (Euro per barrel)\n",
        "\n",
        "Oil type|Cost|Availability\n",
        "--------|----|------------\n",
        "1|9|5000\n",
        "2|7|2400\n",
        "3|12|4000\n",
        "4|6|1500\n",
        "\n",
        "\n",
        "Blending constraints are to be taken into account, since each type of gasoline must contain at least a specific, predefined, quantity of each type of oil, as indicated in the next table. The unit revenue of each type of gasoline (Euro per barrel) is also indicated\n",
        "\n",
        "Gasoline type|Requirements|Revenue\n",
        "-------------|------------|-------\n",
        "A|$\\geq$ 20% of type 2| 12\n",
        "A|$\\leq$ 30% of type 3|12\n",
        "B|$\\geq$ 40% of type 3|18\n",
        "C|$\\leq$ 50% of type 2|10\n"
      ]
    },
    {
      "cell_type": "markdown",
      "metadata": {
        "id": "5fUx36EObFt5"
      },
      "source": [
        " <h3 align=\"center\">Oil blending formulation</h3> \n",
        " \n",
        "- Sets\n",
        "    - $I$: set of oil types\n",
        "    - $J$: set of gasoline types\n",
        "    \n",
        "- Parameters\n",
        "    - $c_i$: unit cost for oil of type $i \\in I$ \n",
        "    - $b_i$: availability of oil of type $i \\in I$\n",
        "    - $r_j$: price of gasoline of type $i \\in I$\n",
        "    - $b_i$: minimum quantity of nutrient $i \\in I $ required\n",
        "    - $q_{ij}^{\\max}$: maximum quantity (percentage) of oil of type $i \\in I$ for gasoline of type $j \\in J$\n",
        "    - $q_{ij}^{\\min}$: minimum quantity (percentage) of oil of type $i \\in I$ for gasoline of type $j \\in J$\n",
        "    \n",
        "- Variables\n",
        "    - $x_{ij}$: units of oil of type $i \\in I$ used for gasoline of type $j \\in J$\n",
        "    - $y_j$: units of gasoline of type $j \\in J$ that are produced\n",
        "    \n",
        "- Model\n",
        "    \n",
        "\\begin{array}{lll}\n",
        "  \\max & \\sum_{j \\in J}r_j y_j-\\sum_{i \\in I,j\\in J} c_{j} x_{ij} \\qquad & & \\text{(revenue)}\\\\\n",
        "  \\textrm{s. t.} & \\sum_{j \\in J}x_{ij} \\leq b_i & i \\in I & \\text{(availability)}\\\\\n",
        "  & \\sum_{i \\in I}x_{ij}  = y_j & j \\in J & \\text{(conservation)}\\\\\n",
        "  & x_{ij} \\leq q_{ij}^{\\max}y_j & i \\in I, j \\in J & \\text{(maximum qty)}\\\\\n",
        "  & x_{ij} \\geq q_{ij}^{\\min}y_j & i \\in I, j \\in J & \\text{(minimum qty)}\\\\\n",
        "  & x_{ij},y_j \\geq 0 &  i \\in I,j \\in J & \\text{(nonnegativity)}\n",
        "\\end{array}\n"
      ]
    },
    {
      "cell_type": "code",
      "execution_count": null,
      "metadata": {
        "id": "cIUeUcyBbFt5"
      },
      "outputs": [],
      "source": [
        "# Set of oil types\n",
        "I = range(4)\n",
        "\n",
        "# Set of gasoline types\n",
        "J = {'A', 'B', 'C'}\n",
        "\n",
        "# Unit cost for oil of type i \n",
        "c = {0:9, 1:7, 2:12, 3:6}\n",
        "\n",
        "# Availability of oil type i\n",
        "b = {0:5000, 1:2400, 2:4000, 3:1500}\n",
        "\n",
        "# Price of gasoline of type j\n",
        "r = {'A':12, 'B':18, 'C':10}\n",
        "\n",
        "# Maximum quantity (percentage) of oil\n",
        "q_max = {}\n",
        "for i in I:\n",
        "    for j in J:\n",
        "        q_max[(str(i), j)] = 1\n",
        "q_max[('2', 'A')] = 0.3\n",
        "q_max[('1', 'C')] = 0.5\n",
        "\n",
        "# Minimum quantity (percentage) of oil\n",
        "q_min = {}\n",
        "for i in I:\n",
        "    for j in J:\n",
        "        q_min[(str(i), j)] = 0\n",
        "q_min[('1', 'A')] = 0.2\n",
        "q_min[('2', 'B')] = 0.4"
      ]
    },
    {
      "cell_type": "markdown",
      "metadata": {
        "id": "PmfyRdzUbFt6"
      },
      "source": [
        "Now we create an empty model and add the variables"
      ]
    },
    {
      "cell_type": "code",
      "execution_count": null,
      "metadata": {
        "id": "_Z6qNeccbFt6"
      },
      "outputs": [],
      "source": [
        "# Define a model\n",
        "model2 = mip.Model()\n",
        "\n",
        "# Define variables\n",
        "x = {(str(i), j):model2.add_var(name=str(i)+','+j, lb=0) for i in I for j in J}\n",
        "y = {j: model2.add_var(name=j, lb=0) for j in J}"
      ]
    },
    {
      "cell_type": "markdown",
      "metadata": {
        "id": "_rKyZBopbFt6"
      },
      "source": [
        "Let us write the objective function: in the general case, it can be written as a sum over the set of models."
      ]
    },
    {
      "cell_type": "code",
      "execution_count": null,
      "metadata": {
        "id": "-ENFFpRHbFt7"
      },
      "outputs": [],
      "source": [
        "# Define the objective function\n",
        "model2.objective = mip.maximize(mip.xsum(y[j]*r[j] for j in J) - mip.xsum(c[i]*x[str(i), j] for i in I for j in J))"
      ]
    },
    {
      "cell_type": "markdown",
      "metadata": {
        "id": "AG1_k-UHbFt7"
      },
      "source": [
        "The constraints can be generated in loops:"
      ]
    },
    {
      "cell_type": "code",
      "execution_count": null,
      "metadata": {
        "id": "m-KDy5SebFt7"
      },
      "outputs": [],
      "source": [
        "# CONSTRAINTS\n",
        "# Availability constraint\n",
        "for i in I:\n",
        "  model2.add_constr(mip.xsum(x[str(i), j] for j in J) <= b[i])\n",
        "\n",
        "# Conservation constraint\n",
        "for j in J:\n",
        "    model2.add_constr(mip.xsum(x[str(i), j] for i in I) == y[j])\n",
        "# Maximum quantity\n",
        "for i in I:\n",
        "    for j in J:\n",
        "        model2.add_constr(x[str(i), j] <= q_max[str(i),j]*y[j])\n",
        "# Minimum quantity\n",
        "for i in I:\n",
        "    for j in J:\n",
        "        model2.add_constr(x[str(i), j] >= q_min[str(i),j]*y[j])"
      ]
    },
    {
      "cell_type": "markdown",
      "metadata": {
        "id": "ptFJwcSKbFt8"
      },
      "source": [
        "The model is complete. Let's solve it and print the optimal solution."
      ]
    },
    {
      "cell_type": "code",
      "execution_count": null,
      "metadata": {
        "id": "bOUNA_5dbFt8",
        "colab": {
          "base_uri": "https://localhost:8080/"
        },
        "outputId": "b625515f-7ddd-4c4a-b8f8-51d9b4bbc401"
      },
      "outputs": [
        {
          "output_type": "execute_result",
          "data": {
            "text/plain": [
              "<OptimizationStatus.OPTIMAL: 0>"
            ]
          },
          "metadata": {},
          "execution_count": 15
        }
      ],
      "source": [
        "# Optimizing command\n",
        "model2.optimize()"
      ]
    },
    {
      "cell_type": "code",
      "execution_count": null,
      "metadata": {
        "id": "vsBg1QzQbFt8",
        "colab": {
          "base_uri": "https://localhost:8080/"
        },
        "outputId": "2cb96e1f-b643-4974-f50e-5415be39ecd4"
      },
      "outputs": [
        {
          "output_type": "execute_result",
          "data": {
            "text/plain": [
              "96000.0"
            ]
          },
          "metadata": {},
          "execution_count": 16
        }
      ],
      "source": [
        "# Optimal objective function value\n",
        "model2.objective.x"
      ]
    },
    {
      "cell_type": "code",
      "execution_count": null,
      "metadata": {
        "id": "GDXNBpO9bFt8",
        "colab": {
          "base_uri": "https://localhost:8080/"
        },
        "outputId": "e7eb0b59-0b19-4f14-8e6a-1467e33230f0"
      },
      "outputs": [
        {
          "output_type": "stream",
          "name": "stdout",
          "text": [
            "0,A 500.0\n",
            "0,B 4500.0\n",
            "0,C 0.0\n",
            "1,A 2400.0\n",
            "1,B 0.0\n",
            "1,C 0.0\n",
            "2,A 0.0\n",
            "2,B 4000.0\n",
            "2,C 0.0\n",
            "3,A 0.0\n",
            "3,B 1500.0\n",
            "3,C 0.0\n",
            "A 2900.0\n",
            "B 10000.0\n",
            "C 0.0\n"
          ]
        }
      ],
      "source": [
        "# Printing the variables values\n",
        "for i in model2.vars:\n",
        "    print(i.name, i.x)"
      ]
    }
  ],
  "metadata": {
    "colab": {
      "provenance": [],
      "collapsed_sections": []
    },
    "kernelspec": {
      "display_name": "Python 3",
      "language": "python",
      "name": "python3"
    },
    "language_info": {
      "codemirror_mode": {
        "name": "ipython",
        "version": 3
      },
      "file_extension": ".py",
      "mimetype": "text/x-python",
      "name": "python",
      "nbconvert_exporter": "python",
      "pygments_lexer": "ipython3",
      "version": "3.6.8"
    }
  },
  "nbformat": 4,
  "nbformat_minor": 0
}