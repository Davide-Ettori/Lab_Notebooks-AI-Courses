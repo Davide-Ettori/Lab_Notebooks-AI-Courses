{
 "cells": [
  {
   "cell_type": "code",
   "execution_count": 150,
   "metadata": {
    "collapsed": true,
    "ExecuteTime": {
     "end_time": "2023-12-03T16:25:15.196356Z",
     "start_time": "2023-12-03T16:25:15.187578Z"
    }
   },
   "outputs": [],
   "source": [
    "import mip"
   ]
  },
  {
   "cell_type": "code",
   "execution_count": 151,
   "outputs": [],
   "source": [
    "V = [0, 1, 2, 3, 4, 5]\n",
    "E = [\n",
    "    [0, 1, 1, 1, 0, 0],\n",
    "    [1, 0, 0, 1, 1, 0],\n",
    "    [0, 0, 0, 1, 0, 0],\n",
    "    [0, 0, 1, 0, 0, 1],\n",
    "    [0, 0, 0, 0, 0, 0],\n",
    "    [0, 0, 0, 0, 0, 1],\n",
    "]\n",
    "C = [\n",
    "    [0, 2, 3, 6, 0, 0],\n",
    "    [1, 0, 0, 3, 4, 0],\n",
    "    [0, 0, 0, 1, 0, 0],\n",
    "    [0, 0, 6, 0, 0, 1],\n",
    "    [0, 0, 0, 0, 0, 0],\n",
    "    [0, 0, 0, 0, 0, 1],\n",
    "]\n",
    "start, end = 0, 5\n",
    "length = range(len(V))"
   ],
   "metadata": {
    "collapsed": false,
    "ExecuteTime": {
     "end_time": "2023-12-03T16:25:15.201220Z",
     "start_time": "2023-12-03T16:25:15.195914Z"
    }
   }
  },
  {
   "cell_type": "code",
   "execution_count": 152,
   "outputs": [],
   "source": [
    "model = mip.Model()"
   ],
   "metadata": {
    "collapsed": false,
    "ExecuteTime": {
     "end_time": "2023-12-03T16:25:15.214501Z",
     "start_time": "2023-12-03T16:25:15.202373Z"
    }
   }
  },
  {
   "cell_type": "code",
   "execution_count": 153,
   "outputs": [],
   "source": [
    "x = [[model.add_var(name=f\"X{j}{i}\", var_type=mip.BINARY) for i in length] for j in length]"
   ],
   "metadata": {
    "collapsed": false,
    "ExecuteTime": {
     "end_time": "2023-12-03T16:25:15.215104Z",
     "start_time": "2023-12-03T16:25:15.209085Z"
    }
   }
  },
  {
   "cell_type": "code",
   "execution_count": 154,
   "outputs": [],
   "source": [
    "model.objective = mip.minimize(mip.xsum([mip.xsum([x[i][j] * C[i][j] for i in length]) for j in length]))"
   ],
   "metadata": {
    "collapsed": false,
    "ExecuteTime": {
     "end_time": "2023-12-03T16:25:15.223570Z",
     "start_time": "2023-12-03T16:25:15.215746Z"
    }
   }
  },
  {
   "cell_type": "code",
   "execution_count": 155,
   "outputs": [],
   "source": [
    "for i in length:\n",
    "    for j in length:\n",
    "        model.add_constr(x[i][j] <= E[i][j]) # I can only choose edges that exits\n",
    "\n",
    "model.add_constr(mip.xsum([x[start][j] for j in length]) == 1) # only one arc exit from start\n",
    "model.add_constr(mip.xsum([x[j][start] for j in length]) == 0) # no arc enter in start\n",
    "model.add_constr(mip.xsum([x[j][end] for j in length]) == 1) # only one arc enter to end\n",
    "model.add_constr(mip.xsum([x[end][j] for j in length]) == 0) # no arc exit from end\n",
    "\n",
    "for i in length:\n",
    "    if i == start or i == end:\n",
    "        continue\n",
    "    model.add_constr(mip.xsum([x[i][j] for j in length]) == mip.xsum([x[j][i] for j in length])) # what enters will also exit"
   ],
   "metadata": {
    "collapsed": false,
    "ExecuteTime": {
     "end_time": "2023-12-03T16:25:15.232426Z",
     "start_time": "2023-12-03T16:25:15.224773Z"
    }
   }
  },
  {
   "cell_type": "code",
   "execution_count": 156,
   "outputs": [
    {
     "name": "stdout",
     "output_type": "stream",
     "text": [
      "Cgl0002I 28 variables fixed\n",
      "Cgl0004I processed model has 2 rows, 3 columns (3 integer (3 of which binary)) and 6 elements\n",
      "Coin3009W Conflict graph built in 0.000 seconds, density: 28.571%\n",
      "Cgl0015I Clique Strengthening extended 0 cliques, 0 were dominated\n",
      "Cbc0038I Initial state - 0 integers unsatisfied sum - 0\n",
      "Cbc0038I Solution found of 5\n",
      "Cbc0038I Before mini branch and bound, 3 integers at bound fixed and 0 continuous\n",
      "Cbc0038I Mini branch and bound did not improve solution (0.00 seconds)\n",
      "Cbc0038I After 0.00 seconds - Feasibility pump exiting with objective of 5 - took 0.00 seconds\n",
      "Cbc0012I Integer solution of 5 found by feasibility pump after 0 iterations and 0 nodes (0.00 seconds)\n",
      "Cbc0001I Search completed - best objective 5, took 0 iterations and 0 nodes (0.00 seconds)\n",
      "Cbc0035I Maximum depth 0, 0 variables fixed on reduced cost\n",
      "Total time (CPU seconds):       0.00   (Wallclock seconds):       0.00\n",
      "\n",
      "Starting solution of the Linear programming relaxation problem using Primal Simplex\n",
      "\n",
      "Clp0024I Matrix will be packed to eliminate 4 small elements\n",
      "Coin0506I Presolve 0 (-44) rows, 0 (-36) columns and 0 (-100) elements\n",
      "Clp0000I Optimal - objective value 5\n",
      "Coin0511I After Postsolve, objective 5, infeasibilities - dual 0 (0), primal 0 (0)\n",
      "Clp0032I Optimal objective 5 - 0 iterations time 0.002, Presolve 0.00, Idiot 0.00\n",
      "\n",
      "Starting MIP optimization\n"
     ]
    }
   ],
   "source": [
    "status = model.optimize()"
   ],
   "metadata": {
    "collapsed": false,
    "ExecuteTime": {
     "end_time": "2023-12-03T16:25:15.240634Z",
     "start_time": "2023-12-03T16:25:15.232226Z"
    }
   }
  },
  {
   "cell_type": "code",
   "execution_count": 157,
   "outputs": [
    {
     "data": {
      "text/plain": "True"
     },
     "execution_count": 157,
     "metadata": {},
     "output_type": "execute_result"
    }
   ],
   "source": [
    "status == mip.OptimizationStatus.OPTIMAL"
   ],
   "metadata": {
    "collapsed": false,
    "ExecuteTime": {
     "end_time": "2023-12-03T16:25:15.251998Z",
     "start_time": "2023-12-03T16:25:15.241945Z"
    }
   }
  },
  {
   "cell_type": "code",
   "execution_count": 158,
   "outputs": [
    {
     "data": {
      "text/plain": "5.0"
     },
     "execution_count": 158,
     "metadata": {},
     "output_type": "execute_result"
    }
   ],
   "source": [
    "model.objective.x"
   ],
   "metadata": {
    "collapsed": false,
    "ExecuteTime": {
     "end_time": "2023-12-03T16:25:15.252617Z",
     "start_time": "2023-12-03T16:25:15.248008Z"
    }
   }
  },
  {
   "cell_type": "code",
   "execution_count": 159,
   "outputs": [
    {
     "name": "stdout",
     "output_type": "stream",
     "text": [
      "  0 1 2 3 4 5 \n",
      "0 0 0 1 0 0 0 \n",
      "1 0 0 0 0 0 0 \n",
      "2 0 0 0 1 0 0 \n",
      "3 0 0 0 0 0 1 \n",
      "4 0 0 0 0 0 0 \n",
      "5 0 0 0 0 0 0 \n"
     ]
    }
   ],
   "source": [
    "res = [[0 for i in length] for j in length]\n",
    "for var in model.vars:\n",
    "    res[int(var.name[1])][int(var.name[2])] = int(var.x)\n",
    "\n",
    "print(\"  \", end=\"\")\n",
    "for i in length:\n",
    "    print(f\"{i}\", end=\" \")\n",
    "print()\n",
    "for i in length:\n",
    "    print(f\"{i}\", end=\" \")\n",
    "    for j in length:\n",
    "        print(res[i][j], end=\" \")\n",
    "    print()"
   ],
   "metadata": {
    "collapsed": false,
    "ExecuteTime": {
     "end_time": "2023-12-03T16:25:15.266386Z",
     "start_time": "2023-12-03T16:25:15.258933Z"
    }
   }
  }
 ],
 "metadata": {
  "kernelspec": {
   "display_name": "Python 3",
   "language": "python",
   "name": "python3"
  },
  "language_info": {
   "codemirror_mode": {
    "name": "ipython",
    "version": 2
   },
   "file_extension": ".py",
   "mimetype": "text/x-python",
   "name": "python",
   "nbconvert_exporter": "python",
   "pygments_lexer": "ipython2",
   "version": "2.7.6"
  }
 },
 "nbformat": 4,
 "nbformat_minor": 0
}
