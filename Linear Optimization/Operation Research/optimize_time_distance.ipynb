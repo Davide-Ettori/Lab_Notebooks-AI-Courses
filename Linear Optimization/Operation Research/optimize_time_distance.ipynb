{
 "cells": [
  {
   "cell_type": "code",
   "execution_count": 2,
   "metadata": {
    "collapsed": true,
    "ExecuteTime": {
     "end_time": "2023-11-18T16:20:08.785364Z",
     "start_time": "2023-11-18T16:20:08.774381Z"
    }
   },
   "outputs": [],
   "source": [
    "class Solver:\n",
    "    def __init__(self, arr):\n",
    "        self.dates = arr\n",
    "        self.combinations = list()\n",
    "        self.generate()\n",
    "        self.confront_dates()\n",
    "    def generate(self, i = 0, arr = list()):\n",
    "        if i == len(self.dates):\n",
    "            self.combinations.append(arr)\n",
    "            return\n",
    "        name = self.dates[i][0]\n",
    "        for j, date in enumerate(self.dates[i]):\n",
    "            if j == 0:\n",
    "                continue\n",
    "            arr.append((name, date[0], date[1]))\n",
    "            self.generate(i + 1, list(arr))\n",
    "            arr.pop()\n",
    "    def is_greater(self, d1, d2):\n",
    "        if d1[1] > d2[1]:\n",
    "            return True\n",
    "        if d2[1] > d1[1]:\n",
    "            return False\n",
    "        return d1[0] > d2[0]\n",
    "    def compute_diff(self, d1, d2):\n",
    "        if self.is_greater(d1, d2):\n",
    "            return self.compute_diff(d2, d1)\n",
    "        if d1[1] == d2[1]:\n",
    "            return d2[0] - d1[0]\n",
    "        return (30 - d1[0]) + d2[0] + 30 * (d2[1] - d1[1] - 1)\n",
    "    def confront_dates(self):\n",
    "        res, tot = None, 0\n",
    "        for comb in self.combinations:\n",
    "            comb_sort = sorted(comb, key=lambda tup: (tup[2],tup[1]))\n",
    "            temp = 0\n",
    "            for i, date in enumerate(comb_sort):\n",
    "                if i == 0:\n",
    "                    continue\n",
    "                temp += self.compute_diff((comb_sort[i - 1][1], comb_sort[i - 1][2]), (date[1], date[2]))\n",
    "            if temp > tot:\n",
    "                tot = temp\n",
    "                res = comb_sort\n",
    "        print(f\"\\nThe best dates for maximum total days ({tot}): \\n{res}\\n\")\n",
    "\n",
    "        res, tot = None, float(\"+inf\")\n",
    "        for comb in self.combinations:\n",
    "            comb_sort = sorted(comb, key=lambda tup: (tup[2],tup[1]))\n",
    "            temp = 0\n",
    "            for i, date in enumerate(comb_sort):\n",
    "                if i == 0:\n",
    "                    continue\n",
    "                temp += self.compute_diff((comb_sort[i - 1][1], comb_sort[i - 1][2]), (date[1], date[2]))\n",
    "            if temp < tot:\n",
    "                tot = temp\n",
    "                res = comb_sort\n",
    "        print(f\"\\nThe best dates for minimum total days ({tot}): \\n{res}\\n\")\n",
    "\n",
    "        res, tot = None, 0\n",
    "        for comb in self.combinations:\n",
    "            comb_sort = sorted(comb, key=lambda tup: (tup[2],tup[1]))\n",
    "            temp = list()\n",
    "            for i, date in enumerate(comb_sort):\n",
    "                if i == 0:\n",
    "                    continue\n",
    "                temp.append(self.compute_diff((comb_sort[i - 1][1], comb_sort[i - 1][2]), (date[1], date[2])))\n",
    "            if min(temp) > tot:\n",
    "                tot = min(temp)\n",
    "                res = comb_sort\n",
    "        print(f\"\\nThe best dates for maximum inter days ({tot}): \\n{res}\\n\")"
   ]
  },
  {
   "cell_type": "code",
   "execution_count": 3,
   "outputs": [],
   "source": [
    "dates = [\n",
    "    [\"FAI\", (18, 1), (2, 2)],\n",
    "    [\"FOR\", (12, 1), (9, 2)],\n",
    "    [\"SE\", (10, 1), (5, 2)],\n",
    "    [\"SMBUD\", (9, 1), (16, 2)],\n",
    "    [\"NAML\", (16, 1), (6, 2)]\n",
    "]"
   ],
   "metadata": {
    "collapsed": false,
    "ExecuteTime": {
     "end_time": "2023-11-18T16:20:09.261717Z",
     "start_time": "2023-11-18T16:20:09.252505Z"
    }
   }
  },
  {
   "cell_type": "code",
   "execution_count": 4,
   "outputs": [
    {
     "name": "stdout",
     "output_type": "stream",
     "text": [
      "\n",
      "The best dates for maximum total days (36): \n",
      "[('SE', 10, 1), ('FOR', 12, 1), ('NAML', 16, 1), ('FAI', 18, 1), ('SMBUD', 16, 2)]\n",
      "\n",
      "\n",
      "The best dates for minimum total days (9): \n",
      "[('SMBUD', 9, 1), ('SE', 10, 1), ('FOR', 12, 1), ('NAML', 16, 1), ('FAI', 18, 1)]\n",
      "\n",
      "\n",
      "The best dates for maximum inter days (6): \n",
      "[('SE', 10, 1), ('NAML', 16, 1), ('FAI', 2, 2), ('FOR', 9, 2), ('SMBUD', 16, 2)]\n",
      "\n"
     ]
    },
    {
     "data": {
      "text/plain": "<__main__.Solver at 0x11245ae20>"
     },
     "execution_count": 4,
     "metadata": {},
     "output_type": "execute_result"
    }
   ],
   "source": [
    "Solver(dates)"
   ],
   "metadata": {
    "collapsed": false,
    "ExecuteTime": {
     "end_time": "2023-11-18T16:20:09.850354Z",
     "start_time": "2023-11-18T16:20:09.841412Z"
    }
   }
  },
  {
   "cell_type": "code",
   "execution_count": 28,
   "outputs": [],
   "source": [
    "# python program to help plan for university exams --> every amount of exams and every amount of dates --> 3 fixed metrics"
   ],
   "metadata": {
    "collapsed": false,
    "ExecuteTime": {
     "end_time": "2023-11-18T16:18:17.688491Z",
     "start_time": "2023-11-18T16:18:17.687572Z"
    }
   }
  }
 ],
 "metadata": {
  "kernelspec": {
   "display_name": "Python 3",
   "language": "python",
   "name": "python3"
  },
  "language_info": {
   "codemirror_mode": {
    "name": "ipython",
    "version": 2
   },
   "file_extension": ".py",
   "mimetype": "text/x-python",
   "name": "python",
   "nbconvert_exporter": "python",
   "pygments_lexer": "ipython2",
   "version": "2.7.6"
  }
 },
 "nbformat": 4,
 "nbformat_minor": 0
}
