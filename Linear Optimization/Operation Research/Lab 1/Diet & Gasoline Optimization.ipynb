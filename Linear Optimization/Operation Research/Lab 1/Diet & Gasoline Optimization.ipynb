{
 "cells": [
  {
   "cell_type": "markdown",
   "metadata": {
    "id": "RsHFHKuL0jWL"
   },
   "source": [
    "## Diet problem\n",
    "\n",
    "A canteen has to plan the composition of the meals that it provides. A meal can be composed of the types of food indicated in the following table. Costs, in Euro per hg, and availabilities, in hg, are also indicated.\n",
    "\n",
    "| Food  | Cost | Availability |\n",
    "|-------|------|--------------|\n",
    "| Bread | 0.1  | 4            |\n",
    "| Milk  | 0.5  | 3            |\n",
    "| Eggs  | 0.12 | 1            |\n",
    "| Meat  | 0.9  | 2            |\n",
    "| Cake  | 1.3  | 2            |\n",
    "\n",
    "A meal must contain at least the following amount of each nutrient\n",
    "\n",
    "Nutrient|Minimal quantity\n",
    "--------|----------------\n",
    "Calories|600 cal\n",
    "Proteins|50 g\n",
    "Calcium|0.7 g\n",
    "\n",
    "Each hg of each type of food contains to following amount of nutrients\n",
    "\n",
    "Food|Calories|Proteins|Calcium\n",
    "----|--------|--------|-------\n",
    "Bread|30 cal|5 g|0.02 g\n",
    "Milk|50 cal|15 g|0.15 g\n",
    "Eggs|150 cal|30 g|0.05 g\n",
    "Meat|180 cal|90 g|0.08 g\n",
    "Cake|400 cal|70 g|0.01 g\n",
    "\n",
    "Give a linear programming formulation for the problem of finding a diet (a meal) of minimum total cost which satisfies the minimum nutrient requirements."
   ]
  },
  {
   "cell_type": "markdown",
   "source": [
    "**Relevant sets:**\n",
    "\n",
    "$I$ = set of types of fiids \\\\\n",
    "$J$ = set of types of nutrients\n",
    "\n",
    "$I$ = {Bread, MIlk, Eggs, ...} when we refer ti elements we use $i$ \\\\\n",
    "$J$ = {Calories, Proteins, Calcium} when we refer ti elements we use $j$\n",
    "\n",
    "**Decision variables:**\n",
    "\n",
    "$x_i$ amount of food type $i \\in I$\n",
    "\n",
    "**Parameters:**\n",
    "\n",
    "From Table 1:\n",
    "\n",
    "$c_i$ = cost of food type $i \\in I$ \\\\\n",
    "$q_i$ = available quantity iof food type $i \\in I$ \\\\\n",
    "\n",
    "From Table 2:\n",
    "\n",
    "$b_j$ = minimum quantity of nutrient of type $j \\in J$ \\\\\n",
    "\n",
    "From Table 3:\n",
    "\n",
    "$a_{ij}$ = the amount of nutrient $j \\in J$ for the food type $i \\in I$ \\\\\n",
    "\n",
    "**Constrains**\n",
    "\n",
    "MInimum quantity of nutrients in the solutions (3 constrains, one for each nutrient)\n",
    "\n",
    "$$ \\sum_{i \\in I} a_{ij} x_{i} \\geq b_j , \\ \\ \\ \\forall j \\in J $$\n",
    "\n",
    "Availability of food types:\n",
    "\n",
    "$$ x_i \\leq q_i, \\ \\ \\ \\forall i \\in I $$\n",
    "\n",
    "Nature of decision variables:\n",
    "\n",
    "$$ x_i \\geq 0 $$\n",
    "\n",
    "**Objective function:**\n",
    "\n",
    "$$ \\min \\sum_{i \\in I} c_i x_i $$\n",
    "\n",
    "$$ \\min 0.1x_1 + 0.5x_2 + 0.12x_3 + 0.9x_4 + 1.3x_5 $$\n",
    "\n"
   ],
   "metadata": {
    "id": "U8mTZlox00Wh"
   }
  },
  {
   "cell_type": "code",
   "execution_count": 1,
   "metadata": {
    "colab": {
     "base_uri": "https://localhost:8080/"
    },
    "id": "-FxmQ7OK0jWN",
    "outputId": "48fa5773-bbfd-4366-fe59-490bfe049962"
   },
   "outputs": [],
   "source": [
    "# When using Colab, make sure you run this instruction beforehand\n",
    "#!pip install mip"
   ]
  },
  {
   "cell_type": "code",
   "execution_count": 2,
   "metadata": {
    "id": "n7vbry6S0jWO",
    "ExecuteTime": {
     "end_time": "2023-10-31T20:24:56.193064Z",
     "start_time": "2023-10-31T20:24:50.956280Z"
    }
   },
   "outputs": [],
   "source": [
    "# We need to import the package mip\n",
    "import mip"
   ]
  },
  {
   "cell_type": "code",
   "execution_count": 3,
   "metadata": {
    "id": "emiHieGMkTVg",
    "ExecuteTime": {
     "end_time": "2023-10-31T20:24:56.193508Z",
     "start_time": "2023-10-31T20:24:51.275104Z"
    }
   },
   "outputs": [],
   "source": [
    "# Food\n",
    "I = ['Bread', 'Milk', 'Eggs', 'Meat', 'Cake']\n",
    "\n",
    "# Nutrients\n",
    "J = ['Calories', 'Proteins', 'Calcium']\n",
    "\n",
    "# Cost in Euro per hg of food\n",
    "c = {'Bread':0.1, 'Milk':0.5, 'Eggs':0.12, 'Meat':0.9, 'Cake':1.3}\n",
    "\n",
    "# Availability per hg of food\n",
    "q = {'Bread':4, 'Milk':3, 'Eggs':1, 'Meat':2, 'Cake':2}\n",
    "\n",
    "# Minimum nutrients\n",
    "b = {'Calories':600, 'Proteins':50, 'Calcium':0.7}\n",
    "\n",
    "# Nutrients per hf of food\n",
    "a = {('Bread','Calories'):30,('Milk','Calories'):50,('Eggs','Calories'):150,('Meat','Calories'):180,('Cake','Calories'):400,\n",
    "('Bread','Proteins'):5,('Milk','Proteins'):15,('Eggs','Proteins'):30,('Meat','Proteins'):90,('Cake','Proteins'):70,\n",
    "('Bread','Calcium'):0.02,('Milk','Calcium'):0.15,('Eggs','Calcium'):0.05,('Meat','Calcium'):0.08,('Cake','Calcium'):0.01}"
   ]
  },
  {
   "cell_type": "code",
   "source": [
    "# Print\n",
    "\n",
    "print('\\nCost in Euro per hg of food')\n",
    "for i,j in c.items():\n",
    "  print(i,j)\n",
    "\n",
    "print('\\nAvailability per hg of food')\n",
    "for i,j in q.items():\n",
    "  print(i,j)\n",
    "\n",
    "print('\\nMinimum nutrients')\n",
    "for i,j in b.items():\n",
    "  print(i,j)\n"
   ],
   "metadata": {
    "id": "D1JCiAMC8mO4",
    "outputId": "bba4e8e2-0c55-41bf-db35-f3c78f0912ca",
    "colab": {
     "base_uri": "https://localhost:8080/"
    },
    "ExecuteTime": {
     "end_time": "2023-10-31T20:24:56.194891Z",
     "start_time": "2023-10-31T20:24:51.281913Z"
    }
   },
   "execution_count": 4,
   "outputs": [
    {
     "name": "stdout",
     "output_type": "stream",
     "text": [
      "\n",
      "Cost in Euro per hg of food\n",
      "Bread 0.1\n",
      "Milk 0.5\n",
      "Eggs 0.12\n",
      "Meat 0.9\n",
      "Cake 1.3\n",
      "\n",
      "Availability per hg of food\n",
      "Bread 4\n",
      "Milk 3\n",
      "Eggs 1\n",
      "Meat 2\n",
      "Cake 2\n",
      "\n",
      "Minum nutrients\n",
      "Calories 600\n",
      "Proteins 50\n",
      "Calcium 0.7\n"
     ]
    }
   ]
  },
  {
   "cell_type": "markdown",
   "metadata": {
    "id": "GvXVzPM50jWO"
   },
   "source": [
    "Now we create an empty model and add the variables"
   ]
  },
  {
   "cell_type": "code",
   "execution_count": 5,
   "metadata": {
    "id": "pSvGnxiao6Zl",
    "ExecuteTime": {
     "end_time": "2023-10-31T20:24:56.195175Z",
     "start_time": "2023-10-31T20:24:51.286870Z"
    }
   },
   "outputs": [],
   "source": [
    "# Define a model\n",
    "model = mip.Model()\n",
    "\n",
    "# add_var()\n",
    "\n",
    "# One way: one by one\n",
    "# x1 = model.add_var(var_type = mip.CONTINUOUS) # by default x1 >=0\n",
    "# x2 = model.add_var()\n",
    "\n",
    "# Second way : using llist comprehension\n",
    "x = [model.add_var(name = i,lb=0) for i in I]"
   ]
  },
  {
   "cell_type": "code",
   "source": [
    "x"
   ],
   "metadata": {
    "id": "bDAi2C_RAZUY",
    "outputId": "a3866eb9-b6c6-4d43-ff63-fe40b4f2dca6",
    "colab": {
     "base_uri": "https://localhost:8080/"
    },
    "ExecuteTime": {
     "end_time": "2023-10-31T20:24:56.202146Z",
     "start_time": "2023-10-31T20:24:51.539849Z"
    }
   },
   "execution_count": 6,
   "outputs": [
    {
     "data": {
      "text/plain": "[<mip.entities.Var at 0x10b2d6a30>,\n <mip.entities.Var at 0x10b550100>,\n <mip.entities.Var at 0x10b550160>,\n <mip.entities.Var at 0x10b550310>,\n <mip.entities.Var at 0x10b5501f0>]"
     },
     "execution_count": 6,
     "metadata": {},
     "output_type": "execute_result"
    }
   ]
  },
  {
   "cell_type": "markdown",
   "metadata": {
    "id": "QGpoxPqN0jWP"
   },
   "source": [
    "Let's write the objective function: in the general case, it can be written as a sum over the set of models."
   ]
  },
  {
   "cell_type": "code",
   "execution_count": 7,
   "metadata": {
    "id": "GM2sOSkJpVza",
    "ExecuteTime": {
     "end_time": "2023-10-31T20:24:56.202516Z",
     "start_time": "2023-10-31T20:24:51.547783Z"
    }
   },
   "outputs": [],
   "source": [
    "# Define the objective function\n",
    "\n",
    "# the function xsum() receives as input a lit\n",
    "#outputs the sum for the model to read it\n",
    "model.objective = mip.minimize(mip.xsum([c[food]*x[i] for i, food in enumerate(I)]))\n",
    "\n"
   ]
  },
  {
   "cell_type": "markdown",
   "metadata": {
    "id": "tBoBUqOt0jWP"
   },
   "source": [
    "The constraints can be generated in loops:"
   ]
  },
  {
   "cell_type": "code",
   "execution_count": 8,
   "metadata": {
    "id": "JeNTerfsqFjS",
    "ExecuteTime": {
     "end_time": "2023-10-31T20:24:56.202768Z",
     "start_time": "2023-10-31T20:24:51.553928Z"
    }
   },
   "outputs": [],
   "source": [
    "# CONSTRAINTS\n",
    "\n",
    "# Availability constraint\n",
    "for i,food in enumerate(I):\n",
    "  model.add_constr(x[i] <= q[food])\n",
    "\n",
    "# Minimum nutrients\n",
    "for j in J:\n",
    "  model.add_constr(mip.xsum([a[food,j]*x[i] for i, food in enumerate(I)])>= b[j])"
   ]
  },
  {
   "cell_type": "markdown",
   "metadata": {
    "id": "YP5_PBY50jWP"
   },
   "source": [
    "The model is complete. Let's solve it and print the optimal solution."
   ]
  },
  {
   "cell_type": "code",
   "execution_count": 9,
   "metadata": {
    "colab": {
     "base_uri": "https://localhost:8080/"
    },
    "id": "u2EOpR5zrlfr",
    "outputId": "ffcd1b86-cc2f-4971-b688-edd0af1b8893",
    "ExecuteTime": {
     "end_time": "2023-10-31T20:24:56.203407Z",
     "start_time": "2023-10-31T20:24:51.557023Z"
    }
   },
   "outputs": [
    {
     "name": "stdout",
     "output_type": "stream",
     "text": [
      "Welcome to the CBC MILP Solver \n",
      "Version: Trunk\n",
      "Build Date: Oct 28 2021 \n",
      "\n",
      "Starting solution of the Linear programming problem using Dual Simplex\n",
      "\n"
     ]
    },
    {
     "data": {
      "text/plain": "<OptimizationStatus.OPTIMAL: 0>"
     },
     "execution_count": 9,
     "metadata": {},
     "output_type": "execute_result"
    }
   ],
   "source": [
    "# Optimizing command\n",
    "model.optimize()"
   ]
  },
  {
   "cell_type": "code",
   "execution_count": 10,
   "metadata": {
    "colab": {
     "base_uri": "https://localhost:8080/"
    },
    "id": "SptErh70xQFd",
    "outputId": "7e0fa75a-e6d4-46f2-8310-eb2aba7b8562",
    "ExecuteTime": {
     "end_time": "2023-10-31T20:24:56.203833Z",
     "start_time": "2023-10-31T20:24:51.572101Z"
    }
   },
   "outputs": [
    {
     "data": {
      "text/plain": "3.37"
     },
     "execution_count": 10,
     "metadata": {},
     "output_type": "execute_result"
    }
   ],
   "source": [
    "# Optimal objective function value\n",
    "model.objective.x"
   ]
  },
  {
   "cell_type": "code",
   "execution_count": 11,
   "metadata": {
    "colab": {
     "base_uri": "https://localhost:8080/"
    },
    "id": "1GmrXIDUxhtA",
    "outputId": "71da10b1-f7f5-49f4-f1c2-423e2c76a496",
    "ExecuteTime": {
     "end_time": "2023-10-31T20:24:56.204253Z",
     "start_time": "2023-10-31T20:24:51.577303Z"
    }
   },
   "outputs": [
    {
     "name": "stdout",
     "output_type": "stream",
     "text": [
      "Bread \t=\t 3.9999999999999996\n",
      "Milk \t=\t 3.0\n",
      "Eggs \t=\t 1.0\n",
      "Meat \t=\t 1.5000000000000002\n",
      "Cake \t=\t 0.0\n"
     ]
    }
   ],
   "source": [
    "# Printing the variables values\n",
    "for i in model.vars:\n",
    "  print(i.name,\"\\t=\\t\", i.x)"
   ]
  },
  {
   "cell_type": "markdown",
   "metadata": {
    "id": "xBdJKia90jWP"
   },
   "source": [
    "## Oil blending problem\n",
    "\n",
    "A refinery has to blend 4 types of oil to obtain 3 types of gasoline. The following table reports the available quantity of oil of each type (in barrels) and the respective unit cost (Euro per barrel)\n",
    "\n",
    "Oil type|Cost|Availability\n",
    "--------|----|------------\n",
    "1|9|5000\n",
    "2|7|2400\n",
    "3|12|4000\n",
    "4|6|1500\n",
    "\n",
    "\n",
    "Blending constraints are to be taken into account, since each type of gasoline must contain at least a specific, predefined, quantity of each type of oil, as indicated in the next table. The unit revenue of each type of gasoline (Euro per barrel) is also indicated\n",
    "\n",
    "Gasoline type|Requirements|Revenue\n",
    "-------------|------------|-------\n",
    "A|$\\geq$ 20% of type 2| 12\n",
    "A|$\\leq$ 30% of type 3|12\n",
    "B|$\\geq$ 40% of type 3|18\n",
    "C|$\\leq$ 50% of type 2|10\n"
   ]
  },
  {
   "cell_type": "code",
   "execution_count": 12,
   "metadata": {
    "id": "hFfpch0c0jWP",
    "ExecuteTime": {
     "end_time": "2023-10-31T20:24:56.204508Z",
     "start_time": "2023-10-31T20:24:51.584664Z"
    }
   },
   "outputs": [],
   "source": [
    "import mip\n",
    "\n",
    "# Set of oil types\n",
    "I = [1, 2, 3, 4]\n",
    "\n",
    "# Set of gasoline types\n",
    "J = [\"A\", \"B\", \"C\"]\n",
    "\n",
    "# Unit cost for oil of type i\n",
    "c = [9, 7, 12, 6]\n",
    "\n",
    "# Availability of oil type i\n",
    "a = [5000, 2400, 4000, 1500]\n",
    "\n",
    "# Price of gasoline of type j\n",
    "r = [12, 18, 10]\n",
    "\n",
    "# Maximum quantity (percentage) of oil\n",
    "q_max = {}\n",
    "for i in I:\n",
    "  for j in J:\n",
    "    q_max[(str(i),j)] = 1\n",
    "q_max[('2','A')] = 0.3\n",
    "q_max[('1','C')] = 0.5\n",
    "\n",
    "# Minimum quantity (percentage) of oil\n",
    "q_min = {}\n",
    "for i in I:\n",
    "  for j in J:\n",
    "    q_min[(str(i),j)] = 0\n",
    "q_min[('1','A')] = 0.2\n",
    "q_min[('2','B')] = 0.4"
   ]
  },
  {
   "cell_type": "markdown",
   "metadata": {
    "id": "U9vgYHcp0jWQ"
   },
   "source": [
    "Now we create an empty model and add the variables"
   ]
  },
  {
   "cell_type": "code",
   "execution_count": 13,
   "metadata": {
    "id": "9cz_TMPS0jWQ",
    "ExecuteTime": {
     "end_time": "2023-10-31T20:24:56.204752Z",
     "start_time": "2023-10-31T20:24:51.589302Z"
    }
   },
   "outputs": [],
   "source": [
    "# Define a model\n",
    "model2 = mip.Model()\n",
    "\n",
    "# Define variables\n",
    "x = [[model2.add_var(name=str(i) + j) for j in J] for i in I]\n",
    "y = [model2.add_var(name=\"N\" + str(j)) for j in J]\n",
    "\n",
    "# default --> variabili reali, lower bound = 0 e upper bound = +INF --> edita a seconda di ciò che ti serve"
   ]
  },
  {
   "cell_type": "code",
   "execution_count": 14,
   "metadata": {
    "id": "cexvZ0I20jWQ",
    "ExecuteTime": {
     "end_time": "2023-10-31T20:24:56.204981Z",
     "start_time": "2023-10-31T20:24:51.595839Z"
    }
   },
   "outputs": [],
   "source": [
    "# Define the objective function\n",
    "model2.objective = mip.maximize(\n",
    "  mip.xsum([r[j] * y[j] for j, gas in enumerate(J)])\n",
    "  -\n",
    "  mip.xsum([c[i] * mip.xsum([x[i][j] for j in range(len(J))]) for i in range(len(I))])\n",
    ")"
   ]
  },
  {
   "cell_type": "code",
   "execution_count": 15,
   "metadata": {
    "id": "pSEN26D-0jWQ",
    "ExecuteTime": {
     "end_time": "2023-10-31T20:24:56.205208Z",
     "start_time": "2023-10-31T20:24:51.603180Z"
    }
   },
   "outputs": [],
   "source": [
    "# CONSTRAINTS\n",
    "# Availability constraint\n",
    "for i in range(len(I)):\n",
    "  model2.add_constr(mip.xsum([x[i][j] for j in range(len(J))]) <= a[i])\n",
    "\n",
    "# Conservation constraint\n",
    "for j in range(len(J)):\n",
    "  model2.add_constr(mip.xsum([x[i][j] for i in range(len(I))]) == y[j])\n",
    "\n",
    "# Maximum quantity\n",
    "for i, oil in enumerate(I):\n",
    "  for j, gas in enumerate(J):\n",
    "    model2.add_constr(x[i][j] <= q_max[(str(oil), gas)] * y[j])\n",
    "\n",
    "# Minimum quantity\n",
    "for i, oil in enumerate(I):\n",
    "  for j, gas in enumerate(J):\n",
    "    model2.add_constr(x[i][j] >= q_min[(str(oil), gas)] * y[j])"
   ]
  },
  {
   "cell_type": "markdown",
   "metadata": {
    "id": "xpNkrD4s0jWQ"
   },
   "source": [
    "The model is complete. Let's solve it and print the optimal solution."
   ]
  },
  {
   "cell_type": "code",
   "execution_count": 16,
   "metadata": {
    "id": "tSAaEJpH0jWQ",
    "ExecuteTime": {
     "end_time": "2023-10-31T20:24:56.205857Z",
     "start_time": "2023-10-31T20:24:51.608523Z"
    }
   },
   "outputs": [
    {
     "name": "stdout",
     "output_type": "stream",
     "text": [
      "Coin0506I Presolve 2 (-6) rows, 5 (0) columns and 10 (-10) elements\n",
      "Clp0000I Optimal - objective value 3.37\n",
      "Coin0511I After Postsolve, objective 3.37, infeasibilities - dual 0 (0), primal 0 (0)\n",
      "Clp0032I Optimal objective 3.37 - 1 iterations time 0.002, Presolve 0.00\n",
      "Starting solution of the Linear programming problem using Dual Simplex\n",
      "\n"
     ]
    },
    {
     "data": {
      "text/plain": "<OptimizationStatus.OPTIMAL: 0>"
     },
     "execution_count": 16,
     "metadata": {},
     "output_type": "execute_result"
    }
   ],
   "source": [
    "# Optimizing command\n",
    "model2.optimize()"
   ]
  },
  {
   "cell_type": "code",
   "execution_count": 17,
   "metadata": {
    "id": "hXq03eCl0jWQ",
    "ExecuteTime": {
     "end_time": "2023-10-31T20:24:56.206276Z",
     "start_time": "2023-10-31T20:24:51.615196Z"
    }
   },
   "outputs": [
    {
     "data": {
      "text/plain": "72000.00000000001"
     },
     "execution_count": 17,
     "metadata": {},
     "output_type": "execute_result"
    }
   ],
   "source": [
    "# Optimal objective function value\n",
    "model2.objective.x"
   ]
  },
  {
   "cell_type": "code",
   "execution_count": 18,
   "metadata": {
    "id": "DTi0oaEi0jWQ",
    "ExecuteTime": {
     "end_time": "2023-10-31T20:24:56.208406Z",
     "start_time": "2023-10-31T20:24:51.618571Z"
    }
   },
   "outputs": [
    {
     "name": "stdout",
     "output_type": "stream",
     "text": [
      "1A\n",
      "5000.0\n",
      "-----\n",
      "1B\n",
      "0.0\n",
      "-----\n",
      "1C\n",
      "0.0\n",
      "-----\n",
      "2A\n",
      "0.0\n",
      "-----\n",
      "2B\n",
      "2400.0\n",
      "-----\n",
      "2C\n",
      "0.0\n",
      "-----\n",
      "3A\n",
      "1900.0\n",
      "-----\n",
      "3B\n",
      "2100.0\n",
      "-----\n",
      "3C\n",
      "0.0\n",
      "-----\n",
      "4A\n",
      "0.0\n",
      "-----\n",
      "4B\n",
      "1500.0\n",
      "-----\n",
      "4C\n",
      "0.0\n",
      "-----\n",
      "NA\n",
      "6900.000000000001\n",
      "-----\n",
      "NB\n",
      "6000.0\n",
      "-----\n",
      "NC\n",
      "0.0\n",
      "-----\n"
     ]
    }
   ],
   "source": [
    "# Printing the variables values\n",
    "for i in model2.vars:\n",
    "  print(i.name)\n",
    "  print(i.x)\n",
    "  print('-----')"
   ]
  },
  {
   "cell_type": "code",
   "execution_count": 19,
   "outputs": [],
   "source": [
    "# Ecco come risolvere con MIP un problema di linear programming --> potresti risolverlo a mano, molto più lento"
   ],
   "metadata": {
    "collapsed": false,
    "ExecuteTime": {
     "end_time": "2023-10-31T20:24:56.208914Z",
     "start_time": "2023-10-31T20:24:51.624991Z"
    }
   }
  }
 ],
 "metadata": {
  "colab": {
   "name": "Diet.ipynb",
   "provenance": []
  },
  "kernelspec": {
   "display_name": "Python 3",
   "language": "python",
   "name": "python3"
  },
  "language_info": {
   "codemirror_mode": {
    "name": "ipython",
    "version": 3
   },
   "file_extension": ".py",
   "mimetype": "text/x-python",
   "name": "python",
   "nbconvert_exporter": "python",
   "pygments_lexer": "ipython3",
   "version": "3.6.8"
  }
 },
 "nbformat": 4,
 "nbformat_minor": 0
}
