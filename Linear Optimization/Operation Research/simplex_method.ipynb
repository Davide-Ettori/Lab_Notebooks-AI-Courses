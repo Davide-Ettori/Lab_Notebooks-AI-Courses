{
 "cells": [
  {
   "cell_type": "code",
   "execution_count": 1,
   "metadata": {
    "collapsed": true,
    "ExecuteTime": {
     "end_time": "2024-01-28T11:09:52.690086Z",
     "start_time": "2024-01-28T11:09:52.417193Z"
    }
   },
   "outputs": [],
   "source": [
    "import numpy as np"
   ]
  },
  {
   "cell_type": "code",
   "execution_count": 2,
   "outputs": [],
   "source": [
    "def get_more_negative(mat, seen, bland=True):\n",
    "    res, cur = 0, 0\n",
    "    for i, num in enumerate(mat[0]):\n",
    "        if num >= 0 or i == 0 or i in seen:\n",
    "            continue\n",
    "        if num < 0 and bland: return i # Bland's Rule\n",
    "        if num < cur:\n",
    "            cur = num\n",
    "            res = i\n",
    "    return res"
   ],
   "metadata": {
    "collapsed": false,
    "ExecuteTime": {
     "end_time": "2024-01-28T11:09:52.697314Z",
     "start_time": "2024-01-28T11:09:52.694305Z"
    }
   }
  },
  {
   "cell_type": "code",
   "execution_count": 3,
   "outputs": [],
   "source": [
    "import math\n",
    "\n",
    "def get_pivot_row(mat, j):\n",
    "    res, cur = 0, math.inf\n",
    "    for i, num in enumerate(mat[:, j]):\n",
    "        if i == 0:\n",
    "            continue\n",
    "        if num <= 0:\n",
    "            continue\n",
    "        if mat[i][0] / num < cur:\n",
    "            cur = mat[i][0] / num\n",
    "            res = i\n",
    "    return res"
   ],
   "metadata": {
    "collapsed": false,
    "ExecuteTime": {
     "end_time": "2024-01-28T11:09:52.705411Z",
     "start_time": "2024-01-28T11:09:52.701899Z"
    }
   }
  },
  {
   "cell_type": "code",
   "execution_count": 4,
   "outputs": [],
   "source": [
    "def count_negative_first_row(mat):\n",
    "    count = 0\n",
    "    for i, num in enumerate(mat[0]):\n",
    "        if i == 0:\n",
    "            continue\n",
    "        if num < 0:\n",
    "            count += 1\n",
    "    return count"
   ],
   "metadata": {
    "collapsed": false,
    "ExecuteTime": {
     "end_time": "2024-01-28T11:09:52.721008Z",
     "start_time": "2024-01-28T11:09:52.710899Z"
    }
   }
  },
  {
   "cell_type": "code",
   "execution_count": 5,
   "outputs": [],
   "source": [
    "def print_res(mat, maximum):\n",
    "    base = list()\n",
    "    for j in range(1, len(mat[0])):\n",
    "        flag = True\n",
    "        found = True\n",
    "        index = -1\n",
    "        for i in range(len(mat)):\n",
    "            if mat[i][j] == 0:\n",
    "                continue\n",
    "            if mat[i][j] == 1 and flag:\n",
    "                index = i\n",
    "                flag = False\n",
    "            else:\n",
    "                found = False\n",
    "        if not flag and found:\n",
    "            base.append((j, mat[index][0]))\n",
    "\n",
    "    print(f\"\\nThe {len(base)} variables in the base are the following:\\n\")\n",
    "    for var, val in base:\n",
    "        print(f\"X{var}\")\n",
    "    print()\n",
    "\n",
    "    vars = set()\n",
    "    print(\"The optimal variable assignment is the following:\\n\")\n",
    "    for var, val in base:\n",
    "        print(f\"X{var}: {np.round(val, 2)}\")\n",
    "        vars.add(var)\n",
    "    for num in range(1, len(mat[0])):\n",
    "        if num not in vars:\n",
    "            print(f\"X{num}: 0\")\n",
    "    print()\n",
    "\n",
    "    if maximum or mat[0][0] == 0:\n",
    "        print(f\"The optimal value of the function is: {np.round(mat[0][0], 3)}\")\n",
    "    else:\n",
    "        print(f\"The optimal value of the function is: {-np.round(mat[0][0], 3)}\")"
   ],
   "metadata": {
    "collapsed": false,
    "ExecuteTime": {
     "end_time": "2024-01-28T11:09:52.736605Z",
     "start_time": "2024-01-28T11:09:52.721318Z"
    }
   }
  },
  {
   "cell_type": "code",
   "execution_count": 6,
   "outputs": [],
   "source": [
    "def print_base(mat):\n",
    "    base = list()\n",
    "    for j in range(1, len(mat[0])):\n",
    "        flag = True\n",
    "        found = True\n",
    "        index = -1\n",
    "        for i in range(len(mat)):\n",
    "            if mat[i][j] == 0:\n",
    "                continue\n",
    "            if mat[i][j] == 1 and flag:\n",
    "                index = i\n",
    "                flag = False\n",
    "            else:\n",
    "                found = False\n",
    "        if not flag and found:\n",
    "            base.append(j)\n",
    "    print(\"Base: \", end=\"\")\n",
    "    for b in base:\n",
    "        print(f\"X{b} \", end=\"\")\n",
    "    print()"
   ],
   "metadata": {
    "collapsed": false,
    "ExecuteTime": {
     "end_time": "2024-01-28T11:09:52.737075Z",
     "start_time": "2024-01-28T11:09:52.728400Z"
    }
   }
  },
  {
   "cell_type": "code",
   "execution_count": 7,
   "outputs": [],
   "source": [
    "def simplex(mat, verbose=True, maximum=False):\n",
    "    if len(mat) > len(mat[0]):\n",
    "        print(\"\\nProblem invalid: too many constrains\\n\\n\")\n",
    "        return\n",
    "    if np.linalg.matrix_rank(mat) != len(mat):\n",
    "        print(\"\\nProblem invalid: constrains not independent\\n\\n\")\n",
    "        return\n",
    "    if maximum: mat[0] *= -1\n",
    "\n",
    "    while True:\n",
    "        seen = set()\n",
    "        count = count_negative_first_row(mat)\n",
    "        if verbose:\n",
    "            print_base(mat)\n",
    "        while True:\n",
    "            col = get_more_negative(mat, seen)\n",
    "            if col == 0 and len(seen) == 0:\n",
    "                if verbose:\n",
    "                    print_res(mat, maximum)\n",
    "                return\n",
    "\n",
    "            seen.add(col)\n",
    "            row = get_pivot_row(mat, col)\n",
    "\n",
    "            if row == 0 and len(seen) == count:\n",
    "                if verbose:\n",
    "                    print(\"\\nProblem invalid: solution is unbounded\\n\\n\")\n",
    "                return\n",
    "            if row != 0:\n",
    "                break\n",
    "\n",
    "        mat[row, :] /= mat[row][col]\n",
    "        for i in range(len(mat)):\n",
    "            if i == row:\n",
    "                continue\n",
    "            mat[i, :] -= mat[row, :] * mat[i][col]\n",
    "        if maximum: mat[0] *= -1\n",
    "        mat[mat == -0] = 0.0\n",
    "        print(mat, \"\\n\")\n",
    "        if maximum: mat[0] *= -1"
   ],
   "metadata": {
    "collapsed": false,
    "ExecuteTime": {
     "end_time": "2024-01-28T11:09:52.782606Z",
     "start_time": "2024-01-28T11:09:52.740095Z"
    }
   }
  },
  {
   "cell_type": "code",
   "execution_count": 11,
   "outputs": [
    {
     "name": "stdout",
     "output_type": "stream",
     "text": [
      "Base: X3 X4 \n",
      "[[-6.          0.          0.33333333  0.         -0.66666667]\n",
      " [ 1.          0.          0.66666667  1.         -0.33333333]\n",
      " [ 3.          1.          0.33333333  0.          0.33333333]] \n",
      "\n",
      "Base: X1 X3 \n",
      "[[-6.5  0.   0.  -0.5 -0.5]\n",
      " [ 1.5  0.   1.   1.5 -0.5]\n",
      " [ 2.5  1.   0.  -0.5  0.5]] \n",
      "\n",
      "Base: X1 X2 \n",
      "\n",
      "The 2 variables in the base are the following:\n",
      "\n",
      "X1\n",
      "X2\n",
      "\n",
      "The optimal variable assignment is the following:\n",
      "\n",
      "X1: 2.5\n",
      "X2: 1.5\n",
      "X3: 0\n",
      "X4: 0\n",
      "\n",
      "The optimal value of the function is: 6.5\n"
     ]
    }
   ],
   "source": [
    "mat = np.array([ # simple matrix, for testing the algorithm --> minimization problem --> this program assumes min, not max\n",
    "    [0, -1, -1, 0, 0],\n",
    "    [24, 6, 4, 1, 0],\n",
    "    [6, 3, -2, 0, 1]\n",
    "], dtype=\"float64\")\n",
    "\n",
    "'''\n",
    "mat = np.array([\n",
    "    np.array([0, -0.15, -0.25, 0, 0, 0, 0, 0, 0], dtype=\"float64\"),\n",
    "    np.array([1, 1, 0, 1, 0, 0, 0, 0, 0], dtype=\"float64\"),\n",
    "    np.array([1, 0, 1, 0, 1, 0, 0, 0, 0], dtype=\"float64\"),\n",
    "    np.array([1, 1, 1, 0, 0, 1, 0, 0, 0], dtype=\"float64\"),\n",
    "    np.array([1/2, 1/3, 1, 0, 0, 0, 1, 0, 0], dtype=\"float64\"),\n",
    "    np.array([0, -1, 2, 0, 0, 0, 0, 1, 0], dtype=\"float64\"),\n",
    "    np.array([-1/6, -1, 0, 0, 0, 0, 0, 0, 1], dtype=\"float64\"),\n",
    "])\n",
    "\n",
    "# expected: X1 = 0.75, X2 = 0.25, optimal = 0.175\n",
    "\n",
    "simplex(mat, verbose=True, maximum=True)\n",
    "\n",
    "'''\n",
    "\n",
    "'''\n",
    "mat = np.array([\n",
    "    np.array([0, 25, 16, 0, 0, 0], dtype=\"float64\"),\n",
    "    np.array([-4, -1, -7, 1, 0, 0], dtype=\"float64\"),\n",
    "    np.array([-5, -1, -5, 0, 1, 0], dtype=\"float64\"),\n",
    "    np.array([-9, -2, -3, 0, 0, 1], dtype=\"float64\")\n",
    "])\n",
    "'''\n",
    "'''\n",
    "mat = np.array([\n",
    "    [0, -3, -2, 0, 0, 0],\n",
    "    [4, 2, 1, 1, 0, 0],\n",
    "    [2, -2, 1, 0, 1, 0],\n",
    "    [1, 1, -1, 0, 0, 1]\n",
    "], dtype=\"float64\")\n",
    "simplex(mat, verbose=True, maximum=True)\n",
    "'''\n",
    "\n",
    "mat = np.array([\n",
    "    [0, -6, -8, 6, 0, 0],\n",
    "    [1, -1, -2, -1, 1, 0],\n",
    "    [1, 3, -4, 3, 0, 1]\n",
    "], dtype=\"float64\")\n",
    "\n",
    "mat = np.array([\n",
    "    [0, 2, 1, 0, 0],\n",
    "    [4, 1, 1, 1, 0],\n",
    "    [9, 3, 1, 0, 1]\n",
    "], dtype=\"float64\")\n",
    "\n",
    "simplex(mat, verbose=True, maximum=True)"
   ],
   "metadata": {
    "collapsed": false,
    "ExecuteTime": {
     "end_time": "2024-01-28T11:10:44.358919Z",
     "start_time": "2024-01-28T11:10:44.350721Z"
    }
   }
  },
  {
   "cell_type": "code",
   "execution_count": 9,
   "outputs": [
    {
     "name": "stdout",
     "output_type": "stream",
     "text": [
      "36.2 µs ± 2.53 µs per loop (mean ± std. dev. of 7 runs, 10,000 loops each)\n"
     ]
    }
   ],
   "source": [
    "%timeit simplex(mat, verbose=False)"
   ],
   "metadata": {
    "collapsed": false,
    "ExecuteTime": {
     "end_time": "2024-01-28T11:09:55.785309Z",
     "start_time": "2024-01-28T11:09:52.913081Z"
    }
   }
  },
  {
   "cell_type": "code",
   "execution_count": 10,
   "outputs": [],
   "source": [
    "#Here is a simple implementation of the simplex algorithm --> Slack variables are identified with incremental integers, following those of the regular variables --> I assume at least as many slack variables as constraints --> It does not support Integer Linear Programming (ILP)."
   ],
   "metadata": {
    "collapsed": false,
    "ExecuteTime": {
     "end_time": "2024-01-28T11:09:55.791028Z",
     "start_time": "2024-01-28T11:09:55.785755Z"
    }
   }
  }
 ],
 "metadata": {
  "kernelspec": {
   "display_name": "Python 3",
   "language": "python",
   "name": "python3"
  },
  "language_info": {
   "codemirror_mode": {
    "name": "ipython",
    "version": 2
   },
   "file_extension": ".py",
   "mimetype": "text/x-python",
   "name": "python",
   "nbconvert_exporter": "python",
   "pygments_lexer": "ipython2",
   "version": "2.7.6"
  }
 },
 "nbformat": 4,
 "nbformat_minor": 0
}
