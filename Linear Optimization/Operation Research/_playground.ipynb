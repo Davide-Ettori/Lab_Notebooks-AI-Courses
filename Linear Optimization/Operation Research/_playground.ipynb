{
 "cells": [
  {
   "cell_type": "code",
   "execution_count": 1,
   "metadata": {
    "collapsed": true,
    "ExecuteTime": {
     "end_time": "2023-11-26T11:18:39.311480Z",
     "start_time": "2023-11-26T11:18:39.112929Z"
    }
   },
   "outputs": [],
   "source": [
    "import numpy as np"
   ]
  },
  {
   "cell_type": "code",
   "execution_count": 2,
   "outputs": [
    {
     "data": {
      "text/plain": "array([2., 3.])"
     },
     "execution_count": 2,
     "metadata": {},
     "output_type": "execute_result"
    }
   ],
   "source": [
    "(-7 / 2) * np.array([1, 7]) + (11 / 2) * np.array([1, 5])"
   ],
   "metadata": {
    "collapsed": false,
    "ExecuteTime": {
     "end_time": "2023-11-21T18:50:41.115661Z",
     "start_time": "2023-11-21T18:50:41.109807Z"
    }
   }
  },
  {
   "cell_type": "code",
   "execution_count": 3,
   "outputs": [],
   "source": [
    "A = np.array([\n",
    "    [2, 1, 1, 0, 0],\n",
    "    [-2, 1, 0, 1, 0],\n",
    "    [1, -1, 0, 0, 1]\n",
    "], dtype=\"float64\")\n",
    "B = np.array([\n",
    "    [2, 1, 0],\n",
    "    [-1, 1, 1],\n",
    "    [1, -1, 0]\n",
    "], dtype=\"float64\")\n",
    "b = np.array([4, 2, 1], dtype=\"float64\")\n",
    "N = np.array([\n",
    "    [1, 0],\n",
    "    [0, 1],\n",
    "    [0, 0]\n",
    "], dtype=\"float64\")\n",
    "cb = np.array([-3, -2, 0], dtype=\"float64\")\n",
    "cn = np.array([0, 0], dtype=\"float64\")\n",
    "c = np.array([-3, -2, 0, 0, 0], dtype=\"float64\")"
   ],
   "metadata": {
    "collapsed": false,
    "ExecuteTime": {
     "end_time": "2023-11-21T18:50:41.120502Z",
     "start_time": "2023-11-21T18:50:41.114759Z"
    }
   }
  },
  {
   "cell_type": "code",
   "execution_count": 4,
   "outputs": [
    {
     "data": {
      "text/plain": "array([1.66666667, 0.66666667, 3.        ])"
     },
     "execution_count": 4,
     "metadata": {},
     "output_type": "execute_result"
    }
   ],
   "source": [
    "np.linalg.inv(B) @ b"
   ],
   "metadata": {
    "collapsed": false,
    "ExecuteTime": {
     "end_time": "2023-11-21T18:50:41.143008Z",
     "start_time": "2023-11-21T18:50:41.125598Z"
    }
   }
  },
  {
   "cell_type": "code",
   "execution_count": 5,
   "outputs": [
    {
     "data": {
      "text/plain": "-6.333333333333333"
     },
     "execution_count": 5,
     "metadata": {},
     "output_type": "execute_result"
    }
   ],
   "source": [
    "cb @ np.linalg.inv(B) @ b"
   ],
   "metadata": {
    "collapsed": false,
    "ExecuteTime": {
     "end_time": "2023-11-21T18:50:41.143552Z",
     "start_time": "2023-11-21T18:50:41.131594Z"
    }
   }
  },
  {
   "cell_type": "code",
   "execution_count": 6,
   "outputs": [
    {
     "data": {
      "text/plain": "array([1.66666667, 0.        ])"
     },
     "execution_count": 6,
     "metadata": {},
     "output_type": "execute_result"
    }
   ],
   "source": [
    "cn - cb @ np.linalg.inv(B) @ N"
   ],
   "metadata": {
    "collapsed": false,
    "ExecuteTime": {
     "end_time": "2023-11-21T18:50:41.144042Z",
     "start_time": "2023-11-21T18:50:41.138476Z"
    }
   }
  },
  {
   "cell_type": "code",
   "execution_count": 7,
   "outputs": [
    {
     "data": {
      "text/plain": "array([ 0.00000000e+00, -2.22044605e-16,  0.00000000e+00])"
     },
     "execution_count": 7,
     "metadata": {},
     "output_type": "execute_result"
    }
   ],
   "source": [
    "cb - cb @ np.linalg.inv(B) @ B"
   ],
   "metadata": {
    "collapsed": false,
    "ExecuteTime": {
     "end_time": "2023-11-21T18:50:41.151533Z",
     "start_time": "2023-11-21T18:50:41.146122Z"
    }
   }
  },
  {
   "cell_type": "code",
   "execution_count": 8,
   "outputs": [
    {
     "data": {
      "text/plain": "array([ 0.00000000e+00, -2.22044605e-16,  1.66666667e+00,  0.00000000e+00,\n       -3.33333333e-01])"
     },
     "execution_count": 8,
     "metadata": {},
     "output_type": "execute_result"
    }
   ],
   "source": [
    "c - cb @ np.linalg.inv(B) @ A"
   ],
   "metadata": {
    "collapsed": false,
    "ExecuteTime": {
     "end_time": "2023-11-21T18:50:41.156732Z",
     "start_time": "2023-11-21T18:50:41.149893Z"
    }
   }
  },
  {
   "cell_type": "code",
   "execution_count": 9,
   "outputs": [
    {
     "data": {
      "text/plain": "array([1.75, 0.25])"
     },
     "execution_count": 9,
     "metadata": {},
     "output_type": "execute_result"
    }
   ],
   "source": [
    "k = np.array([\n",
    "    [2, -2],\n",
    "    [1, 1]\n",
    "], dtype=\"float64\")\n",
    "v = np.array([3, 2])\n",
    "\n",
    "np.linalg.inv(k) @ v"
   ],
   "metadata": {
    "collapsed": false,
    "ExecuteTime": {
     "end_time": "2023-11-21T18:50:41.202865Z",
     "start_time": "2023-11-21T18:50:41.160108Z"
    }
   }
  },
  {
   "cell_type": "markdown",
   "source": [
    "# Strong Duality Example"
   ],
   "metadata": {
    "collapsed": false
   }
  },
  {
   "cell_type": "code",
   "execution_count": 24,
   "outputs": [
    {
     "data": {
      "text/plain": "array([0., 7., 0.])"
     },
     "execution_count": 24,
     "metadata": {},
     "output_type": "execute_result"
    }
   ],
   "source": [
    "A = np.array([\n",
    "    [5, 1, 3],\n",
    "    [3, 1, 0]\n",
    "])\n",
    "B = np.array([\n",
    "    [5, 3],\n",
    "    [3, 0],\n",
    "])\n",
    "b = np.array([8, 3])\n",
    "c = np.array([13, 10, 6])\n",
    "c_sol = np.array([13, 6])\n",
    "B_inv = np.linalg.inv(B)\n",
    "\n",
    "# optimality check --> reduced cost all non-negative\n",
    "\n",
    "c - c_sol @ B_inv @ A"
   ],
   "metadata": {
    "collapsed": false,
    "ExecuteTime": {
     "end_time": "2023-11-21T19:05:28.315793Z",
     "start_time": "2023-11-21T19:05:28.308823Z"
    }
   }
  },
  {
   "cell_type": "code",
   "execution_count": 29,
   "outputs": [
    {
     "data": {
      "text/plain": "array([1., 1.])"
     },
     "execution_count": 29,
     "metadata": {},
     "output_type": "execute_result"
    }
   ],
   "source": [
    "B_inv @ b"
   ],
   "metadata": {
    "collapsed": false,
    "ExecuteTime": {
     "end_time": "2023-11-21T19:06:27.140656Z",
     "start_time": "2023-11-21T19:06:27.134653Z"
    }
   }
  },
  {
   "cell_type": "code",
   "execution_count": 30,
   "outputs": [
    {
     "data": {
      "text/plain": "19.0"
     },
     "execution_count": 30,
     "metadata": {},
     "output_type": "execute_result"
    }
   ],
   "source": [
    "c_sol @ B_inv @ b"
   ],
   "metadata": {
    "collapsed": false,
    "ExecuteTime": {
     "end_time": "2023-11-21T19:06:28.419145Z",
     "start_time": "2023-11-21T19:06:28.414030Z"
    }
   }
  },
  {
   "cell_type": "code",
   "execution_count": 31,
   "outputs": [
    {
     "data": {
      "text/plain": "array([2., 1.])"
     },
     "execution_count": 31,
     "metadata": {},
     "output_type": "execute_result"
    }
   ],
   "source": [
    "c_sol @ B_inv # questa è la soluzione del problema duale"
   ],
   "metadata": {
    "collapsed": false,
    "ExecuteTime": {
     "end_time": "2023-11-21T19:06:28.941593Z",
     "start_time": "2023-11-21T19:06:28.934973Z"
    }
   }
  },
  {
   "cell_type": "code",
   "execution_count": 32,
   "outputs": [
    {
     "data": {
      "text/plain": "19.0"
     },
     "execution_count": 32,
     "metadata": {},
     "output_type": "execute_result"
    }
   ],
   "source": [
    "# costo della soluzione duale (deve essere uguale al costo del primal --> strong duality)\n",
    "np.array([8, 3]) @ (c_sol @ B_inv)"
   ],
   "metadata": {
    "collapsed": false,
    "ExecuteTime": {
     "end_time": "2023-11-21T19:06:29.507774Z",
     "start_time": "2023-11-21T19:06:29.491686Z"
    }
   }
  },
  {
   "cell_type": "code",
   "execution_count": 3,
   "outputs": [
    {
     "data": {
      "text/plain": "array([14.        ,  9.66666667,  3.        ])"
     },
     "execution_count": 3,
     "metadata": {},
     "output_type": "execute_result"
    }
   ],
   "source": [
    "A = np.array([\n",
    "    [1, 2],\n",
    "    [2, -1],\n",
    "    [1, -1]\n",
    "])\n",
    "x = np.array([20 / 3, 11 / 3])\n",
    "b = np.array([14, 10, 3])\n",
    "\n",
    "A @ x"
   ],
   "metadata": {
    "collapsed": false,
    "ExecuteTime": {
     "end_time": "2023-11-25T17:40:56.820967Z",
     "start_time": "2023-11-25T17:40:56.813887Z"
    }
   }
  },
  {
   "cell_type": "code",
   "execution_count": 4,
   "outputs": [
    {
     "data": {
      "text/plain": "array([1., 1.])"
     },
     "execution_count": 4,
     "metadata": {},
     "output_type": "execute_result"
    }
   ],
   "source": [
    "B = np.array([\n",
    "    [1, 2, 0],\n",
    "    [2, -1, 1],\n",
    "    [1, -1, 0]\n",
    "])\n",
    "N = np.array([\n",
    "    [1, 0],\n",
    "    [0, 0],\n",
    "    [0, 1]\n",
    "])\n",
    "cb = np.array([-2, -1, 0])\n",
    "cn = np.array([0, 0])\n",
    "\n",
    "cn - cb @ np.linalg.inv(B) @ N"
   ],
   "metadata": {
    "collapsed": false,
    "ExecuteTime": {
     "end_time": "2023-11-26T14:28:09.554380Z",
     "start_time": "2023-11-26T14:28:09.545798Z"
    }
   }
  },
  {
   "cell_type": "code",
   "execution_count": 3,
   "outputs": [
    {
     "data": {
      "text/plain": "array([6.66666667, 3.66666667, 0.33333333])"
     },
     "execution_count": 3,
     "metadata": {},
     "output_type": "execute_result"
    }
   ],
   "source": [
    "np.linalg.inv(B) @ np.array([14, 10, 3])"
   ],
   "metadata": {
    "collapsed": false,
    "ExecuteTime": {
     "end_time": "2023-11-26T14:27:20.913447Z",
     "start_time": "2023-11-26T14:27:20.906322Z"
    }
   }
  },
  {
   "cell_type": "code",
   "execution_count": 1,
   "outputs": [],
   "source": [
    "import mip"
   ],
   "metadata": {
    "collapsed": false,
    "ExecuteTime": {
     "end_time": "2024-01-27T11:52:44.361691Z",
     "start_time": "2024-01-27T11:52:44.056907Z"
    }
   }
  },
  {
   "cell_type": "code",
   "execution_count": 2,
   "outputs": [
    {
     "name": "stdout",
     "output_type": "stream",
     "text": [
      "Welcome to the CBC MILP Solver \n",
      "Version: Trunk\n",
      "Build Date: Oct 28 2021 \n",
      "\n",
      "Starting solution of the Linear programming relaxation problem using Primal Simplex\n",
      "\n",
      "Coin0506I Presolve 0 (-3) rows, 0 (-2) columns and 0 (-4) elements\n",
      "Clp0000I Optimal - objective value 9\n",
      "Coin0511I After Postsolve, objective 9, infeasibilities - dual 0 (0), primal 0 (0)\n",
      "Clp0032I Optimal objective 9 - 0 iterations time 0.002, Presolve 0.00, Idiot 0.00\n",
      "\n",
      "Starting MIP optimization\n",
      "\n",
      "\n",
      "Objective function value: 9.0\n",
      "X  =  3.0\n",
      "Y  =  0.0\n"
     ]
    }
   ],
   "source": [
    "model = mip.Model()\n",
    "x1 = model.add_var(name=\"X\", lb=0, var_type=mip.INTEGER)\n",
    "x2 = model.add_var(name=\"Y\", lb=0, var_type=mip.INTEGER)\n",
    "\n",
    "model.add_constr(x1 <= 3)\n",
    "model.add_constr(x2 <= 2)\n",
    "model.add_constr(2 * x1 + 2 * x2 <= 7)\n",
    "\n",
    "model.objective = mip.maximize(3 * x1 - x2)\n",
    "\n",
    "model.optimize()\n",
    "\n",
    "print(f\"\\n\\nObjective function value: {round(model.objective.x, 2)}\")\n",
    "\n",
    "for var in model.vars:\n",
    "    print(f\"{var.name}  =  {round(var.x, 2)}\")"
   ],
   "metadata": {
    "collapsed": false,
    "ExecuteTime": {
     "end_time": "2024-01-27T11:53:05.731203Z",
     "start_time": "2024-01-27T11:53:05.513253Z"
    }
   }
  },
  {
   "cell_type": "code",
   "execution_count": 6,
   "outputs": [
    {
     "name": "stdout",
     "output_type": "stream",
     "text": [
      "Coin0506I Presolve 3 (0) rows, 3 (-1) columns and 7 (0) elements\n",
      "Clp1000I sum of infeasibilities 4.1414e-11 - average 1.38047e-11, 0 fixed columns\n",
      "Coin0506I Presolve 3 (0) rows, 3 (0) columns and 7 (0) elements\n",
      "Clp0006I 0  Obj 16.000063 Dual inf 900 (3)\n",
      "Clp0029I End of values pass after 3 iterations\n",
      "Clp0000I Optimal - objective value 16\n",
      "Clp0000I Optimal - objective value 16\n",
      "Clp0000I Optimal - objective value 16\n",
      "Coin0511I After Postsolve, objective 16, infeasibilities - dual 0 (0), primal 0 (0)\n",
      "Clp0032I Optimal objective 16 - 0 iterations time 0.002, Presolve 0.00, Idiot 0.00\n",
      "Starting solution of the Linear programming problem using Primal Simplex\n",
      "\n"
     ]
    },
    {
     "data": {
      "text/plain": "16.0"
     },
     "execution_count": 6,
     "metadata": {},
     "output_type": "execute_result"
    }
   ],
   "source": [
    "model = mip.Model()\n",
    "\n",
    "x1 = model.add_var(name=\"X1\", lb=0, var_type=mip.CONTINUOUS)\n",
    "x2 = model.add_var(name=\"X2\", lb=0, var_type=mip.CONTINUOUS)\n",
    "x3 = model.add_var(name=\"X3\", lb=0, var_type=mip.CONTINUOUS)\n",
    "x4 = model.add_var(name=\"X4\", lb=0, var_type=mip.CONTINUOUS)\n",
    "\n",
    "model.add_constr(2 * x1 + x2 + 2 * x4>= 8)\n",
    "model.add_constr(2 * x1 + 3 * x2 >= 12)\n",
    "model.add_constr(x2 + 2 * x4 >= 1)\n",
    "\n",
    "model.objective = mip.minimize(4 * x1 + 3 * x2 + 2 * x4)\n",
    "model.optimize()\n",
    "model.objective.x"
   ],
   "metadata": {
    "collapsed": false,
    "ExecuteTime": {
     "end_time": "2024-01-07T16:25:48.404358Z",
     "start_time": "2024-01-07T16:25:48.392924Z"
    }
   }
  },
  {
   "cell_type": "code",
   "execution_count": 10,
   "outputs": [
    {
     "name": "stdout",
     "output_type": "stream",
     "text": [
      "Cgl0004I processed model has 0 rows, 0 columns (0 integer (0 of which binary)) and 0 elements\n",
      "Cgl0015I Clique Strengthening extended 0 cliques, 0 were dominated\n",
      "Cbc3007W No integer variables\n",
      "Total time (CPU seconds):       0.00   (Wallclock seconds):       0.00\n",
      "\n",
      "Starting solution of the Linear programming problem using Primal Simplex\n",
      "\n",
      "-3.33\n",
      "X1  =  1.0\n",
      "X2  =  2.17\n"
     ]
    }
   ],
   "source": [
    "model = mip.Model()\n",
    "\n",
    "x1 = model.add_var(name=\"X1\", lb=0, var_type=mip.CONTINUOUS)\n",
    "x2 = model.add_var(name=\"X2\", lb=0, var_type=mip.CONTINUOUS)\n",
    "\n",
    "model.add_constr(-4 * x1 + 6 * x2 <= 9)\n",
    "model.add_constr(x1 + x2 <= 4)\n",
    "model.add_constr(-3 * x1 + 6 * x2 <= 10)\n",
    "model.add_constr(x2 >= 2)\n",
    "\n",
    "model.objective = mip.minimize(x1 - 2 * x2)\n",
    "\n",
    "model.optimize()\n",
    "\n",
    "print(round(model.objective.x, 2))\n",
    "\n",
    "for var in model.vars:\n",
    "    print(f\"{var.name}  =  {round(var.x, 2)}\")"
   ],
   "metadata": {
    "collapsed": false,
    "ExecuteTime": {
     "end_time": "2023-12-14T21:03:34.018118Z",
     "start_time": "2023-12-14T21:03:34.008799Z"
    }
   }
  },
  {
   "cell_type": "code",
   "execution_count": null,
   "outputs": [],
   "source": [],
   "metadata": {
    "collapsed": false
   }
  }
 ],
 "metadata": {
  "kernelspec": {
   "display_name": "Python 3",
   "language": "python",
   "name": "python3"
  },
  "language_info": {
   "codemirror_mode": {
    "name": "ipython",
    "version": 2
   },
   "file_extension": ".py",
   "mimetype": "text/x-python",
   "name": "python",
   "nbconvert_exporter": "python",
   "pygments_lexer": "ipython2",
   "version": "2.7.6"
  }
 },
 "nbformat": 4,
 "nbformat_minor": 0
}
