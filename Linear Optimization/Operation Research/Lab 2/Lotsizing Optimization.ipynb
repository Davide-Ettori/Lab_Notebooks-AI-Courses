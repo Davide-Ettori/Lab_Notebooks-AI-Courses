{
 "cells": [
  {
   "cell_type": "markdown",
   "metadata": {
    "id": "RKRzXfZXz1U0"
   },
   "source": [
    "## Lot sizing\n",
    "\n",
    "A company has to plan the production of 3 products, A1, A2, A3, for a time horizon of four months, from January to April. The working days are: 22 for January, 20 for February, 23 for March, 22 for April.\n",
    "\n",
    "Sales forecasts indicate the following maximum demand, per product and month.\n",
    "\n",
    "\n",
    "Demand|January|February|March|April\n",
    "------|-------|--------|-----|-----\n",
    "A1| 5300| 1200| 7400| 5300\n",
    "A2| 4500| 5400| 6500| 7200\n",
    "A3| 4400| 6700| 12500| 13200\n",
    "\n",
    "The following table reports the price of each product (Euro) and its unit production cost (Euro). It also reports the maximum number of pieces that can be produced in a single day (pieces/day), if the whole production capability of the factory is used to produce units of that product.\n",
    "\n",
    "Product|A1|A2|A3\n",
    "-------|--|--|--\n",
    "Price| 124| 109| 115\n",
    "Production cost| 75| 53| 65\n",
    "Production amount| 500| 450| 550\n",
    "\n",
    "Inventory can be used to store units of unsold product. The inventory cost per month and unit\n",
    "is 3 for product A1, 4 for product A2, and 2 for product A3. Each month, no more than 800\n",
    "total units of the three products can be stored.\n",
    "\n",
    "1. Give an integer linear programming formulation for the problem of determining a production plan that maximizes the total revenue.\n",
    "2. Integrality restrictions are mandatory for this problem, since we are dealing with discrete products. In spite of this, when dealing with problems involving large quantities of product, it is often possible, when dropping the integrality constraints, to obtain solutions that are almost integer. Assess, computationally, the difference between integer and continuous optimal solutions for the original formulation."
   ]
  },
  {
   "cell_type": "markdown",
   "metadata": {
    "id": "mllqY4f1Jp8s"
   },
   "source": [
    "<h3>Optional questions<h3>"
   ]
  },
  {
   "cell_type": "markdown",
   "metadata": {
    "id": "f9iX3AUdJp8s"
   },
   "source": [
    "1. Give a formulation for the variant where a minimum lot size is required whenever a product, per month, is produced, and where a fixed cost is charged, per month and product, whenever the production line for the corresponding product is active. Use the data:\n",
    "\n",
    "Product|A1|A2|A3\n",
    "-------|--|--|--\n",
    "Fixed cost|150000|150000|100000\n",
    "Minimum lot size|20|20|16\n",
    "\n",
    "\n",
    "2. Assess the effect of integrality for the variant of the problem. Do you expect the difference between the integer and continuous solutions to be larger in this case?"
   ]
  },
  {
   "cell_type": "code",
   "execution_count": 1,
   "metadata": {
    "colab": {
     "base_uri": "https://localhost:8080/",
     "height": 433
    },
    "id": "y8q6anRE6Onq",
    "outputId": "563fce18-5f36-409c-d5b6-207f4644e293",
    "ExecuteTime": {
     "end_time": "2023-10-22T17:42:13.234293Z",
     "start_time": "2023-10-22T17:42:13.229743Z"
    }
   },
   "outputs": [],
   "source": [
    "# When using Colab, make sure you run this instruction beforehand\n",
    "#!pip install --upgrade cffi==1.15.0\n",
    "#importlib.reload(cffi)\n",
    "#!pip install mip"
   ]
  },
  {
   "cell_type": "code",
   "execution_count": 2,
   "metadata": {
    "id": "ErmniU0Rz87y",
    "ExecuteTime": {
     "end_time": "2023-10-22T17:42:17.605514Z",
     "start_time": "2023-10-22T17:42:17.451594Z"
    }
   },
   "outputs": [],
   "source": [
    "import importlib\n",
    "import cffi\n",
    "import mip\n",
    "from mip import BINARY,INTEGER\n",
    "# Number of products\n",
    "n_product = 3\n",
    "# Number of months\n",
    "n_months = 4\n",
    "\n",
    "# Set of products\n",
    "I = range(n_product)\n",
    "# Set of months\n",
    "J = range(1, n_months+1)\n",
    "\n",
    "# Working days per month\n",
    "b = [22, 20, 23, 22]\n",
    "\n",
    "# Maximum demand, per product and month\n",
    "d = [[5300, 1200, 7400, 5300], [4500, 5400, 6500, 7200], [4400, 6700, 12500, 13200]]\n",
    "\n",
    "# Price of each product (Euro)\n",
    "r = [124, 109, 115]\n",
    "\n",
    "# Unit production cost (Euro)\n",
    "c = [75, 53, 65]\n",
    "\n",
    "# Maximum number of pieces that can be produced in a single day (pieces/day)\n",
    "q = [500, 450, 550]\n",
    "\n",
    "# Inventory cost per month and unit\n",
    "m = [3, 4, 2]\n",
    "\n",
    "# Maximum number of total units of the three products that can be stored \n",
    "K = 800\n",
    "\n",
    "# Fixed cost charged per month and product\n",
    "f = [150000, 150000, 100000]\n",
    "\n",
    "# Minimum lot size per product and month\n",
    "l = [20, 20, 16]"
   ]
  },
  {
   "cell_type": "code",
   "execution_count": null,
   "metadata": {
    "id": "HCFODnju5hiG"
   },
   "outputs": [],
   "source": [
    "# Model definition\n",
    "model = mip.Model()"
   ]
  },
  {
   "cell_type": "code",
   "execution_count": null,
   "metadata": {
    "id": "3hX4g0-P5bxV"
   },
   "outputs": [],
   "source": [
    "# quantity of product i produced in month j\n",
    "x = \n",
    "# quantity of product i sold in month j\n",
    "v =\n",
    "# quantity of product i stored at the end of month j\n",
    "z = "
   ]
  },
  {
   "cell_type": "code",
   "execution_count": null,
   "metadata": {
    "id": "POXc4LrF6UNk"
   },
   "outputs": [],
   "source": [
    "# maximizing the revenue\n",
    "model.objective = "
   ]
  },
  {
   "cell_type": "code",
   "execution_count": null,
   "metadata": {
    "id": "VMXNWppu9_RT"
   },
   "outputs": [],
   "source": [
    "# Demand constraint\n",
    "    \n",
    "# Production constraint\n",
    "\n",
    "# Balance constrain\n",
    "\n",
    "# Init constraint\n",
    "\n",
    "# Capacity constraint\n"
   ]
  },
  {
   "cell_type": "code",
   "execution_count": null,
   "metadata": {
    "colab": {
     "base_uri": "https://localhost:8080/"
    },
    "id": "rLgt99kqVHUh",
    "outputId": "5abaa56b-440d-497a-bece-dd7cf312fe3f"
   },
   "outputs": [
    {
     "data": {
      "text/plain": [
       "<OptimizationStatus.OPTIMAL: 0>"
      ]
     },
     "execution_count": 14,
     "metadata": {},
     "output_type": "execute_result"
    }
   ],
   "source": [
    "# optimizing\n",
    "model.optimize()"
   ]
  },
  {
   "cell_type": "code",
   "execution_count": null,
   "metadata": {
    "colab": {
     "base_uri": "https://localhost:8080/"
    },
    "id": "Mg1VQxA9VI_8",
    "outputId": "5f654738-d40b-42d8-d897-f39d92233c0e"
   },
   "outputs": [
    {
     "data": {
      "text/plain": [
       "2339316.0"
      ]
     },
     "execution_count": 15,
     "metadata": {},
     "output_type": "execute_result"
    }
   ],
   "source": [
    "# optimal objective function value\n",
    "model.objective.x"
   ]
  },
  {
   "cell_type": "code",
   "execution_count": null,
   "metadata": {
    "colab": {
     "base_uri": "https://localhost:8080/"
    },
    "id": "T3LoIF8HVV4W",
    "outputId": "4e7a81b4-7daa-4683-b75e-beec2397870d",
    "scrolled": true
   },
   "outputs": [
    {
     "name": "stdout",
     "output_type": "stream",
     "text": [
      "x(0,1)\n",
      "2000.0\n",
      "x(0,2)\n",
      "0.0\n",
      "x(0,3)\n",
      "0.0\n",
      "x(0,4)\n",
      "0.0\n",
      "x(1,1)\n",
      "4500.0\n",
      "x(1,2)\n",
      "2986.0\n",
      "x(1,3)\n",
      "0.0\n",
      "x(1,4)\n",
      "0.0\n",
      "x(2,1)\n",
      "4400.0\n",
      "x(2,2)\n",
      "7350.0\n",
      "x(2,3)\n",
      "12650.0\n",
      "x(2,4)\n",
      "12100.0\n",
      "v(0,1)\n",
      "2000.0\n",
      "v(0,2)\n",
      "0.0\n",
      "v(0,3)\n",
      "0.0\n",
      "v(0,4)\n",
      "0.0\n",
      "v(1,1)\n",
      "4500.0\n",
      "v(1,2)\n",
      "2986.0\n",
      "v(1,3)\n",
      "0.0\n",
      "v(1,4)\n",
      "0.0\n",
      "v(2,1)\n",
      "4400.0\n",
      "v(2,2)\n",
      "6700.0\n",
      "v(2,3)\n",
      "12500.0\n",
      "v(2,4)\n",
      "12900.0\n",
      "z(0,0)\n",
      "0.0\n",
      "z(0,1)\n",
      "-0.0\n",
      "z(0,2)\n",
      "0.0\n",
      "z(0,3)\n",
      "-0.0\n",
      "z(0,4)\n",
      "0.0\n",
      "z(1,0)\n",
      "0.0\n",
      "z(1,1)\n",
      "0.0\n",
      "z(1,2)\n",
      "-0.0\n",
      "z(1,3)\n",
      "0.0\n",
      "z(1,4)\n",
      "0.0\n",
      "z(2,0)\n",
      "0.0\n",
      "z(2,1)\n",
      "0.0\n",
      "z(2,2)\n",
      "650.0\n",
      "z(2,3)\n",
      "800.0\n",
      "z(2,4)\n",
      "0.0\n"
     ]
    }
   ],
   "source": [
    "# print the optimal values of each variables\n",
    "print(\"x\")\n",
    "for i in I:\n",
    "    for j in J:\n",
    "        print(\"{:-7}\".format(x[i,j].x), end=\" \")\n",
    "    print()\n",
    "print(\"v\")\n",
    "for i in I:\n",
    "    for j in J:\n",
    "        print(f\"{v[i,j].x:-7}\", end=\" \")\n",
    "    print()\n",
    "print(\"z\")\n",
    "for i in I:\n",
    "    for j in J:\n",
    "        print(f\"{z[i,j].x:-7}\", end=\" \")\n",
    "    print()"
   ]
  },
  {
   "cell_type": "code",
   "execution_count": null,
   "metadata": {
    "id": "eQEwAjOFBHkQ"
   },
   "outputs": [],
   "source": [
    "# definition of the new model\n",
    "model1 = mip.Model()"
   ]
  },
  {
   "cell_type": "code",
   "execution_count": null,
   "metadata": {
    "id": "NS2AuweLBLD8"
   },
   "outputs": [],
   "source": [
    "# VARIABLES"
   ]
  },
  {
   "cell_type": "code",
   "execution_count": null,
   "metadata": {
    "id": "O4kevA-4Bi0J"
   },
   "outputs": [],
   "source": [
    "model1.objective = "
   ]
  },
  {
   "cell_type": "code",
   "execution_count": null,
   "metadata": {
    "id": "7nf5V9xnBXU8"
   },
   "outputs": [],
   "source": [
    "# Demand constraint\n",
    "\n",
    "# Production constraint\n",
    "\n",
    "\n",
    "# Balance constrain\n",
    "\n",
    "# Init constraint\n",
    "\n",
    "\n",
    "# Capacity constraint\n",
    "\n",
    "\n",
    "# Activation constraint\n",
    "\n",
    "\n",
    "# Lot size constraint\n"
   ]
  },
  {
   "cell_type": "code",
   "execution_count": null,
   "metadata": {
    "colab": {
     "base_uri": "https://localhost:8080/"
    },
    "id": "vvYpNG9QXsja",
    "outputId": "ed36dbb7-6caf-4c7f-9ec7-42be49fb7f6e"
   },
   "outputs": [
    {
     "data": {
      "text/plain": [
       "<OptimizationStatus.OPTIMAL: 0>"
      ]
     },
     "execution_count": 58,
     "metadata": {},
     "output_type": "execute_result"
    }
   ],
   "source": [
    "# optimizing\n",
    "model1.optimize()"
   ]
  },
  {
   "cell_type": "code",
   "execution_count": null,
   "metadata": {
    "colab": {
     "base_uri": "https://localhost:8080/"
    },
    "id": "Qhq6ACanYJM-",
    "outputId": "c82fc2f0-5c9f-481d-93ee-6f28c0064ae9"
   },
   "outputs": [
    {
     "data": {
      "text/plain": [
       "1585836.0"
      ]
     },
     "execution_count": 59,
     "metadata": {},
     "output_type": "execute_result"
    }
   ],
   "source": [
    "# optimal objective function value\n",
    "model1.objective.x"
   ]
  },
  {
   "cell_type": "code",
   "execution_count": null,
   "metadata": {
    "colab": {
     "base_uri": "https://localhost:8080/"
    },
    "id": "RXn9qLiRayub",
    "outputId": "8aef3671-41cb-462e-d360-42f19f2ceaa8",
    "scrolled": true
   },
   "outputs": [
    {
     "name": "stdout",
     "output_type": "stream",
     "text": [
      "6100.0\n",
      "0.0\n",
      "0.0\n",
      "0.0\n",
      "0.0\n",
      "2988.0\n",
      "0.0\n",
      "0.0\n",
      "4400.0\n",
      "7348.0\n",
      "12650.0\n",
      "12100.0\n",
      "5300.0\n",
      "800.0\n",
      "0.0\n",
      "0.0\n",
      "0.0\n",
      "2988.0\n",
      "0.0\n",
      "0.0\n",
      "4400.0\n",
      "6700.0\n",
      "12500.0\n",
      "12898.0\n",
      "0.0\n",
      "800.0\n",
      "0.0\n",
      "-0.0\n",
      "0.0\n",
      "0.0\n",
      "0.0\n",
      "-0.0\n",
      "0.0\n",
      "0.0\n",
      "0.0\n",
      "0.0\n",
      "648.0\n",
      "798.0\n",
      "0.0\n",
      "1.0\n",
      "0.0\n",
      "0.0\n",
      "0.0\n",
      "0.0\n",
      "1.0\n",
      "0.0\n",
      "0.0\n",
      "1.0\n",
      "1.0\n",
      "1.0\n",
      "1.0\n"
     ]
    }
   ],
   "source": [
    "# print the optimal values of each variables\n",
    "print(\"x\")\n",
    "for i in I:\n",
    "    for j in J:\n",
    "        print(f\"{x[i,j].x:-7}\", end=\" \")\n",
    "    print()\n",
    "print(\"v\")\n",
    "for i in I:\n",
    "    for j in J:\n",
    "        print(f\"{v[i,j].x:-7}\", end=\" \")\n",
    "    print()\n",
    "print(\"y\")\n",
    "for i in I:\n",
    "    for j in J:\n",
    "        print(f\"{y[i,j].x:-7.3}\", end=\" \")\n",
    "    print()\n",
    "print(\"z\")\n",
    "for i in I:\n",
    "    for j in J:\n",
    "        print(f\"{z[i,j].x:-7}\", end=\" \")\n",
    "    print()"
   ]
  }
 ],
 "metadata": {
  "colab": {
   "provenance": [],
   "collapsed_sections": []
  },
  "kernelspec": {
   "display_name": "Python 3",
   "language": "python",
   "name": "python3"
  },
  "language_info": {
   "codemirror_mode": {
    "name": "ipython",
    "version": 3
   },
   "file_extension": ".py",
   "mimetype": "text/x-python",
   "name": "python",
   "nbconvert_exporter": "python",
   "pygments_lexer": "ipython3",
   "version": "3.6.8"
  }
 },
 "nbformat": 4,
 "nbformat_minor": 0
}
