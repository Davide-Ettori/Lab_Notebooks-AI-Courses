{
 "cells": [
  {
   "cell_type": "markdown",
   "metadata": {
    "id": "xBdJKia90jWP"
   },
   "source": [
    "## Oil blending problem\n",
    "\n",
    "A refinery has to blend 4 types of oil to obtain 3 types of gasoline. The following table reports the available quantity of oil of each type (in barrels) and the respective unit cost (Euro per barrel)\n",
    "\n",
    "Oil type|Cost|Availability\n",
    "--------|----|------------\n",
    "1|9|5000\n",
    "2|7|2400\n",
    "3|12|4000\n",
    "4|6|1500\n",
    "\n",
    "\n",
    "Blending constraints are to be taken into account, since each type of gasoline must contain at least a specific, predefined, quantity of each type of oil, as indicated in the next table. The unit revenue of each type of gasoline (Euro per barrel) is also indicated\n",
    "\n",
    "Gasoline type|Requirements|Revenue\n",
    "-------------|------------|-------\n",
    "A|$\\geq$ 20% of type 2| 12\n",
    "A|$\\leq$ 30% of type 3|12\n",
    "B|$\\geq$ 40% of type 3|18\n",
    "C|$\\leq$ 50% of type 2|10\n"
   ]
  },
  {
   "cell_type": "code",
   "execution_count": 17,
   "outputs": [],
   "source": [
    "import mip"
   ],
   "metadata": {
    "collapsed": false,
    "ExecuteTime": {
     "end_time": "2023-12-02T09:31:11.166385Z",
     "start_time": "2023-12-02T09:31:11.157529Z"
    }
   }
  },
  {
   "cell_type": "code",
   "execution_count": 18,
   "metadata": {
    "id": "hFfpch0c0jWP",
    "ExecuteTime": {
     "end_time": "2023-12-02T09:31:11.174312Z",
     "start_time": "2023-12-02T09:31:11.165063Z"
    }
   },
   "outputs": [],
   "source": [
    "# Set of oil types\n",
    "I = [1, 2, 3, 4]\n",
    "\n",
    "# Set of gasoline types\n",
    "J = [\"A\", \"B\", \"C\"]\n",
    "\n",
    "# Unit cost for oil of type i\n",
    "c = [9, 7, 12, 6]\n",
    "\n",
    "# Availability of oil type i\n",
    "a = [5000, 2400, 4000, 1500]\n",
    "\n",
    "# Price of gasoline of type j\n",
    "r = [12, 18, 10]\n",
    "\n",
    "# Maximum quantity (percentage) of oil\n",
    "q_max = {}\n",
    "for i in I:\n",
    "  for j in J:\n",
    "    q_max[(str(i),j)] = 1\n",
    "\n",
    "q_max[('2','A')] = 0.3\n",
    "q_max[('1','C')] = 0.5\n",
    "\n",
    "# Minimum quantity (percentage) of oil\n",
    "q_min = {}\n",
    "for i in I:\n",
    "  for j in J:\n",
    "    q_min[(str(i),j)] = 0\n",
    "\n",
    "q_min[('1','A')] = 0.2\n",
    "q_min[('2','B')] = 0.4"
   ]
  },
  {
   "cell_type": "code",
   "execution_count": 19,
   "metadata": {
    "id": "9cz_TMPS0jWQ",
    "ExecuteTime": {
     "end_time": "2023-12-02T09:31:11.187813Z",
     "start_time": "2023-12-02T09:31:11.171516Z"
    }
   },
   "outputs": [],
   "source": [
    "# Define a model\n",
    "model = mip.Model()\n",
    "\n",
    "# Define variables\n",
    "x = [[model.add_var(name=f\"X{i}{j}\") for j in J] for i in I]\n",
    "y = [model.add_var(name=f\"N{j}\") for j in J]\n",
    "\n",
    "# default --> variabili reali, lower bound = 0 e upper bound = +INF --> edita a seconda di ciò che ti serve"
   ]
  },
  {
   "cell_type": "code",
   "execution_count": 20,
   "metadata": {
    "id": "cexvZ0I20jWQ",
    "ExecuteTime": {
     "end_time": "2023-12-02T09:31:11.188118Z",
     "start_time": "2023-12-02T09:31:11.181057Z"
    }
   },
   "outputs": [],
   "source": [
    "# Define the objective function\n",
    "model.objective = mip.maximize(\n",
    "  mip.xsum([r[j] * y[j] for j, gas in enumerate(J)])\n",
    "  -\n",
    "  mip.xsum([c[i] * mip.xsum([x[i][j] for j in range(len(J))]) for i in range(len(I))])\n",
    ")"
   ]
  },
  {
   "cell_type": "code",
   "execution_count": 21,
   "metadata": {
    "id": "pSEN26D-0jWQ",
    "ExecuteTime": {
     "end_time": "2023-12-02T09:31:11.197001Z",
     "start_time": "2023-12-02T09:31:11.188384Z"
    }
   },
   "outputs": [],
   "source": [
    "# CONSTRAINTS\n",
    "# Availability constraint\n",
    "for i in range(len(I)):\n",
    "  model.add_constr(mip.xsum([x[i][j] for j in range(len(J))]) <= a[i])\n",
    "\n",
    "# Conservation constraint\n",
    "for j in range(len(J)):\n",
    "  model.add_constr(mip.xsum([x[i][j] for i in range(len(I))]) == y[j])\n",
    "\n",
    "# Maximum quantity\n",
    "for i, oil in enumerate(I):\n",
    "  for j, gas in enumerate(J):\n",
    "    model.add_constr(x[i][j] <= q_max[(str(oil), gas)] * y[j])\n",
    "\n",
    "# Minimum quantity\n",
    "for i, oil in enumerate(I):\n",
    "  for j, gas in enumerate(J):\n",
    "    model.add_constr(x[i][j] >= q_min[(str(oil), gas)] * y[j])"
   ]
  },
  {
   "cell_type": "code",
   "execution_count": 22,
   "metadata": {
    "id": "tSAaEJpH0jWQ",
    "ExecuteTime": {
     "end_time": "2023-12-02T09:31:11.202870Z",
     "start_time": "2023-12-02T09:31:11.195220Z"
    }
   },
   "outputs": [
    {
     "name": "stdout",
     "output_type": "stream",
     "text": [
      "Clp0024I Matrix will be packed to eliminate 10 small elements\n",
      "Coin0506I Presolve 21 (-10) rows, 15 (0) columns and 55 (-10) elements\n",
      "Clp0000I Optimal - objective value 72000\n",
      "Coin0511I After Postsolve, objective 72000, infeasibilities - dual 0 (0), primal 0 (0)\n",
      "Clp0032I Optimal objective 72000 - 10 iterations time 0.002, Presolve 0.00\n",
      "Starting solution of the Linear programming problem using Dual Simplex\n",
      "\n"
     ]
    },
    {
     "data": {
      "text/plain": "<OptimizationStatus.OPTIMAL: 0>"
     },
     "execution_count": 22,
     "metadata": {},
     "output_type": "execute_result"
    }
   ],
   "source": [
    "# Optimizing command\n",
    "model.optimize()"
   ]
  },
  {
   "cell_type": "code",
   "execution_count": 23,
   "metadata": {
    "id": "hXq03eCl0jWQ",
    "ExecuteTime": {
     "end_time": "2023-12-02T09:31:11.246750Z",
     "start_time": "2023-12-02T09:31:11.203050Z"
    }
   },
   "outputs": [
    {
     "data": {
      "text/plain": "72000.0"
     },
     "execution_count": 23,
     "metadata": {},
     "output_type": "execute_result"
    }
   ],
   "source": [
    "# Optimal objective function value\n",
    "round(model.objective.x, 2)"
   ]
  },
  {
   "cell_type": "code",
   "execution_count": 24,
   "metadata": {
    "id": "DTi0oaEi0jWQ",
    "ExecuteTime": {
     "end_time": "2023-12-02T09:31:11.257838Z",
     "start_time": "2023-12-02T09:31:11.209651Z"
    }
   },
   "outputs": [
    {
     "name": "stdout",
     "output_type": "stream",
     "text": [
      "X1A \t=\t 5000.0\n",
      "X1B \t=\t 0.0\n",
      "X1C \t=\t 0.0\n",
      "X2A \t=\t 0.0\n",
      "X2B \t=\t 2400.0\n",
      "X2C \t=\t 0.0\n",
      "X3A \t=\t 1900.0\n",
      "X3B \t=\t 2100.0\n",
      "X3C \t=\t 0.0\n",
      "X4A \t=\t 0.0\n",
      "X4B \t=\t 1500.0\n",
      "X4C \t=\t 0.0\n",
      "NA \t=\t 6900.0\n",
      "NB \t=\t 6000.0\n",
      "NC \t=\t 0.0\n"
     ]
    }
   ],
   "source": [
    "for var in model.vars:\n",
    "  print(var.name, \"\\t=\\t\", round(var.x, 2))"
   ]
  }
 ],
 "metadata": {
  "colab": {
   "name": "Diet.ipynb",
   "provenance": []
  },
  "kernelspec": {
   "display_name": "Python 3",
   "language": "python",
   "name": "python3"
  },
  "language_info": {
   "codemirror_mode": {
    "name": "ipython",
    "version": 3
   },
   "file_extension": ".py",
   "mimetype": "text/x-python",
   "name": "python",
   "nbconvert_exporter": "python",
   "pygments_lexer": "ipython3",
   "version": "3.6.8"
  }
 },
 "nbformat": 4,
 "nbformat_minor": 0
}
