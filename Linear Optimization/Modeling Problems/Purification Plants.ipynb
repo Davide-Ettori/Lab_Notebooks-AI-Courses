{
 "cells": [
  {
   "cell_type": "markdown",
   "metadata": {
    "id": "JPIbi_-3YhkP"
   },
   "source": [
    "## Purification plant location\n",
    "\n",
    "We are to choose the building site for a set of water purification plants, among 12 areas $A_1$,...,$A_{12}$, which are close to 5 cities $C_1$,...,$C_5$. Each area can serve simultaneously all the\n",
    "cities indicated with the symbol \"*\". The second last line reports the purification capacity, in tons/year, of each facility (which depends on the site where the facility is built). The last line\n",
    "reports the building cost, in MEuro\n",
    "\n",
    "Cities|$A_1$|$A_2$|$A_3$|$A_4$|$A_5$|$A_6$|$A_7$|$A_8$|$A_9$|$A_{10}$|$A_{11}$|$A_{12}$|\n",
    "------|-----|-----|-----|-----|-----|-----|-----|-----|-----|--------|--------|-------|\n",
    "$C_1$| *|-|*|-|*|-|*|*|-|-|*|-\n",
    "$C_2$| -|*|*|-|-|*|-|-|*|-|*|*\n",
    "$C_3$| *|*|-|-|-|*|*|-|-|*|-|-\n",
    "$C_4$| -|*|-|*|-|-|*|*|-|*|-|*\n",
    "$C_5$| -|-|-|*|*|*|-|-|*|*|*|*\n",
    "------|-----|-----|-----|-----|-----|-----|-----|-----|-----|--------|--------|-------|\n",
    "Capacity|15|39|26|31|34|24|51|19|18|36|41|34\n",
    "Cost|7|9|12|3|4|4|5|11|8|6|7|16\n",
    "\n",
    "For each city, at least one close-by purification plant must be built.\n",
    "\n",
    "\n",
    "1. Give an integer linear programming formulation for the problem of minimizing the total building cost.\n",
    "2. Give an integer linear programming formulation for the variant where each city can have only one purification plant nearby.\n",
    "3. Give an integer linear programming formulation for the variant where the total quantity of purified water must be nonsmaller than  $120 \\cdot 10^9$ kg/year"
   ]
  },
  {
   "cell_type": "code",
   "execution_count": 1,
   "metadata": {
    "id": "dNvl2ccUObuz",
    "ExecuteTime": {
     "end_time": "2023-12-09T15:12:44.396657Z",
     "start_time": "2023-12-09T15:12:39.215339Z"
    }
   },
   "outputs": [],
   "source": [
    "import mip\n",
    "import numpy as np"
   ]
  },
  {
   "cell_type": "code",
   "execution_count": 23,
   "metadata": {
    "id": "AyGdauaoOhBR",
    "ExecuteTime": {
     "end_time": "2023-12-09T15:14:51.219129Z",
     "start_time": "2023-12-09T15:14:51.212320Z"
    }
   },
   "outputs": [],
   "source": [
    "m = 5 # Number of cities\n",
    "n = 12 # Number of areas\n",
    "I = range(n)\n",
    "J = range(m)\n",
    "\n",
    "cost = [7, 9, 12, 3, 4, 4, 5, 11, 8, 6, 7, 16] # Cost for each area\n",
    "cap = [15, 39, 26, 31, 34, 24, 51, 19, 18, 36, 41, 34] # Capacity for each area\n",
    "\n",
    "# Area that can simultaneously serve cities\n",
    "A = np.array([\n",
    "     [1, 0, 1, 0, 1, 0, 1, 1, 0, 0, 0, 0],\n",
    "     [0, 1, 1, 0, 0, 1, 0, 0, 1, 0, 1, 1],\n",
    "     [1, 1, 0, 0, 0, 1, 1, 0, 0, 1, 0, 0],\n",
    "     [0, 1, 0, 1, 0, 0, 1, 1, 0, 1, 0, 1],\n",
    "     [0, 0, 0, 1, 1, 1, 0, 0, 1, 1, 1, 1]])\n",
    "\n",
    "# Total quantity of purified water\n",
    "Q = 120"
   ]
  },
  {
   "cell_type": "code",
   "execution_count": 24,
   "metadata": {
    "id": "-CChQLDnQY0h",
    "ExecuteTime": {
     "end_time": "2023-12-09T15:14:51.431490Z",
     "start_time": "2023-12-09T15:14:51.421276Z"
    }
   },
   "outputs": [],
   "source": [
    "model = mip.Model()"
   ]
  },
  {
   "cell_type": "code",
   "execution_count": 25,
   "metadata": {
    "id": "pe25r-T3QcXc",
    "ExecuteTime": {
     "end_time": "2023-12-09T15:14:51.704292Z",
     "start_time": "2023-12-09T15:14:51.692355Z"
    }
   },
   "outputs": [],
   "source": [
    "x = [model.add_var(name=f\"X_{i}\", lb=0, var_type=mip.BINARY) for i in range(n)]"
   ]
  },
  {
   "cell_type": "code",
   "execution_count": 26,
   "metadata": {
    "id": "3D3IWj3-luZQ",
    "ExecuteTime": {
     "end_time": "2023-12-09T15:14:51.914001Z",
     "start_time": "2023-12-09T15:14:51.904461Z"
    }
   },
   "outputs": [],
   "source": [
    "model.objective = mip.minimize(mip.xsum([cost[i] * x[i] for i in I]))"
   ]
  },
  {
   "cell_type": "code",
   "execution_count": 27,
   "metadata": {
    "id": "R2q0kqIYqFSv",
    "ExecuteTime": {
     "end_time": "2023-12-09T15:14:52.178767Z",
     "start_time": "2023-12-09T15:14:52.170396Z"
    }
   },
   "outputs": [
    {
     "data": {
      "text/plain": "<mip.entities.Constr at 0x112cb0540>"
     },
     "execution_count": 27,
     "metadata": {},
     "output_type": "execute_result"
    }
   ],
   "source": [
    "for j in J:\n",
    "    model.add_constr(mip.xsum([A[j][i] * x[i] for i in I]) >= 1)\n",
    "    #model.add_constr(mip.xsum([A[j][i] * x[i] for i in I]) == 1)\n",
    "\n",
    "model.add_constr(mip.xsum([cap[i] * x[i] for i in I]) >= Q)"
   ]
  },
  {
   "cell_type": "code",
   "execution_count": 28,
   "metadata": {
    "id": "2FE-_iOErDWv",
    "ExecuteTime": {
     "end_time": "2023-12-09T15:14:52.455496Z",
     "start_time": "2023-12-09T15:14:52.434549Z"
    }
   },
   "outputs": [
    {
     "name": "stdout",
     "output_type": "stream",
     "text": [
      "Cgl0004I processed model has 5 rows, 12 columns (12 integer (12 of which binary)) and 29 elements\n",
      "Coin3009W Conflict graph built in 0.000 seconds, density: 4.000%\n",
      "Cgl0015I Clique Strengthening extended 0 cliques, 0 were dominated\n",
      "Cbc0038I Initial state - 0 integers unsatisfied sum - 0\n",
      "Cbc0038I Solution found of 9\n",
      "Cbc0038I Before mini branch and bound, 12 integers at bound fixed and 0 continuous\n",
      "Cbc0038I Mini branch and bound did not improve solution (0.00 seconds)\n",
      "Cbc0038I After 0.00 seconds - Feasibility pump exiting with objective of 9 - took 0.00 seconds\n",
      "Cbc0012I Integer solution of 9 found by feasibility pump after 0 iterations and 0 nodes (0.00 seconds)\n",
      "Cbc0001I Search completed - best objective 9, took 0 iterations and 0 nodes (0.00 seconds)\n",
      "Cbc0035I Maximum depth 0, 0 variables fixed on reduced cost\n",
      "Total time (CPU seconds):       0.00   (Wallclock seconds):       0.00\n",
      "\n",
      "Starting solution of the Linear programming relaxation problem using Primal Simplex\n",
      "\n",
      "Clp0024I Matrix will be packed to eliminate 31 small elements\n",
      "Coin0506I Presolve 6 (0) rows, 12 (0) columns and 41 (0) elements\n",
      "Clp1000I sum of infeasibilities 9.72823e-06 - average 1.62137e-06, 5 fixed columns\n",
      "Coin0506I Presolve 6 (0) rows, 7 (-5) columns and 25 (-16) elements\n",
      "Clp0006I 0  Obj 13.647212 Dual inf 3800 (7)\n",
      "Clp0029I End of values pass after 7 iterations\n",
      "Clp0000I Optimal - objective value 13.647059\n",
      "Clp0000I Optimal - objective value 13.647059\n",
      "Coin0511I After Postsolve, objective 13.647059, infeasibilities - dual 0 (0), primal 0 (0)\n",
      "Clp0006I 0  Obj 13.647059\n",
      "Clp0000I Optimal - objective value 13.647059\n",
      "Clp0000I Optimal - objective value 13.647059\n",
      "Clp0000I Optimal - objective value 13.647059\n",
      "Clp0032I Optimal objective 13.64705882 - 0 iterations time 0.002, Idiot 0.00\n",
      "\n",
      "Starting MIP optimization\n"
     ]
    },
    {
     "data": {
      "text/plain": "True"
     },
     "execution_count": 28,
     "metadata": {},
     "output_type": "execute_result"
    }
   ],
   "source": [
    "status = model.optimize()\n",
    "status == mip.OptimizationStatus.OPTIMAL # True sse il problema è feasible e una soluzione è stata trovata --> nel punto 2 il problema diventa infeasible"
   ]
  },
  {
   "cell_type": "code",
   "execution_count": 29,
   "metadata": {
    "id": "kRvHnvvUrR3i",
    "ExecuteTime": {
     "end_time": "2023-12-09T15:14:53.115779Z",
     "start_time": "2023-12-09T15:14:53.105119Z"
    }
   },
   "outputs": [
    {
     "data": {
      "text/plain": "15.0"
     },
     "execution_count": 29,
     "metadata": {},
     "output_type": "execute_result"
    }
   ],
   "source": [
    "model.objective.x"
   ]
  },
  {
   "cell_type": "code",
   "execution_count": 30,
   "metadata": {
    "id": "qHqtAqsEp_wf",
    "ExecuteTime": {
     "end_time": "2023-12-09T15:14:53.650145Z",
     "start_time": "2023-12-09T15:14:53.631521Z"
    }
   },
   "outputs": [
    {
     "name": "stdout",
     "output_type": "stream",
     "text": [
      "X_0 0.0\n",
      "X_1 0.0\n",
      "X_2 0.0\n",
      "X_3 1.0\n",
      "X_4 0.0\n",
      "X_5 0.0\n",
      "X_6 1.0\n",
      "X_7 0.0\n",
      "X_8 0.0\n",
      "X_9 0.0\n",
      "X_10 1.0\n",
      "X_11 0.0\n"
     ]
    }
   ],
   "source": [
    "for var in model.vars:\n",
    "    print(var.name, var.x)"
   ]
  }
 ],
 "metadata": {
  "colab": {
   "provenance": [],
   "collapsed_sections": []
  },
  "kernelspec": {
   "display_name": "Python 3",
   "language": "python",
   "name": "python3"
  },
  "language_info": {
   "codemirror_mode": {
    "name": "ipython",
    "version": 3
   },
   "file_extension": ".py",
   "mimetype": "text/x-python",
   "name": "python",
   "nbconvert_exporter": "python",
   "pygments_lexer": "ipython3",
   "version": "3.6.8"
  }
 },
 "nbformat": 4,
 "nbformat_minor": 0
}
