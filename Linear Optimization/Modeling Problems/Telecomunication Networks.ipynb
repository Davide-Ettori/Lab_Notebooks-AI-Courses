{
 "cells": [
  {
   "cell_type": "code",
   "execution_count": 1,
   "metadata": {
    "collapsed": true,
    "ExecuteTime": {
     "end_time": "2023-10-21T18:41:39.046746Z",
     "start_time": "2023-10-21T18:41:38.681385Z"
    }
   },
   "outputs": [],
   "source": [
    "import mip"
   ]
  },
  {
   "cell_type": "code",
   "execution_count": 6,
   "outputs": [],
   "source": [
    "I = [i for i in range(10)]\n",
    "J = [j for j in range(2)]\n",
    "\n",
    "K = [1, 2]\n",
    "\n",
    "Cost = [\n",
    "    [200, 200, 250, 150, 200, 200, 700, 150, 150, 900],\n",
    "    []\n",
    "]\n",
    "\n",
    "for c in Cost[0]:\n",
    "    Cost[1].append(c * 1.3)\n",
    "\n",
    "Cap = [0.3, 0.2, 0.4, 0.1, 0.2, 0.2, 0.5, 0.1, 0.1, 0.6]\n",
    "\n",
    "model = mip.Model()\n",
    "x = [[model.add_var(name=str(i + 1) + \"-\" + str(j + 1), var_type=mip.BINARY) for j in J] for i in I]"
   ],
   "metadata": {
    "collapsed": false,
    "ExecuteTime": {
     "end_time": "2023-10-21T18:56:31.822506Z",
     "start_time": "2023-10-21T18:56:31.818214Z"
    }
   }
  },
  {
   "cell_type": "code",
   "execution_count": 7,
   "outputs": [],
   "source": [
    "model.objective = mip.minimize(mip.xsum(\n",
    "    [mip.xsum([x[i][j] * Cost[j][i] for j in J]) for i in I]\n",
    "))"
   ],
   "metadata": {
    "collapsed": false,
    "ExecuteTime": {
     "end_time": "2023-10-21T18:56:32.722319Z",
     "start_time": "2023-10-21T18:56:32.716353Z"
    }
   }
  },
  {
   "cell_type": "code",
   "execution_count": 8,
   "outputs": [],
   "source": [
    "for j in J:\n",
    "    model.add_constr(mip.xsum([Cap[i] * x[i][j] for i in I]) <= K[j])\n",
    "\n",
    "for i in I:\n",
    "    model.add_constr(mip.xsum([x[i][j] for j in J]) == 1)"
   ],
   "metadata": {
    "collapsed": false,
    "ExecuteTime": {
     "end_time": "2023-10-21T18:58:00.483871Z",
     "start_time": "2023-10-21T18:58:00.477458Z"
    }
   }
  },
  {
   "cell_type": "code",
   "execution_count": 9,
   "outputs": [
    {
     "name": "stdout",
     "output_type": "stream",
     "text": [
      "Welcome to the CBC MILP Solver \n",
      "Version: Trunk\n",
      "Build Date: Oct 28 2021 \n",
      "\n",
      "Starting solution of the Linear programming relaxation problem using Primal Simplex\n",
      "\n",
      "Coin0506I Presolve 2 (-10) rows, 6 (-14) columns and 12 (-28) elements\n",
      "Clp1000I sum of infeasibilities 2.15383e-14 - average 1.07692e-14, 3 fixed columns\n",
      "Coin0506I Presolve 2 (0) rows, 3 (-3) columns and 6 (-6) elements\n",
      "Clp0029I End of values pass after 3 iterations\n",
      "Clp0000I Optimal - objective value 3583\n",
      "Clp0000I Optimal - objective value 3583\n",
      "Coin0511I After Postsolve, objective 3583, infeasibilities - dual 0 (0), primal 0 (0)\n",
      "Clp0000I Optimal - objective value 3583\n",
      "Clp0000I Optimal - objective value 3583\n",
      "Clp0000I Optimal - objective value 3583\n",
      "Coin0511I After Postsolve, objective 3583, infeasibilities - dual 0 (0), primal 0 (0)\n",
      "Clp0032I Optimal objective 3583 - 0 iterations time 0.002, Presolve 0.00, Idiot 0.00\n",
      "\n",
      "Starting MIP optimization\n"
     ]
    },
    {
     "data": {
      "text/plain": "<OptimizationStatus.OPTIMAL: 0>"
     },
     "execution_count": 9,
     "metadata": {},
     "output_type": "execute_result"
    }
   ],
   "source": [
    "model.optimize()"
   ],
   "metadata": {
    "collapsed": false,
    "ExecuteTime": {
     "end_time": "2023-10-21T18:58:10.001964Z",
     "start_time": "2023-10-21T18:58:09.969410Z"
    }
   }
  },
  {
   "cell_type": "code",
   "execution_count": 12,
   "outputs": [
    {
     "data": {
      "text/plain": "3610"
     },
     "execution_count": 12,
     "metadata": {},
     "output_type": "execute_result"
    }
   ],
   "source": [
    "int(model.objective.x)"
   ],
   "metadata": {
    "collapsed": false,
    "ExecuteTime": {
     "end_time": "2023-10-21T18:59:16.745494Z",
     "start_time": "2023-10-21T18:59:16.740979Z"
    }
   }
  },
  {
   "cell_type": "code",
   "execution_count": 14,
   "outputs": [
    {
     "name": "stdout",
     "output_type": "stream",
     "text": [
      "1-1 \t=\t 0\n",
      "1-2 \t=\t 1\n",
      "2-1 \t=\t 0\n",
      "2-2 \t=\t 1\n",
      "3-1 \t=\t 0\n",
      "3-2 \t=\t 1\n",
      "4-1 \t=\t 1\n",
      "4-2 \t=\t 0\n",
      "5-1 \t=\t 0\n",
      "5-2 \t=\t 1\n",
      "6-1 \t=\t 1\n",
      "6-2 \t=\t 0\n",
      "7-1 \t=\t 0\n",
      "7-2 \t=\t 1\n",
      "8-1 \t=\t 1\n",
      "8-2 \t=\t 0\n",
      "9-1 \t=\t 0\n",
      "9-2 \t=\t 1\n",
      "10-1 \t=\t 1\n",
      "10-2 \t=\t 0\n"
     ]
    }
   ],
   "source": [
    "for var in model.vars:\n",
    "  print(var.name, \"\\t=\\t\", var.x)"
   ],
   "metadata": {
    "collapsed": false,
    "ExecuteTime": {
     "end_time": "2023-10-21T18:59:25.484741Z",
     "start_time": "2023-10-21T18:59:25.478144Z"
    }
   }
  },
  {
   "cell_type": "code",
   "execution_count": null,
   "outputs": [],
   "source": [
    "# ecco come risolvere il problema 1.3 di esercitazione con la libreria MIP di python --> integer linear programming"
   ],
   "metadata": {
    "collapsed": false
   }
  }
 ],
 "metadata": {
  "kernelspec": {
   "display_name": "Python 3",
   "language": "python",
   "name": "python3"
  },
  "language_info": {
   "codemirror_mode": {
    "name": "ipython",
    "version": 2
   },
   "file_extension": ".py",
   "mimetype": "text/x-python",
   "name": "python",
   "nbconvert_exporter": "python",
   "pygments_lexer": "ipython2",
   "version": "2.7.6"
  }
 },
 "nbformat": 4,
 "nbformat_minor": 0
}
