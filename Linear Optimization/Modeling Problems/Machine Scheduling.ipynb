{
 "cells": [
  {
   "cell_type": "code",
   "execution_count": 83,
   "metadata": {
    "collapsed": true,
    "ExecuteTime": {
     "end_time": "2023-12-08T08:58:03.154800Z",
     "start_time": "2023-12-08T08:58:03.148345Z"
    }
   },
   "outputs": [],
   "source": [
    "import mip"
   ]
  },
  {
   "cell_type": "code",
   "execution_count": 84,
   "outputs": [],
   "source": [
    "jobs = range(4)\n",
    "p = [6, 4, 5, 8] # assume all positive\n",
    "d = [8, 4, 12, 16] # assume all positive"
   ],
   "metadata": {
    "collapsed": false,
    "ExecuteTime": {
     "end_time": "2023-12-08T08:58:03.156121Z",
     "start_time": "2023-12-08T08:58:03.151469Z"
    }
   }
  },
  {
   "cell_type": "code",
   "execution_count": 85,
   "outputs": [],
   "source": [
    "model = mip.Model()"
   ],
   "metadata": {
    "collapsed": false,
    "ExecuteTime": {
     "end_time": "2023-12-08T08:58:03.225955Z",
     "start_time": "2023-12-08T08:58:03.158546Z"
    }
   }
  },
  {
   "cell_type": "code",
   "execution_count": 86,
   "outputs": [],
   "source": [
    "x = [[model.add_var(name=f\"X{i}{j}\", var_type=mip.BINARY) for i in jobs] for j in jobs] # 1 iff job i after job j\n",
    "t = [model.add_var(name=f\"T{i}\", lb=0, var_type=mip.CONTINUOUS) for i in jobs] # time at which job i is completed\n",
    "k = [model.add_var(name=f\"K{i}\", lb=0, var_type=mip.CONTINUOUS) for i in jobs] # max(t, 0)\n",
    "# t and k must be integer, no need to enforce because p and d are all integer\n",
    "\n",
    "M = sum(p) + sum(d)"
   ],
   "metadata": {
    "collapsed": false,
    "ExecuteTime": {
     "end_time": "2023-12-08T08:58:03.226667Z",
     "start_time": "2023-12-08T08:58:03.190006Z"
    }
   }
  },
  {
   "cell_type": "code",
   "execution_count": 87,
   "outputs": [],
   "source": [
    "model.objective = mip.minimize(mip.xsum([k[i] for i in jobs]))"
   ],
   "metadata": {
    "collapsed": false,
    "ExecuteTime": {
     "end_time": "2023-12-08T08:58:03.226898Z",
     "start_time": "2023-12-08T08:58:03.218886Z"
    }
   }
  },
  {
   "cell_type": "code",
   "execution_count": 88,
   "outputs": [],
   "source": [
    "for i in jobs:\n",
    "    model.add_constr(t[i] >= p[i])\n",
    "\n",
    "for i in jobs:\n",
    "    for j in jobs:\n",
    "        if i == j: # non ti interessa il caso in cui hai lo stesso job --> la matrice è già antitrasposta, non devi forzarla\n",
    "            continue\n",
    "        model.add_constr(t[i] >= t[j] + p[i] - M * (1 - x[i][j]))\n",
    "        model.add_constr(t[j] >= t[i] + p[j] - M * x[i][j])\n",
    "\n",
    "for i in jobs:\n",
    "    model.add_constr(k[i] >= t[i] - d[i])"
   ],
   "metadata": {
    "collapsed": false,
    "ExecuteTime": {
     "end_time": "2023-12-08T08:58:03.238564Z",
     "start_time": "2023-12-08T08:58:03.225396Z"
    }
   }
  },
  {
   "cell_type": "code",
   "execution_count": 89,
   "outputs": [
    {
     "name": "stdout",
     "output_type": "stream",
     "text": [
      "Cgl0004I processed model has 16 rows, 20 columns (12 integer (12 of which binary)) and 44 elements\n",
      "Coin3009W Conflict graph built in 0.000 seconds, density: 1.463%\n",
      "Cgl0015I Clique Strengthening extended 0 cliques, 0 were dominated\n",
      "Cbc0038I Initial state - 12 integers unsatisfied sum - 1.09524\n",
      "Cbc0038I Pass   1: suminf.    1.09524 (8) obj. 11 iterations 6\n",
      "Cbc0038I Pass   2: suminf.    0.36508 (2) obj. 29 iterations 15\n",
      "Cbc0038I Solution found of 29\n",
      "Cbc0038I Relaxing continuous gives 29\n",
      "Cbc0038I Before mini branch and bound, 0 integers at bound fixed and 2 continuous\n",
      "Cbc0038I Full problem 16 rows 20 columns, reduced to 9 rows 12 columns\n",
      "Cbc0038I Mini branch and bound improved solution from 29 to 28 (0.01 seconds)\n",
      "Cbc0038I Round again with cutoff of 24.3001\n",
      "Cbc0038I Pass   3: suminf.    1.09524 (8) obj. 11 iterations 0\n",
      "Cbc0038I Pass   4: suminf.    0.36508 (3) obj. 24.3001 iterations 14\n",
      "Cbc0038I Pass   5: suminf.    0.19048 (1) obj. 21 iterations 8\n",
      "Cbc0038I Solution found of 21\n",
      "Cbc0038I Relaxing continuous gives 21\n",
      "Cbc0038I Before mini branch and bound, 0 integers at bound fixed and 1 continuous\n",
      "Cbc0038I Full problem 16 rows 20 columns, reduced to 15 rows 19 columns\n",
      "Cbc0038I Mini branch and bound improved solution from 21 to 20 (0.02 seconds)\n",
      "Cbc0038I Round again with cutoff of 15.2001\n",
      "Cbc0038I Pass   6: suminf.    1.09524 (8) obj. 11 iterations 0\n",
      "Cbc0038I Pass   7: suminf.    0.36508 (4) obj. 15.2001 iterations 15\n",
      "Cbc0038I Pass   8: suminf.    0.36508 (3) obj. 15.2001 iterations 10\n",
      "Cbc0038I Pass   9: suminf.    0.17460 (2) obj. 15.2001 iterations 5\n",
      "Cbc0038I Pass  10: suminf.    0.17460 (2) obj. 15.2001 iterations 3\n",
      "Cbc0038I Pass  11: suminf.    0.57143 (4) obj. 10 iterations 9\n",
      "Cbc0038I Pass  12: suminf.    0.20635 (2) obj. 15.2001 iterations 10\n",
      "Cbc0038I Pass  13: suminf.    0.20635 (2) obj. 15.2001 iterations 7\n",
      "Cbc0038I Pass  14: suminf.    0.63492 (4) obj. 15.2001 iterations 7\n",
      "Cbc0038I Pass  15: suminf.    0.14286 (2) obj. 15.2001 iterations 9\n",
      "Cbc0038I Pass  16: suminf.    0.14286 (2) obj. 15.2001 iterations 6\n",
      "Cbc0038I Pass  17: suminf.    0.73016 (6) obj. 14 iterations 11\n",
      "Cbc0038I Pass  18: suminf.    0.25079 (4) obj. 15.2001 iterations 13\n",
      "Cbc0038I Pass  19: suminf.    0.30794 (3) obj. 15.2001 iterations 10\n",
      "Cbc0038I Pass  20: suminf.    0.01270 (2) obj. 15.2001 iterations 12\n",
      "Cbc0038I Pass  21: suminf.    0.07619 (2) obj. 15.2001 iterations 10\n",
      "Cbc0038I Pass  22: suminf.    0.14391 (4) obj. 15.2001 iterations 9\n",
      "Cbc0038I Pass  23: suminf.    0.25714 (4) obj. 15.2001 iterations 4\n",
      "Cbc0038I Pass  24: suminf.    0.17460 (2) obj. 15.2001 iterations 11\n",
      "Cbc0038I Pass  25: suminf.    0.17460 (2) obj. 15.2001 iterations 3\n",
      "Cbc0038I Pass  26: suminf.    0.36508 (4) obj. 15.2001 iterations 7\n",
      "Cbc0038I Pass  27: suminf.    0.36508 (3) obj. 15.2001 iterations 10\n",
      "Cbc0038I Pass  28: suminf.    0.66667 (4) obj. 8 iterations 11\n",
      "Cbc0038I Pass  29: suminf.    0.22222 (1) obj. 14 iterations 7\n",
      "Cbc0038I Solution found of 14\n",
      "Cbc0038I Relaxing continuous gives 14\n",
      "Cbc0038I Before mini branch and bound, 0 integers at bound fixed and 0 continuous\n",
      "Cbc0038I Full problem 16 rows 20 columns, reduced to 16 rows 20 columns\n",
      "Cbc0038I Mini branch and bound improved solution from 14 to 12 (0.03 seconds)\n",
      "Cbc0038I Round again with cutoff of 7.70007\n",
      "Cbc0038I Pass  30: suminf.    1.09524 (10) obj. 7.70007 iterations 2\n",
      "Cbc0038I Pass  31: suminf.    0.79365 (6) obj. 7.70007 iterations 16\n",
      "Cbc0038I Pass  32: suminf.    0.42857 (4) obj. 7.70007 iterations 10\n",
      "Cbc0038I Pass  33: suminf.    0.42857 (3) obj. 7.70007 iterations 7\n",
      "Cbc0038I Pass  34: suminf.    0.20635 (2) obj. 7.70007 iterations 6\n",
      "Cbc0038I Pass  35: suminf.    0.20635 (2) obj. 7.70007 iterations 4\n",
      "Cbc0038I Pass  36: suminf.    0.93651 (7) obj. 7.70007 iterations 12\n",
      "Cbc0038I Pass  37: suminf.    0.39683 (4) obj. 7.70007 iterations 13\n",
      "Cbc0038I Pass  38: suminf.    0.39683 (4) obj. 7.70007 iterations 7\n",
      "Cbc0038I Pass  39: suminf.    0.39683 (4) obj. 7.70007 iterations 0\n",
      "Cbc0038I Pass  40: suminf.    0.61905 (5) obj. 7.70007 iterations 2\n",
      "Cbc0038I Pass  41: suminf.    0.66667 (6) obj. 7.70007 iterations 8\n",
      "Cbc0038I Pass  42: suminf.    0.60317 (4) obj. 7.70007 iterations 10\n",
      "Cbc0038I Pass  43: suminf.    0.10476 (2) obj. 7.70007 iterations 13\n",
      "Cbc0038I Pass  44: suminf.    0.16825 (2) obj. 7.70007 iterations 9\n",
      "Cbc0038I Pass  45: suminf.    0.44921 (5) obj. 7.70007 iterations 2\n",
      "Cbc0038I Pass  46: suminf.    0.04550 (2) obj. 7.70007 iterations 17\n",
      "Cbc0038I Pass  47: suminf.    0.08783 (2) obj. 7.70007 iterations 8\n",
      "Cbc0038I Pass  48: suminf.    0.63968 (7) obj. 7.70007 iterations 8\n",
      "Cbc0038I Pass  49: suminf.    0.49206 (3) obj. 7.70007 iterations 14\n",
      "Cbc0038I Pass  50: suminf.    0.20635 (2) obj. 7.70007 iterations 7\n",
      "Cbc0038I Pass  51: suminf.    0.20635 (2) obj. 7.70007 iterations 4\n",
      "Cbc0038I Pass  52: suminf.    0.82540 (9) obj. 7.70007 iterations 15\n",
      "Cbc0038I Pass  53: suminf.    0.88889 (8) obj. 7.70007 iterations 12\n",
      "Cbc0038I Pass  54: suminf.    0.28809 (3) obj. 7.70007 iterations 16\n",
      "Cbc0038I Pass  55: suminf.    0.11958 (2) obj. 7.70007 iterations 8\n",
      "Cbc0038I Pass  56: suminf.    0.10000 (2) obj. 7.70007 iterations 8\n",
      "Cbc0038I Pass  57: suminf.    0.22698 (4) obj. 7.70007 iterations 4\n",
      "Cbc0038I Pass  58: suminf.    0.29048 (4) obj. 7.70007 iterations 10\n",
      "Cbc0038I Pass  59: suminf.    0.22698 (4) obj. 7.70007 iterations 10\n",
      "Cbc0038I No solution found this major pass\n",
      "Cbc0038I Before mini branch and bound, 0 integers at bound fixed and 0 continuous\n",
      "Cbc0038I Full problem 16 rows 20 columns, reduced to 16 rows 20 columns\n",
      "Cbc0038I Mini branch and bound did not improve solution (0.03 seconds)\n",
      "Cbc0038I After 0.03 seconds - Feasibility pump exiting with objective of 12 - took 0.03 seconds\n",
      "Cbc0012I Integer solution of 12 found by feasibility pump after 0 iterations and 0 nodes (0.03 seconds)\n",
      "Cbc0031I 9 added rows had average density of 4.8888889\n",
      "Cbc0013I At root node, 9 cuts changed objective from 0 to 9.3276258 in 100 passes\n",
      "Cbc0014I Cut generator 0 (Probing) - 979 row cuts average 3.2 elements, 4 column cuts (4 active)  in 0.010 seconds - new frequency is 1\n",
      "Cbc0014I Cut generator 1 (Gomory) - 325 row cuts average 13.8 elements, 0 column cuts (0 active)  in 0.006 seconds - new frequency is 1\n",
      "Cbc0014I Cut generator 2 (Knapsack) - 0 row cuts average 0.0 elements, 0 column cuts (0 active)  in 0.003 seconds - new frequency is -100\n",
      "Cbc0014I Cut generator 3 (Clique) - 0 row cuts average 0.0 elements, 0 column cuts (0 active)  in 0.000 seconds - new frequency is -100\n",
      "Cbc0014I Cut generator 4 (OddWheel) - 0 row cuts average 0.0 elements, 0 column cuts (0 active)  in 0.000 seconds - new frequency is -100\n",
      "Cbc0014I Cut generator 5 (MixedIntegerRounding2) - 53 row cuts average 2.2 elements, 0 column cuts (0 active)  in 0.003 seconds - new frequency is 1\n",
      "Cbc0014I Cut generator 6 (FlowCover) - 0 row cuts average 0.0 elements, 0 column cuts (0 active)  in 0.002 seconds - new frequency is -100\n",
      "Cbc0014I Cut generator 7 (TwoMirCuts) - 62 row cuts average 5.3 elements, 0 column cuts (0 active)  in 0.002 seconds - new frequency is 1\n",
      "Cbc0001I Search completed - best objective 12, took 1059 iterations and 0 nodes (0.10 seconds)\n",
      "Cbc0032I Strong branching done 4 times (19 iterations), fathomed 1 nodes and fixed 0 variables\n",
      "Cbc0035I Maximum depth 0, 0 variables fixed on reduced cost\n",
      "Total time (CPU seconds):       0.09   (Wallclock seconds):       0.10\n",
      "\n",
      "Starting solution of the Linear programming relaxation problem using Dual Simplex\n",
      "\n",
      "Coin0506I Presolve 28 (-4) rows, 20 (-4) columns and 80 (-4) elements\n",
      "Clp0014I Perturbing problem by 0.001% of 1.6784854 - largest nonzero change 1.1794275e-06 ( 7.0267366e-05%) - largest zero change 1.1542851e-06\n",
      "Clp0006I 0  Obj 1.3275884e-05 Primal inf 14.591369 (12)\n",
      "Clp0000I Optimal - objective value 0\n",
      "Coin0511I After Postsolve, objective 0, infeasibilities - dual 0 (0), primal 0 (0)\n",
      "Clp0032I Optimal objective 0 - 12 iterations time 0.002, Presolve 0.00\n",
      "\n",
      "Starting MIP optimization\n"
     ]
    }
   ],
   "source": [
    "status = model.optimize()"
   ],
   "metadata": {
    "collapsed": false,
    "ExecuteTime": {
     "end_time": "2023-12-08T08:58:03.350020Z",
     "start_time": "2023-12-08T08:58:03.230269Z"
    }
   }
  },
  {
   "cell_type": "code",
   "execution_count": 90,
   "outputs": [
    {
     "data": {
      "text/plain": "True"
     },
     "execution_count": 90,
     "metadata": {},
     "output_type": "execute_result"
    }
   ],
   "source": [
    "status == mip.OptimizationStatus.OPTIMAL"
   ],
   "metadata": {
    "collapsed": false,
    "ExecuteTime": {
     "end_time": "2023-12-08T08:58:03.350476Z",
     "start_time": "2023-12-08T08:58:03.341447Z"
    }
   }
  },
  {
   "cell_type": "code",
   "execution_count": 91,
   "outputs": [
    {
     "data": {
      "text/plain": "12.0"
     },
     "execution_count": 91,
     "metadata": {},
     "output_type": "execute_result"
    }
   ],
   "source": [
    "model.objective.x"
   ],
   "metadata": {
    "collapsed": false,
    "ExecuteTime": {
     "end_time": "2023-12-08T08:58:03.354035Z",
     "start_time": "2023-12-08T08:58:03.348044Z"
    }
   }
  },
  {
   "cell_type": "code",
   "execution_count": 92,
   "outputs": [
    {
     "name": "stdout",
     "output_type": "stream",
     "text": [
      "T0 \t=\t 10.0\n",
      "T1 \t=\t 4.0\n",
      "T2 \t=\t 15.0\n",
      "T3 \t=\t 23.0\n"
     ]
    }
   ],
   "source": [
    "for var in model.vars: # print the time at which each job will be completed\n",
    "    if var.name[0] == \"T\":\n",
    "        print(var.name, \"\\t=\\t\", var.x)"
   ],
   "metadata": {
    "collapsed": false,
    "ExecuteTime": {
     "end_time": "2023-12-08T08:58:03.415385Z",
     "start_time": "2023-12-08T08:58:03.357220Z"
    }
   }
  }
 ],
 "metadata": {
  "kernelspec": {
   "display_name": "Python 3",
   "language": "python",
   "name": "python3"
  },
  "language_info": {
   "codemirror_mode": {
    "name": "ipython",
    "version": 2
   },
   "file_extension": ".py",
   "mimetype": "text/x-python",
   "name": "python",
   "nbconvert_exporter": "python",
   "pygments_lexer": "ipython2",
   "version": "2.7.6"
  }
 },
 "nbformat": 4,
 "nbformat_minor": 0
}
